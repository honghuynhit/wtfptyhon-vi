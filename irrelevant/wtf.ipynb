{
  "cells": [
    {
      "cell_type": "markdown",
      "metadata": {},
      "source": [
        "<p align=\"center\"><img src=\"/images/logo.png\" alt=\"\"></p>\n",
        "<h1 align=\"center\">What the f*ck Python! \ud83d\ude31</h1>\n",
        "<p align=\"center\">\n",
        "<a href=\"https://github.com/satwikkansal/wtfpython\">English</a>\n",
        "| <a href=\"#\">Ti\u1ebfng Vi\u1ec7t</a>\n",
        "</p>\n",
        "<p align=\"center\">C\u00f9ng kh\u00e1m ph\u00e1 v\u00e0 t\u00ecm hi\u1ec3u Python th\u00f4ng qua c\u00e1c \u0111o\u1ea1n m\u00e3 khi\u1ebfn b\u1ea1n b\u1ea5t ng\u1edd.</p>\n",
        "\n",
        "\n",
        "\n",
        "C\u00e1c b\u1ea3n d\u1ecbch ti\u1ebfng n\u01b0\u1edbc ngo\u00e0i kh\u00e1c: [Ti\u1ebfng Trung \u4e2d\u6587](https://github.com/leisurelicht/wtfpython-cn) | [Th\u00eam b\u1ea3n d\u1ecbch](https://github.com/satwikkansal/wtfpython/issues/new?title=Add%20translation%20for%20[LANGUAGE]&body=Expected%20time%20to%20finish:%20[X]%20weeks.%20I%27ll%20start%20working%20on%20it%20from%20[Y].)\n",
        "\n",
        "B\u1ea1n c\u00f3 th\u1ec3 tham kh\u1ea3o c\u00e1c \u0111o\u1ea1n m\u00e3 v\u1edbi: [Ch\u1ebf \u0111\u1ed9 tr\u1ef1c quan](https://colab.research.google.com/github/satwikkansal/wtfpython/blob/master/irrelevant/wtf.ipynb) | [Giao di\u1ec7n d\u00f2ng l\u1ec7nh](https://pypi.python.org/pypi/wtfpython)\n",
        "\n",
        "\n",
        "Python l\u00e0 m\u1ed9t ng\u00f4n ng\u1eef c\u1ea5p cao, v\u1edbi c\u00e1c m\u00e3 \u0111\u01b0\u1ee3c th\u00f4ng d\u1ecbch thay v\u00ec bi\u00ean d\u1ecbch nh\u01b0 c\u00e1c ng\u00f4n ng\u1eef kh\u00e1c nh\u01b0 C hay Java. Python c\u00f3 r\u1ea5t nhi\u1ec1u c\u00e1c t\u00ednh n\u0103ng gi\u00fap vi\u1ec7c l\u1eadp tr\u00ecnh d\u1ec5 d\u00e0ng, thu\u1eadn ti\u1ec7n. Tuy nhi\u00ean, c\u00e1c \u0111o\u1ea1n m\u00e3 vi\u1ebft b\u1eb1ng Python th\u1ec9nh tho\u1ea3ng cho ra k\u1ebft qu\u1ea3 kh\u00f4ng r\u00f5 r\u00e0ng, g\u00e2y kh\u00f3 hi\u1ec3u khi m\u1edbi nh\u00ecn v\u00e0o.\n",
        "\n",
        "\n",
        "wtfpython \u0111\u01b0\u1ee3c t\u1ea1o ra v\u1edbi mong mu\u1ed1n gi\u1ea3i th\u00edch ch\u00ednh x\u00e1c c\u00e1ch ho\u1ea1t \u0111\u1ed9ng c\u1ee7a c\u00e1c \u0111o\u1ea1n m\u00e3 tho\u1ea1t nh\u00ecn kh\u00f3 hi\u1ec3u v\u00e0 c\u00e1c t\u00ednh n\u0103ng \u00edt \u0111\u01b0\u1ee3c bi\u1ebft t\u1edbi trong Python.\n",
        "\n",
        "\n",
        "M\u1ed9t v\u00e0i v\u00ed d\u1ee5 c\u00f3 th\u1ec3 kh\u00f4ng l\u00e0m b\u1ea1n qu\u00e1 ng\u1ea1c nhi\u00ean, tuy v\u1eady b\u1ea1n s\u1ebd kh\u00e1m ph\u00e1 \u0111\u01b0\u1ee3c nh\u1eefng \u0111i\u1ec1u hay ho v\u1ec1 Python m\u00e0 c\u00f3 th\u1ec3 b\u1ea1n ch\u01b0a t\u1eebng bi\u1ebft t\u1edbi. H\u1ecdc l\u1eadp tr\u00ecnh th\u00f4ng qua nh\u1eefng v\u00ed d\u1ee5 nh\u01b0 v\u1eady gi\u00fap b\u1ea1n hi\u1ec3u s\u00e2u h\u01a1n nh\u1eefng th\u1ee9 n\u1eb1m b\u00ean trong c\u1ee7a m\u1ed9t ng\u00f4n ng\u1eef l\u1eadp tr\u00ecnh, khi \u0111\u00f3 b\u1ea1n s\u1ebd th\u1ea5y h\u1ee9ng th\u00fa h\u01a1n trong qu\u00e1 tr\u00ecnh h\u1ecdc.\n",
        "\n",
        "\n",
        "N\u1ebfu \u0111\u1ed9c gi\u1ea3 l\u00e0 m\u1ed9t l\u1eadp tr\u00ecnh vi\u00ean c\u00f3 th\u00e2m ni\u00ean, h\u00e3y th\u1eed th\u1ee9c m\u00ecnh v\u1edbi c\u00e1c \u0111o\u1ea1n m\u00e3 s\u1eafp t\u1edbi, c\u1ed1 g\u1eafng l\u00e0m \u0111\u00fang m\u1ed7i th\u1eed th\u00e1ch ngay trong l\u1ea7n \u0111\u1ea7u ti\u00ean. \u0110\u1ed9c gi\u1ea3 c\u00f3 th\u1ec3 \u0111\u00e3 th\u1eed qu\u1ea3 m\u1ed9t v\u00e0i trong s\u1ed1 c\u00e1c b\u00e0i to\u00e1n tr\u01b0\u1edbc \u0111\u00f3, \u0111\u1ecdc v\u00e0 l\u00e0m c\u00e1c b\u00e0i to\u00e1n d\u01b0\u1edbi \u0111\u00e2y c\u00f3 th\u1ec3 gi\u00fap b\u1ea1n \u00f4n l\u1ea1i ch\u00fang.\n",
        "\n",
        "\n",
        "PS: N\u1ebfu b\u1ea1n \u0111\u00e3 \u0111\u1ecdc b\u00e0i n\u00e0y tr\u01b0\u1edbc \u0111\u00f3, b\u1ea1n c\u00f3 th\u1ec3 mu\u1ed1n xem nh\u1eefng thay \u0111\u1ed5i m\u1edbi [\u1edf \u0111\u00e2y](https://github.com/satwikkansal/wtfpython/releases/).\n",
        "\n",
        "\n",
        "\n",
        "N\u00e0o ta b\u1eaft \u0111\u1ea7u ...\n",
        "\n",
        "# Nh\u1eefng n\u1ed9i dung ch\u00ednh\n",
        "<!-- Generated using \"markdown-toc -i README.md --maxdepth 3\"-->\n",
        "\n",
        "<!-- toc -->\n",
        "\n",
        "- [C\u1ea5u tr\u00fac c\u1ee7a c\u00e1c v\u00ed d\u1ee5](#structure-of-the-examples)\n",
        "    + [\u25b6 Some fancy Title](#-some-fancy-title)\n",
        "- [C\u00e1ch s\u1eed d\u1ee5ng](#usage)\n",
        "- [\ud83d\udc40 C\u00e1c v\u00ed d\u1ee5](#-examples)\n",
        "  * [Section: Strain your brain!](#section-strain-your-brain)\n",
        "    + [\u25b6 First things first! *](#-first-things-first-)\n",
        "    + [\u25b6 Strings can be tricky sometimes](#-strings-can-be-tricky-sometimes)\n",
        "    + [\u25b6 Be careful with chained operations](#-be-careful-with-chained-operations)\n",
        "    + [\u25b6 How not to use `is` operator](#-how-not-to-use-is-operator)\n",
        "    + [\u25b6 Hash brownies](#-hash-brownies)\n",
        "    + [\u25b6 Deep down, we're all the same.](#-deep-down-were-all-the-same)\n",
        "    + [\u25b6 Disorder within order *](#-disorder-within-order-)\n",
        "    + [\u25b6 Keep trying... *](#-keep-trying-)\n",
        "    + [\u25b6 For what?](#-for-what)\n",
        "    + [\u25b6 Evaluation time discrepancy](#-evaluation-time-discrepancy)\n",
        "    + [\u25b6 `is not ...` is not `is (not ...)`](#-is-not--is-not-is-not-)\n",
        "    + [\u25b6 A tic-tac-toe where X wins in the first attempt!](#-a-tic-tac-toe-where-x-wins-in-the-first-attempt)\n",
        "    + [\u25b6 The sticky output function](#-the-sticky-output-function)\n",
        "    + [\u25b6 The chicken-egg problem *](#-the-chicken-egg-problem-)\n",
        "    + [\u25b6 Subclass relationships](#-subclass-relationships)\n",
        "    + [\u25b6 All-true-ation *](#-all-true-ation-)\n",
        "    + [\u25b6 The surprising comma](#-the-surprising-comma)\n",
        "    + [\u25b6 Strings and the backslashes](#-strings-and-the-backslashes)\n",
        "    + [\u25b6 not knot!](#-not-knot)\n",
        "    + [\u25b6 Half triple-quoted strings](#-half-triple-quoted-strings)\n",
        "    + [\u25b6 What's wrong with booleans?](#-whats-wrong-with-booleans)\n",
        "    + [\u25b6 Class attributes and instance attributes](#-class-attributes-and-instance-attributes)\n",
        "    + [\u25b6 Non-reflexive class method *](#-non-reflexive-class-method-)\n",
        "    + [\u25b6 yielding None](#-yielding-none)\n",
        "    + [\u25b6 Yielding from... return! *](#-yielding-from-return-)\n",
        "    + [\u25b6 Nan-reflexivity *](#-nan-reflexivity-)\n",
        "    + [\u25b6 Mutating the immutable!](#-mutating-the-immutable)\n",
        "    + [\u25b6 The disappearing variable from outer scope](#-the-disappearing-variable-from-outer-scope)\n",
        "    + [\u25b6 The mysterious key type conversion](#-the-mysterious-key-type-conversion)\n",
        "    + [\u25b6 Let's see if you can guess this?](#-lets-see-if-you-can-guess-this)\n",
        "  * [Section: Slippery Slopes](#section-slippery-slopes)\n",
        "    + [\u25b6 Modifying a dictionary while iterating over it](#-modifying-a-dictionary-while-iterating-over-it)\n",
        "    + [\u25b6 Stubborn `del` operation](#-stubborn-del-operation)\n",
        "    + [\u25b6 The out of scope variable](#-the-out-of-scope-variable)\n",
        "    + [\u25b6 Deleting a list item while iterating](#-deleting-a-list-item-while-iterating)\n",
        "    + [\u25b6 Lossy zip of iterators *](#-lossy-zip-of-iterators-)\n",
        "    + [\u25b6 Loop variables leaking out!](#-loop-variables-leaking-out)\n",
        "    + [\u25b6 Beware of default mutable arguments!](#-beware-of-default-mutable-arguments)\n",
        "    + [\u25b6 Catching the Exceptions](#-catching-the-exceptions)\n",
        "    + [\u25b6 Same operands, different story!](#-same-operands-different-story)\n",
        "    + [\u25b6 Name resolution ignoring class scope](#-name-resolution-ignoring-class-scope)\n",
        "    + [\u25b6 Needles in a Haystack *](#-needles-in-a-haystack-)\n",
        "    + [\u25b6 Splitsies *](#-splitsies-)\n",
        "    + [\u25b6 Wild imports *](#-wild-imports-)\n",
        "    + [\u25b6 All sorted? *](#-all-sorted-)\n",
        "    + [\u25b6 Midnight time doesn't exist?](#-midnight-time-doesnt-exist)\n",
        "  * [Section: The Hidden treasures!](#section-the-hidden-treasures)\n",
        "    + [\u25b6 Okay Python, Can you make me fly?](#-okay-python-can-you-make-me-fly)\n",
        "    + [\u25b6 `goto`, but why?](#-goto-but-why)\n",
        "    + [\u25b6 Brace yourself!](#-brace-yourself)\n",
        "    + [\u25b6 Let's meet Friendly Language Uncle For Life](#-lets-meet-friendly-language-uncle-for-life)\n",
        "    + [\u25b6 Even Python understands that love is complicated](#-even-python-understands-that-love-is-complicated)\n",
        "    + [\u25b6 Yes, it exists!](#-yes-it-exists)\n",
        "    + [\u25b6 Ellipsis *](#-ellipsis-)\n",
        "    + [\u25b6 Inpinity](#-inpinity)\n",
        "    + [\u25b6 Let's mangle](#-lets-mangle)\n",
        "  * [Section: Appearances are deceptive!](#section-appearances-are-deceptive)\n",
        "    + [\u25b6 Skipping lines?](#-skipping-lines)\n",
        "    + [\u25b6 Teleportation](#-teleportation)\n",
        "    + [\u25b6 Well, something is fishy...](#-well-something-is-fishy)\n",
        "  * [Section: Miscellaneous](#section-miscellaneous)\n",
        "    + [\u25b6 `+=` is faster](#--is-faster)\n",
        "    + [\u25b6 Let's make a giant string!](#-lets-make-a-giant-string)\n",
        "    + [\u25b6 Minor Ones *](#-minor-ones-)\n",
        "- [Contributing](#contributing)\n",
        "- [Acknowledgements](#acknowledgements)\n",
        "- [\ud83c\udf93 License](#-license)\n",
        "  * [Surprise your friends as well!](#surprise-your-friends-as-well)\n",
        "  * [More content like this?](#more-content-like-this)\n",
        "\n",
        "<!-- tocstop -->\n",
        "\n",
        "# C\u1ea5u tr\u00fac c\u1ee7a c\u00e1c v\u00ed d\u1ee5\n",
        "\n",
        "T\u1ea5t c\u1ea3 c\u00e1c c\u00e1c v\u00ed d\u1ee5 \u0111\u01b0\u1ee3c tr\u00ecnh b\u00e0y v\u1edbi c\u1ea5u tr\u00fac nh\u01b0 sau:\n",
        "> ### \u25b6 M\u1ed9t ti\u00eau \u0111\u1ec1 h\u1ea5p d\u1eabn\n",
        ">\n",
        "> ```py\n",
        "> # \u0110o\u1ea1n m\u00e3 t\u1ea1o d\u1ef1ng v\u00ed d\u1ee5.\n",
        "> # \u0110o\u1ea1n m\u00e3 ch\u1ee7 th\u1ec3 c\u1ea7n kh\u00e1m ph\u00e1...\n",
        "> ```\n",
        ">\n",
        "> **K\u1ebft qu\u1ea3 (C\u00e1c phi\u00ean b\u1ea3n Python):**\n",
        ">\n",
        "> ```py\n",
        "> >>> c\u00e2u l\u1ec7nh k\u00edch ho\u1ea1t?\n",
        "> M\u1ed9t v\u00e0i k\u1ebft qu\u1ea3 b\u1ea5t ng\u1edd, kh\u00f4ng nh\u01b0 mong \u0111\u1ee3i\n",
        "> ```\n",
        "> (C\u00f3 th\u1ec3 c\u00f3 hay kh\u00f4ng): M\u1ed9t d\u00f2ng m\u00f4 t\u1ea3 k\u1ebft qu\u1ea3\n",
        ">\n",
        ">\n",
        "> #### \ud83d\udca1 Gi\u1ea3i th\u00edch:\n",
        ">\n",
        "> * Gi\u1ea3i th\u00edch nh\u1eefng \u0111i\u1ec1u \u0111ang di\u1ec5n ra v\u00e0 t\u1ea1i sao.\n",
        "> ```py\n",
        "> # \u0110o\u1ea1n m\u00e3 t\u1ea1o d\u1ef1ng v\u00ed d\u1ee5\n",
        "> # Trong tr\u01b0\u1eddng h\u1ee3p c\u1ea7n thi\u1ebft, ch\u00fang t\u00f4i li\u1ec7t k\u00ea th\u00eam nhi\u1ec1u v\u00ed d\u1ee5 kh\u00e1c \u0111\u1ec3 gi\u00fap b\u1ea1n hi\u1ec3u r\u00f5 h\u01a1n\n",
        "> ```\n",
        "> **K\u1ebft qu\u1ea3 (C\u00e1c phi\u00ean b\u1ea3n Python):**\n",
        ">\n",
        "> ```py\n",
        "> >>> trigger # some example that makes it easy to unveil the magic\n",
        "> >>> trigger # M\u1ed9t v\u00e0i v\u00ed d\u1ee5 gi\u00fap b\u1ea1n hi\u1ec3u c\u00e1c \u0111o\u1ea1n m\u00e3\n",
        "> # some justified output\n",
        "> ```\n",
        "\n",
        "**L\u01b0u \u00fd:** T\u1ea5t c\u1ea3 c\u00e1c v\u00ed d\u1ee5 \u0111\u00e3 \u0111\u01b0\u1ee3c ch\u1ee9ng minh ch\u1ea1y th\u00e0nh c\u00f4ng tr\u00ean tr\u00ecnh th\u00f4ng d\u1ecbch Python 3.5.2 ch\u1ebf \u0111\u1ed9 t\u01b0\u01a1ng t\u00e1c, v\u1edbi c\u00e1c phi\u00ean b\u1ea3n Python kh\u00e1c c\u00e1c v\u00ed d\u1ee5 s\u1ebd v\u1eabn ch\u1ea1y b\u00ecnh th\u01b0\u1eddng, ngo\u1ea1i tr\u1eeb m\u1ed9t s\u1ed1 v\u00ed d\u1ee5 ch\u00fang t\u00f4i s\u1ebd l\u01b0u \u00fd tr\u01b0\u1edbc ph\u1ea7n k\u1ebft qu\u1ea3.\n",
        "# C\u00e1ch d\u00f9ng c\u00e1c v\u00ed d\u1ee5\n",
        "\n",
        "Theo t\u00f4i, \u0111\u1ec3 h\u1ecdc c\u00e1c v\u00ed d\u1ee5 trong b\u00e0i, b\u1ea1n n\u00ean \u0111\u1ecdc theo tr\u00ecnh t\u1ef1 th\u1eddi gian, v\u00e0 \u0111\u1ed1i v\u1edbi m\u1ed7i v\u00ed d\u1ee5 h\u00e3y:\n",
        "- \u0110\u1ecdc k\u0129 \u0111o\u1ea1n m\u00e3 t\u1ea1o d\u1ef1ng n\u00ean v\u00ed d\u1ee5. N\u1ebfu b\u1ea1n \u0111\u00e3 l\u1eadp tr\u00ecnh l\u00e2u r\u1ed3i, b\u1ea1n s\u1ebd \u0111o\u00e1n \u0111\u01b0\u1ee3c nh\u1eefng \u0111i\u1ec1u s\u1eafp t\u1edbi ngay.\n",
        "- \u0110\u1ecdc k\u1ebft qu\u1ea3 c\u1ee7a c\u00e1c v\u00ed d\u1ee5 v\u00e0 th\u1ef1c hi\u1ec7n hai vi\u1ec7c sau:\n",
        "  + Ki\u1ec3m tra xem k\u1ebft qu\u1ea3 c\u00f3 gi\u1ed1ng nh\u01b0 b\u1ea1n ngh\u0129 hay kh\u00f4ng.\n",
        "  + M\u1ed9t khi \u0111\u1ecdc xong, h\u00e3y h\u1ecfi ch\u00ednh b\u1ea1n xem m\u00ecnh \u0111\u00e3 hi\u1ec3u th\u00f4ng su\u1ed1t l\u00fd do m\u00e0 c\u00f3 k\u1ebft qu\u1ea3 nh\u01b0 v\u1eady ch\u01b0a.\n",
        "    - N\u1ebfu c\u00e2u tr\u1ea3 l\u1eddi l\u00e0 \"ch\u01b0a, t\u00f4i ch\u01b0a hi\u1ec3u\" (kh\u00f4ng sao c\u1ea3), h\u00edt m\u1ed9t h\u01a1i th\u1eadt sau, v\u00e0 \u0111\u1ecdc ph\u1ea7n gi\u1ea3i th\u00edch (n\u1ebfu b\u1ea1n v\u1eabn ch\u01b0a hi\u1ec3u, h\u00e3y t\u1ea1o m\u1ed9t issue [\u1edf d\u00e2y](https://github.com/satwikkansal/wtfpython/issues/new)).\n",
        "    - N\u1ebfu c\u00e2u tr\u1ea3 l\u1eddi l\u00e0 \"c\u00f3, t\u00f4i \u0111\u00e3 hi\u1ec3u\", b\u1ea1n c\u00f3 th\u1ec3 \u0111\u1ecdc v\u00ed d\u1ee5 ti\u1ebfp theo.\n",
        "PS: B\u1ea1n c\u00f3 th\u1ec3 \u0111\u1ecdc WTFPython d\u00f9ng ch\u1ebf \u0111\u1ed9 d\u00f2ng l\u1ec7nh s\u1eed d\u1ee5ng [pypi package](https://pypi.python.org/pypi/wtfpython),\n",
        "```sh\n",
        "$ pip install wtfpython -U\n",
        "$ wtfpython\n",
        "```\n",
        "---\n",
        "\n",
        "# \ud83d\udc40 C\u00e1c v\u00ed d\u1ee5\n",
        "\n",
        "\n\n## Hosted notebook instructions\n\nThis is just an experimental attempt of browsing wtfpython through jupyter notebooks. Some examples are read-only because, \n- they either require a version of Python that's not supported in the hosted runtime.\n- or they can't be reproduced in the notebook envrinonment.\n\nThe expected outputs are already present in collapsed cells following the code cells. The Google colab provides Python2 (2.7) and Python3 (3.6, default) runtimes. You can switch among these for Python2 specific examples. For examples specific to other minor versions, you can simply refer to collapsed outputs (it's not possible to control the minor version in hosted notebooks as of now). You can check the active version using\n\n```py\n>>> import sys\n>>> sys.version\n# Prints out Python version here.\n```\n\nThat being said, most of the examples do work as expected. If you face any trouble, feel free to consult the original content on wtfpython and create an issue in the repo. Have fun!\n\n---\n"
      ]
    },
    {
      "cell_type": "markdown",
      "metadata": {},
      "source": [
        "### \u25b6 Strings th\u1ec9nh tho\u1ea3ng c\u00f3 th\u1ec3 kh\u00e1 o\u00e1i o\u0103m\n",
        "1\\.\n",
        "\n"
      ]
    },
    {
      "cell_type": "code",
      "execution_count": null,
      "metadata": {
        "collapsed": true
      },
      "outputs": [
        {
          "data": {
            "text/plain": [
              "140420665652016\n"
            ]
          },
          "output_type": "execute_result",
          "metadata": {},
          "execution_count": null
        }
      ],
      "source": [
        "a = \"some_string\"\n",
        "id(a)\n"
      ]
    },
    {
      "cell_type": "code",
      "execution_count": null,
      "metadata": {
        "collapsed": true
      },
      "outputs": [
        {
          "data": {
            "text/plain": [
              "140420665652016\n"
            ]
          },
          "output_type": "execute_result",
          "metadata": {},
          "execution_count": null
        }
      ],
      "source": [
        "id(\"some\" + \"_\" + \"string\") # \u0110\u1ec3 \u00fd r\u1eb1ng c\u1ea3 hai gi\u00e1 tr\u1ecb id \u0111\u1ec1u gi\u1ed1ng nhau (140420665652016).\n"
      ]
    },
    {
      "cell_type": "markdown",
      "metadata": {},
      "source": [
        "\n",
        "2\\.\n"
      ]
    },
    {
      "cell_type": "code",
      "execution_count": null,
      "metadata": {
        "collapsed": true
      },
      "outputs": [
        {
          "data": {
            "text/plain": [
              "True # a v\u00e0 b c\u00f9ng tr\u1ecf t\u1edbi m\u1ed9t \u0111\u1ecba ch\u1ec9 trong b\u1ed9 nh\u1edb\n",
              "\n"
            ]
          },
          "output_type": "execute_result",
          "metadata": {},
          "execution_count": null
        }
      ],
      "source": [
        "a = \"wtf\"\n",
        "b = \"wtf\"\n",
        "a is b\n"
      ]
    },
    {
      "cell_type": "code",
      "execution_count": null,
      "metadata": {
        "collapsed": true
      },
      "outputs": [
        {
          "data": {
            "text/plain": [
              "False # a v\u00e0 b kh\u00f4ng c\u00f9ng tr\u1ecf t\u1edbi m\u1ed9t \u0111\u1ecba ch\u1ec9 trong b\u1ed9 nh\u1edb\n",
              "\n"
            ]
          },
          "output_type": "execute_result",
          "metadata": {},
          "execution_count": null
        }
      ],
      "source": [
        "a = \"wtf!\"\n",
        "b = \"wtf!\"\n",
        "a is b\n"
      ]
    },
    {
      "cell_type": "markdown",
      "metadata": {},
      "source": [
        "\n",
        "3\\.\n",
        "\n"
      ]
    },
    {
      "cell_type": "code",
      "execution_count": null,
      "metadata": {
        "collapsed": true
      },
      "outputs": [
        {
          "data": {
            "text/plain": [
              "True # a v\u00e0 b c\u00f9ng tr\u1ecf t\u1edbi m\u1ed9t \u0111\u1ecba ch\u1ec9 trong b\u1ed9 nh\u1edb\n",
              "\n"
            ]
          },
          "output_type": "execute_result",
          "metadata": {},
          "execution_count": null
        }
      ],
      "source": [
        "a, b = \"wtf!\", \"wtf!\"\n",
        "a is b # \u00c1p d\u1ee5ng cho t\u1ea5t c\u1ea3 c\u00e1c phi\u00ean b\u1ea3n Python, ngo\u1ea1i tr\u1eeb c\u00e1c phi\u00ean b\u1ea3n 3.7.x\n"
      ]
    },
    {
      "cell_type": "code",
      "execution_count": null,
      "metadata": {
        "collapsed": true
      },
      "outputs": [
        {
          "data": {
            "text/plain": [
              "False\n"
            ]
          },
          "output_type": "execute_result",
          "metadata": {},
          "execution_count": null
        }
      ],
      "source": [
        "a = \"wtf!\"; b = \"wtf!\"\n",
        "a is b # K\u1ebft qu\u1ea3 l\u00e0 True ho\u1eb7c False tu\u1ef3 thu\u1ed9c v\u00e0o m\u00f4i tr\u01b0\u1eddng b\u00ean ch\u1ea1y \u0111o\u1ea1n m\u00e3 (python shell / ipython / as a script)\n"
      ]
    },
    {
      "cell_type": "markdown",
      "metadata": {},
      "source": [
        "\n"
      ]
    },
    {
      "cell_type": "code",
      "metadata": {
        "collapsed": true
      },
      "execution_count": null,
      "outputs": [
        {
          "name": "stdout",
          "output_type": "stream",
          "text": []
        }
      ],
      "source": [
        "# T\u1ea1o m\u1ed9t file t\u00ean some_file.py, ch\u1ee9a ba d\u00f2ng code d\u01b0\u1edbi \u0111\u00e2y:\n",
        "a = \"wtf!\"\n",
        "b = \"wtf!\"\n",
        "print(a is b)\n",
        "\n",
        "# Khi file n\u00e0y \u0111\u01b0\u1ee3c ch\u1ea1y k\u1ebft qu\u1ea3 in ra l\u00e0 True\n",
        "\n"
      ]
    },
    {
      "cell_type": "markdown",
      "metadata": {},
      "source": [
        "\n",
        "4\\.\n",
        "\n",
        "**K\u1ebft qu\u1ea3 (< Python3.7 )**\n",
        "\n"
      ]
    },
    {
      "cell_type": "code",
      "execution_count": null,
      "metadata": {
        "collapsed": true
      },
      "outputs": [
        {
          "data": {
            "text/plain": [
              "True\n"
            ]
          },
          "output_type": "execute_result",
          "metadata": {},
          "execution_count": null
        }
      ],
      "source": [
        "'a' * 20 is 'aaaaaaaaaaaaaaaaaaaa'\n"
      ]
    },
    {
      "cell_type": "code",
      "execution_count": null,
      "metadata": {
        "collapsed": true
      },
      "outputs": [
        {
          "data": {
            "text/plain": [
              "False\n"
            ]
          },
          "output_type": "execute_result",
          "metadata": {},
          "execution_count": null
        }
      ],
      "source": [
        "'a' * 21 is 'aaaaaaaaaaaaaaaaaaaaa'\n"
      ]
    },
    {
      "cell_type": "markdown",
      "metadata": {},
      "source": [
        "\n",
        "C\u00f3 g\u00ec \u0111\u00f3 sai sai?\n",
        "\n"
      ]
    },
    {
      "cell_type": "markdown",
      "metadata": {},
      "source": [
        "#### \ud83d\udca1Gi\u1ea3i th\u00edch:\n",
        "+ Nh\u1eefng \u0111i\u1ec1u x\u1ea3y ra trong c\u00e1c \u0111o\u1ea1n m\u00e3 \u0111\u1ea7u ti\u00ean v\u00e0 th\u1ee9 hai \u0111\u1ebfn t\u1eeb m\u1ed9t t\u1ed1i \u01b0u c\u1ee7a CPython (\u0111\u01b0\u1ee3c g\u1ecdi l\u00e0 string interning), t\u1ed1i \u01b0u n\u00e0y c\u1ed1 g\u1eafng s\u1eed d\u1ee5ng c\u00e1c \u0111\u1ed1i t\u01b0\u1ee3ng kh\u00f4ng th\u1ec3 thay \u0111\u1ed5i gi\u00e1 tr\u1ecb hi\u1ec7n t\u1ed3n t\u1ea1i trong m\u1ed9t v\u00e0i tr\u01b0\u1eddng h\u1ee3p thay v\u00ec vi\u1ec7c t\u1ea1o ra m\u1ed9t \u0111\u1ed1i t\u01b0\u1ee3ng m\u1edbi m\u1ed7i l\u1ea7n.\n",
        "+ Sau khi \u0111\u01b0\u1ee3c \"interned,\" nhi\u1ec1u bi\u1ebfn c\u00f3 th\u1ec3 tham chi\u1ebfu t\u1edbi c\u00f9ng m\u1ed9t \u0111\u1ed1i t\u01b0\u1ee3ng string trong b\u1ed9 nh\u1edb (do v\u1eady m\u00e0 ti\u1ebft ki\u1ec7m b\u1ed9 nh\u1edb).\n",
        "+ Trong c\u00e1c \u0111o\u1ea1n m\u00e3 ph\u00eda tr\u00ean, c\u00e1c strings \u0111\u01b0\u1ee3c interned m\u1ed9t c\u00e1ch ng\u1ea7m. Quy\u1ebft \u0111\u1ecbnh ki n\u00e0o th\u00ec intern m\u1ed9t c\u00e1ch ng\u1ea7m l\u00e0 ph\u1ee5 thu\u1ed9c v\u00e0o m\u1ed7i tri\u1ec3n khai Python. C\u00f3 m\u1ed9t v\u00e0i lu\u1eadt c\u00f3 th\u1ec3 \u0111\u01b0\u1ee3c s\u1eed d\u1ee5ng \u0111\u1ec3 \u0111o\u00e1n bi\u1ebft m\u1ed9t string s\u1ebd \u0111\u01b0\u1ee3c intern hay kh\u00f4ng:\n",
        "  * T\u1ea5t c\u1ea3 strings c\u00f3 \u0111\u1ed9 d\u00e0i b\u1eb1ng 0 v\u00e0 1 \u0111\u01b0\u1ee3c intern.\n",
        "  * C\u00e1c strings \u0111\u01b0\u1ee3c intern t\u1ea1i th\u1eddi \u0111i\u1ec3m bi\u00ean d\u1ecbch (`'wtf'` s\u1ebd \u0111\u01b0\u1ee3c intern nh\u01b0ng `''.join(['w', 't', 'f'])` s\u1ebd kh\u00f4ng \u0111\u01b0\u1ee3c intern).\n",
        "  * C\u00e1c strings kh\u00f4ng \u0111\u01b0\u1ee3c t\u1ea1o th\u00e0nh t\u1eeb c\u00e1c m\u1eabu t\u1ef1 ASCII, s\u1ed1, ho\u1eb7c d\u1ea5u g\u1ea1ch ch\u00e2n, s\u1ebd kh\u00f4ng \u0111\u01b0\u1ee3c intern. \u0110i\u1ec1u \u0111\u00f3 gi\u1ea3i th\u00edch t\u1ea1i sao `'wtf!'` kh\u00f4ng \u0111\u01b0\u1ee3c intern b\u1edfi v\u00ec k\u00ed t\u1ef1 `!`. Tri\u1ec3n khai Cpython cho lu\u1eadt n\u00e0y c\u00f3 th\u1ec3 t\u00ecm th\u1ea5y [\u1edf \u0111\u00e2y](https://github.com/python/cpython/blob/3.6/Objects/codeobject.c#L19)\n",
        "  ![image](/images/string-intern/string_intern.png)\n",
        "+ Khi `a` and `b` \u0111\u01b0\u1ee3c cho nh\u1eadn gi\u00e1 tr\u1ecb `\"wtf!\"` tr\u00ean c\u00f9ng m\u1ed9t d\u00f2ng, tr\u00ecnh th\u00f4ng d\u1ecbch Python s\u1ebd t\u1ea1o m\u1ed9t \u0111\u1ed1i t\u01b0\u1ee3ng m\u1edbi, sau \u0111\u00f3 tham chi\u1ebfu t\u1edbi bi\u1ebfn th\u1ee9 hai t\u1ea1i c\u00f9ng m\u1ed9t th\u1eddi \u0111i\u1ec3m. N\u1ebfu b\u1ea1n l\u00e0m c\u00e1c ph\u00e9p g\u00e1n tr\u00ean c\u00e1c d\u00f2ng ri\u00eang bi\u1ec7t, tr\u00ecnh th\u00f4ng d\u1ecbch s\u1ebd kh\u00f4ng bi\u1ebft r\u1eb1ng \u0111\u00e3 c\u00f3 `\"wtf!\"` t\u1ed3n t\u1ea1i nh\u01b0 m\u1ed9t \u0111\u1ed1i t\u01b0\u1ee3ng (b\u1edfi v\u00ec  `\"wtf!\"` kh\u00f4ng \u0111\u01b0\u1ee3c intern ng\u1ea7m nh\u01b0 \u0111i\u1ec1u \u0111\u01b0\u1ee3c tr\u00ecnh b\u00e0y tr\u00ean). \u0110\u00e2y l\u00e0 m\u1ed9t t\u1ed1i \u01b0u t\u1ea1i th\u1eddi \u0111i\u1ec3m bi\u00ean d\u1ecbch. T\u1ed1i \u01b0u n\u00e0y kh\u00f4ng \u00e1p d\u1ee5ng cho c\u00e1c phi\u00ean b\u1ea3n CPython 3.7.x (xem th\u00eam v\u1ec1 v\u1ea5n \u0111\u1ec1 n\u00e0y [\u1edf \u0111\u00e2y] (https://github.com/satwikkansal/wtfpython/issues/100)).\n",
        "+ M\u1ed9t \u0111\u01a1n v\u1ecb bi\u00ean d\u1ecbch trong m\u00f4i tr\u01b0\u1eddng t\u01b0\u01a1ng t\u00e1c nh\u01b0 IPython bao g\u1ed3m ch\u1ec9 m\u1ed9t c\u00e2u l\u1ec7nh \u0111\u01a1n, tr\u00e1i l\u1ea1i `a = \"wtf!\"; b = \"wtf!\"`l\u00e0 hai c\u00e2u l\u1ec7nh. \u0110i\u1ec1u n\u00e0y gi\u1ea3i th\u00edch t\u1ea1i sao c\u00e1c danh \u0111\u1ecbnh (identities) l\u1ea1i kh\u00e1c nhau trong `a = \"wtf!\"; b = \"wtf!\"`, v\u00e0 c\u0169ng gi\u1ea3i th\u00edch t\u1ea1i sao ch\u00fang l\u1ea1i gi\u1ed1ng nhau trong `some_file.py`.\n",
        "+ S\u1ef1 thay \u0111\u1ed5i \u0111\u1ed9t ng\u1ed9t trong \u0111o\u1ea1n m\u00e3 th\u1ee9 t\u01b0 l\u00e0 do m\u1ed9t k\u0129 thu\u1eadt [T\u1ed1i \u01b0u peephole](https://en.wikipedia.org/wiki/Peephole_optimization) hay c\u00f2n \u0111\u01b0\u1ee3c bi\u1ebft \u0111\u1ebfn nh\u01b0 s\u1ef1 g\u1ea5p h\u1eb1ng s\u1ed1. \u0110i\u1ec1u n\u00e0y c\u00f3 ngh\u0129a l\u00e0  bi\u1ec3u di\u1ec5n `'a'*20` \u0111\u01b0\u1ee3c thay th\u1ebf b\u1edf `'aaaaaaaaaaaaaaaaaaaa'` trong qu\u00e1 tr\u00ecnh bi\u00ean d\u1ecbch ti\u1ebft ki\u1ec7m m\u1ed9t v\u00e0i chu k\u00ec \u0111\u1ed3ng h\u1ed3 trong su\u1ed1t th\u1eddi gian ch\u1ea1y . S\u1ef1 g\u1ea5p h\u1eb1ng s\u1ed1 ch\u1ec9 x\u1ea3y ra \u0111\u1ed1i v\u1edbi c\u00e1c strings c\u00f3 \u0111\u1ed9 d\u00e0i nh\u1ecf h\u01a1n 20 (T\u1ea1i sao? t\u01b0\u1edfng t\u01b0\u1ee3ng k\u00edch th\u01b0\u1edbc c\u1ee7a file `.pyc` sinh ra b\u1edfi bi\u1ec3u di\u1ec5n `'a'*10**10`). [Link n\u00e0y](https://github.com/python/cpython/blob/3.6/Python/peephole.c#L288) d\u1eabn t\u1edbi tri\u1ec3n khai c\u1ee7a t\u1ed1i \u01b0u \u0111\u01b0\u1ee3c \u0111\u1ec1 c\u1eadp.\n",
        "+ Ch\u00fa \u00fd r\u1eb1ng: trong Python 3.7, g\u1ea5p h\u1eb1ng s\u1ed1 \u0111\u01b0\u1ee3c chuy\u1ec3n t\u1eeb b\u1ed9 t\u1ed1i \u01b0u peephole sang b\u1ed9 t\u1ed1i \u01b0u m\u1edbi AST v\u1edbi m\u1ed9t v\u00e0i thay \u0111\u1ed5i lu\u1eadn l\u00fd, n\u00ean \u0111o\u1ea1n m\u00e3 th\u1ee9 t\u01b0 kh\u00f4ng ch\u1ea1y \u0111\u01b0\u1ee3c trong Python 3.7. B\u1ea1n c\u00f3 th\u1ec3 \u0111\u1ecdc th\u00eam v\u1ec1 s\u1ef1 thay \u0111\u1ed5i n\u00e0y [\u1edf ](https://bugs.python.org/issue11549). \n",
        "\n"
      ]
    },
    {
      "cell_type": "markdown",
      "metadata": {},
      "source": [
        "### \u25b6 Be careful with chained operations\n"
      ]
    },
    {
      "cell_type": "code",
      "execution_count": null,
      "metadata": {
        "collapsed": true
      },
      "outputs": [
        {
          "data": {
            "text/plain": [
              "False\n"
            ]
          },
          "output_type": "execute_result",
          "metadata": {},
          "execution_count": null
        }
      ],
      "source": [
        "(False == False) in [False] # makes sense\n"
      ]
    },
    {
      "cell_type": "code",
      "execution_count": null,
      "metadata": {
        "collapsed": true
      },
      "outputs": [
        {
          "data": {
            "text/plain": [
              "False\n"
            ]
          },
          "output_type": "execute_result",
          "metadata": {},
          "execution_count": null
        }
      ],
      "source": [
        "False == (False in [False]) # makes sense\n"
      ]
    },
    {
      "cell_type": "code",
      "execution_count": null,
      "metadata": {
        "collapsed": true
      },
      "outputs": [
        {
          "data": {
            "text/plain": [
              "True\n",
              "\n"
            ]
          },
          "output_type": "execute_result",
          "metadata": {},
          "execution_count": null
        }
      ],
      "source": [
        "False == False in [False] # now what?\n"
      ]
    },
    {
      "cell_type": "code",
      "execution_count": null,
      "metadata": {
        "collapsed": true
      },
      "outputs": [
        {
          "data": {
            "text/plain": [
              "False\n"
            ]
          },
          "output_type": "execute_result",
          "metadata": {},
          "execution_count": null
        }
      ],
      "source": [
        "True is False == False\n"
      ]
    },
    {
      "cell_type": "code",
      "execution_count": null,
      "metadata": {
        "collapsed": true
      },
      "outputs": [
        {
          "data": {
            "text/plain": [
              "True\n",
              "\n"
            ]
          },
          "output_type": "execute_result",
          "metadata": {},
          "execution_count": null
        }
      ],
      "source": [
        "False is False is False\n"
      ]
    },
    {
      "cell_type": "code",
      "execution_count": null,
      "metadata": {
        "collapsed": true
      },
      "outputs": [
        {
          "data": {
            "text/plain": [
              "True\n"
            ]
          },
          "output_type": "execute_result",
          "metadata": {},
          "execution_count": null
        }
      ],
      "source": [
        "1 > 0 < 1\n"
      ]
    },
    {
      "cell_type": "code",
      "execution_count": null,
      "metadata": {
        "collapsed": true
      },
      "outputs": [
        {
          "data": {
            "text/plain": [
              "False\n"
            ]
          },
          "output_type": "execute_result",
          "metadata": {},
          "execution_count": null
        }
      ],
      "source": [
        "(1 > 0) < 1\n"
      ]
    },
    {
      "cell_type": "code",
      "execution_count": null,
      "metadata": {
        "collapsed": true
      },
      "outputs": [
        {
          "data": {
            "text/plain": [
              "False\n"
            ]
          },
          "output_type": "execute_result",
          "metadata": {},
          "execution_count": null
        }
      ],
      "source": [
        "1 > (0 < 1)\n"
      ]
    },
    {
      "cell_type": "markdown",
      "metadata": {},
      "source": [
        "\n"
      ]
    },
    {
      "cell_type": "markdown",
      "metadata": {},
      "source": [
        "#### \ud83d\udca1 Gi\u1ea3i th\u00edch:\n",
        "\n",
        "As per https://docs.python.org/2/reference/expressions.html#not-in\n",
        "\n",
        "\n",
        "> N\u1ebfu a, b, c, ..., y, z l\u00e0 c\u00e1c bi\u1ec3u di\u1ec5n (expressions) v\u00e0 op1, op2, ..., opN l\u00e0 c\u00e1c ph\u00e9p so s\u00e1nh, khi \u0111\u00f3 op1 b op2 c ... y opN z t\u01b0\u01a1ng \u0111\u01b0\u01a1ng v\u1edbi op1 b and b op2 c and ... y opN, ngo\u1ea1i tr\u00ec vi\u1ec7c m\u1ed7i bi\u1ec3u di\u1ec5n \u0111\u01b0\u1ee3c th\u1ef1c hi\u1ec7n hay \u0111\u00e1nh gi\u00e1 nhi\u1ec1u nh\u00e2t m\u1ed9t l\u1ea7n\n",
        "\n",
        "Trong khi nh\u1eefng \u0111i\u1ec1u ta th\u1ea5y ph\u00eda tr\u00ean c\u00f3 th\u1ec3 h\u01a1i ng\u1edb ng\u1ea9n \u0111\u1ed1i v\u1edbi b\u1ea1n, ta c\u00f3 th\u1ec3 l\u00e0m nh\u1eefng th\u1ee9 th\u00fa v\u1ecb h\u01a1n nh\u01b0 `a == b == c` v\u00e0 `0 <= x <= 100`.\n",
        "\n",
        "* `False is False is False` t\u01b0\u01a1ng \u0111\u01b0\u01a1ng `(False is False) and (False is False)`\n",
        "* `True is False == False` t\u01b0\u01a1ng \u0111\u01b0\u01a1ng v\u1edbi `True is False and False == False` v\u00e0 do ph\u1ea7n so s\u00e1nh \u0111\u1ea7u ti\u00ean (`True is False`) cho ra k\u1ebft qu\u1ea3 `False`, do \u0111\u00f3 k\u1ebft qu\u1ea3 cu\u1ed1i c\u00f9ng l\u00e0 `False`.\n",
        "* `1 > 0 < 1` t\u01b0\u01a1ng \u0111\u01b0\u01a1ng v\u1edbi `1 > 0 and 0 < 1` v\u00e0 cho ra k\u1ebft qu\u1ea3 l\u00e0 `True`.\n",
        "* Bi\u1ec3u di\u1ec5n `(1 > 0) < 1` t\u01b0\u01a1ng \u0111\u01b0\u01a1ng v\u1edbi `True < 1` v\u00e0\n"
      ]
    },
    {
      "cell_type": "code",
      "execution_count": null,
      "metadata": {
        "collapsed": true
      },
      "outputs": [
        {
          "data": {
            "text/plain": [
              "  1\n"
            ]
          },
          "output_type": "execute_result",
          "metadata": {},
          "execution_count": null
        }
      ],
      "source": [
        "  int(True)\n"
      ]
    },
    {
      "cell_type": "code",
      "execution_count": null,
      "metadata": {
        "collapsed": true
      },
      "outputs": [
        {
          "data": {
            "text/plain": [
              "  2\n"
            ]
          },
          "output_type": "execute_result",
          "metadata": {},
          "execution_count": null
        }
      ],
      "source": [
        "  True + 1 #l\u00e0m cho vui th\u00f4i, ch\u1ee9 kh\u00f4ng li\u00ean quan\n"
      ]
    },
    {
      "cell_type": "markdown",
      "metadata": {},
      "source": [
        "  do \u0111\u00f3, `1 < 1` cho ra k\u1ebft qu\u1ea3`False`\n",
        "\n"
      ]
    },
    {
      "cell_type": "markdown",
      "metadata": {},
      "source": [
        "### \u25b6 How not to use `is` operator\n",
        "V\u00ed d\u1ee5 d\u01b0\u01a1i \u0111\u00e2y r\u1ea5t n\u1ed5i ti\u1ebfng tr\u00ean Internet\n",
        "1\\.\n",
        "\n"
      ]
    },
    {
      "cell_type": "code",
      "execution_count": null,
      "metadata": {
        "collapsed": true
      },
      "outputs": [
        {
          "data": {
            "text/plain": [
              "True\n",
              "\n"
            ]
          },
          "output_type": "execute_result",
          "metadata": {},
          "execution_count": null
        }
      ],
      "source": [
        "a = 256\n",
        "b = 256\n",
        "a is b\n"
      ]
    },
    {
      "cell_type": "code",
      "execution_count": null,
      "metadata": {
        "collapsed": true
      },
      "outputs": [
        {
          "data": {
            "text/plain": [
              "False\n"
            ]
          },
          "output_type": "execute_result",
          "metadata": {},
          "execution_count": null
        }
      ],
      "source": [
        "a = 257\n",
        "b = 257\n",
        "a is b\n"
      ]
    },
    {
      "cell_type": "markdown",
      "metadata": {},
      "source": [
        "\n",
        "2\\.\n",
        "\n"
      ]
    },
    {
      "cell_type": "code",
      "execution_count": null,
      "metadata": {
        "collapsed": true
      },
      "outputs": [
        {
          "data": {
            "text/plain": [
              "False\n",
              "\n"
            ]
          },
          "output_type": "execute_result",
          "metadata": {},
          "execution_count": null
        }
      ],
      "source": [
        "a = []\n",
        "b = []\n",
        "a is b\n"
      ]
    },
    {
      "cell_type": "code",
      "execution_count": null,
      "metadata": {
        "collapsed": true
      },
      "outputs": [
        {
          "data": {
            "text/plain": [
              "True\n"
            ]
          },
          "output_type": "execute_result",
          "metadata": {},
          "execution_count": null
        }
      ],
      "source": [
        "a = tuple()\n",
        "b = tuple()\n",
        "a is b\n"
      ]
    },
    {
      "cell_type": "markdown",
      "metadata": {},
      "source": [
        "\n",
        "3\\.\n",
        "**K\u1ebft qu\u1ea3**\n",
        "\n"
      ]
    },
    {
      "cell_type": "code",
      "execution_count": null,
      "metadata": {
        "collapsed": true
      },
      "outputs": [
        {
          "data": {
            "text/plain": [
              "True\n"
            ]
          },
          "output_type": "execute_result",
          "metadata": {},
          "execution_count": null
        }
      ],
      "source": [
        "a, b = 257, 257\n",
        "a is b\n"
      ]
    },
    {
      "cell_type": "markdown",
      "metadata": {},
      "source": [
        "\n",
        "**K\u1ebft q\u1ee7a (Ch\u1ec9 \u00e1p d\u1ee5ng cho Python 3.7.x )**\n",
        "\n"
      ]
    },
    {
      "cell_type": "code",
      "execution_count": null,
      "metadata": {
        "collapsed": true
      },
      "outputs": [
        {
          "data": {
            "text/plain": [
              ">> a is b\n",
              "False\n"
            ]
          },
          "output_type": "execute_result",
          "metadata": {},
          "execution_count": null
        }
      ],
      "source": [
        "a, b = 257, 257\n"
      ]
    },
    {
      "cell_type": "markdown",
      "metadata": {},
      "source": [
        "\n"
      ]
    },
    {
      "cell_type": "markdown",
      "metadata": {},
      "source": [
        "#### \ud83d\udca1 Gi\u1ea3i th\u00edch:\n",
        "\n",
        "**S\u1ef1 kh\u00e1c bi\u1ec7t gi\u1eefa `is` v\u00e0 `==`**\n",
        "\n",
        "* `is` ki\u1ec3m tra xem c\u1ea3 hai ph\u1ea7n t\u1eed so s\u00e1nh c\u00f3 tr\u1ecf v\u1ec1 c\u00f9ng m\u1ed9t \u0111\u00f4i t\u01b0\u1ee3ng (v\u00ed d\u1ee5, `is` ki\u1ec3m tra \u0111\u1ecbnh danh c\u1ee7a c\u1ea3 hai th\u00e0nh ph\u1ea7n \u0111\u01b0\u1ee3c so s\u00e1nh c\u00f3 kh\u1edbp v\u1edbi nhau hay kh\u00f4ng)\n",
        "* `==` so s\u00e1nh gi\u00e1 tr\u1ecb c\u1ee7a hai ph\u1ea7n t\u1eed xem ch\u00fang c\u00f3 b\u1eb1ng nhau hay kh\u00f4ng\n",
        "* V\u00ec th\u1ebf `is` \u0111\u01b0\u1ee3c d\u00f9ng cho vi\u1ec7c so s\u00e1nh tham chi\u1ebfu v\u00e0 `==` \u0111\u01b0\u1ee3c d\u00f9ng cho so s\u00e1nh tham tr\u1ecb. H\u00e3y xem v\u00ed d\u1ee5 d\u01b0\u1edbi \u0111\u00e2y \u0111\u1ec3 hi\u1ec3u r\u00f5 h\u01a1n\n"
      ]
    },
    {
      "cell_type": "code",
      "execution_count": null,
      "metadata": {
        "collapsed": true
      },
      "outputs": [
        {
          "data": {
            "text/plain": [
              "  False\n"
            ]
          },
          "output_type": "execute_result",
          "metadata": {},
          "execution_count": null
        }
      ],
      "source": [
        "  class A: pass\n",
        "  A() is A() # Hai \u0111\u1ed1i t\u01b0\u1ee3ng r\u1ed7ng nh\u01b0ng n\u1eb1m \u1edf hai v\u1ecb tr\u00ed kh\u00e1c nhau trong b\u1ed9 nh\u1edb.\n"
      ]
    },
    {
      "cell_type": "markdown",
      "metadata": {},
      "source": [
        "** `256` l\u00e0 m\u1ed9t \u0111\u1ed1i t\u01b0\u1ee3ng hi\u1ec7n h\u1eefu nh\u01b0ng `257` l\u1ea1i kh\u00f4ng ph\u1ea3i l\u00e0 m\u1ed9t \u0111\u1ed1i t\u01b0\u1ee3ng hi\u1ec7n h\u1eefu.\n",
        "\n",
        "Khi b\u1ea1n kh\u1edfi ch\u1ea1y python c\u00e1c s\u1ed1 t\u1eeb `-5` t\u1edbi `256` s\u1ebd \u0111\u01b0\u1ee3c c\u1ea5p ph\u00e1t. Nh\u1eefng s\u00f4 nay \u0111\u01b0\u1ee3c s\u1eed d\u1ee5ng r\u1ea5t nhi\u1ec1u, do \u0111\u00f3 vi\u1ec7c c\u1ea5p ph\u00e1t n\u00e0y l\u00e0 h\u1ee3p l\u00fd.\n",
        "Tham kh\u1ea3o t\u1eeb https://docs.python.org/3/c-api/long.html\n",
        "\n",
        "> C\u00e1ch tri\u1ec3n khai hi\u1ec7n h\u00e0nh c\u1ee7a Python duy tr\u00ec m\u1ed9t m\u1ea3ng c\u00e1c \u0111\u1ed1i t\u01b0\u1ee3ng s\u00f4 nguy\u00ean t\u1eeb -5 t\u1edbi 256, khi b\u1ea1n t\u1ea1o m\u1ed9t s\u1ed1 nguy\u00ean trong d\u1ea3i n\u00e0y b\u1ea1n s\u1ebd quay tr\u1edf v\u1ec1 l\u1ea1i m\u1ed9t tham chi\u1ebfu t\u1edbi m\u1ed9t \u0111\u00f4i t\u01b0\u1ee3ng t\u1ed3n t\u1ea1i. Do v\u1eady ta v\u1eabn c\u00f3 th\u1ec3 thay \u0111\u1ed5i gi\u00e1 tr\u1ecb c\u1ee7a 1. \n",
        "\n"
      ]
    },
    {
      "cell_type": "code",
      "execution_count": null,
      "metadata": {
        "collapsed": true
      },
      "outputs": [
        {
          "data": {
            "text/plain": [
              "10922528\n"
            ]
          },
          "output_type": "execute_result",
          "metadata": {},
          "execution_count": null
        }
      ],
      "source": [
        "id(256)\n"
      ]
    },
    {
      "cell_type": "code",
      "execution_count": null,
      "metadata": {
        "collapsed": true
      },
      "outputs": [
        {
          "data": {
            "text/plain": [
              "10922528\n"
            ]
          },
          "output_type": "execute_result",
          "metadata": {},
          "execution_count": null
        }
      ],
      "source": [
        "a = 256\n",
        "b = 256\n",
        "id(a)\n"
      ]
    },
    {
      "cell_type": "code",
      "execution_count": null,
      "metadata": {
        "collapsed": true
      },
      "outputs": [
        {
          "data": {
            "text/plain": [
              "10922528\n"
            ]
          },
          "output_type": "execute_result",
          "metadata": {},
          "execution_count": null
        }
      ],
      "source": [
        "id(b)\n"
      ]
    },
    {
      "cell_type": "code",
      "execution_count": null,
      "metadata": {
        "collapsed": true
      },
      "outputs": [
        {
          "data": {
            "text/plain": [
              "140084850247312\n"
            ]
          },
          "output_type": "execute_result",
          "metadata": {},
          "execution_count": null
        }
      ],
      "source": [
        "id(257)\n"
      ]
    },
    {
      "cell_type": "code",
      "execution_count": null,
      "metadata": {
        "collapsed": true
      },
      "outputs": [
        {
          "data": {
            "text/plain": [
              "140084850247440\n"
            ]
          },
          "output_type": "execute_result",
          "metadata": {},
          "execution_count": null
        }
      ],
      "source": [
        "x = 257\n",
        "y = 257\n",
        "id(x)\n"
      ]
    },
    {
      "cell_type": "code",
      "execution_count": null,
      "metadata": {
        "collapsed": true
      },
      "outputs": [
        {
          "data": {
            "text/plain": [
              "140084850247344\n"
            ]
          },
          "output_type": "execute_result",
          "metadata": {},
          "execution_count": null
        }
      ],
      "source": [
        "id(y)\n"
      ]
    },
    {
      "cell_type": "markdown",
      "metadata": {},
      "source": [
        "\n",
        "\n",
        "\u1ede \u0111\u00e2y tr\u00ecnh th\u00f4ng d\u1ecbch kh\u00f4ng \u0111\u1ee7 th\u00f4ng minh khi th\u1ef1c thi `y = 257` v\u00e0 nh\u1eadn ra r\u1eb1ng ch\u00fang ta \u0111\u00e3 t\u1ea1o m\u1ed9t s\u1ed1 nguy\u00ean c\u00f3 gi\u00e1 tr\u1ecb l\u00e0 `257,` r\u1ed3i, do \u0111\u00f3 n\u00f3 ti\u1ebfp t\u1ee5c t\u1ea1o m\u1ed9t \u0111\u00f4i t\u01b0\u1ee3ng kh\u00e1c trong b\u1ed9 nh\u1edb. \n",
        "\n",
        "M\u1ed9t t\u1ed1i \u01b0u t\u01b0\u01a1ng t\u1ef1 \u00e1p d\u1ee5ng cho c\u00e1c \u0111\u1ed1i t\u01b0\u1ee3ng b\u1ea5t bi\u1ebfn (**immutable**) kh\u00e1c nh\u01b0 l\u00e0 c\u00e1c tuples. B\u1edfi v\u00ec lists c\u00f3 th\u1ec3 bi\u1ebfn \u0111\u1ed5i \u0111\u01b0\u1ee3c, do \u0111\u00f3 ta hi\u1ec3u t\u1ea1i sao `[] is []` s\u1ebd tr\u1ea3 v\u1ec1 `False` v\u00e0 `() is ()` s\u1ebd tr\u1ea3 v\u1ec1 `True`. \u0110i\u1ec1u n\u00e0y gi\u1ea3i th\u00edch \u0111o\u1ea1n m\u00e3 th\u1ee9 hai. N\u00e0o h\u00e3y c\u00f9ng \u0111i qua v\u00ed d\u1ee5 th\u1ee9 3.\n",
        "\n",
        "** C\u1ea3 `a` v\u00e0 `b` \u0111\u1ec1u tr\u1ecf v\u1ec1 c\u00f9ng m\u1ed9t \u0111\u1ed1i t\u01b0\u1ee3ng khi \u0111\u01b0\u1ee3c kh\u1edfi t\u1ea1o v\u1edbi cung m\u1ed9t gi\u00e1 tr\u1ecb v\u00e0 tr\u00ean c\u00f9ng m\u1ed9t d\u00f2ng code**\n",
        "**K\u1ebft qu\u1ea3**\n",
        "\n"
      ]
    },
    {
      "cell_type": "code",
      "execution_count": null,
      "metadata": {
        "collapsed": true
      },
      "outputs": [
        {
          "data": {
            "text/plain": [
              "140640774013296\n"
            ]
          },
          "output_type": "execute_result",
          "metadata": {},
          "execution_count": null
        }
      ],
      "source": [
        "a, b = 257, 257\n",
        "id(a)\n"
      ]
    },
    {
      "cell_type": "code",
      "execution_count": null,
      "metadata": {
        "collapsed": true
      },
      "outputs": [
        {
          "data": {
            "text/plain": [
              "140640774013296\n"
            ]
          },
          "output_type": "execute_result",
          "metadata": {},
          "execution_count": null
        }
      ],
      "source": [
        "id(b)\n"
      ]
    },
    {
      "cell_type": "code",
      "execution_count": null,
      "metadata": {
        "collapsed": true
      },
      "outputs": [
        {
          "data": {
            "text/plain": [
              "140640774013392\n"
            ]
          },
          "output_type": "execute_result",
          "metadata": {},
          "execution_count": null
        }
      ],
      "source": [
        "a = 257\n",
        "b = 257\n",
        "id(a)\n"
      ]
    },
    {
      "cell_type": "code",
      "execution_count": null,
      "metadata": {
        "collapsed": true
      },
      "outputs": [
        {
          "data": {
            "text/plain": [
              "140640774013488\n"
            ]
          },
          "output_type": "execute_result",
          "metadata": {},
          "execution_count": null
        }
      ],
      "source": [
        "id(b)\n"
      ]
    },
    {
      "cell_type": "markdown",
      "metadata": {},
      "source": [
        "\n",
        "\n",
        "* Tr\u00ean c\u00f9ng m\u1ed9t d\u00f2ng code n\u01a1i c\u1ea3 a va b \u0111\u01b0\u1ee3c g\u00e1n cho gi\u00e1 tr\u1ecb `257`, trinh th\u00f4ng d\u1ecbch Python t\u1ea1o m\u1ed9t \u0111\u00f4i t\u01b0\u1ee3ng m\u1edbi, sau \u0111\u00f3 tr\u1ecf t\u1edbi bi\u1ebfn th\u1ee9 hai c\u00f9ng m\u1ed9t l\u00fac. N\u1ebfu b\u1ea1n th\u1ef1c hi\u1ec7n vi\u1ec7c g\u00e1n tr\u00ean c\u00e1c d\u00f2ng ri\u00eang bi\u1ec7t, Python s\u1ebd kh\u00f4ng bi\u1ebft r\u1eb1ng \u0111\u00e3 c\u00f3 s\u0103n m\u1ed9t \u0111\u1ed1i t\u01b0\u1ee3ng `257`\n",
        "\n",
        "* \u0110\u00e2y l\u00e0 m\u1ed9t t\u1ed1i \u01b0u c\u1ee7a tr\u00ecnh bi\u00ean d\u1ecbch, v\u00e0 \u00e1p d\u1ee5ng c\u1ee5 th\u1ec3 cho m\u00f4i tr\u01b0\u1eddng t\u01b0\u01a1ng t\u00e1c (interactive environment). Khi b\u1ea1n nh\u1eadp hai d\u00f2ng code trong phi\u00ean th\u00f4n d\u1ecbch \u0111\u1ed9ng, ch\u00fang \u0111\u01b0\u1ee3c bi\u00ean d\u1ecbch ri\u00eang, do \u0111\u00f3 \u0111\u01b0\u1ee3c t\u1ed1i \u01b0u ri\u00eang. N\u1ebfu b\u1ea1n th\u1eed v\u00ed d\u1ee5 n\u00e0y trong m\u1ed9t file `.py` b\u1ea1n s\u1ebd kh\u00f4ng th\u1ea5y \u0111i\u1ec1u tr\u00ean x\u1ea3y ra do file code \u0111\u01b0\u1ee3c bi\u00ean d\u1ecbch m\u1ed9t l\u1ea7n. T\u1ed1i \u01b0u nay kh\u00f4ng ch\u1ec9 gi\u01a1i h\u1ea1n cho c\u00e1c s\u1ed1 nguy\u00ean, n\u00f3 c\u00f2n ho\u1ea1t \u0111\u1ed9ng \u0111\u01b0\u1ee3c v\u1edbi c\u00e1c ki\u1ec3u d\u1eef li\u1ec7u b\u1ea5t bi\u1ebfn kh\u00e1c nh\u01b0 strings (xem \"Strings are tricky example\") v\u00e0 floats.\n"
      ]
    },
    {
      "cell_type": "code",
      "execution_count": null,
      "metadata": {
        "collapsed": true
      },
      "outputs": [
        {
          "data": {
            "text/plain": [
              "  True\n"
            ]
          },
          "output_type": "execute_result",
          "metadata": {},
          "execution_count": null
        }
      ],
      "source": [
        "  a, b = 257.0, 257.0\n",
        "  a is b\n"
      ]
    },
    {
      "cell_type": "markdown",
      "metadata": {},
      "source": [
        "\n",
        "* T\u1ea1i sao v\u00ed d\u1ee5 nay l\u1ea1i kh\u00f4ng ch\u1ea1y \u0111\u01b0\u1ee3c tr\u00ean Python 3.7? \u0110\u1ea1i kh\u00e1i l\u00fd do l\u00e0 b\u1edfi v\u00ec c\u00e1c t\u1ed1i \u01b0u c\u1ee7a tr\u00ecnh bi\u00ean d\u1ecbch \u00e1p d\u1ee5ng cho c\u00e1c tr\u01b0\u1eddng h\u1ee3p c\u1ee5 th\u1ec3 (v\u00ed d\u1ee5. m\u1ed9t c\u00e1ch t\u1ed1i \u01b0u c\u00f3 th\u1ec3 thay \u0111\u1ed5i tu\u1ef3 theo phi\u00ean b\u1ea3n, h\u1ec7 \u0111i\u1ec1u h\u00e0nh, v\u00e2n v\u00e2n). T\u00f4i v\u00e2n \u0111ang t\u00ecm hi\u1ec3u c\u00e1c thay \u0111\u1ed5i c\u1ee5 th\u1ec3 trong code tri\u1ec3u khai, b\u1ea1n c\u00f3 th\u1ec3 xem th\u00eam [t\u1ea1i \u0111\u00e2y](https://github.com/satwikkansal/wtfpython/issues/100)\n"
      ]
    },
    {
      "cell_type": "markdown",
      "metadata": {},
      "source": [
        "### \u25b6 Hash brownies\n",
        "1\\.\n"
      ]
    },
    {
      "cell_type": "code",
      "execution_count": null,
      "metadata": {
        "collapsed": true
      },
      "outputs": [
        {
          "data": {
            "text/plain": []
          },
          "output_type": "execute_result",
          "metadata": {},
          "execution_count": null
        }
      ],
      "source": [
        "some_dict = {}\n",
        "some_dict[5.5] = \"JavaScript\"\n",
        "some_dict[5.0] = \"Ruby\"\n",
        "some_dict[5] = \"Python\"\n"
      ]
    },
    {
      "cell_type": "markdown",
      "metadata": {},
      "source": [
        "\n",
        "**K\u1ebft qu\u1ea3:**\n",
        "\n"
      ]
    },
    {
      "cell_type": "code",
      "execution_count": null,
      "metadata": {
        "collapsed": true
      },
      "outputs": [
        {
          "data": {
            "text/plain": [
              "\"JavaScript\"\n"
            ]
          },
          "output_type": "execute_result",
          "metadata": {},
          "execution_count": null
        }
      ],
      "source": [
        "some_dict[5.5]\n"
      ]
    },
    {
      "cell_type": "code",
      "execution_count": null,
      "metadata": {
        "collapsed": true
      },
      "outputs": [
        {
          "data": {
            "text/plain": [
              "\"Python\"\n"
            ]
          },
          "output_type": "execute_result",
          "metadata": {},
          "execution_count": null
        }
      ],
      "source": [
        "some_dict[5.0] # \"Python\" chi\u1ebfm l\u1ea5y kho\u00e1 (key) c\u1ee7a \"Ruby\"?\n"
      ]
    },
    {
      "cell_type": "code",
      "execution_count": null,
      "metadata": {
        "collapsed": true
      },
      "outputs": [
        {
          "data": {
            "text/plain": [
              "\"Python\"\n",
              "\n"
            ]
          },
          "output_type": "execute_result",
          "metadata": {},
          "execution_count": null
        }
      ],
      "source": [
        "some_dict[5] \n"
      ]
    },
    {
      "cell_type": "code",
      "execution_count": null,
      "metadata": {
        "collapsed": true
      },
      "outputs": [
        {
          "data": {
            "text/plain": [
              "complex\n"
            ]
          },
          "output_type": "execute_result",
          "metadata": {},
          "execution_count": null
        }
      ],
      "source": [
        "complex_five = 5 + 0j\n",
        "type(complex_five)\n"
      ]
    },
    {
      "cell_type": "code",
      "execution_count": null,
      "metadata": {
        "collapsed": true
      },
      "outputs": [
        {
          "data": {
            "text/plain": [
              "\"Python\"\n"
            ]
          },
          "output_type": "execute_result",
          "metadata": {},
          "execution_count": null
        }
      ],
      "source": [
        "some_dict[complex_five]\n"
      ]
    },
    {
      "cell_type": "markdown",
      "metadata": {},
      "source": [
        "\n",
        "Th\u1ebf qu\u00e1i n\u00e0o m\u00e0 to\u00e0n in ra Python?\n",
        "\n",
        "\n"
      ]
    },
    {
      "cell_type": "markdown",
      "metadata": {},
      "source": [
        "#### \ud83d\udca1 Gi\u1ea3i th\u00edch\n",
        "\n",
        "* T\u00ednh duy nh\u1ea5t c\u1ee7a c\u00e1c kho\u00e1 (keys) trong c\u1ea5u tr\u00fac d\u1eef li\u1ec7u t\u1eeb \u0111i\u1ec3n c\u1ee7a \u0111\u01b0\u1ee3c x\u00e1c \u0111\u1ecbnh b\u1edfi  *s\u1ef1 t\u01b0\u01a1ng \u0111\u01b0\u01a1ng*, ch\u1ee9 kh\u00f4ng ph\u1ea3i d\u1ef1a tr\u00ean danh t\u00ednh. Do \u0111\u00f3 d\u1eabu cho `5`, `5.0`, v\u00e0 `5 + 0j` l\u00e0 c\u00e1c \u0111\u1ed1i t\u01b0\u1ee3ng ri\u00eang bi\u1ec7t c\u00f3 ki\u1ec3u kh\u00e1c nhau, nh\u01b0ng b\u1edfi v\u00ec ch\u00fang b\u0103ng nhau n\u00ean kh\u00f4ng th\u1ec3 t\u1ed3n t\u1ea1i nh\u01b0 m\u1ed9t kho\u00e1 ri\u00eang c\u1ee7a `dict` (ho\u1eb7c `set`). Khi b\u1ea1n th\u00eam c\u00e1c kho\u00e1 n\u00e0y v\u00e0o t\u1eeb \u0111i\u1ec3n sau \u0111\u00f3 tra gi\u00e1 tr\u1ecb c\u1ee7a kho\u00e1 \u0111\u00f3 d\u1ef1a tr\u00ean gi\u1ea3 \u0111\u1ecbnh v\u1ec1 s\u1ef1 t\u01b0\u01a1ng \u0111\u01b0\u01a1ng th\u00ec Python ch\u1ec9 tr\u1ea3 v\u1ec1 gi\u00e1 tr\u1ecb c\u1ee7a kho\u00e1 \u0111\u01b0\u1ee3c ch\u00e8n v\u00e0o ban \u0111\u1ea7u (thay v\u00ec tr\u1ea3 l\u1ea1i l\u1ed7i v\u1ec1 truy xu\u1ea5t kho\u00e1 `KeyError`):\n"
      ]
    },
    {
      "cell_type": "code",
      "execution_count": null,
      "metadata": {
        "collapsed": true
      },
      "outputs": [
        {
          "data": {
            "text/plain": [
              "  True\n"
            ]
          },
          "output_type": "execute_result",
          "metadata": {},
          "execution_count": null
        }
      ],
      "source": [
        "  5 == 5.0 == 5 + 0j\n"
      ]
    },
    {
      "cell_type": "code",
      "execution_count": null,
      "metadata": {
        "collapsed": true
      },
      "outputs": [
        {
          "data": {
            "text/plain": [
              "  True\n"
            ]
          },
          "output_type": "execute_result",
          "metadata": {},
          "execution_count": null
        }
      ],
      "source": [
        "  5 is not 5.0 is not 5 + 0j\n"
      ]
    },
    {
      "cell_type": "code",
      "execution_count": null,
      "metadata": {
        "collapsed": true
      },
      "outputs": [
        {
          "data": {
            "text/plain": [
              "  True\n"
            ]
          },
          "output_type": "execute_result",
          "metadata": {},
          "execution_count": null
        }
      ],
      "source": [
        "  some_dict = {}\n",
        "  some_dict[5.0] = \"Ruby\"\n",
        "  5.0 in some_dict\n"
      ]
    },
    {
      "cell_type": "code",
      "execution_count": null,
      "metadata": {
        "collapsed": true
      },
      "outputs": [
        {
          "data": {
            "text/plain": [
              "  True\n"
            ]
          },
          "output_type": "execute_result",
          "metadata": {},
          "execution_count": null
        }
      ],
      "source": [
        "  (5 in some_dict) and (5 + 0j in some_dict)\n"
      ]
    },
    {
      "cell_type": "markdown",
      "metadata": {},
      "source": [
        "* Nguy\u00ean l\u00fd tr\u00ean c\u0169ng \u00e1p d\u1ee5ng khi b\u1ea1n g\u00e1n gi\u00e1 tr\u1ecb cho kho\u00e1. Khi b\u1ea1n th\u1ef1c hi\u1ec7n ph\u00e9p g\u00e1n `some_dict[5] = \"Python\"`, Python t\u00ecm ph\u1ea7n t\u1eed c\u00f3 s\u1eb5n trong t\u1eeb \u0111i\u1ec3n c\u00f3 kho\u00e1 t\u01b0\u01a1ng \u0111\u01b0\u01a1ng, trong tr\u01b0\u1eddng h\u1ee3p n\u00e0y n\u00e8 `5.0 -> \"Ruby\"`, ghi \u0111\u00e8 l\u00ean gi\u00e1 tr\u1ecb c\u1ee7a kho\u00e1 n\u00e0y ngay, v\u00e0 l\u1edd \u0111i kho\u00e1 t\u01b0\u01a1ng \u0111\u01b0\u01a1ng m\u00e0 b\u1ea1n m\u1edbi cung c\u1ea5p.\n"
      ]
    },
    {
      "cell_type": "code",
      "execution_count": null,
      "metadata": {
        "collapsed": true
      },
      "outputs": [
        {
          "data": {
            "text/plain": [
              "  {5.0: 'Ruby'}\n"
            ]
          },
          "output_type": "execute_result",
          "metadata": {},
          "execution_count": null
        }
      ],
      "source": [
        "  some_dict\n"
      ]
    },
    {
      "cell_type": "code",
      "execution_count": null,
      "metadata": {
        "collapsed": true
      },
      "outputs": [
        {
          "data": {
            "text/plain": [
              "  {5.0: 'Python'}\n"
            ]
          },
          "output_type": "execute_result",
          "metadata": {},
          "execution_count": null
        }
      ],
      "source": [
        "  some_dict[5] = \"Python\"\n",
        "  some_dict\n"
      ]
    },
    {
      "cell_type": "markdown",
      "metadata": {},
      "source": [
        "\n",
        "* V\u1eady l\u00e0m sao \u0111\u1ec3 c\u1eadp nh\u1eadt kho\u00e1 `5` v\u00e0o t\u1eeb \u0111i\u1ec3n (thay v\u00ec `5.0`)? Th\u1ef1c s\u1ef1 l\u00e0 ch\u00fang ta kh\u00f4ng th\u1ec3 l\u00e0m \u0111i\u1ec1u \u0111\u00f3 v\u01a1i m\u1ed9t thao t\u00e1c, nh\u01b0ng ta c\u00f3 th\u1ec3 xo\u00e1 \u0111i kho\u00e1 c\u0169  (`del some_dict[5.0]`), v\u00e0 sau \u0111\u00f3 thi\u1ebft l\u1eadp kho\u00e1 m\u1edbi(`some_dict[5]`) \u0111\u1ec3 c\u00f3 th\u1ec3 l\u1ea5y \u0111\u01b0\u1ee3c kho\u00e1 `5` thay v\u00ec `5.0`, tuy nhi\u00ean c\u00e1ch n\u00e0y \u00edt ai x\u00e0i t\u1edbi l\u1eafm.\n",
        "\n",
        "\n",
        "* L\u00e0m th\u1ebf n\u00e0o Python t\u00ecm kho\u00e1 `5` trong t\u1eeb \u0111i\u1ec3n c\u00f3 ch\u1ee9a s\u1eb5n kho\u00e1 `5.0`? N\u00f3 l\u00e0m \u0111\u01b0\u1ee3c \u0111i\u1ec1u \u0111\u00f3 m\u00e0 kh\u00f4ng ph\u1ea3i d\u00f2 qua m\u1ecdi ph\u1ea7n t\u1eed trong t\u1eeb \u0111i\u1ec3n th\u00f4ng qua s\u1eed d\u1ee5ng c\u00e1c h\u00e0m b\u0103m (hash functions), do \u0111\u00f3 t\u1ed1n th\u1eddi gian ch\u1ea1y h\u1eb1ng s\u1ed1 (constant time). Khi Python tra  kho\u00e1 t\u00ean `foo` trong m\u1ed9t t\u01b0 \u0111i\u1ec3n, \u0111\u1ea7u ti\u00ean n\u00f3 th\u1ef1c hi\u1ec7n h\u00e0m b\u0103m `hash(foo)` (v\u1edbi th\u1eddi gian ch\u1ea1y h\u1eb1ng s\u1ed1). B\u1edfi v\u00ec trong Python c\u00e1c \u0111\u1ed1i t\u01b0\u1ee3ng b\u0103ng nhau khi ch\u00fang c\u00f3 chung m\u1ed9t gi\u00e1 tr\u1ecb b\u0103m ([\u0111\u1ecdc th\u00eam \u1edf \u0111\u00e2y](https://docs.python.org/3/reference/datamodel.html#object.__hash__) here), `5`, `5.0`, and `5 + 0j` have the same hash value.\n"
      ]
    },
    {
      "cell_type": "code",
      "execution_count": null,
      "metadata": {
        "collapsed": true
      },
      "outputs": [
        {
          "data": {
            "text/plain": [
              "  True\n"
            ]
          },
          "output_type": "execute_result",
          "metadata": {},
          "execution_count": null
        }
      ],
      "source": [
        "  5 == 5.0 == 5 + 0j\n"
      ]
    },
    {
      "cell_type": "code",
      "execution_count": null,
      "metadata": {
        "collapsed": true
      },
      "outputs": [
        {
          "data": {
            "text/plain": [
              "  True\n"
            ]
          },
          "output_type": "execute_result",
          "metadata": {},
          "execution_count": null
        }
      ],
      "source": [
        "  hash(5) == hash(5.0) == hash(5 + 0j)\n"
      ]
    },
    {
      "cell_type": "markdown",
      "metadata": {},
      "source": [
        "  **Ghi ch\u00fa:** C\u00e1c \u0111\u1ed1i t\u01b0\u1ee3ng c\u00f3 gi\u00e1 tr\u1ecb b\u0103m b\u0103ng nhau ch\u01b0a ch\u1eafc \u0111\u00e3 b\u1eb1ng nhau. (V\u1eabn \u0111\u1ec1 n\u00e0y \u0111\u01b0\u1ee3c bi\u1ebft t\u1edbi v\u1edbi t\u00ean g\u1ecdi [hash collision](https://en.wikipedia.org/wiki/Collision_(computer_science)), v\u00e0 gi\u1ea3m \u0111i hi\u1ec7u n\u0103ng v\u1edbi th\u1eddi gian h\u1eb1ng s\u1ed1 qua vi\u1ec7c d\u00f9ng h\u00e0m b\u0103m.)\n",
        "\n"
      ]
    },
    {
      "cell_type": "markdown",
      "metadata": {},
      "source": [
        "### \u25b6 Deep down, we're all the same.\n"
      ]
    },
    {
      "cell_type": "code",
      "execution_count": null,
      "metadata": {
        "collapsed": true
      },
      "outputs": [
        {
          "data": {
            "text/plain": []
          },
          "output_type": "execute_result",
          "metadata": {},
          "execution_count": null
        }
      ],
      "source": [
        "class WTF:\n",
        "  pass\n"
      ]
    },
    {
      "cell_type": "markdown",
      "metadata": {},
      "source": [
        "\n",
        "**K\u1ebft qu\u1ea3:**\n"
      ]
    },
    {
      "cell_type": "code",
      "execution_count": null,
      "metadata": {
        "collapsed": true
      },
      "outputs": [
        {
          "data": {
            "text/plain": [
              "False\n"
            ]
          },
          "output_type": "execute_result",
          "metadata": {},
          "execution_count": null
        }
      ],
      "source": [
        "WTF() == WTF() # two different instances can't be equal\n"
      ]
    },
    {
      "cell_type": "code",
      "execution_count": null,
      "metadata": {
        "collapsed": true
      },
      "outputs": [
        {
          "data": {
            "text/plain": [
              "False\n"
            ]
          },
          "output_type": "execute_result",
          "metadata": {},
          "execution_count": null
        }
      ],
      "source": [
        "WTF() is WTF() # identities are also different\n"
      ]
    },
    {
      "cell_type": "code",
      "execution_count": null,
      "metadata": {
        "collapsed": true
      },
      "outputs": [
        {
          "data": {
            "text/plain": [
              "True\n"
            ]
          },
          "output_type": "execute_result",
          "metadata": {},
          "execution_count": null
        }
      ],
      "source": [
        "hash(WTF()) == hash(WTF()) # hashes _should_ be different as well\n"
      ]
    },
    {
      "cell_type": "code",
      "execution_count": null,
      "metadata": {
        "collapsed": true
      },
      "outputs": [
        {
          "data": {
            "text/plain": [
              "True\n"
            ]
          },
          "output_type": "execute_result",
          "metadata": {},
          "execution_count": null
        }
      ],
      "source": [
        "id(WTF()) == id(WTF())\n"
      ]
    },
    {
      "cell_type": "markdown",
      "metadata": {},
      "source": [
        "\n"
      ]
    },
    {
      "cell_type": "markdown",
      "metadata": {},
      "source": [
        "#### \ud83d\udca1 Gi\u1ea3i th\u00edch:\n",
        "\n",
        "* Khi `id` \u0111\u01b0\u1ee3c g\u1ecdi, Python t\u1ea1o m\u1ed9t \u0111\u1ed1i t\u01b0\u1ee3ng l\u1edbp `WTF` v\u00e0 truy\u1ec1n \u0111\u1ed1i t\u01b0\u1ee3ng n\u00e0y cho h\u00e0m `id`. H\u00e0m `id` l\u1ea5y `id` c\u1ee7a \u0111\u1ed1i t\u01b0\u1ee3ng (v\u00f9ng nh\u1edb c\u1ee7a \u0111\u1ed1i t\u01b0\u1ee3ng), v\u00e0 v\u1ee9t \u0111\u1ed1i t\u01b0\u1ee3ng n\u00e0y \u0111i. Do \u0111\u00f3 \u0111\u1ed1i t\u01b0\u1ee3ng b\u1ecb ti\u00eau hu\u1ef7.\n",
        "* Khi ch\u00fang ta g\u1ecdi `id` hai l\u1ea7n, Python c\u1ea5p ph\u00e1t c\u00f9ng m\u1ed9t v\u00f9ng nh\u01a1 cho \u0111\u1ed1i t\u01b0\u1ee3ng th\u01b0 hai. B\u1edfi vi (trong CPython) `id` s\u1eed d\u1ee5ng v\u00f9ng nh\u1edb cho id c\u1ee7a \u0111\u1ed1i t\u01b0\u1ee3ng, id c\u1ee7a hai \u0111\u1ed1i t\u01b0\u1ee3ng n\u00e0y l\u00e0 gi\u1ed1ng nhau.\n",
        "* V\u00ec v\u1eady, id c\u1ee7a \u0111\u1ed1i t\u01b0\u1ee3ng ch\u1ec9 duy nh\u1ea5t trong v\u00f2ng \u0111\u1eddi c\u1ee7a \u0111\u1ed1i t\u01b0\u1ee3ng \u0111\u00f3. Sau khi \u0111\u1ed1i t\u01b0\u1ee3ng b\u1ecb ti\u00eau hi\u1ec3u, hay tr\u01b0\u1edbc khi n\u00f3 \u0111\u01b0\u1ee3c t\u1ea1o, nh\u1eefng th\u1ee9 kh\u00e1c c\u00f3 th\u1ec3 c\u00f3 c\u00f9ng id v\u1edbi n\u00f3.\n",
        "* Nh\u01b0ng t\u1ea1i sao ph\u00e9p `is` l\u1ea1i cho ra k\u1ebft qu\u1ea3 `False`? H\u00e3y nh\u00ecn v\u00ed d\u1ee5 d\u01b0\u1edbi \u0111\u00e2y\n"
      ]
    },
    {
      "cell_type": "code",
      "execution_count": null,
      "metadata": {
        "collapsed": true
      },
      "outputs": [
        {
          "data": {
            "text/plain": []
          },
          "output_type": "execute_result",
          "metadata": {},
          "execution_count": null
        }
      ],
      "source": [
        "  class WTF(object):\n",
        "    def __init__(self): print(\"I\")\n",
        "    def __del__(self): print(\"D\")\n"
      ]
    },
    {
      "cell_type": "markdown",
      "metadata": {},
      "source": [
        "  **K\u1ebft qu\u1ea3:**\n"
      ]
    },
    {
      "cell_type": "code",
      "execution_count": null,
      "metadata": {
        "collapsed": true
      },
      "outputs": [
        {
          "data": {
            "text/plain": [
              "  I\n",
              "  I\n",
              "  D\n",
              "  D\n",
              "  False\n"
            ]
          },
          "output_type": "execute_result",
          "metadata": {},
          "execution_count": null
        }
      ],
      "source": [
        "  WTF() is WTF()\n"
      ]
    },
    {
      "cell_type": "code",
      "execution_count": null,
      "metadata": {
        "collapsed": true
      },
      "outputs": [
        {
          "data": {
            "text/plain": [
              "  I\n",
              "  D\n",
              "  I\n",
              "  D\n",
              "  True\n"
            ]
          },
          "output_type": "execute_result",
          "metadata": {},
          "execution_count": null
        }
      ],
      "source": [
        "  id(WTF()) == id(WTF())\n"
      ]
    },
    {
      "cell_type": "markdown",
      "metadata": {},
      "source": [
        "  Nh\u01b0 b\u1ea1n quan s\u00e1t th\u1ea5y, c\u00f3 s\u1ef1 kh\u00e1c bi\u1ec7t \u1edf th\u1ee9 t\u1ef1 ti\u00eau hi\u1ec3u c\u00e1c \u0111\u1ed1i t\u01b0\u1ee3ng, v\u00e0 \u0111\u00f3 t\u1ea1o ra s\u1ef1 kh\u00e1c bi\u1ec7t.\n",
        "  \n"
      ]
    },
    {
      "cell_type": "markdown",
      "metadata": {},
      "source": [
        "### \u25b6 V\u00f4 tr\u1eadt t\u1ef1 trong tr\u1eadt t\u1ef1 *\n"
      ]
    },
    {
      "cell_type": "code",
      "execution_count": null,
      "metadata": {
        "collapsed": true
      },
      "outputs": [
        {
          "data": {
            "text/plain": []
          },
          "output_type": "execute_result",
          "metadata": {},
          "execution_count": null
        }
      ],
      "source": [
        "from collections import OrderedDict\n",
        "\n",
        "\n",
        "dictionary[1] = 'a'; dictionary[2] = 'b';\n",
        "\n",
        "ordered_dict = OrderedDict()\n",
        "ordered_dict[1] = 'a'; ordered_dict[2] = 'b';\n",
        "\n",
        "another_ordered_dict = OrderedDict()\n",
        "another_ordered_dict[2] = 'b'; another_ordered_dict[1] = 'a';\n",
        "\n",
        "class DictWithHash(dict):\n",
        "    \"\"\"\n",
        "    A dict that also implements __hash__ magic.\n",
        "    \"\"\"\n",
        "    __hash__ = lambda self: 0\n",
        "\n",
        "class OrderedDictWithHash(OrderedDict):\n",
        "    \"\"\"\n",
        "    An OrderedDict that also implements __hash__ magic.\n",
        "    \"\"\"\n",
        "    __hash__ = lambda self: 0\n"
      ]
    },
    {
      "cell_type": "markdown",
      "metadata": {},
      "source": [
        "\n",
        "**K\u1ebft qu\u1ea3**\n"
      ]
    },
    {
      "cell_type": "code",
      "execution_count": null,
      "metadata": {
        "collapsed": true
      },
      "outputs": [
        {
          "data": {
            "text/plain": [
              "True\n"
            ]
          },
          "output_type": "execute_result",
          "metadata": {},
          "execution_count": null
        }
      ],
      "source": [
        "dictionary == ordered_dict # N\u1ebfu a == b\n"
      ]
    },
    {
      "cell_type": "code",
      "execution_count": null,
      "metadata": {
        "collapsed": true
      },
      "outputs": [
        {
          "data": {
            "text/plain": [
              "True\n"
            ]
          },
          "output_type": "execute_result",
          "metadata": {},
          "execution_count": null
        }
      ],
      "source": [
        "dictionary == another_ordered_dict # and b == c\n"
      ]
    },
    {
      "cell_type": "code",
      "execution_count": null,
      "metadata": {
        "collapsed": true
      },
      "outputs": [
        {
          "data": {
            "text/plain": [
              "False\n",
              "\n",
              "# ta bi\u1ebft r\u0103ng set ch\u1ec9 ch\u1ee9a c\u00e1c ph\u1ea7n t\u1eed \u0111\u1ed9c nh\u1ea5t,\n",
              "# th\u1eed t\u1ea1o m\u1ed9t set ch\u1ee9a 3 t\u1eeb \u0111i\u1ec3n ph\u00eda tr\u00ean xem sao...\n",
              "\n"
            ]
          },
          "output_type": "execute_result",
          "metadata": {},
          "execution_count": null
        }
      ],
      "source": [
        "ordered_dict == another_ordered_dict # th\u1ebf sao c != a ??\n"
      ]
    },
    {
      "cell_type": "code",
      "execution_count": null,
      "metadata": {
        "collapsed": true
      },
      "outputs": [
        {
          "data": {
            "text/plain": [
              "Traceback (most recent call last):\n",
              "  File \"<stdin>\", line 1, in <module>\n",
              "TypeError: unhashable type: 'dict' (L\u1ed7i v\u1ec1 ki\u1ec3u: ki\u1ec3u kh\u00f4ng th\u1ec3 hash \u0111\u01b0\u1ee3c)\n",
              "\n",
              "# L\u1ed7i tr\u00ean x\u1ea3y ra l\u00e0 \u0111i\u1ec1u d\u00ea hi\u1ec3u do t\u1eeb \u0111i\u1ec3n kh\u00f4ng \u0111\u01b0\u1ee3c tran b\u1ecb __hash__, \n",
              "# s\u1eed d\u1ee5ng c\u00e1c l\u1edbp b\u1ecdc (wrapper classes) ta x\u00e2y d\u1ef1ng ph\u00eda tr\u00ean th\u1eed xem.\n"
            ]
          },
          "output_type": "execute_result",
          "metadata": {},
          "execution_count": null
        }
      ],
      "source": [
        "len({dictionary, ordered_dict, another_ordered_dict})\n"
      ]
    },
    {
      "cell_type": "code",
      "execution_count": null,
      "metadata": {
        "collapsed": true
      },
      "outputs": [
        {
          "data": {
            "text/plain": [
              "1\n"
            ]
          },
          "output_type": "execute_result",
          "metadata": {},
          "execution_count": null
        }
      ],
      "source": [
        "dictionary = DictWithHash()\n",
        "dictionary[1] = 'a'; dictionary[2] = 'b';\n",
        "ordered_dict = OrderedDictWithHash()\n",
        "ordered_dict[1] = 'a'; ordered_dict[2] = 'b';\n",
        "another_ordered_dict = OrderedDictWithHash()\n",
        "another_ordered_dict[2] = 'b'; another_ordered_dict[1] = 'a';\n",
        "len({dictionary, ordered_dict, another_ordered_dict})\n"
      ]
    },
    {
      "cell_type": "code",
      "execution_count": null,
      "metadata": {
        "collapsed": true
      },
      "outputs": [
        {
          "data": {
            "text/plain": [
              "2\n"
            ]
          },
          "output_type": "execute_result",
          "metadata": {},
          "execution_count": null
        }
      ],
      "source": [
        "len({ordered_dict, another_ordered_dict, dictionary}) # x\u00e1o tr\u1ed9n th\u1ee9 t\u1ef1 c\u00e1 ph\u1ea7n t\u1eed trong set\n"
      ]
    },
    {
      "cell_type": "markdown",
      "metadata": {},
      "source": [
        "\n",
        "C\u00e1i qu\u00e1i g\u00ec \u0111ang x\u1ea3y ra?\n",
        "\n"
      ]
    },
    {
      "cell_type": "markdown",
      "metadata": {},
      "source": [
        "#### \ud83d\udca1 Gi\u1ea3i th\u00edch:\n",
        "\n",
        "- L\u00fd do t\u1ea1i sao quy t\u1eafc so s\u00e1nh b\u1eafc c\u1ea7u kh\u00f4ng \u00e1p d\u1ee5ng \u0111\u01b0\u1ee3c khi so s\u00e1nh  `dictionary`, `ordered_dict` v\u00e0 `another_ordered_dict` l\u00e0 do c\u00e1ch tri\u1ec3n khai ph\u01b0\u01a1ng th\u1ee9c `__eq__` trong l\u1edbp `OrderedDict` . Xem th\u00eam [t\u00e0i li\u1ec7u](https://docs.python.org/3/library/collections.html#ordereddict-objects)\n",
        "\n",
        "    >  C\u00e1c ph\u00e9p so s\u00e1nh b\u1eb1ng gi\u1eefa c\u00e1c \u0111\u1ed1i t\u01b0\u1ee3ng OrderedDict tu\u00f4n theo th\u01b0 t\u1ef1 v\u00e0 \u0111\u01b0\u1ee3c th\u1ef1c hi\u1ec7n nh\u01b0 sau. C\u00f2n ph\u00e9p so s\u00e1nh b\u0103ng gi\u1eefa c\u00e1 \u0111\u1ed1i t\u01b0\u1ee3ng `OrderedDict` v\u00e0 c\u00e1c \u0111\u1ed1i t\u01b0\u1ee3ng \u00e1nh x\u1ea1 kh\u00e1c (mapping objects) th\u00ec kh\u00f4ng tu\u00e2n theo th\u1ee9 t\u1ef1 nh\u01b0 l\u00e0 c\u00e1c t\u1eeb \u0111i\u1ec3n th\u00f4ng th\u01b0\u1eddng..\n",
        "\n",
        "- L\u00fd do \u1edf \u0111\u00e2y l\u00e0 c\u00e1c \u0111\u1ed1i t\u01b0\u1ee3ng `OrderedDict` \u0111\u01b0\u1ee3c cho ph\u00e9p b\u1ecb thay th\u1ebf tr\u1ef1c ti\u1ebfp t\u1ea1i b\u1ea5t c\u1ee9 v\u1ecb tr\u00ed nao m\u1ed9t t\u1eeb \u0111i\u1ec3n th\u00f4ng th\u01b0\u1eddng \u0111\u01b0\u1ee3c s\u1eed d\u1ee5ng.\n",
        "- V\u1eady t\u1ea1i sao thay \u0111\u1ed5i th\u01b0 t\u1ef1 c\u1ee7a c\u00e1c t\u1eeb \u0111i\u1ec3n l\u1ea1i \u1ea3nh h\u01b0\u1edfng t\u1edbi \u0111\u1ed1i t\u01b0\u1ee3ng `set` \u0111\u01b0\u1ee3c sinh ra? C\u00e2u tr\u1ea3 l\u1eddi l\u00e0 do thi\u1ebfu s\u1ef1 so s\u00e1nh n\u1ed9i \u0111\u1ed1i t\u01b0\u1ee3ng (intrasitive) . Do sets l\u00e0 c\u00e1c t\u1eadp h\u1ee3p kh\u00f4ng c\u00f3 th\u1ee9 t\u1ef1 c\u1ee7a c\u00e1c ph\u1ea7n t\u1eed \u0111\u1ed9c nh\u1ea5t, th\u1ee9 t\u1ef1 c\u00e1c ph\u1ea7n t\u1eed khi ch\u00e8n v\u00e0o kh\u00f4ng c\u00f3 ngh\u0129a l\u00fd g\u00ec c\u1ea3. Nh\u01b0ng trong tr\u01b0\u1eddng h\u1ee3p n\u00e0y, n\u00f3 l\u1ea1i c\u00f3 v\u1ea5n \u0111\u1ec1. H\u00e3y t\u00ecm hi\u1ec3u th\u00eam xem sao\n",
        "\n"
      ]
    },
    {
      "cell_type": "code",
      "execution_count": null,
      "metadata": {
        "collapsed": true
      },
      "outputs": [
        {
          "data": {
            "text/plain": [
              "    True\n"
            ]
          },
          "output_type": "execute_result",
          "metadata": {},
          "execution_count": null
        }
      ],
      "source": [
        "    some_set = set()\n",
        "    some_set.add(dictionary) # these are the mapping objects from the snippets above\n",
        "    ordered_dict in some_set\n"
      ]
    },
    {
      "cell_type": "code",
      "execution_count": null,
      "metadata": {
        "collapsed": true
      },
      "outputs": [
        {
          "data": {
            "text/plain": [
              "    1\n"
            ]
          },
          "output_type": "execute_result",
          "metadata": {},
          "execution_count": null
        }
      ],
      "source": [
        "    some_set.add(ordered_dict)\n",
        "    len(some_set)\n"
      ]
    },
    {
      "cell_type": "code",
      "execution_count": null,
      "metadata": {
        "collapsed": true
      },
      "outputs": [
        {
          "data": {
            "text/plain": [
              "    True\n"
            ]
          },
          "output_type": "execute_result",
          "metadata": {},
          "execution_count": null
        }
      ],
      "source": [
        "    another_ordered_dict in some_set\n"
      ]
    },
    {
      "cell_type": "code",
      "execution_count": null,
      "metadata": {
        "collapsed": true
      },
      "outputs": [
        {
          "data": {
            "text/plain": [
              "    1\n",
              "\n"
            ]
          },
          "output_type": "execute_result",
          "metadata": {},
          "execution_count": null
        }
      ],
      "source": [
        "    some_set.add(another_ordered_dict)\n",
        "    len(some_set)\n"
      ]
    },
    {
      "cell_type": "code",
      "execution_count": null,
      "metadata": {
        "collapsed": true
      },
      "outputs": [
        {
          "data": {
            "text/plain": [
              "    False\n"
            ]
          },
          "output_type": "execute_result",
          "metadata": {},
          "execution_count": null
        }
      ],
      "source": [
        "    another_set = set()\n",
        "    another_set.add(ordered_dict)\n",
        "    another_ordered_dict in another_set\n"
      ]
    },
    {
      "cell_type": "code",
      "execution_count": null,
      "metadata": {
        "collapsed": true
      },
      "outputs": [
        {
          "data": {
            "text/plain": [
              "    2\n"
            ]
          },
          "output_type": "execute_result",
          "metadata": {},
          "execution_count": null
        }
      ],
      "source": [
        "    another_set.add(another_ordered_dict)\n",
        "    len(another_set)\n"
      ]
    },
    {
      "cell_type": "code",
      "execution_count": null,
      "metadata": {
        "collapsed": true
      },
      "outputs": [
        {
          "data": {
            "text/plain": [
              "    True\n"
            ]
          },
          "output_type": "execute_result",
          "metadata": {},
          "execution_count": null
        }
      ],
      "source": [
        "    dictionary in another_set\n"
      ]
    },
    {
      "cell_type": "code",
      "execution_count": null,
      "metadata": {
        "collapsed": true
      },
      "outputs": [
        {
          "data": {
            "text/plain": [
              "    2\n"
            ]
          },
          "output_type": "execute_result",
          "metadata": {},
          "execution_count": null
        }
      ],
      "source": [
        "    another_set.add(another_ordered_dict)\n",
        "    len(another_set)\n"
      ]
    },
    {
      "cell_type": "markdown",
      "metadata": {},
      "source": [
        "    S\u1ef1 b\u1ea5t nh\u1ea5t \u1edf \u0111\u00e2y  `another_ordered_dict in another_set` cho k\u1ebft qu\u1ea3 l\u00e0 `False` b\u1edfi v\u00ec `ordered_dict` \u0111\u00e3 t\u1ed3n t\u1ea1i trong `another_set` tr\u01b0\u1edbc \u0111\u00f3, `ordered_dict == another_ordered_dict` tr\u1edf th\u00e0nh  `False`.\n",
        "    \n",
        "\n"
      ]
    },
    {
      "cell_type": "markdown",
      "metadata": {},
      "source": [
        "### \u25b6 C\u1ed1 th\u00eam ch\u00fat n\u1eefa... *\n"
      ]
    },
    {
      "cell_type": "code",
      "execution_count": null,
      "metadata": {
        "collapsed": true
      },
      "outputs": [
        {
          "data": {
            "text/plain": []
          },
          "output_type": "execute_result",
          "metadata": {},
          "execution_count": null
        }
      ],
      "source": [
        "def some_func():\n",
        "    try:\n",
        "        return 'from_try'\n",
        "    finally:\n",
        "        return 'from_finally'\n",
        "\n",
        "def another_func(): \n",
        "    for _ in range(3):\n",
        "        try:\n",
        "            continue\n",
        "        finally:\n",
        "            print(\"Finally!\")\n",
        "\n",
        "def one_more_func(): # A gotcha!\n",
        "    try:\n",
        "        for i in range(3):\n",
        "            try:\n",
        "                1 / i\n",
        "            except ZeroDivisionError:\n",
        "                # Let's throw it here and handle it outside for loop\n",
        "                raise ZeroDivisionError(\"A trivial divide by zero error\")\n",
        "            finally:\n",
        "                print(\"Iteration\", i)\n",
        "                break\n",
        "    except ZeroDivisionError as e:\n",
        "        print(\"Zero division error occurred\", e)\n"
      ]
    },
    {
      "cell_type": "markdown",
      "metadata": {},
      "source": [
        "\n",
        "**K\u1ebft qu\u1ea3:**\n",
        "\n"
      ]
    },
    {
      "cell_type": "code",
      "execution_count": null,
      "metadata": {
        "collapsed": true
      },
      "outputs": [
        {
          "data": {
            "text/plain": [
              "'from_finally'\n",
              "\n"
            ]
          },
          "output_type": "execute_result",
          "metadata": {},
          "execution_count": null
        }
      ],
      "source": [
        "some_func()\n"
      ]
    },
    {
      "cell_type": "code",
      "execution_count": null,
      "metadata": {
        "collapsed": true
      },
      "outputs": [
        {
          "data": {
            "text/plain": [
              "Finally!\n",
              "Finally!\n",
              "Finally!\n",
              "\n"
            ]
          },
          "output_type": "execute_result",
          "metadata": {},
          "execution_count": null
        }
      ],
      "source": [
        "another_func()\n"
      ]
    },
    {
      "cell_type": "code",
      "execution_count": null,
      "metadata": {
        "collapsed": true
      },
      "outputs": [
        {
          "data": {
            "text/plain": [
              "Traceback (most recent call last):\n",
              "  File \"<stdin>\", line 1, in <module>\n",
              "ZeroDivisionError: division by zero (Ngo\u1ea1i l\u1ec7 sinh ra b\u1edfi chia m\u1ed9t s\u1ed1 cho s\u1ed1 0)\n",
              "\n"
            ]
          },
          "output_type": "execute_result",
          "metadata": {},
          "execution_count": null
        }
      ],
      "source": [
        "1 / 0\n"
      ]
    },
    {
      "cell_type": "code",
      "execution_count": null,
      "metadata": {
        "collapsed": true
      },
      "outputs": [
        {
          "data": {
            "text/plain": [
              "Iteration 0\n",
              "\n"
            ]
          },
          "output_type": "execute_result",
          "metadata": {},
          "execution_count": null
        }
      ],
      "source": [
        "one_more_func()\n"
      ]
    },
    {
      "cell_type": "markdown",
      "metadata": {},
      "source": [
        "\n"
      ]
    },
    {
      "cell_type": "markdown",
      "metadata": {},
      "source": [
        "#### \ud83d\udca1 Gi\u1ea3i th\u00edch:\n",
        "\n",
        "- Khi c\u00e2u l\u1ec7nh `return`, `break` hay `continue` \u0111\u01b0\u1ee3c th\u1ef1c hi\u1ec7n trong ph\u1ea7n `try` c\u1ee7a kh\u1ed1i \"try\u2026finally\", ph\u1ea7n `finally` c\u0169ng \u0111\u01b0\u1ee3c th\u1ef1c hi\u1ec7n.\n",
        "- Gi\u00e1 tr\u1ecb tr\u1ea3 v\u1ec1 c\u1ee7a m\u1ed9t h\u00e0m \u0111\u01b0\u1ee3c x\u00e1c \u0111\u1ecbnh b\u1edfi c\u00e2u l\u1ec7nh `return` cu\u1ed1i cung \u0111\u01b0\u1ee3c th\u1ef1c hi\u1ec7n. B\u1edfi v\u00ec ph\u1ea7n `finally` lu\u00f4n \u0111\u01b0\u1ee3c th\u1ef1c hi\u1ec7n, c\u00e2u l\u1ec7nh `return` trong ph\u1ea7n `finally` s\u1ebd lu\u00f4n l\u00e0 c\u00e2u l\u1ec7nh tr\u1ea3 v\u1ec1 gia tr\u1ecb cu\u1ed1i c\u00f9ng.\n",
        "- Tuy nhi\u00ean n\u1ebfu ph\u1ea7n finally th\u1ef1c hi\u1ec7n c\u00e2u l\u1ec7nh `return` hay `break` th\u00ec ph\u1ea7n ngo\u1ea1i l\u1ec7 t\u1ed3n t\u1ea1i s\u1ebd b\u1ecb b\u1ecf qua.\n",
        "\n"
      ]
    },
    {
      "cell_type": "markdown",
      "metadata": {},
      "source": [
        "### \u25b6 For what?\n"
      ]
    },
    {
      "cell_type": "code",
      "execution_count": null,
      "metadata": {
        "collapsed": true
      },
      "outputs": [
        {
          "data": {
            "text/plain": []
          },
          "output_type": "execute_result",
          "metadata": {},
          "execution_count": null
        }
      ],
      "source": [
        "some_string = \"wtf\"\n",
        "some_dict = {}\n",
        "for i, some_dict[i] in enumerate(some_string):\n",
        "    i = 10\n"
      ]
    },
    {
      "cell_type": "markdown",
      "metadata": {},
      "source": [
        "\n",
        "**K\u1ebft qu\u1ea3:**\n"
      ]
    },
    {
      "cell_type": "code",
      "execution_count": null,
      "metadata": {
        "collapsed": true
      },
      "outputs": [
        {
          "data": {
            "text/plain": [
              "{0: 'w', 1: 't', 2: 'f'}\n"
            ]
          },
          "output_type": "execute_result",
          "metadata": {},
          "execution_count": null
        }
      ],
      "source": [
        "some_dict # An indexed dict appears.\n"
      ]
    },
    {
      "cell_type": "markdown",
      "metadata": {},
      "source": [
        "\n"
      ]
    },
    {
      "cell_type": "markdown",
      "metadata": {},
      "source": [
        "####  \ud83d\udca1 Gi\u1ea3i th\u00edch:\n",
        "\n",
        "* C\u00e2u l\u1ec7nh `for` \u0111\u01b0\u1ee3c \u0111\u1ecbnh ngh\u0129a trong [ng\u1eef ph\u00e1p Python](https://docs.python.org/3/reference/grammar.html) nh\u01b0 sau:\n",
        "  ```\n",
        "  for_stmt: 'for' exprlist 'in' testlist ':' suite ['else' ':' suite]\n",
        "  ```\n",
        "\n",
        "  \u1ede \u0111\u00f3 `exprlist` l\u00e0 bi\u1ebfn m\u1ee5c ti\u00eau c\u1ee7a ph\u00e9p g\u00e1n. \u0110i\u1ec1u \u0111\u00f3 co ngh\u0129a l\u00e0 c\u00e2u l\u1ec7nh g\u00e1n `{exprlist} = {next_value}` \u0111\u01b0\u1ee3c **th\u1ef1c hi\u1ec7n \u0111\u1ed1i v\u1edbi m\u1ed7i ph\u1ea7n t\u1eed** trong \u0111\u1ed1i t\u01b0\u1ee3ng l\u1eb7p (iterable)\n",
        "  An interesting example that illustrates this:\n"
      ]
    },
    {
      "cell_type": "code",
      "execution_count": null,
      "metadata": {
        "collapsed": true
      },
      "outputs": [
        {
          "data": {
            "text/plain": []
          },
          "output_type": "execute_result",
          "metadata": {},
          "execution_count": null
        }
      ],
      "source": [
        "  for i in range(4):\n",
        "      print(i)\n",
        "      i = 10\n"
      ]
    },
    {
      "cell_type": "markdown",
      "metadata": {},
      "source": [
        "\n",
        "  **K\u1ebft qu\u1ea3:**\n",
        "  ```\n",
        "  0\n",
        "  1\n",
        "  2\n",
        "  3\n",
        "  ```\n",
        "\n",
        "  B\u1ea1n c\u00f3 ngh\u0129 r\u0103ng v\u00f2ng l\u1eb7p tr\u00ean ch\u1ec9 ch\u1ea1y c\u00f3 m\u1ed9t l\u1ea7n?\n",
        "\n",
        "  **\ud83d\udca1 Gi\u1ea3i th\u00edch:**\n",
        "\n",
        "- C\u00e2u l\u1ec7nh g\u00e1n `i = 10` kh\u00f4ng bao gi\u1edd \u1ea3nh h\u01b0\u1edfng t\u1edbi c\u00e1c v\u00f2ng l\u1eb7p do c\u00e1ch th\u1ee9c ho\u1ea1t \u0111\u1ed9ng c\u1ee7a v\u00f2ng l\u1eb7p for tron Python. Tr\u01b0\u1edbc \u0111i\u1ec3m kh\u1edfi \u0111\u1ea7u c\u1ee7a m\u1ed7i v\u00f2ng l\u1eb7p, ph\u1ea7n t\u1eed ti\u1ebfp theo \u0111\u01b0\u1ee3c \u0111\u01b0a ra b\u1edfi tr\u00ecnh sinh (iterator, trong tr\u01b0\u1eddng h\u1ee3p nay l\u00e0 `range(4)`), ph\u1ea7n t\u1eed n\u00e0y \u0111\u01b0\u1ee3c gi\u1ea3i n\u00e9n ra (unpacked) v\u00e0 g\u00e1n cho c\u00e1c bi\u1ebfn ch\u1ea1y (trong tr\u01b0\u1eddng h\u1ee3p nay l\u00e0 `i`)\n",
        "\n",
        "* H\u00e0m `enumerate(some_string)` sinh ra gi\u00e1 tr\u1ecb m\u1edbi `i` (bi\u1ebfn \u0111\u1ebfm) v\u00e0 m\u1ed9t k\u00ed t\u1ef1 t\u1eeb `some_string` t\u1ea1i m\u1ed7i l\u1ea7n l\u1eb7p. Sau \u0111\u00f3 n\u00f3 g\u00e1n kho\u00e1 `i` c\u1ee7a t\u1eeb \u0111i\u1ec3n `some_dict` cho k\u00ed t\u1ef1 \u0111\u00f3. Tr\u00ecnh t\u1ef1 \u0111\u01b0\u1ee3c th\u1ec3 hi\u1ec7n \u0111\u01a1n gi\u1ea3n nh\u01b0 d\u01b0\u1edbi \u0111\u00e2y:\n"
      ]
    },
    {
      "cell_type": "code",
      "execution_count": null,
      "metadata": {
        "collapsed": true
      },
      "outputs": [
        {
          "data": {
            "text/plain": []
          },
          "output_type": "execute_result",
          "metadata": {},
          "execution_count": null
        }
      ],
      "source": [
        "  i, some_dict[i] = (0, 'w')\n",
        "  i, some_dict[i] = (1, 't')\n",
        "  i, some_dict[i] = (2, 'f')\n",
        "  some_dict\n"
      ]
    },
    {
      "cell_type": "markdown",
      "metadata": {},
      "source": [
        "\n"
      ]
    },
    {
      "cell_type": "markdown",
      "metadata": {},
      "source": [
        "### \u25b6 S\u1ef1 kh\u00e1c bi\u1ec7t \u0111\u1ebfn t\u1eeb th\u1eddi \u0111i\u1ec3m \u0111\u00e1nh gi\u00e1\n",
        "1\\.\n"
      ]
    },
    {
      "cell_type": "code",
      "execution_count": null,
      "metadata": {
        "collapsed": true
      },
      "outputs": [
        {
          "data": {
            "text/plain": []
          },
          "output_type": "execute_result",
          "metadata": {},
          "execution_count": null
        }
      ],
      "source": [
        "array = [1, 8, 15]\n",
        "# M\u1ed9t bi\u1ec3u di\u1ec5n generator th\u00f4ng th\u01b0\u1eddng\n",
        "gen = (x for x in array if array.count(x) > 0)\n",
        "array = [2, 8, 22]\n"
      ]
    },
    {
      "cell_type": "markdown",
      "metadata": {},
      "source": [
        "\n",
        "**K\u1ebft qu\u1ea3:**\n",
        "\n"
      ]
    },
    {
      "cell_type": "code",
      "metadata": {
        "collapsed": true
      },
      "execution_count": null,
      "outputs": [
        {
          "name": "stdout",
          "output_type": "stream",
          "text": [
            "[8]\n"
          ]
        }
      ],
      "source": [
        "print(list(gen)) # C\u00e1c gi\u00e1 tr\u1ecb kh\u00e1c \u0111i \u0111\u00e2u m\u1ea5t r\u1ed3i?\n"
      ]
    },
    {
      "cell_type": "markdown",
      "metadata": {},
      "source": [
        "\n",
        "2\\.\n",
        "\n"
      ]
    },
    {
      "cell_type": "code",
      "execution_count": null,
      "metadata": {
        "collapsed": true
      },
      "outputs": [
        {
          "data": {
            "text/plain": []
          },
          "output_type": "execute_result",
          "metadata": {},
          "execution_count": null
        }
      ],
      "source": [
        "array_1 = [1,2,3,4]\n",
        "gen_1 = (x for x in array_1)\n",
        "array_1 = [1,2,3,4,5]\n",
        "\n",
        "array_2 = [1,2,3,4]\n",
        "gen_2 = (x for x in array_2)\n",
        "array_2[:] = [1,2,3,4,5]\n"
      ]
    },
    {
      "cell_type": "markdown",
      "metadata": {},
      "source": [
        "\n",
        "**K\u1ebft qu\u1ea3:**\n"
      ]
    },
    {
      "cell_type": "code",
      "metadata": {
        "collapsed": true
      },
      "execution_count": null,
      "outputs": [
        {
          "name": "stdout",
          "output_type": "stream",
          "text": [
            "[1, 2, 3, 4]\n",
            "\n"
          ]
        }
      ],
      "source": [
        "print(list(gen_1))\n"
      ]
    },
    {
      "cell_type": "code",
      "metadata": {
        "collapsed": true
      },
      "execution_count": null,
      "outputs": [
        {
          "name": "stdout",
          "output_type": "stream",
          "text": [
            "[1, 2, 3, 4, 5]\n"
          ]
        }
      ],
      "source": [
        "print(list(gen_2))\n"
      ]
    },
    {
      "cell_type": "markdown",
      "metadata": {},
      "source": [
        "\n",
        "3\\.\n",
        "\n"
      ]
    },
    {
      "cell_type": "code",
      "execution_count": null,
      "metadata": {
        "collapsed": true
      },
      "outputs": [
        {
          "data": {
            "text/plain": []
          },
          "output_type": "execute_result",
          "metadata": {},
          "execution_count": null
        }
      ],
      "source": [
        "array_3 = [1, 2, 3]\n",
        "array_4 = [10, 20, 30]\n",
        "gen = (i + j for i in array_3 for j in array_4)\n",
        "\n",
        "array_3 = [4, 5, 6]\n",
        "array_4 = [400, 500, 600]\n"
      ]
    },
    {
      "cell_type": "markdown",
      "metadata": {},
      "source": [
        "\n",
        "**K\u1ebft qu\u1ea3:**\n"
      ]
    },
    {
      "cell_type": "code",
      "metadata": {
        "collapsed": true
      },
      "execution_count": null,
      "outputs": [
        {
          "name": "stdout",
          "output_type": "stream",
          "text": [
            "[401, 501, 601, 402, 502, 602, 403, 503, 603]\n"
          ]
        }
      ],
      "source": [
        "print(list(gen))\n"
      ]
    },
    {
      "cell_type": "markdown",
      "metadata": {},
      "source": [
        "\n"
      ]
    },
    {
      "cell_type": "markdown",
      "metadata": {},
      "source": [
        "#### \ud83d\udca1 L\u00fd gi\u1ea3i\n",
        "\n",
        "- Trong m\u1ed9t bi\u1ec3u di\u1ec5n [generator](https://wiki.python.org/moin/Generators), c\u00e2u `in` \u0111\u01b0\u1ee3c th\u1ef1c hi\u1ec7n t\u1ea1i th\u1eddi \u0111i\u1ec3m khai b\u00e1o, nh\u01b0ng c\u00e2u \u0111i\u1ec1u ki\u1ec7n \u0111\u01b0\u1ee3c th\u1ef1c hi\u1ec7n t\u1ea1i th\u1eddi \u0111i\u1ec3m ch\u1ea1y (runtime).\n",
        "- Do tr\u01b0\u1edbc th\u1eddi \u0111i\u1ec3m ch\u1ea1y, `array` \u0111\u01b0\u1ee3c g\u00e1n cho gi\u00e1 tr\u1ecb `[2, 8, 22]`, v\u00e0 trong ba s\u1ed1 \u0111\u01b0\u1ee3c g\u00e1n tr\u01b0\u1edbc \u0111\u00f3 `1`, `8` and `15`, ch\u1ec9 c\u00f3 `8` c\u00f3 s\u1ed1 l\u1ea7n xu\u1ea5t hi\u1ec7n trong m\u1ea3ng m\u1edbi v\u00e0 do \u0111\u00f3 s\u1ed1 l\u1ea7n xu\u00e2t hi\u1ec7n l\u1edbn h\u01a1n `0`, n\u00ean generator ch\u1ec9 cho ra s\u1ed1 `8`.\n",
        "- S\u1ef1 kh\u00e1c bi\u1ec7t gi\u1eefa k\u1ebft qu\u1ea3 c\u1ee7a `g1` and `g2` trong ph\u1ea7n th\u1ee9 hai l\u00e0 do c\u00e1ch c\u00e1c bi\u1ebfn `array_1` v\u00e0 `array_2` \u0111\u01b0\u1ee3c g\u00e1n l\u1ea1i c\u00e1c gi\u00e1 tr\u1ecb.\n",
        "- Trong tr\u01b0\u1eddng h\u1ee3p \u0111\u1ea7u ti\u00ean, `array_1` \u0111\u01b0\u1ee3c g\u00e1n cho m\u1ed9t \u0111\u1ed1i t\u01b0\u1ee3ng m\u1edbi `[1,2,3,4,5]` v\u00e0 v\u00ec c\u00e2u `in` \u0111\u01b0\u1ee3c th\u1ef1c hi\u1ec7n t\u1ea1i th\u1eddi \u0111i\u1ec3m khai b\u00e1o n\u00ean n\u00f3 v\u1eabn tr\u1ecf t\u1edbi \u0111\u1ed1i t\u01b0\u1ee3ng c\u0169 `[1,2,3,4]` (\u0111\u1ed1i t\u01b0\u1ee3ng n\u00e0y ch\u01b0a b\u1ecb m\u1ea5t \u0111i).\n",
        "- Trong tr\u01b0\u1eddng h\u1ee3p th\u01b0 hai, ph\u00e9p g\u00e1n l\u00e1t c\u1eaft (slice assignment) `array_2` c\u1eadp nh\u1eadt \u0111\u1ed1i t\u01b0\u1ee3ng c\u0169 `[1,2,3,4]` th\u00e0nh `[1,2,3,4,5]`. Hi\u1ec3n nhi\u00ean c\u1ea3 `g2` v\u00e0 `array_2` \u0111\u1ec1u tr\u1ecf t\u1edbi cung m\u1ed9t \u0111\u1ed1i t\u01b0\u1ee3ng (\u0111\u1ed1i t\u01b0\u1ee3ng \u0111\u00e3 \u0111\u01b0\u1ee3c c\u1eadp nh\u1eadt th\u00e0nh `[1,2,3,4,5]`).\n",
        " - Okay, v\u1edbi nh\u1eefng g\u00ec ta quan s\u00e1t tr\u00ean, co ph\u1ea3i gi\u00e1 tr\u1ecb tr\u1ea3 v\u1ec1 t\u1eeb `list(g)` trong ph\u1ea7n th\u1ee9 ba ph\u1ea3i l\u00e0 `[11, 21, 31, 12, 22, 32, 13, 23, 33]`? (b\u1edfi v\u00ec `array_3` v\u00e0 `array_4` s\u1ebd gi\u1ed1ng nh\u01b0 `array_1`). L\u00fd do ch\u1ec9 `array_4` \u0111\u01b0\u1ee3c c\u1eadp nh\u1eadt \u0111\u01b0\u1ee3c gi\u1ea3i th\u00edch \u1edf \u0111\u00e2y [PEP-289](https://www.python.org/dev/peps/pep-0289/#the-details)\n",
        "    >Ch\u1ec9 c\u00f3 v\u00f2ng for ngo\u00e0i c\u00f9ng \u0111\u01b0\u1ee3c th\u1ef1c hi\u1ec7n ngay l\u1eadp t\u1ee9c, c\u00e1c l\u1ec7nh kh\u00e1c \u0111\u01b0\u1ee3c tr\u00ec ho\u00e3n cho \u0111\u1ebfn khi generator \u0111\u01b0\u1ee3c ch\u1ea1y.\n"
      ]
    },
    {
      "cell_type": "markdown",
      "metadata": {},
      "source": [
        "### \u25b6 `is not ...` kh\u00f4ng ph\u1ea3i l\u00e0 `is (not ...)`\n"
      ]
    },
    {
      "cell_type": "code",
      "execution_count": null,
      "metadata": {
        "collapsed": true
      },
      "outputs": [
        {
          "data": {
            "text/plain": [
              "True\n"
            ]
          },
          "output_type": "execute_result",
          "metadata": {},
          "execution_count": null
        }
      ],
      "source": [
        "'something' is not None\n"
      ]
    },
    {
      "cell_type": "code",
      "execution_count": null,
      "metadata": {
        "collapsed": true
      },
      "outputs": [
        {
          "data": {
            "text/plain": [
              "False\n"
            ]
          },
          "output_type": "execute_result",
          "metadata": {},
          "execution_count": null
        }
      ],
      "source": [
        "'something' is (not None)\n"
      ]
    },
    {
      "cell_type": "markdown",
      "metadata": {},
      "source": [
        "\n"
      ]
    },
    {
      "cell_type": "markdown",
      "metadata": {},
      "source": [
        "#### \ud83d\udca1 Gi\u1ea3i th\u00edch\n",
        "\n",
        "- `is not` l\u00e0 m\u1ed9t to\u00e1n t\u1eed nh\u1ecb ph\u00e2n \u0111\u01a1n, v\u00e0 khi th\u1ef1c hi\u1ec7n s\u1ebd cho k\u1ebft qu\u1ea3 kh\u00e1c v\u1edbi s\u1eed d\u1ee5ng `is` v\u00e0 `not` ri\u00eang bi\u1ec7t.\n",
        "- `is not` cho ra k\u1ebft qu\u1ea3 `False` khi c\u00e1c bi\u1ebfn \u1edf hai \u0111\u1ea7u c\u1ee7a n\u00f3 tr\u1ecf v\u1ec1 c\u00f9ng m\u1ed9t \u0111\u1ed1i t\u01b0\u1ee3ng , v\u00e0 n\u1ebfu hai bi\u1ebfn n\u00e0y tr\u1ecf v\u1ec1 kh\u00e1c \u0111\u1ed1i t\u01b0\u1ee3ng, k\u1ebft qu\u1ea3 s\u1ebd l\u00e0 `True`. C\u1ee5 th\u1ec3, `None` v\u00e0 `something` tr\u1ecf v\u1ec1 hai bi\u1ebfn kh\u00e1c nhau n\u00ean k\u1ebft qu\u1ea3 l\u00e0 `True`\n",
        "- Trong v\u00ed d\u1ee5 tr\u00ean, `(not None)` s\u1ebd cho ra k\u1ebft qu\u1ea3 `True` b\u1edfi v\u00ec khi s\u1eed d\u1ee5ng trong ph\u00e9p so s\u00e1nh lu\u1eadn l\u00fd `None` t\u01b0\u01a1ng \u0111\u01b0\u01a1ng v\u1edbi `False`, do \u0111\u00f3 d\u00f2ng m\u00e3 tr\u00ean s\u1ebd tr\u1edf th\u00e0nh `'something' is True`. C\u1ee5 th\u1ec3, do `something` v\u00e0 `True` tr\u1ecf v\u1ec1 hai \u0111\u1ed1i t\u01b0\u1ee3ng kh\u00e1c nhau n\u00ean k\u1ebft qu\u1ea3 l\u00e0 `False`\n",
        "\n"
      ]
    },
    {
      "cell_type": "markdown",
      "metadata": {},
      "source": [
        "### \u25b6 A tic-tac-toe where X wins in the first attempt!\n"
      ]
    },
    {
      "cell_type": "code",
      "execution_count": null,
      "metadata": {
        "collapsed": true
      },
      "outputs": [
        {
          "data": {
            "text/plain": []
          },
          "output_type": "execute_result",
          "metadata": {},
          "execution_count": null
        }
      ],
      "source": [
        "# Kh\u1edfi t\u1ea1o m\u1ed9t h\u00e0ng\n",
        "row = [\"\"] * 3 #row i['', '', '']\n",
        "# V\u00e0 t\u1ea1o m\u1ed9t b\u1ea3ng g\u1ed3m c\u00e1c h\u00e0ng\n",
        "board = [row] * 3\n"
      ]
    },
    {
      "cell_type": "markdown",
      "metadata": {},
      "source": [
        "\n",
        "**K\u1ebft qu\u1ea3:**\n",
        "\n"
      ]
    },
    {
      "cell_type": "code",
      "execution_count": null,
      "metadata": {
        "collapsed": true
      },
      "outputs": [
        {
          "data": {
            "text/plain": [
              "[['', '', ''], ['', '', ''], ['', '', '']]\n"
            ]
          },
          "output_type": "execute_result",
          "metadata": {},
          "execution_count": null
        }
      ],
      "source": [
        "board\n"
      ]
    },
    {
      "cell_type": "code",
      "execution_count": null,
      "metadata": {
        "collapsed": true
      },
      "outputs": [
        {
          "data": {
            "text/plain": [
              "['', '', '']\n"
            ]
          },
          "output_type": "execute_result",
          "metadata": {},
          "execution_count": null
        }
      ],
      "source": [
        "board[0]\n"
      ]
    },
    {
      "cell_type": "code",
      "execution_count": null,
      "metadata": {
        "collapsed": true
      },
      "outputs": [
        {
          "data": {
            "text/plain": [
              "''\n"
            ]
          },
          "output_type": "execute_result",
          "metadata": {},
          "execution_count": null
        }
      ],
      "source": [
        "board[0][0]\n"
      ]
    },
    {
      "cell_type": "code",
      "execution_count": null,
      "metadata": {
        "collapsed": true
      },
      "outputs": [
        {
          "data": {
            "text/plain": [
              "[['X', '', ''], ['X', '', ''], ['X', '', '']]\n"
            ]
          },
          "output_type": "execute_result",
          "metadata": {},
          "execution_count": null
        }
      ],
      "source": [
        "board[0][0] = \"X\"\n",
        "board\n"
      ]
    },
    {
      "cell_type": "markdown",
      "metadata": {},
      "source": [
        "\n",
        "Ch\u00fang ta \u0111\u00e3 g\u00e1n `\"X\"` cho ba v\u1ecb tr\u00ed trong b\u1ea3ng n\u00e0y ch\u0103ng?\n",
        "\n"
      ]
    },
    {
      "cell_type": "markdown",
      "metadata": {},
      "source": [
        "#### \ud83d\udca1 Gi\u1ea3i th\u00edch:\n",
        "\n",
        "Khi ch\u00fang ta kh\u1edfi t\u1ea1oi bi\u1ebfn `row`, h\u00ecnh m\u00f4 ph\u1ecfng d\u01b0\u1edbi \u0111\u00e2y cho ta bi\u1ebft nh\u1eefng g\u00ec di\u1ec5n ra trong b\u1ed9 nh\u1edb\n",
        "\n",
        "![image](/images/tic-tac-toe/after_row_initialized.png)\n",
        "\n",
        "\n",
        "Khi `board` \u0111\u01b0\u1ee3c kh\u1edfi t\u1ea1o b\u0103ng vi\u1ec7c nh\u00e2n b\u1ea3n `row`, minh ho\u1ea1 ph\u00eda d\u01b0\u1edbi m\u00f4 t\u1ea3 nh\u1eefng g\u00ec di\u00ean ra trong b\u1ed9 nh\u1edb (m\u1ed7i th\u00e0nh ph\u1ea7n c\u1ee7a b\u1ea3ng `board[0]`, `board[1]` v\u00e0 `board[2]` l\u00e0 m\u1ed9t tham chi\u1ebfu t\u1edbi cung m\u1ed9t danh s\u00e1ch tr\u1ecf b\u1edfi `row`)\n",
        "\n",
        "![image](/images/tic-tac-toe/after_board_initialized.png)\n",
        "\n",
        "Ch\u00fang ta c\u00f3 th\u1ec3 tr\u00e1nh \u0111i\u1ec1u tr\u00ean x\u1ea3y ra b\u1eb1ng c\u00e1ch kh\u00f4ng d\u00f9ng bi\u1ebfn `row` \u0111\u1ec3 sinh ra `board`. (Tim hi\u1ec3u th\u00eam t\u1ea1i (https://github.com/satwikkansal/wtfpython/issues/68) )\n"
      ]
    },
    {
      "cell_type": "code",
      "execution_count": null,
      "metadata": {
        "collapsed": true
      },
      "outputs": [
        {
          "data": {
            "text/plain": [
              "[['X', '', ''], ['', '', ''], ['', '', '']]\n"
            ]
          },
          "output_type": "execute_result",
          "metadata": {},
          "execution_count": null
        }
      ],
      "source": [
        "board = [['']*3 for _ in range(3)]\n",
        "board[0][0] = \"X\"\n",
        "board\n"
      ]
    },
    {
      "cell_type": "markdown",
      "metadata": {},
      "source": [
        "\n"
      ]
    },
    {
      "cell_type": "markdown",
      "metadata": {},
      "source": [
        "### \u25b6 The sticky output function\n",
        "1\\.\n",
        "\n"
      ]
    },
    {
      "cell_type": "code",
      "execution_count": null,
      "metadata": {
        "collapsed": true
      },
      "outputs": [
        {
          "data": {
            "text/plain": []
          },
          "output_type": "execute_result",
          "metadata": {},
          "execution_count": null
        }
      ],
      "source": [
        "funcs = []\n",
        "results = []\n",
        "for x in range(7):\n",
        "    def some_func():\n",
        "        return x\n",
        "    funcs.append(some_func)\n",
        "    results.append(some_func())  # Ch\u00fa \u00fd l\u1eddi g\u1ecdi h\u00e0m \u1edf \u0111\u00e2y\n",
        "\n",
        "funcs_results = [func() for func in funcs]\n"
      ]
    },
    {
      "cell_type": "markdown",
      "metadata": {},
      "source": [
        "\n",
        "**k\u1ebft qu\u1ea3:**\n",
        "\n"
      ]
    },
    {
      "cell_type": "code",
      "execution_count": null,
      "metadata": {
        "collapsed": true
      },
      "outputs": [
        {
          "data": {
            "text/plain": [
              "[0, 1, 2, 3, 4, 5, 6]\n"
            ]
          },
          "output_type": "execute_result",
          "metadata": {},
          "execution_count": null
        }
      ],
      "source": [
        "results\n"
      ]
    },
    {
      "cell_type": "code",
      "execution_count": null,
      "metadata": {
        "collapsed": true
      },
      "outputs": [
        {
          "data": {
            "text/plain": [
              "[6, 6, 6, 6, 6, 6, 6]\n"
            ]
          },
          "output_type": "execute_result",
          "metadata": {},
          "execution_count": null
        }
      ],
      "source": [
        "funcs_results\n"
      ]
    },
    {
      "cell_type": "markdown",
      "metadata": {},
      "source": [
        "Ngay c\u1ea3 khi c\u00e1c gi\u00e1 tr\u1ecb `x` kh\u00e1c nhau trong m\u1ecdi v\u00f2ng l\u1eb7p tr\u01b0\u1edbc khi \u0111\u1eb7t `some_func` v\u00e0o trong danh s\u00e1ch `funcs`, t\u1ea5t c\u1ea3 c\u00e1c h\u00e0m \u0111\u1ec1u tr\u1ea3 v\u1ec1 6.\n",
        "\n",
        "2\\.\n",
        "\n"
      ]
    },
    {
      "cell_type": "code",
      "execution_count": null,
      "metadata": {
        "collapsed": true
      },
      "outputs": [
        {
          "data": {
            "text/plain": [
              "[512, 512, 512, 512, 512, 512, 512, 512, 512, 512]\n"
            ]
          },
          "output_type": "execute_result",
          "metadata": {},
          "execution_count": null
        }
      ],
      "source": [
        "powers_of_x = [lambda x: x**i for i in range(10)]\n",
        "[f(2) for f in powers_of_x]\n"
      ]
    },
    {
      "cell_type": "markdown",
      "metadata": {},
      "source": [
        "\n"
      ]
    },
    {
      "cell_type": "markdown",
      "metadata": {},
      "source": [
        "#### \ud83d\udca1 L\u00fd gi\u1ea3i\n",
        "\n",
        "- Khi \u0111\u1ecbnh nghia m\u1ed9t h\u00e0m b\u00ean trong m\u1ed9t v\u00f2ng l\u1eb7p, v\u00f2ng l\u1eb7p c\u00f3 bi\u1ebfn l\u1eb7p \u0111\u01b0\u1ee3c s\u1eed d\u1ee5ng trong th\u00e2n h\u00e0m, closure c\u1ee7a h\u00e0m n\u00e0y \u0111\u01b0\u1ee3c gi\u01a1i h\u1ea1n cho bi\u1ebfn, ch\u01b0 kh\u00f4ng ph\u1ea3i l\u00e0 gi\u00e1 tr\u1ecb. V\u00ec v\u1eady t\u1ea5t c\u1ea3 c\u00e1c ham s\u1eed d\u1ee5ng gi\u00e1 tr\u1ecb cu\u1ed1i cung \u0111\u01b0\u1ee3c g\u00e1n cho bi\u1ebfn n\u00e0y \u0111\u1ec3 th\u1ef1c hi\u1ec7n t\u00ednh to\u00e1n. \u0110\u1ec3 r\u00f5 h\u01a1n ta th\u1ea5y \u0111\u01b0\u1ee3c r\u1eb1ng bi\u1ebfn l\u1eb7p `x` (v\u00e0 gi\u00e1 tr\u1ecb c\u1ee7a cung c\u1ee7a n\u00f3 nh\u1eadn \u0111\u01b0\u1ee3c l\u00e0 `6`) trong v\u00ed d\u1ee5 th\u1ee9 nh\u1ea5t \u0111\u01b0\u1ee3c s\u1eed d\u1ee5ng cho t\u1ea5t c\u1ea3 c\u00e1c h\u00e0m `func()`, h\u00e0m n\u00e0y s\u1ebd lu\u00f4n tr\u1ea3 v\u1ec1 gi\u00e1 tr\u1ecb l\u00e0 `6` \n",
        "\n",
        "- \u0110\u1ec3 th\u1ef1c hi\u1ec7n \u0111\u01b0\u1ee3c t\u00ednh to\u00e1n mong mu\u1ed1n b\u1ea1n c\u00f3 th\u1ec3 truy\u1ec1n bi\u1ebfn l\u1eb7p nh\u01b0 l\u00e0 bi\u1ebfn \u0111\u01b0\u1ee3c \u0111\u1eb7t t\u00ean (named variable) cho h\u00e0m. **Sao m\u00e0 n\u00f3 l\u1ea1i ch\u1ea1y \u0111\u00fang \u0111\u01b0\u1ee3c?** \u1edfi v\u00ec vi\u1ec7c truy\u1ec1n bi\u1ebfn nh\u01b0 v\u1eady s\u1ebd \u0111\u1ecbnh ngh\u0129a l\u1ea1i bi\u1ebfn nay b\u00ean trong ph\u1ea1m vi c\u1ee7a h\u00e0m.\n",
        "\n"
      ]
    },
    {
      "cell_type": "code",
      "execution_count": null,
      "metadata": {
        "collapsed": true
      },
      "outputs": [
        {
          "data": {
            "text/plain": []
          },
          "output_type": "execute_result",
          "metadata": {},
          "execution_count": null
        }
      ],
      "source": [
        "    funcs = []\n",
        "    for x in range(7):\n",
        "        def some_func(x=x):\n",
        "            return x\n",
        "        funcs.append(some_func)\n"
      ]
    },
    {
      "cell_type": "markdown",
      "metadata": {},
      "source": [
        "\n",
        "    **K\u1ebft qu\u1ea3:**\n"
      ]
    },
    {
      "cell_type": "code",
      "execution_count": null,
      "metadata": {
        "collapsed": true
      },
      "outputs": [
        {
          "data": {
            "text/plain": [
              "    [0, 1, 2, 3, 4, 5, 6]\n"
            ]
          },
          "output_type": "execute_result",
          "metadata": {},
          "execution_count": null
        }
      ],
      "source": [
        "    funcs_results = [func() for func in funcs]\n",
        "    funcs_results\n"
      ]
    },
    {
      "cell_type": "markdown",
      "metadata": {},
      "source": [
        "\n"
      ]
    },
    {
      "cell_type": "markdown",
      "metadata": {},
      "source": [
        "### \u25b6 B\u00e0i to\u00e1n con g\u00e0 v\u00e0 qu\u1ea3 tr\u1ee9ng *\n",
        "1\\.\n"
      ]
    },
    {
      "cell_type": "code",
      "execution_count": null,
      "metadata": {
        "collapsed": true
      },
      "outputs": [
        {
          "data": {
            "text/plain": [
              "True\n"
            ]
          },
          "output_type": "execute_result",
          "metadata": {},
          "execution_count": null
        }
      ],
      "source": [
        "isinstance(3, int)\n"
      ]
    },
    {
      "cell_type": "code",
      "execution_count": null,
      "metadata": {
        "collapsed": true
      },
      "outputs": [
        {
          "data": {
            "text/plain": [
              "True\n"
            ]
          },
          "output_type": "execute_result",
          "metadata": {},
          "execution_count": null
        }
      ],
      "source": [
        "isinstance(type, object)\n"
      ]
    },
    {
      "cell_type": "code",
      "execution_count": null,
      "metadata": {
        "collapsed": true
      },
      "outputs": [
        {
          "data": {
            "text/plain": [
              "True\n"
            ]
          },
          "output_type": "execute_result",
          "metadata": {},
          "execution_count": null
        }
      ],
      "source": [
        "isinstance(object, type)\n"
      ]
    },
    {
      "cell_type": "markdown",
      "metadata": {},
      "source": [
        "\n",
        "\u0110\u00e2u l\u00e0 l\u1edbp c\u01a1 b\u1ea3n cu\u1ed1i c\u00f9ng ? C\u00f2n nhi\u1ec1u th\u1ee9 g\u00e2y kh\u00f3 hi\u1ec3u h\u01a1n n\u1eefa sau \u0111\u00e2y\n",
        "\n",
        "2\\. \n",
        "\n"
      ]
    },
    {
      "cell_type": "code",
      "execution_count": null,
      "metadata": {
        "collapsed": true
      },
      "outputs": [
        {
          "data": {
            "text/plain": [
              "False\n"
            ]
          },
          "output_type": "execute_result",
          "metadata": {},
          "execution_count": null
        }
      ],
      "source": [
        "class A: pass\n",
        "isinstance(A, A)\n"
      ]
    },
    {
      "cell_type": "code",
      "execution_count": null,
      "metadata": {
        "collapsed": true
      },
      "outputs": [
        {
          "data": {
            "text/plain": [
              "True\n"
            ]
          },
          "output_type": "execute_result",
          "metadata": {},
          "execution_count": null
        }
      ],
      "source": [
        "isinstance(type, type)\n"
      ]
    },
    {
      "cell_type": "code",
      "execution_count": null,
      "metadata": {
        "collapsed": true
      },
      "outputs": [
        {
          "data": {
            "text/plain": [
              "True\n"
            ]
          },
          "output_type": "execute_result",
          "metadata": {},
          "execution_count": null
        }
      ],
      "source": [
        "isinstance(object, object)\n"
      ]
    },
    {
      "cell_type": "markdown",
      "metadata": {},
      "source": [
        "\n",
        "3\\.\n",
        "\n"
      ]
    },
    {
      "cell_type": "code",
      "execution_count": null,
      "metadata": {
        "collapsed": true
      },
      "outputs": [
        {
          "data": {
            "text/plain": [
              "True\n"
            ]
          },
          "output_type": "execute_result",
          "metadata": {},
          "execution_count": null
        }
      ],
      "source": [
        "issubclass(int, object)\n"
      ]
    },
    {
      "cell_type": "code",
      "execution_count": null,
      "metadata": {
        "collapsed": true
      },
      "outputs": [
        {
          "data": {
            "text/plain": [
              "True\n"
            ]
          },
          "output_type": "execute_result",
          "metadata": {},
          "execution_count": null
        }
      ],
      "source": [
        "issubclass(type, object)\n"
      ]
    },
    {
      "cell_type": "code",
      "execution_count": null,
      "metadata": {
        "collapsed": true
      },
      "outputs": [
        {
          "data": {
            "text/plain": [
              "False\n"
            ]
          },
          "output_type": "execute_result",
          "metadata": {},
          "execution_count": null
        }
      ],
      "source": [
        "issubclass(object, type)\n"
      ]
    },
    {
      "cell_type": "markdown",
      "metadata": {},
      "source": [
        "\n",
        "\n"
      ]
    },
    {
      "cell_type": "markdown",
      "metadata": {},
      "source": [
        "#### \ud83d\udca1 Gi\u1ea3i th\u00edch\n",
        "\n",
        "- `type` l\u00e0 m\u1ed9t [metaclass](https://realpython.com/python-metaclasses/) trong Python.\n",
        "- **M\u1ecdi th\u1ee9** \u0111\u1ec1u l\u00e0 m\u1ed9t \u0111\u1ed1i t\u01b0\u1ee3ng `object` trong Python, bao g\u1ed3m c\u1ea3 c\u00e1c l\u1edbp (classes) c\u0169ng nh\u01b0 l\u00e0 c\u00e1c hi\u1ec7n th\u1ef1c c\u1ee7a ch\u00fang (instances).\n",
        "- L\u1edbp `type` l\u00e0 metaclass c\u1ee7a l\u1edbp `object`, do \u0111\u00f3 m\u1ecdi l\u1edbp (g\u1ed3m c\u1ea3 `type`) th\u1eeba h\u01b0\u1edfng tr\u1ef1c ti\u1ebfp hay gi\u00e1n ti\u1ebfp t\u1eeb `object`.\n",
        "- Kh\u00f4ng c\u00f3 m\u1ed9t l\u1edbp n\u00e0o n\u1eb1m gi\u1eefa l\u1edbp `object` v\u00e0 `type`. V\u1ea5n \u0111\u1ec1 \u0111\u1ed1i v\u1edbi c\u00e1c \u0111o\u1ea1n m\u00e3 ph\u00eda tr\u00ean n\u1eb1m \u1edf c\u00e1ch ta t\u00ecm c\u00e1c m\u1ed1i quan h\u1ec7 gi\u1eefa c\u00e1c l\u1edbp trong Python (d\u00f9ng `issubclass` v\u00e0 `isinstance`). M\u1ed7i quan h\u1ec7 gi\u1eefa `object` v\u00e0 `type` kh\u00f4ng th\u1ec3 \u0111\u01b0\u1ee3c \u0111\u1ecbnh ngh\u0129a trong Python \u0111\u01a1n thu\u1ea7n. Ch\u00ednh x\u00e1c h\u01a1n, ngh\u0129a l\u00e0,\n",
        "    + L\u1edbp A l\u00e0 m\u1ed9t hi\u1ec7n th\u1ef1c c\u1ee7a l\u1edbp B, v\u00e0 l\u1edbp B l\u00e0 m\u1ed9t hi\u1ec7n th\u1ef1c c\u1ee7a l\u1edbp A.  \n",
        "    + L\u1edbp A l\u00e0 m\u1ed9t hi\u1ec7n th\u1ef1c c\u1ee7a ch\u00ednh n\u00f3.\n",
        "- C\u00e1c m\u1ed1i quan h\u1ec7 gi\u1eefa `object` v\u00e0 `type` (\u1edf c\u1ea3 hai c\u1ea5p \u0111\u1ed9 hi\u1ec7n th\u1ef1c c\u0169ng nh\u01b0 ch\u00ednh l\u1edbp \u0111\u00f3) t\u1ed3n t\u1ea1i l\u00e0 do vi\u1ec7c \"\u0103n gian\" khi tri\u1ec3n khai c\u00e1c l\u1edbp n\u00e0y.\n"
      ]
    },
    {
      "cell_type": "markdown",
      "metadata": {},
      "source": [
        "### \u25b6 C\u00e1c m\u1ed1i quan h\u1ec7 c\u1ee7a l\u01a1p con (subclass)\n",
        "**K\u1ebft qu\u1ea3:**\n"
      ]
    },
    {
      "cell_type": "code",
      "execution_count": null,
      "metadata": {
        "collapsed": true
      },
      "outputs": [
        {
          "data": {
            "text/plain": [
              "True\n"
            ]
          },
          "output_type": "execute_result",
          "metadata": {},
          "execution_count": null
        }
      ],
      "source": [
        "from collections import Hashable\n",
        "issubclass(list, object)\n"
      ]
    },
    {
      "cell_type": "code",
      "execution_count": null,
      "metadata": {
        "collapsed": true
      },
      "outputs": [
        {
          "data": {
            "text/plain": [
              "True\n"
            ]
          },
          "output_type": "execute_result",
          "metadata": {},
          "execution_count": null
        }
      ],
      "source": [
        "issubclass(object, Hashable)\n"
      ]
    },
    {
      "cell_type": "code",
      "execution_count": null,
      "metadata": {
        "collapsed": true
      },
      "outputs": [
        {
          "data": {
            "text/plain": [
              "False\n"
            ]
          },
          "output_type": "execute_result",
          "metadata": {},
          "execution_count": null
        }
      ],
      "source": [
        "issubclass(list, Hashable)\n"
      ]
    },
    {
      "cell_type": "markdown",
      "metadata": {},
      "source": [
        "\n",
        "M\u1ed1i quan h\u1ec7 gi\u1eefa c\u00e1c l\u1edbp con c\u00f3 t\u00ednh b\u1eafc c\u1ea7u kh\u00f4ng?(v\u00ed d\u1ee5, n\u1ebfu `A` l\u00e0 l\u1edbp con c\u1ee7a `B`, v\u00e0 `B` l\u00e0 l\u1edbp con c\u1ee7a `C`, v\u1eady `A` _n\u00ean_ l\u00e0 l\u1edbp con c\u1ee7a `C`)\n",
        "\n"
      ]
    },
    {
      "cell_type": "markdown",
      "metadata": {},
      "source": [
        "#### \ud83d\udca1 L\u00fd gi\u1ea3i:\n",
        "\n",
        "* Trong Python m\u1ed1i quan h\u1ec7 gi\u1eefa c\u00e1 l\u1edbp con kh\u00f4ng nh\u1ea5t thi\u1ebft ph\u1ea3i mang t\u00ednh b\u1eafc c\u1ea7u. B\u1ea5t c\u1ee9 ai c\u0169ng \u0111\u01b0\u1ee3c ph\u00e9p \u0111\u1ecbnh ngh\u0129a m\u1ed9t l\u1edbp `__subclasscheck__` ri\u00eang, tu\u1ef3 \u00fd trong m\u1ed9t si\u00eau l\u1edbp (metaclass).\n",
        "* Khi `issubclass(cls, Hashable)` \u0111\u01b0\u1ee3c g\u1ecdi, n\u00f3 ch\u1ec9 t\u00ecm ph\u01b0\u01a1ng th\u1ee9c non-Falsey \"`__hash__`\"  trong `cls` ho\u1eb7c b\u1ea5t c\u01b0 th\u01b0 g\u00ec n\u00f3 th\u1eeba h\u01b0\u1edfng t\u1eeb \u0111\u00f3.\n",
        "* B\u1edfi v\u00ec `object` l\u00e0 m\u1ed9t \u0111\u1ed1i t\u01b0\u1ee3ng c\u00f3 th\u1ec3 b\u0103m (hashable), c\u00f2n `list` thi kh\u00f4ng, n\u00ean n\u00f3 ph\u00e1 v\u1ee1 t\u00ednh b\u1eafc c\u1ea7u.\n",
        "* Gi\u1ea3i th\u00edch chi ti\u1ebft c\u00f3 th\u1ec3 xem [\u1edf \u0111\u00e2y](https://www.naftaliharris.com/blog/python-subclass-intransitivity/).\n",
        "\n"
      ]
    },
    {
      "cell_type": "markdown",
      "metadata": {},
      "source": [
        "### \u25b6 All-true-ation *\n"
      ]
    },
    {
      "cell_type": "code",
      "execution_count": null,
      "metadata": {
        "collapsed": true
      },
      "outputs": [
        {
          "data": {
            "text/plain": [
              "True\n"
            ]
          },
          "output_type": "execute_result",
          "metadata": {},
          "execution_count": null
        }
      ],
      "source": [
        "all([True, True, True])\n"
      ]
    },
    {
      "cell_type": "code",
      "execution_count": null,
      "metadata": {
        "collapsed": true
      },
      "outputs": [
        {
          "data": {
            "text/plain": [
              "False\n",
              "\n"
            ]
          },
          "output_type": "execute_result",
          "metadata": {},
          "execution_count": null
        }
      ],
      "source": [
        "all([True, True, False])\n"
      ]
    },
    {
      "cell_type": "code",
      "execution_count": null,
      "metadata": {
        "collapsed": true
      },
      "outputs": [
        {
          "data": {
            "text/plain": [
              "True\n"
            ]
          },
          "output_type": "execute_result",
          "metadata": {},
          "execution_count": null
        }
      ],
      "source": [
        "all([])\n"
      ]
    },
    {
      "cell_type": "code",
      "execution_count": null,
      "metadata": {
        "collapsed": true
      },
      "outputs": [
        {
          "data": {
            "text/plain": [
              "False\n"
            ]
          },
          "output_type": "execute_result",
          "metadata": {},
          "execution_count": null
        }
      ],
      "source": [
        "all([[]])\n"
      ]
    },
    {
      "cell_type": "code",
      "execution_count": null,
      "metadata": {
        "collapsed": true
      },
      "outputs": [
        {
          "data": {
            "text/plain": [
              "True\n"
            ]
          },
          "output_type": "execute_result",
          "metadata": {},
          "execution_count": null
        }
      ],
      "source": [
        "all([[[]]])\n"
      ]
    },
    {
      "cell_type": "markdown",
      "metadata": {},
      "source": [
        "\n",
        "L\u00fd do v\u00ec sao m\u00e0 l\u00fac th\u00ec True m\u00e0 l\u00fac th\u00ec l\u1ea1i False\n",
        "\n"
      ]
    },
    {
      "cell_type": "markdown",
      "metadata": {},
      "source": [
        "#### \ud83d\udca1 Gi\u1ea3i th\u00edch:\n",
        "\n",
        "- H\u00e0m `all` t\u01b0\u01a1ng \u0111\u01b0\u01a1ng nh\u01b0 \u0111o\u1ea1n m\u00e3 d\u01b0\u1edbi\n",
        "\n",
        "- ```py\n",
        "  def all(iterable):\n",
        "      for element in iterable:\n",
        "          if not element:\n",
        "              return False\n",
        "      return True\n",
        "  ```\n",
        "\n",
        "- `all([])` tr\u1ea3 v\u1ec1 `True` b\u1edfi v\u00ec danh s\u00e1ch nay r\u1ed7ng. \n",
        "- `all([[]])` tr\u1ea3 v\u1ec1 `False` b\u1edfi v\u00ec `not []` l\u00e0 `True` t\u01b0\u01a1ng \u0111\u01b0\u01a1ng v\u1edbi `not False` b\u1edfi v\u00ec danh s\u00e1ch ph\u00eda trong r\u1ed7ng.\n",
        "- `all([[[]]])` v\u00e0 c\u00e1c bi\u1ebfn th\u1ec3 \u0111\u1ec7 quy cao h\u01a1n lu\u00f4n tr\u1ea3 v\u1ec1 `True` b\u1edfi v\u00ec `not [[]]`, `not [[[]]]`, t\u01b0\u01a1ng \u0111\u01b0\u01a1ng v\u1edbi`not True`.\n"
      ]
    },
    {
      "cell_type": "markdown",
      "metadata": {},
      "source": [
        "### \u25b6 D\u1ea5u ph\u1ea9y l\u1ea1 l\u00f9ng\n",
        "**K\u1ebft qu\u1ea3 (< 3.6):**\n",
        "\n"
      ]
    },
    {
      "cell_type": "code",
      "execution_count": null,
      "metadata": {
        "collapsed": true
      },
      "outputs": [
        {
          "data": {
            "text/plain": [
              "  File \"<stdin>\", line 1\n",
              "    def h(x, **kwargs,):\n",
              "                     ^\n",
              "SyntaxError: invalid syntax (L\u1ed7i c\u00fa ph\u00e1p kh\u00f4ng h\u1ee3p l\u1ec7)\n",
              "\n"
            ]
          },
          "output_type": "execute_result",
          "metadata": {},
          "execution_count": null
        }
      ],
      "source": [
        "def f(x, y,):\n",
        "     print(x, y)\n",
        "\n",
        "def g(x=4, y=5,):\n",
        "     print(x, y)\n",
        "\n",
        "def h(x, **kwargs,):\n"
      ]
    },
    {
      "cell_type": "code",
      "execution_count": null,
      "metadata": {
        "collapsed": true
      },
      "outputs": [
        {
          "data": {
            "text/plain": [
              "  File \"<stdin>\", line 1\n",
              "    def h(*args,):\n",
              "                ^\n",
              "SyntaxError: invalid syntax (L\u1ed7i c\u00fa ph\u00e1p kh\u00f4ng h\u1ee3p l\u1ec7)\n"
            ]
          },
          "output_type": "execute_result",
          "metadata": {},
          "execution_count": null
        }
      ],
      "source": [
        "def h(*args,):\n"
      ]
    },
    {
      "cell_type": "markdown",
      "metadata": {},
      "source": [
        "\n"
      ]
    },
    {
      "cell_type": "markdown",
      "metadata": {},
      "source": [
        "#### \ud83d\udca1 L\u00fd gi\u1ea3i:\n",
        "\n",
        "- D\u1ea5u ph\u1ea9y n\u1eb1m \u1edf cu\u1ed1i danh s\u00e1ch c\u00e1c tham s\u1ed1 c\u1ee7a m\u1ed9t h\u00e0m kh\u00f4ng ph\u1ea3i bao gi\u1edd c\u0169ng h\u1ee3p l\u1ec7.\n",
        "-  Trong Python, danh s\u00e1ch tham s\u1ed1 \u0111\u01b0\u1ee3c \u0111\u1ecbnh ngh\u0129a b\u1edfi m\u1ed9t ph\u1ea7n c\u00e1c d\u1ea5u ph\u1ea9y n\u1eb1m ph\u00eda tr\u01b0\u1edbc v\u00e0 m\u1ed9t ph\u1ea7n c\u00e1c d\u1ea5y ph\u1ea9y n\u1eb1m ph\u00eda sau. \u0110i\u1ec1u nay m\u00e2u thu\u1eabn v\u1edbi c\u00e1c t\u00ecnh hu\u1ed1ng \u1edf \u0111\u00f3 m\u1ed9t d\u1ea5u ph\u1ea9y b\u1ecb m\u1eafc k\u1eb9t \u1edf gi\u1eefa danh s\u00e1ch, v\u00e0 ch\u1eb3ng c\u00f3 m\u1ed9t lu\u1eadt n\u00e0o ch\u1ea5p nh\u1eadn \u0111i\u1ec1u n\u00e0y c\u1ea3.\n",
        "-  **Ch\u00fa \u00fd:** V\u1ea5n \u0111\u1ec1 v\u1ec1 d\u00e2u ph\u1ea9y \u1edf cu\u1ed1i  [\u0111\u00e3 \u0111\u01b0\u1ee3c s\u1eeda trong Python 3.6](https://bugs.python.org/issue9232). Th\u1ea3o lu\u1eadn [\u1edf \u0111\u00e2y](https://bugs.python.org/issue9232#msg248399) cung c\u1ea5p nh\u1eefng c\u00e1ch dung kh\u00e1c nhau c\u1ee7a d\u00e2y ph\u1ea9y \u1edf cu\u1ed1i.\n",
        "\n"
      ]
    },
    {
      "cell_type": "markdown",
      "metadata": {},
      "source": [
        "### \u25b6 Strings and the backslashes\n",
        "**K\u1ebft qu\u1ea3:**\n"
      ]
    },
    {
      "cell_type": "code",
      "metadata": {
        "collapsed": true
      },
      "execution_count": null,
      "outputs": [
        {
          "name": "stdout",
          "output_type": "stream",
          "text": [
            "\"\n",
            "\n"
          ]
        }
      ],
      "source": [
        "print(\"\\\"\")\n"
      ]
    },
    {
      "cell_type": "code",
      "metadata": {
        "collapsed": true
      },
      "execution_count": null,
      "outputs": [
        {
          "name": "stdout",
          "output_type": "stream",
          "text": [
            "\\\"\n",
            "\n"
          ]
        }
      ],
      "source": [
        "print(r\"\\\"\")\n"
      ]
    },
    {
      "cell_type": "code",
      "metadata": {
        "collapsed": true
      },
      "execution_count": null,
      "outputs": [
        {
          "name": "stdout",
          "output_type": "stream",
          "text": [
            "File \"<stdin>\", line 1\n",
            "    print(r\"\\\")\n",
            "              ^\n",
            "SyntaxError: EOL while scanning string literal\n",
            "\n"
          ]
        }
      ],
      "source": [
        "print(r\"\\\")\n"
      ]
    },
    {
      "cell_type": "code",
      "execution_count": null,
      "metadata": {
        "collapsed": true
      },
      "outputs": [
        {
          "data": {
            "text/plain": [
              "True\n"
            ]
          },
          "output_type": "execute_result",
          "metadata": {},
          "execution_count": null
        }
      ],
      "source": [
        "r'\\'' == \"\\\\'\"\n"
      ]
    },
    {
      "cell_type": "markdown",
      "metadata": {},
      "source": [
        "\n"
      ]
    },
    {
      "cell_type": "markdown",
      "metadata": {},
      "source": [
        "#### \ud83d\udca1 Gi\u1ea3i th\u00edch\n",
        "\n",
        "- Trong m\u1ed9t string th\u00f4ng th\u01b0\u1eddng, d\u1ea5u xuy\u1ec7c ng\u01b0\u1ee3c \u0111\u01b0\u1ee3c d\u00f9ng \u0111\u1ec3 \"escape\" c\u00e1c k\u00ed t\u1ef1 c\u00f3 m\u1ed9t \u00fd ngh\u0129a \u0111\u1eb7c bi\u1ec7t (nh\u01b0 l\u00e0 d\u1ea5u tr\u00edch d\u1eabn \u0111\u01a1n, d\u1ea5u tr\u00edch d\u1eabn k\u00e9p, va ch\u00ednh d\u1ea5u xuy\u1ec7c ng\u01b0\u1ee3c).\n"
      ]
    },
    {
      "cell_type": "code",
      "execution_count": null,
      "metadata": {
        "collapsed": true
      },
      "outputs": [
        {
          "data": {
            "text/plain": [
              "    'wt\"f'\n"
            ]
          },
          "output_type": "execute_result",
          "metadata": {},
          "execution_count": null
        }
      ],
      "source": [
        "    \"wt\\\"f\"\n"
      ]
    },
    {
      "cell_type": "markdown",
      "metadata": {},
      "source": [
        "- \u0110\u1ed1i v\u1edbi m\u1ed9t string th\u00f4 (raw string) (\u0111\u01b0\u1ee3c ch\u1ec9 \u0111\u1ecbnh b\u1edfi ti\u1ebfp \u0111\u1ea7u ng\u1eef `r`), d\u1ea5u xuy\u1ec7c ng\u01b0\u1ee3c.\n"
      ]
    },
    {
      "cell_type": "code",
      "execution_count": null,
      "metadata": {
        "collapsed": true
      },
      "outputs": [
        {
          "data": {
            "text/plain": [
              "    True\n"
            ]
          },
          "output_type": "execute_result",
          "metadata": {},
          "execution_count": null
        }
      ],
      "source": [
        "    r'wt\\\"f' == 'wt\\\\\"f'\n"
      ]
    },
    {
      "cell_type": "code",
      "execution_count": null,
      "metadata": {
        "collapsed": true
      },
      "outputs": [
        {
          "data": {
            "text/plain": [
              "    'wt\\\\\"f'\n",
              "\n"
            ]
          },
          "output_type": "execute_result",
          "metadata": {},
          "execution_count": null
        }
      ],
      "source": [
        "    print(repr(r'wt\\\"f')\n"
      ]
    },
    {
      "cell_type": "code",
      "execution_count": null,
      "metadata": {
        "collapsed": true
      },
      "outputs": [
        {
          "data": {
            "text/plain": [
              "\n"
            ]
          },
          "output_type": "execute_result",
          "metadata": {},
          "execution_count": null
        }
      ],
      "source": [
        "    print(\"\\n\")\n"
      ]
    },
    {
      "cell_type": "code",
      "execution_count": null,
      "metadata": {
        "collapsed": true
      },
      "outputs": [
        {
          "data": {
            "text/plain": [
              "    '\\\\\\\\n'\n"
            ]
          },
          "output_type": "execute_result",
          "metadata": {},
          "execution_count": null
        }
      ],
      "source": [
        "    print(r\"\\\\n\")\n"
      ]
    },
    {
      "cell_type": "markdown",
      "metadata": {},
      "source": [
        "- C\u00f3 ngh\u0129a l\u00e0 khi m\u1ed9t tr\u00ecnh ph\u00e2n t\u00edch c\u00fa ph\u00e1p g\u1eb7p m\u1ed9t d\u1ea5u xuy\u1ec7c ng\u01b0\u1ee3c tron m\u1ed9t string th\u00f4, tr\u00ecnh n\u00e0y mong \u0111\u1ee3i m\u1ed9t k\u00ed t\u1ef1 kh\u00e1c ph\u00eda sau n\u00f3. V\u00e0 tron tr\u01b0\u1eddng h\u1ee3p c\u1ee7a ch\u00fang ta `print(r\"\\\")`, d\u1ea5u xuy\u1ec7c ng\u01b0\u1ee3c v\u00f4 hi\u1ec7u ho\u00e1 (escape) d\u1ea5u tr\u00edch d\u1eabn \u1edf \u0111u\u00f4i, \u0111\u1ec3 l\u1ea1i cho tr\u00ecnh th\u00f4ng d\u1ecbch x\u1eed l\u00fd m\u00e0 kh\u00f4ng c\u00f3 d\u1ea5u tr\u00edch d\u1eabn k\u1ebft th\u00fac (do \u0111\u00f3 g\u00e2y ra l\u1ed7i v\u1ec1 c\u00fa ph\u00e1p `SyntaxError`). \u0110\u00f3 l\u00e0 l\u00fd do t\u1ea1i  sao c\u00e1c d\u1ea5u xuy\u1ec7c ng\u01b0\u1ee3c kh\u00f4ng ch\u1ea1y \u0111\u01b0\u1ee3c khi \u1edf cu\u1ed1i m\u1ed9t string th\u00f4.\n",
        "\n"
      ]
    },
    {
      "cell_type": "markdown",
      "metadata": {},
      "source": [
        "### \u25b6 not knot!\n"
      ]
    },
    {
      "cell_type": "code",
      "execution_count": null,
      "metadata": {
        "collapsed": true
      },
      "outputs": [
        {
          "data": {
            "text/plain": []
          },
          "output_type": "execute_result",
          "metadata": {},
          "execution_count": null
        }
      ],
      "source": [
        "x = True\n",
        "y = False\n"
      ]
    },
    {
      "cell_type": "markdown",
      "metadata": {},
      "source": [
        "\n",
        "**K\u1ebft qu\u1ea3:**\n"
      ]
    },
    {
      "cell_type": "code",
      "execution_count": null,
      "metadata": {
        "collapsed": true
      },
      "outputs": [
        {
          "data": {
            "text/plain": [
              "True\n"
            ]
          },
          "output_type": "execute_result",
          "metadata": {},
          "execution_count": null
        }
      ],
      "source": [
        "not x == y\n"
      ]
    },
    {
      "cell_type": "code",
      "execution_count": null,
      "metadata": {
        "collapsed": true
      },
      "outputs": [
        {
          "data": {
            "text/plain": [
              "  File \"<input>\", line 1\n",
              "    x == not y\n",
              "           ^\n",
              "SyntaxError: invalid syntax (L\u1ed7i v\u1ec1 c\u00fa ph\u00e1p)\n"
            ]
          },
          "output_type": "execute_result",
          "metadata": {},
          "execution_count": null
        }
      ],
      "source": [
        "x == not y\n"
      ]
    },
    {
      "cell_type": "markdown",
      "metadata": {},
      "source": [
        "\n"
      ]
    },
    {
      "cell_type": "markdown",
      "metadata": {},
      "source": [
        "#### \ud83d\udca1 Gi\u1ea3i th\u00edch:\n",
        "\n",
        "* Th\u1ee9 t\u1ef1 \u01b0u ti\u00ean c\u1ee7a c\u00e1c ph\u00e9p to\u00e1n \u1ea3nh h\u01b0\u1edfng t\u01a1i c\u00e1ch m\u1ed9t c\u00e2u l\u1ec7nh \u0111\u01b0\u1ee3c th\u1ef1c thi, v\u00e0 ph\u00e9p `==` c\u00f3 \u0111\u1ed9 \u01b0u ti\u00ean cao h\u01a1n ph\u00e9p `not` trong Python.\n",
        "* V\u00ec v\u1eady `not x == y` t\u01b0\u01a1ng \u0111\u01b0\u01a1ng v\u1edbi `not (x == y)` r\u1ed3i t\u01b0\u01a1ng \u0111\u01b0\u01a1ng v\u1edbi `not (True == False)` v\u00e0 k\u1ebft qu\u1ea3 l\u00e0`True`.\n",
        "* Nh\u01b0ng `x == not y` g\u00e2y ra l\u1ed7i c\u00fa ph\u00e1p `SyntaxError` b\u1edfi v\u00ec Python ngh\u0129 r\u1eb1ng n\u00f3 s\u1ebd th\u1ef1c hi\u1ec7n `(x == not) y` ch\u1ee9 kh\u00f4ng ph\u1ea3i l\u00e0 `x == (not y)` do \u0111\u00f3 b\u1ea1n m\u1edbi g\u1eb7p l\u1ed7i v\u1ec1 c\u00fa ph\u00e1p.\n",
        "* Tr\u00ecnh ph\u00e2n t\u00edch c\u00fa ph\u00e1p mong \u0111\u1ee3i `not` l\u00e0 m\u1ed9t ph\u1ea7n c\u1ee7a ph\u00e9p to\u00e1n `not in` (b\u1edfi v\u00ec c\u1ea3  `==` v\u00e0 `not in` c\u00f3 c\u00f9ng \u0111\u1ed9 \u01b0u ti\u00ean), nh\u01b0ng do trong tr\u01b0\u01a1ng h\u1ee3p c\u1ee7a ch\u00fang ta, tr\u00ecnh x\u1eed l\u00fd kh\u00f4ng t\u00ecm th\u1ea5y `in` \u0111\u1eb1ng sau `not`, n\u00ean n\u00f3 g\u00e2y ra `SyntaxError`.\n",
        "\n"
      ]
    },
    {
      "cell_type": "markdown",
      "metadata": {},
      "source": [
        "### \u25b6 C\u00e1c chu\u1ed7i r\u01b0\u1ee1i tr\u00edch d\u1eabn\n",
        "**K\u1ebft qu\u1ea3:**\n"
      ]
    },
    {
      "cell_type": "code",
      "metadata": {
        "collapsed": true
      },
      "execution_count": null,
      "outputs": [
        {
          "name": "stdout",
          "output_type": "stream",
          "text": [
            "wtfpython\n"
          ]
        }
      ],
      "source": [
        "print('wtfpython''')\n"
      ]
    },
    {
      "cell_type": "code",
      "metadata": {
        "collapsed": true
      },
      "execution_count": null,
      "outputs": [
        {
          "name": "stdout",
          "output_type": "stream",
          "text": [
            "wtfpython\n"
          ]
        }
      ],
      "source": [
        "print(\"wtfpython\"\"\")\n"
      ]
    },
    {
      "cell_type": "code",
      "execution_count": null,
      "metadata": {
        "collapsed": true
      },
      "outputs": [
        {
          "data": {
            "text/plain": [
              "  File \"<input>\", line 3\n",
              "    print(\"\"\"wtfpython\")\n",
              "                        ^\n",
              "SyntaxError: EOF while scanning triple-quoted string literal (L\u1ed7i c\u00fa ph\u00e1p khi s\u1eed l\u00fd chu\u1ed7i \u0111\u01b0\u1ee3c bao b\u1edfi d\u1ea5u tr\u00edch d\u1eabn)\n"
            ]
          },
          "output_type": "execute_result",
          "metadata": {},
          "execution_count": null
        }
      ],
      "source": [
        "# C\u00e1c c\u00e2u l\u1ec7nh ph\u00eda d\u01b0\u1edbi g\u1eb7p l\u1ed7i c\u00fa ph\u00e1p `SyntaxError` khi th\u1ef1c thi\n",
        "# print('''wtfpython')\n",
        "# print(\"\"\"wtfpython\")\n"
      ]
    },
    {
      "cell_type": "markdown",
      "metadata": {},
      "source": [
        "\n"
      ]
    },
    {
      "cell_type": "markdown",
      "metadata": {},
      "source": [
        "#### \ud83d\udca1 Gi\u1ea3i th\u00edch:\n",
        "+ Python h\u1ed7 tr\u1ee3 ng\u1ea7m [gh\u00e9p chu\u1ed7i](https://docs.python.org/2/reference/lexical_analysis.html#string-literal-concatenation), v\u00ed d\u1ee5,\n",
        "  ```\n",
        "  >>> print(\"wtf\" \"python\")\n",
        "  wtfpython\n",
        "  >>> print(\"wtf\" \"\") # or \"wtf\"\"\"\n",
        "  wtf\n",
        "  ```\n",
        "\n",
        "+ `'''` v\u00e0 `\"\"\"` l\u00e0 c\u00e1c k\u00ed hi\u1ec7u ph\u00e2n c\u00e1ch chu\u1ed7i trong Python, ch\u00fang t\u1ea1o ra l\u1ed7i SyntaxError b\u1edfi v\u00ec tr\u00ecnh th\u00f4ng d\u1ecbch Python ch\u01a1 \u0111\u1ee3i k\u00ed hi\u1ec7u ph\u00e2n c\u00e1ch k\u1ebft th\u00fac khi n\u00f3 d\u00f2 t\u00ecm chu\u1ed7i k\u00ed t\u1ef1 tr\u00edch d\u1eabn c\u00f3 ba d\u1ea5u nh\u00e1y .\n"
      ]
    },
    {
      "cell_type": "markdown",
      "metadata": {},
      "source": [
        "### \u25b6 C\u00f3 g\u00ec sai sai v\u1edbi c\u00e1c gi\u00e1 tr\u1ecb lu\u1eadn l\u00fd (booleans)?\n",
        "1\\.\n",
        "\n"
      ]
    },
    {
      "cell_type": "code",
      "execution_count": null,
      "metadata": {
        "collapsed": true
      },
      "outputs": [
        {
          "data": {
            "text/plain": []
          },
          "output_type": "execute_result",
          "metadata": {},
          "execution_count": null
        }
      ],
      "source": [
        "# M\u1ed9t v\u00ed d\u1ee5 t\u00ednh to\u00e1n s\u1ed1 l\u01b0\u1ee3ng c\u00e1c gi\u00e1 tr\u1ecb lu\u1eadn l\u00fd v\u00e0\n",
        "# s\u00f4 nguy\u00ean trong m\u1ed9t danh s\u00e1ch l\u1eabn l\u1ed9n c\u00e1c ki\u1ec3u ph\u1ea7n t\u1eed kh\u00e1c nhau.\n",
        "mixed_list = [False, 1.0, \"some_string\", 3, True, [], False]\n",
        "integers_found_so_far = 0\n",
        "booleans_found_so_far = 0\n",
        "\n",
        "for item in mixed_list:\n",
        "    if isinstance(item, int):\n",
        "        integers_found_so_far += 1\n",
        "    elif isinstance(item, bool):\n",
        "        booleans_found_so_far += 1\n"
      ]
    },
    {
      "cell_type": "markdown",
      "metadata": {},
      "source": [
        "\n",
        "**K\u1ebft qu\u1ea3:**\n"
      ]
    },
    {
      "cell_type": "code",
      "execution_count": null,
      "metadata": {
        "collapsed": true
      },
      "outputs": [
        {
          "data": {
            "text/plain": [
              "4\n"
            ]
          },
          "output_type": "execute_result",
          "metadata": {},
          "execution_count": null
        }
      ],
      "source": [
        "integers_found_so_far\n"
      ]
    },
    {
      "cell_type": "code",
      "execution_count": null,
      "metadata": {
        "collapsed": true
      },
      "outputs": [
        {
          "data": {
            "text/plain": [
              "0\n"
            ]
          },
          "output_type": "execute_result",
          "metadata": {},
          "execution_count": null
        }
      ],
      "source": [
        "booleans_found_so_far\n"
      ]
    },
    {
      "cell_type": "markdown",
      "metadata": {},
      "source": [
        "\n",
        "\n",
        "2\\.\n"
      ]
    },
    {
      "cell_type": "code",
      "execution_count": null,
      "metadata": {
        "collapsed": true
      },
      "outputs": [
        {
          "data": {
            "text/plain": [
              "'wtf'\n"
            ]
          },
          "output_type": "execute_result",
          "metadata": {},
          "execution_count": null
        }
      ],
      "source": [
        "some_bool = True\n",
        "\"wtf\" * some_bool\n"
      ]
    },
    {
      "cell_type": "code",
      "execution_count": null,
      "metadata": {
        "collapsed": true
      },
      "outputs": [
        {
          "data": {
            "text/plain": [
              "''\n"
            ]
          },
          "output_type": "execute_result",
          "metadata": {},
          "execution_count": null
        }
      ],
      "source": [
        "some_bool = False\n",
        "\"wtf\" * some_bool\n"
      ]
    },
    {
      "cell_type": "markdown",
      "metadata": {},
      "source": [
        "\n",
        "3\\.\n",
        "\n"
      ]
    },
    {
      "cell_type": "code",
      "execution_count": null,
      "metadata": {
        "collapsed": true
      },
      "outputs": [
        {
          "data": {
            "text/plain": []
          },
          "output_type": "execute_result",
          "metadata": {},
          "execution_count": null
        }
      ],
      "source": [
        "def tell_truth():\n",
        "    True = False\n",
        "    if True == False:\n",
        "        print(\"I have lost faith in truth!\")\n"
      ]
    },
    {
      "cell_type": "markdown",
      "metadata": {},
      "source": [
        "\n",
        "**K\u1ebft qu\u1ea3 (< 3.x):**\n",
        "\n"
      ]
    },
    {
      "cell_type": "code",
      "execution_count": null,
      "metadata": {
        "collapsed": true
      },
      "outputs": [
        {
          "data": {
            "text/plain": [
              "I have lost faith in truth!\n"
            ]
          },
          "output_type": "execute_result",
          "metadata": {},
          "execution_count": null
        }
      ],
      "source": [
        "tell_truth()\n"
      ]
    },
    {
      "cell_type": "markdown",
      "metadata": {},
      "source": [
        "\n"
      ]
    },
    {
      "cell_type": "markdown",
      "metadata": {},
      "source": [
        "#### \ud83d\udca1 L\u00fd gi\u1ea3i:\n",
        "\n",
        "* `bool` l\u00e0 l\u01a1p con c\u1ee7a `int` trong Python\n",
        "    \n"
      ]
    },
    {
      "cell_type": "code",
      "execution_count": null,
      "metadata": {
        "collapsed": true
      },
      "outputs": [
        {
          "data": {
            "text/plain": [
              "    True\n"
            ]
          },
          "output_type": "execute_result",
          "metadata": {},
          "execution_count": null
        }
      ],
      "source": [
        "    issubclass(bool, int)\n"
      ]
    },
    {
      "cell_type": "code",
      "execution_count": null,
      "metadata": {
        "collapsed": true
      },
      "outputs": [
        {
          "data": {
            "text/plain": [
              "    False\n"
            ]
          },
          "output_type": "execute_result",
          "metadata": {},
          "execution_count": null
        }
      ],
      "source": [
        "    issubclass(int, bool)\n"
      ]
    },
    {
      "cell_type": "markdown",
      "metadata": {},
      "source": [
        "    \n",
        "* V\u00e0 do v\u1eady, `True` v\u00e0 `False` l\u00e0 c\u00e1c hi\u1ec7n th\u1ef1c (instances) c\u1ee7a `int`\n"
      ]
    },
    {
      "cell_type": "code",
      "execution_count": null,
      "metadata": {
        "collapsed": true
      },
      "outputs": [
        {
          "data": {
            "text/plain": [
              "  True\n"
            ]
          },
          "output_type": "execute_result",
          "metadata": {},
          "execution_count": null
        }
      ],
      "source": [
        "  isinstance(True, int)\n"
      ]
    },
    {
      "cell_type": "code",
      "execution_count": null,
      "metadata": {
        "collapsed": true
      },
      "outputs": [
        {
          "data": {
            "text/plain": [
              "  True\n"
            ]
          },
          "output_type": "execute_result",
          "metadata": {},
          "execution_count": null
        }
      ],
      "source": [
        "  isinstance(False, int)\n"
      ]
    },
    {
      "cell_type": "markdown",
      "metadata": {},
      "source": [
        "\n",
        "* Gi\u00e1 tr\u1ecb d\u1ea1ng s\u1ed1 nguy\u00ean c\u1ee7a `True` l\u00e0 `1` v\u00e0 c\u1ee7a `False` l\u00e0 `0`.\n"
      ]
    },
    {
      "cell_type": "code",
      "execution_count": null,
      "metadata": {
        "collapsed": true
      },
      "outputs": [
        {
          "data": {
            "text/plain": [
              "  1\n"
            ]
          },
          "output_type": "execute_result",
          "metadata": {},
          "execution_count": null
        }
      ],
      "source": [
        "  int(True)\n"
      ]
    },
    {
      "cell_type": "code",
      "execution_count": null,
      "metadata": {
        "collapsed": true
      },
      "outputs": [
        {
          "data": {
            "text/plain": [
              "  0\n"
            ]
          },
          "output_type": "execute_result",
          "metadata": {},
          "execution_count": null
        }
      ],
      "source": [
        "  int(False)\n"
      ]
    },
    {
      "cell_type": "markdown",
      "metadata": {},
      "source": [
        "\n",
        "* Xem tr\u00ean [c\u00e2u tr\u1ea3 l\u1eddi] tr\u00ean StackOverflow(https://stackoverflow.com/a/8169049/4354153) \u0111\u1ec3 bi\u1ebft l\u00fd do.\n",
        "\n",
        "* L\u00fac \u0111\u1ea7u, Python kh\u00f4ng c\u00f3 ki\u1ec3u `bool` (ng\u01b0\u1eddi ta dung 0 cho false v\u00e0 c\u00e1c gi\u00e1 tr\u1ecb kh\u00e1c kh\u00f4ng nh\u01b0 1 cho true).  `True`, `False`, va ki\u1ec3u `bool` \u0111\u01b0\u1ee3c b\u1ed5 sung trong c\u00e1 phi\u00ean b\u1ea3n 2.x, nh\u01b0ng vi l\u00fd do h\u1ed7 tr\u1ee3 t\u01b0\u01a1ng th\u00edch ng\u01b0\u1ee3c (backward compatibility), `True` v\u00e0 `False` kh\u00f4ng th\u1ec3 tr\u01a1 th\u00e0nh c\u00e1c h\u0103ng s\u1ed1 (constants). Ch\u00fang ch\u1ec9 l\u00e0 c\u00e1c bi\u1ebfn \u0111\u01b0\u1ee3c t\u00edch h\u1ee3p s\u1eb5n trong Python, v\u00e0 ta c\u00f3 th\u1ec3 g\u00e1n l\u1ea1i gi\u00e1 tr\u1ecb cho ch\u00fang.\n",
        "\n",
        "* Python 3 kh\u00f4ng h\u1ed7 tr\u1ee3 t\u01b0\u01a1ng th\u00edch ng\u01b0\u1ee3c, v\u00e0 do v\u1eady c\u00e1c \u0111o\u1ea1n m\u00e3 cu\u1ed1i cung kh\u00f4ng ch\u1ea1y \u0111\u01b0\u1ee3c tr\u00ean  Python 3.x!\n"
      ]
    },
    {
      "cell_type": "markdown",
      "metadata": {},
      "source": [
        "### \u25b6 Class attributes and instance attributes\n",
        "1\\.\n"
      ]
    },
    {
      "cell_type": "code",
      "execution_count": null,
      "metadata": {
        "collapsed": true
      },
      "outputs": [
        {
          "data": {
            "text/plain": []
          },
          "output_type": "execute_result",
          "metadata": {},
          "execution_count": null
        }
      ],
      "source": [
        "class A:\n",
        "    x = 1\n",
        "\n",
        "class B(A):\n",
        "    pass\n",
        "\n",
        "class C(A):\n",
        "    pass\n"
      ]
    },
    {
      "cell_type": "markdown",
      "metadata": {},
      "source": [
        "\n",
        "**K\u1ebft qu\u1ea3:**\n"
      ]
    },
    {
      "cell_type": "code",
      "execution_count": null,
      "metadata": {
        "collapsed": true
      },
      "outputs": [
        {
          "data": {
            "text/plain": [
              "(1, 1, 1)\n"
            ]
          },
          "output_type": "execute_result",
          "metadata": {},
          "execution_count": null
        }
      ],
      "source": [
        "A.x, B.x, C.x\n"
      ]
    },
    {
      "cell_type": "code",
      "execution_count": null,
      "metadata": {
        "collapsed": true
      },
      "outputs": [
        {
          "data": {
            "text/plain": [
              "(1, 2, 1)\n"
            ]
          },
          "output_type": "execute_result",
          "metadata": {},
          "execution_count": null
        }
      ],
      "source": [
        "B.x = 2\n",
        "A.x, B.x, C.x\n"
      ]
    },
    {
      "cell_type": "code",
      "execution_count": null,
      "metadata": {
        "collapsed": true
      },
      "outputs": [
        {
          "data": {
            "text/plain": [
              "(3, 2, 3)\n"
            ]
          },
          "output_type": "execute_result",
          "metadata": {},
          "execution_count": null
        }
      ],
      "source": [
        "A.x = 3\n",
        "A.x, B.x, C.x # C.x thay \u0111\u1ed5i, nh\u01b0ng B.x kh\u00f4ng thay \u0111\u1ed5i\n"
      ]
    },
    {
      "cell_type": "code",
      "execution_count": null,
      "metadata": {
        "collapsed": true
      },
      "outputs": [
        {
          "data": {
            "text/plain": [
              "(3, 3)\n"
            ]
          },
          "output_type": "execute_result",
          "metadata": {},
          "execution_count": null
        }
      ],
      "source": [
        "a = A()\n",
        "a.x, A.x\n"
      ]
    },
    {
      "cell_type": "code",
      "execution_count": null,
      "metadata": {
        "collapsed": true
      },
      "outputs": [
        {
          "data": {
            "text/plain": [
              "(4, 3)\n"
            ]
          },
          "output_type": "execute_result",
          "metadata": {},
          "execution_count": null
        }
      ],
      "source": [
        "a.x += 1\n",
        "a.x, A.x\n"
      ]
    },
    {
      "cell_type": "markdown",
      "metadata": {},
      "source": [
        "\n",
        "2\\.\n"
      ]
    },
    {
      "cell_type": "code",
      "execution_count": null,
      "metadata": {
        "collapsed": true
      },
      "outputs": [
        {
          "data": {
            "text/plain": []
          },
          "output_type": "execute_result",
          "metadata": {},
          "execution_count": null
        }
      ],
      "source": [
        "class SomeClass:\n",
        "    some_var = 15\n",
        "    some_list = [5]\n",
        "    another_list = [5]\n",
        "    def __init__(self, x):\n",
        "        self.some_var = x + 1\n",
        "        self.some_list = self.some_list + [x]\n",
        "        self.another_list += [x]\n"
      ]
    },
    {
      "cell_type": "markdown",
      "metadata": {},
      "source": [
        "\n",
        "**K\u1ebft qu\u1ea3:**\n",
        "\n"
      ]
    },
    {
      "cell_type": "code",
      "execution_count": null,
      "metadata": {
        "collapsed": true
      },
      "outputs": [
        {
          "data": {
            "text/plain": [
              "[5, 420]\n"
            ]
          },
          "output_type": "execute_result",
          "metadata": {},
          "execution_count": null
        }
      ],
      "source": [
        "some_obj = SomeClass(420)\n",
        "some_obj.some_list\n"
      ]
    },
    {
      "cell_type": "code",
      "execution_count": null,
      "metadata": {
        "collapsed": true
      },
      "outputs": [
        {
          "data": {
            "text/plain": [
              "[5, 420]\n"
            ]
          },
          "output_type": "execute_result",
          "metadata": {},
          "execution_count": null
        }
      ],
      "source": [
        "some_obj.another_list\n"
      ]
    },
    {
      "cell_type": "code",
      "execution_count": null,
      "metadata": {
        "collapsed": true
      },
      "outputs": [
        {
          "data": {
            "text/plain": [
              "[5, 111]\n"
            ]
          },
          "output_type": "execute_result",
          "metadata": {},
          "execution_count": null
        }
      ],
      "source": [
        "another_obj = SomeClass(111)\n",
        "another_obj.some_list\n"
      ]
    },
    {
      "cell_type": "code",
      "execution_count": null,
      "metadata": {
        "collapsed": true
      },
      "outputs": [
        {
          "data": {
            "text/plain": [
              "[5, 420, 111]\n"
            ]
          },
          "output_type": "execute_result",
          "metadata": {},
          "execution_count": null
        }
      ],
      "source": [
        "another_obj.another_list\n"
      ]
    },
    {
      "cell_type": "code",
      "execution_count": null,
      "metadata": {
        "collapsed": true
      },
      "outputs": [
        {
          "data": {
            "text/plain": [
              "True\n"
            ]
          },
          "output_type": "execute_result",
          "metadata": {},
          "execution_count": null
        }
      ],
      "source": [
        "another_obj.another_list is SomeClass.another_list\n"
      ]
    },
    {
      "cell_type": "code",
      "execution_count": null,
      "metadata": {
        "collapsed": true
      },
      "outputs": [
        {
          "data": {
            "text/plain": [
              "True\n"
            ]
          },
          "output_type": "execute_result",
          "metadata": {},
          "execution_count": null
        }
      ],
      "source": [
        "another_obj.another_list is some_obj.another_list\n"
      ]
    },
    {
      "cell_type": "markdown",
      "metadata": {},
      "source": [
        "\n"
      ]
    },
    {
      "cell_type": "markdown",
      "metadata": {},
      "source": [
        "#### \ud83d\udca1 Gi\u1ea3i th\u00edch:\n",
        "\n",
        "* C\u00e1c bi\u1ebfn thu\u1ed9c v\u1ec1 l\u1edbp v\u00e0 c\u00e1c bi\u1ebfn thu\u1ed9c v\u1ec1 c\u00e1c hi\u1ec7n th\u1ef1c c\u1ee7a l\u01a1p (class instances) \u0111\u01b0\u1ee3c x\u1eed l\u00fd n\u1ed9i t\u1ea1i nh\u01b0 l\u00e0 c\u00e1c t\u1eeb \u0111i\u1ec3n c\u1ee7a m\u1ed9t \u0111\u1ed1i t\u01b0\u1ee3ng l\u1edbp. N\u1ebfu m\u1ed9t bi\u1ebfn kh\u00f4ng n\u1eb1m trong t\u1eeb \u0111i\u1ec3n c\u1ee7a l\u1edbp hi\u1ec7n h\u00e0nh, n\u00f3 s\u1ebd \u0111\u01b0\u1ee3c t\u00ecm trong c\u00e1c l\u1edbp cha. \n",
        "* Ph\u00e9p `+=` thay \u0111\u1ed5i \u0111\u1ed1i t\u01b0\u1ee3ng c\u00f3 th\u1ec3 bi\u1ebfn \u0111\u1ed5i (mutable) t\u1ea1i ch\u1ed7 m\u00e0 kh\u00f4n c\u1ea7n ph\u1ea3i t\u1ea1o m\u1ed9t \u0111\u1ed1i t\u01b0\u1ee3ng m\u1edbi. V\u00ec v\u1eady thay \u0111\u1ed5i thu\u1ed9c t\u00ednh cua m\u1ed9t hi\u1ec7n th\u1ef1c \u1ea3nh h\u01b0\u1edfng t\u1edbi thu\u1ed9c t\u00ednh c\u1ee7a c\u00e1c hi\u1ec7n th\u1ef1c kh\u00e1c v\u00e0 thu\u1ed9c t\u00ednh l\u1edbp.\n"
      ]
    },
    {
      "cell_type": "markdown",
      "metadata": {},
      "source": [
        "### \u25b6 Non-reflexive class method *\n"
      ]
    },
    {
      "cell_type": "code",
      "execution_count": null,
      "metadata": {
        "collapsed": true
      },
      "outputs": [
        {
          "data": {
            "text/plain": []
          },
          "output_type": "execute_result",
          "metadata": {},
          "execution_count": null
        }
      ],
      "source": [
        "class SomeClass:\n",
        "        def instance_method(self):\n",
        "                pass\n",
        "        \n",
        "        @classmethod\n",
        "        def class_method(cls):\n",
        "                pass\n"
      ]
    },
    {
      "cell_type": "markdown",
      "metadata": {},
      "source": [
        "\n",
        "**K\u1ebft qu\u1ea3:**\n",
        "\n"
      ]
    },
    {
      "cell_type": "code",
      "execution_count": null,
      "metadata": {
        "collapsed": true
      },
      "outputs": [
        {
          "data": {
            "text/plain": [
              "True\n"
            ]
          },
          "output_type": "execute_result",
          "metadata": {},
          "execution_count": null
        }
      ],
      "source": [
        "SomeClass.instance_method is SomeClass.instance_method\n"
      ]
    },
    {
      "cell_type": "code",
      "execution_count": null,
      "metadata": {
        "collapsed": true
      },
      "outputs": [
        {
          "data": {
            "text/plain": [
              "False\n"
            ]
          },
          "output_type": "execute_result",
          "metadata": {},
          "execution_count": null
        }
      ],
      "source": [
        "SomeClass.class_method is SomeClass.class_method\n"
      ]
    },
    {
      "cell_type": "code",
      "execution_count": null,
      "metadata": {
        "collapsed": true
      },
      "outputs": [
        {
          "data": {
            "text/plain": [
              "True\n"
            ]
          },
          "output_type": "execute_result",
          "metadata": {},
          "execution_count": null
        }
      ],
      "source": [
        "id(SomeClass.class_method) == id(SomeClass.class_method)\n"
      ]
    },
    {
      "cell_type": "markdown",
      "metadata": {},
      "source": [
        "\n"
      ]
    },
    {
      "cell_type": "markdown",
      "metadata": {},
      "source": [
        "#### \ud83d\udca1 Gi\u1ea3i th\u00edch:\n",
        "\n",
        "- L\u00fd do l\u00e0 v\u00ec `SomeClass.class_method is SomeClass.class_method` tr\u1ea3 v\u1ec1 `False` l\u00e0 b\u1edfi v\u00ec decorator `@classmethod`. \n",
        "\n"
      ]
    },
    {
      "cell_type": "code",
      "execution_count": null,
      "metadata": {
        "collapsed": true
      },
      "outputs": [
        {
          "data": {
            "text/plain": [
              "  <function __main__.SomeClass.instance_method(self)>\n"
            ]
          },
          "output_type": "execute_result",
          "metadata": {},
          "execution_count": null
        }
      ],
      "source": [
        "  SomeClass.instance_method\n"
      ]
    },
    {
      "cell_type": "code",
      "execution_count": null,
      "metadata": {
        "collapsed": true
      },
      "outputs": [
        {
          "data": {
            "text/plain": [
              "  <bound method SomeClass.class_method of <class '__main__.SomeClass'>\n"
            ]
          },
          "output_type": "execute_result",
          "metadata": {},
          "execution_count": null
        }
      ],
      "source": [
        "  SomeClass.class_method\n"
      ]
    },
    {
      "cell_type": "markdown",
      "metadata": {},
      "source": [
        "\n",
        "  M\u1ed7i l\u1ea7n truy c\u1eadp t\u1edbi `SomeClass.class_method` l\u00e0 l\u1ea1i c\u00f3 m\u1ed9t ph\u01b0\u01a1ng th\u1ee9c \u0111\u01b0\u1ee3c b\u1ecdc m\u1edbi sinh ra (new bound method) \n",
        "-  `id(SomeClass.class_method) == id(SomeClass.class_method)` tr\u1ea3 v\u1ec1 `True` b\u1edfi v\u00ec qu\u00e1 tr\u00ecnh c\u1ea5p ph\u00e1t b\u1ed9 nh\u1edb cho `class_method` l\u1ea7n th\u1ee9 hai x\u1ea3y ra t\u1ea1i cung m\u1ed9t v\u00ed tr\u00ed v\u1edbi qu\u00e1 tr\u00ecnh gi\u1ea3i ph\u00f3ng b\u1ed9 nh\u1edb \u0111\u1ea7u ti\u00ean (Xem l\u1ea1i \"Deep Down, we're all the same example\" \u0111\u1ec3 c\u00f3 l\u1eddi gi\u1ea3i th\u00edch r\u00f5 h\u01a1n). \n"
      ]
    },
    {
      "cell_type": "markdown",
      "metadata": {},
      "source": [
        "### \u25b6 yielding None\n"
      ]
    },
    {
      "cell_type": "code",
      "execution_count": null,
      "metadata": {
        "collapsed": true
      },
      "outputs": [
        {
          "data": {
            "text/plain": []
          },
          "output_type": "execute_result",
          "metadata": {},
          "execution_count": null
        }
      ],
      "source": [
        "some_iterable = ('a', 'b')\n",
        "\n",
        "def some_func(val):\n",
        "    return \"something\"\n"
      ]
    },
    {
      "cell_type": "markdown",
      "metadata": {},
      "source": [
        "\n",
        "**K\u1ebft qu\u1ea3 (<= 3.7.x):**\n",
        "\n"
      ]
    },
    {
      "cell_type": "code",
      "execution_count": null,
      "metadata": {
        "collapsed": true
      },
      "outputs": [
        {
          "data": {
            "text/plain": [
              "['a', 'b']\n"
            ]
          },
          "output_type": "execute_result",
          "metadata": {},
          "execution_count": null
        }
      ],
      "source": [
        "[x for x in some_iterable]\n"
      ]
    },
    {
      "cell_type": "code",
      "execution_count": null,
      "metadata": {
        "collapsed": true
      },
      "outputs": [
        {
          "data": {
            "text/plain": [
              "<generator object <listcomp> at 0x7f70b0a4ad58>\n"
            ]
          },
          "output_type": "execute_result",
          "metadata": {},
          "execution_count": null
        }
      ],
      "source": [
        "[(yield x) for x in some_iterable]\n"
      ]
    },
    {
      "cell_type": "code",
      "execution_count": null,
      "metadata": {
        "collapsed": true
      },
      "outputs": [
        {
          "data": {
            "text/plain": [
              "['a', 'b']\n"
            ]
          },
          "output_type": "execute_result",
          "metadata": {},
          "execution_count": null
        }
      ],
      "source": [
        "list([(yield x) for x in some_iterable])\n"
      ]
    },
    {
      "cell_type": "code",
      "execution_count": null,
      "metadata": {
        "collapsed": true
      },
      "outputs": [
        {
          "data": {
            "text/plain": [
              "['a', None, 'b', None]\n"
            ]
          },
          "output_type": "execute_result",
          "metadata": {},
          "execution_count": null
        }
      ],
      "source": [
        "list((yield x) for x in some_iterable)\n"
      ]
    },
    {
      "cell_type": "code",
      "execution_count": null,
      "metadata": {
        "collapsed": true
      },
      "outputs": [
        {
          "data": {
            "text/plain": [
              "['a', 'something', 'b', 'something']\n"
            ]
          },
          "output_type": "execute_result",
          "metadata": {},
          "execution_count": null
        }
      ],
      "source": [
        "list(some_func((yield x)) for x in some_iterable)\n"
      ]
    },
    {
      "cell_type": "markdown",
      "metadata": {},
      "source": [
        "\n"
      ]
    },
    {
      "cell_type": "markdown",
      "metadata": {},
      "source": [
        "#### \ud83d\udca1 Gi\u1ea3i th\u00edch:\n",
        "- \u0110\u00e2y l\u00e0 m\u1ed9t bug t\u1ed3n t\u1ea1i khi CPython x\u1eed l\u00fd `yield` trong c\u00e1c generators v\u00e0 comprehensions.\n",
        "- B\u1ea1n c\u00f3 th\u1ec3 tham kh\u1ea3o th\u00eam v\u1ec1 l\u1ed7i n\u00e0y t\u1ea1i \u0111\u00e2y: https://stackoverflow.com/questions/32139885/yield-in-list-comprehensions-and-generator-expressions\n",
        "- B\u00e1o c\u00e1o v\u1ec1 bug n\u00e0y: http://bugs.python.org/issue10544\n",
        "- Theo Python 3.8+  `yield` kh\u00f4ng \u0111\u01b0\u1ee3c ph\u00e9p n\u1eb1m b\u00ean trong  list comprehension v\u00e0 n\u1ebfu b\u1ea1n l\u00e0m nh\u01b0 v\u1eady s\u1ebd t\u1ea1o ra l\u1ed7i c\u00fa ph\u00e1p `SyntaxError`.\n",
        "\n"
      ]
    },
    {
      "cell_type": "markdown",
      "metadata": {},
      "source": [
        "### \u25b6 Yielding from... return! *\n",
        "1\\.\n",
        "\n"
      ]
    },
    {
      "cell_type": "code",
      "execution_count": null,
      "metadata": {
        "collapsed": true
      },
      "outputs": [
        {
          "data": {
            "text/plain": []
          },
          "output_type": "execute_result",
          "metadata": {},
          "execution_count": null
        }
      ],
      "source": [
        "def some_func(x):\n",
        "    if x == 3:\n",
        "        return [\"wtf\"]\n",
        "    else:\n",
        "        yield from range(x)\n"
      ]
    },
    {
      "cell_type": "markdown",
      "metadata": {},
      "source": [
        "\n",
        "**K\u1ebft qu\u1ea3 (> 3.3):**\n",
        "\n"
      ]
    },
    {
      "cell_type": "code",
      "execution_count": null,
      "metadata": {
        "collapsed": true
      },
      "outputs": [
        {
          "data": {
            "text/plain": [
              "[]\n"
            ]
          },
          "output_type": "execute_result",
          "metadata": {},
          "execution_count": null
        }
      ],
      "source": [
        "list(some_func(3))\n"
      ]
    },
    {
      "cell_type": "markdown",
      "metadata": {},
      "source": [
        "\n",
        "\u0110\u00e1ng l\u1ebd ph\u1ea3i hi\u1ec3n th\u1ecb `\"wtf\"` ch\u1ee9 nh\u1ec9? C\u00f3 ph\u1ea3i l\u00e0 do `yield from`? C\u00f9ng t\u00ecm hi\u1ec3u th\u00eam n\u00e0o,\n",
        "\n",
        "2\\.\n",
        "\n"
      ]
    },
    {
      "cell_type": "code",
      "execution_count": null,
      "metadata": {
        "collapsed": true
      },
      "outputs": [
        {
          "data": {
            "text/plain": []
          },
          "output_type": "execute_result",
          "metadata": {},
          "execution_count": null
        }
      ],
      "source": [
        "def some_func(x):\n",
        "    if x == 3:\n",
        "        return [\"wtf\"]\n",
        "    else:\n",
        "        for i in range(x):\n",
        "          yield i\n"
      ]
    },
    {
      "cell_type": "markdown",
      "metadata": {},
      "source": [
        "\n",
        "**K\u1ebft qu\u1ea3:**\n",
        "\n"
      ]
    },
    {
      "cell_type": "code",
      "execution_count": null,
      "metadata": {
        "collapsed": true
      },
      "outputs": [
        {
          "data": {
            "text/plain": [
              "[]\n"
            ]
          },
          "output_type": "execute_result",
          "metadata": {},
          "execution_count": null
        }
      ],
      "source": [
        "list(some_func(3))\n"
      ]
    },
    {
      "cell_type": "markdown",
      "metadata": {},
      "source": [
        "\n",
        "V\u1eabn l\u1ea1i kh\u00f4ng in ra `\"wtf\"` .\n",
        "\n"
      ]
    },
    {
      "cell_type": "markdown",
      "metadata": {},
      "source": [
        "#### \ud83d\udca1 Gi\u1ea3i th\u00edch:\n",
        "\n",
        "+ T\u1eeb Python 3.3 tr\u1edf \u0111i, ta c\u00f3 th\u1ec3 s\u1eed d\u1ee5ng `return`  v\u1edbi c\u00e1c gi\u00e1 tr\u1ecb b\u00ean trong c\u00e1c generators (Xem th\u00eam [PEP380](https://www.python.org/dev/peps/pep-0380/)). C\u00e1c [t\u00e0i li\u1ec7u ch\u00ednh th\u1ee9c](https://www.python.org/dev/peps/pep-0380/#enhancements-to-stopiteration) c\u0169ng n\u00f3i nh\u01b0 v\u1eady,\n",
        "> \"... `return expr` tron m\u1ed9t generator t\u1ea1o ra ngo\u1ea1i l\u1ec7 `StopIteration(expr)` khi tho\u00e1t ra t\u1eeb generator.\"\n",
        "\n",
        "+ Trong tr\u01b0\u1eddng h\u1ee3p `some_func(3)`, ngo\u1ea1i l\u1ec7 `StopIteration` \u0111\u01b0\u1ee3c kh\u1edfi l\u00ean ngay t\u1eeb \u0111\u1ea7u b\u1edfi v\u00ec c\u00e2u l\u1ec7nh `return`. Ngo\u1ea1i l\u1ec7 `StopIteration` \u0111\u01b0\u1ee3c t\u1ef1 \u0111\u1ed9ng b\u1eaft l\u1ea1i trong d\u00f2ng l\u1ec7nh bao `list(...)` v\u00e0 trong v\u00f2ng l\u1eb7p `for`. Do \u0111\u00f3, c\u1ea3 hai \u0111o\u1ea1n m\u00e3 tr\u00ean \u0111\u1ec1u tr\u1ea3 v\u1ec1 m\u1ed9t danh s\u00e1ch r\u1ed7ng.\n",
        "\n",
        "+ \u0110\u1ec3 c\u00f3 \u0111\u01b0\u1ee3c `[\"wtf\"]` t\u1eeb generator `some_func` b\u1ea1n c\u1ea7n b\u1eaft ngo\u1ea1i l\u1ec7 `StopIteration`,\n",
        "\n"
      ]
    },
    {
      "cell_type": "code",
      "execution_count": null,
      "metadata": {
        "collapsed": true
      },
      "outputs": [
        {
          "data": {
            "text/plain": []
          },
          "output_type": "execute_result",
          "metadata": {},
          "execution_count": null
        }
      ],
      "source": [
        "  try:\n",
        "      next(some_func(3))\n",
        "  except StopIteration as e:\n",
        "      some_string = e.value\n"
      ]
    },
    {
      "cell_type": "markdown",
      "metadata": {},
      "source": [
        "\n"
      ]
    },
    {
      "cell_type": "code",
      "execution_count": null,
      "metadata": {
        "collapsed": true
      },
      "outputs": [
        {
          "data": {
            "text/plain": [
              "  [\"wtf\"]\n"
            ]
          },
          "output_type": "execute_result",
          "metadata": {},
          "execution_count": null
        }
      ],
      "source": [
        "  some_string\n"
      ]
    },
    {
      "cell_type": "markdown",
      "metadata": {},
      "source": [
        "\n"
      ]
    },
    {
      "cell_type": "markdown",
      "metadata": {},
      "source": [
        "### \u25b6 T\u00ednh ph\u1ea3n x\u1ea1 c\u1ee7a Nan *\n",
        "1\\.\n",
        "\n"
      ]
    },
    {
      "cell_type": "code",
      "execution_count": null,
      "metadata": {
        "collapsed": true
      },
      "outputs": [
        {
          "data": {
            "text/plain": []
          },
          "output_type": "execute_result",
          "metadata": {},
          "execution_count": null
        }
      ],
      "source": [
        "a = float('inf')\n",
        "b = float('nan')\n",
        "c = float('-iNf')  # C\u00e1c strings n\u00e0y kh\u00f4ng ph\u00e2n bi\u1ec7t hoa hay th\u01b0\u1eddng\n",
        "d = float('nan')\n"
      ]
    },
    {
      "cell_type": "markdown",
      "metadata": {},
      "source": [
        "\n",
        "**K\u1ebft qu\u1ea3:**\n",
        "\n"
      ]
    },
    {
      "cell_type": "code",
      "execution_count": null,
      "metadata": {
        "collapsed": true
      },
      "outputs": [
        {
          "data": {
            "text/plain": [
              "inf\n"
            ]
          },
          "output_type": "execute_result",
          "metadata": {},
          "execution_count": null
        }
      ],
      "source": [
        "a\n"
      ]
    },
    {
      "cell_type": "code",
      "execution_count": null,
      "metadata": {
        "collapsed": true
      },
      "outputs": [
        {
          "data": {
            "text/plain": [
              "nan\n"
            ]
          },
          "output_type": "execute_result",
          "metadata": {},
          "execution_count": null
        }
      ],
      "source": [
        "b\n"
      ]
    },
    {
      "cell_type": "code",
      "execution_count": null,
      "metadata": {
        "collapsed": true
      },
      "outputs": [
        {
          "data": {
            "text/plain": [
              "-inf\n"
            ]
          },
          "output_type": "execute_result",
          "metadata": {},
          "execution_count": null
        }
      ],
      "source": [
        "c\n"
      ]
    },
    {
      "cell_type": "code",
      "execution_count": null,
      "metadata": {
        "collapsed": true
      },
      "outputs": [
        {
          "data": {
            "text/plain": [
              "ValueError: could not convert string to float: some_other_string (L\u1ed7i gi\u00e1 tr\u1ecb: Kh\u00f4ng th\u1ec3 chuy\u1ec3n \u0111\u1ed5i t\u1eeb string sang float)\n"
            ]
          },
          "output_type": "execute_result",
          "metadata": {},
          "execution_count": null
        }
      ],
      "source": [
        "float('some_other_string')\n"
      ]
    },
    {
      "cell_type": "code",
      "execution_count": null,
      "metadata": {
        "collapsed": true
      },
      "outputs": [
        {
          "data": {
            "text/plain": [
              "True\n"
            ]
          },
          "output_type": "execute_result",
          "metadata": {},
          "execution_count": null
        }
      ],
      "source": [
        "a == -c # inf==inf\n"
      ]
    },
    {
      "cell_type": "code",
      "execution_count": null,
      "metadata": {
        "collapsed": true
      },
      "outputs": [
        {
          "data": {
            "text/plain": [
              "True\n"
            ]
          },
          "output_type": "execute_result",
          "metadata": {},
          "execution_count": null
        }
      ],
      "source": [
        "None == None # None == None\n"
      ]
    },
    {
      "cell_type": "code",
      "execution_count": null,
      "metadata": {
        "collapsed": true
      },
      "outputs": [
        {
          "data": {
            "text/plain": [
              "False\n"
            ]
          },
          "output_type": "execute_result",
          "metadata": {},
          "execution_count": null
        }
      ],
      "source": [
        "b == d # nh\u01b0ng nan!=nan\n"
      ]
    },
    {
      "cell_type": "code",
      "execution_count": null,
      "metadata": {
        "collapsed": true
      },
      "outputs": [
        {
          "data": {
            "text/plain": [
              "0.0\n"
            ]
          },
          "output_type": "execute_result",
          "metadata": {},
          "execution_count": null
        }
      ],
      "source": [
        "50 / a\n"
      ]
    },
    {
      "cell_type": "code",
      "execution_count": null,
      "metadata": {
        "collapsed": true
      },
      "outputs": [
        {
          "data": {
            "text/plain": [
              "nan\n"
            ]
          },
          "output_type": "execute_result",
          "metadata": {},
          "execution_count": null
        }
      ],
      "source": [
        "a / a\n"
      ]
    },
    {
      "cell_type": "code",
      "execution_count": null,
      "metadata": {
        "collapsed": true
      },
      "outputs": [
        {
          "data": {
            "text/plain": [
              "nan\n"
            ]
          },
          "output_type": "execute_result",
          "metadata": {},
          "execution_count": null
        }
      ],
      "source": [
        "23 + b\n"
      ]
    },
    {
      "cell_type": "markdown",
      "metadata": {},
      "source": [
        "\n",
        "2\\.\n",
        "\n"
      ]
    },
    {
      "cell_type": "code",
      "execution_count": null,
      "metadata": {
        "collapsed": true
      },
      "outputs": [
        {
          "data": {
            "text/plain": [
              "True\n"
            ]
          },
          "output_type": "execute_result",
          "metadata": {},
          "execution_count": null
        }
      ],
      "source": [
        "x = float('nan')\n",
        "y = x / x\n",
        "y is y # \u0111\u1ecbnh danh gi\u1ed1ng nhau (c\u00f9ng tr\u1ecf v\u1ec1 m\u1ed9t \u0111\u1ed1i t\u01b0\u1ee3ng)\n"
      ]
    },
    {
      "cell_type": "code",
      "execution_count": null,
      "metadata": {
        "collapsed": true
      },
      "outputs": [
        {
          "data": {
            "text/plain": [
              "False\n"
            ]
          },
          "output_type": "execute_result",
          "metadata": {},
          "execution_count": null
        }
      ],
      "source": [
        "y == y # G\u00eda tr\u1ecb l\u1ea1i kh\u00f4ng b\u1eb1ng nhau\n"
      ]
    },
    {
      "cell_type": "code",
      "execution_count": null,
      "metadata": {
        "collapsed": true
      },
      "outputs": [
        {
          "data": {
            "text/plain": [
              "True\n"
            ]
          },
          "output_type": "execute_result",
          "metadata": {},
          "execution_count": null
        }
      ],
      "source": [
        "[y] == [y] # Gi\u00e1 tr\u1ecb b\u1eb1ng nhau khi n\u1eb1m \u1edf trong m\u1ed9t list\n"
      ]
    },
    {
      "cell_type": "markdown",
      "metadata": {},
      "source": [
        "\n",
        "\n",
        "\n"
      ]
    },
    {
      "cell_type": "markdown",
      "metadata": {},
      "source": [
        "#### \ud83d\udca1 Gi\u1ea3i th\u00edch:\n",
        "\n",
        "- `'inf'` v\u00e0 `'nan'` l\u00e0 c\u00e1c strings \u0111\u1eb7c bi\u1ec7t (kh\u00f4ng ph\u00e2n bi\u1ec7t hoa th\u01b0\u1eddng), khi \u0111\u01b0\u1ee3c chuy\u1ec3n \u0111\u1ed5i sang ki\u1ec3u `float` s\u1ebd t\u01b0\u01a1ng \u1ee9ng bi\u1ec3u di\u1ec5n cho gi\u00e1 tr\u1ecb v\u00f4 h\u1ea1n \"infinity\" hay kh\u00f4ng ph\u1ea3i l\u00e0 m\u1ed9t s\u1ed1 \"not a number\".\n",
        "\n",
        "- Theo chu\u1ea9n c\u1ee7a IEEE th\u00ec ` NaN != NaN`, tu\u00e2n theo quy t\u1eafc tr\u00ean s\u1ebd ph\u00e1 v\u1ee1 gi\u1ea3 \u0111\u1ecbnh v\u1ec1 t\u00ednh t\u01b0\u01a1ng ph\u1ea3n c\u1ee7a m\u1ed9t ph\u1ea7n t\u1eed trong m\u1ed9t t\u1eadp trong Python v\u00ed d\u1ee5. n\u1ebfu `x` l\u00e0 m\u1ed9t ph\u1ea7n t\u1eed c\u1ee7a m\u1ed9t t\u1eadp `list`, c\u00e1c ph\u00e9p to\u00e1n tr\u00ean c\u00e1c ph\u1ea7n t\u1eed c\u1ee7a t\u1eadp nh\u01b0 l\u00e0 so s\u00e1nh s\u1ebd d\u1ef1a tr\u00ean gi\u1ea3i \u0111\u1ecbnh r\u1eb1ng `x == x`.  Do gi\u1ea3 \u0111\u1ecbnh n\u00e0y n\u00ean \u0111\u1ecbnh danh \u0111\u01b0\u1ee3c so s\u00e1nh \u0111\u1ea7u ti\u00ean (do nhanh h\u01a1n) khi so s\u00e1nh hai ph\u1ea7n t\u1eed, v\u00e0 c\u00e1c gi\u00e1 tr\u1ecb \u0111\u01b0\u1ee3c so s\u00e1nh ch\u1ec9 khi c\u00e1c \u0111\u1ecbnh danh kh\u00f4ng kh\u1edbp. V\u00ed d\u1ee5 sau s\u1ebd gi\u00fap b\u1ea1n d\u1ec5 hi\u1ec3u h\u01a1n\n"
      ]
    },
    {
      "cell_type": "code",
      "execution_count": null,
      "metadata": {
        "collapsed": true
      },
      "outputs": [
        {
          "data": {
            "text/plain": [
              "  (False, True)\n"
            ]
          },
          "output_type": "execute_result",
          "metadata": {},
          "execution_count": null
        }
      ],
      "source": [
        "  x = float('nan')\n",
        "  x == x, [x] == [x]\n"
      ]
    },
    {
      "cell_type": "code",
      "execution_count": null,
      "metadata": {
        "collapsed": true
      },
      "outputs": [
        {
          "data": {
            "text/plain": [
              "  (False, True)\n"
            ]
          },
          "output_type": "execute_result",
          "metadata": {},
          "execution_count": null
        }
      ],
      "source": [
        "  y = float('nan')\n",
        "  y == y, [y] == [y]\n"
      ]
    },
    {
      "cell_type": "code",
      "execution_count": null,
      "metadata": {
        "collapsed": true
      },
      "outputs": [
        {
          "data": {
            "text/plain": [
              "  (False, False)\n"
            ]
          },
          "output_type": "execute_result",
          "metadata": {},
          "execution_count": null
        }
      ],
      "source": [
        "  x == y, [x] == [y]\n"
      ]
    },
    {
      "cell_type": "markdown",
      "metadata": {},
      "source": [
        "  \n",
        " Do c\u00e1c \u0111\u1ecbnh danh c\u1ee7a `x` v\u00e0 `y` kh\u00e1c nhau, do \u0111\u00f3 gi\u00e1 tr\u1ecb c\u1ee7a ch\u00fang s\u1ebd \u0111\u01b0\u1ee3c so s\u00e1nh, m\u00e0 gi\u00e1 tr\u1ecb c\u1ee7a ch\u00fang kh\u00e1c nhau trong v\u00ed d\u1ee5 n\u00e0y; n\u00ean k\u1ebft qu\u1ea3 tr\u1ea3 v\u1ec1 l\u00e0 `False`. C\u1ee5 th\u1ec3 h\u01a1n, theo ti\u00eau chu\u1ea9n c\u1ee7a IEEE th\u00ec `x` f va `y` \u0111\u1ec3u c\u00f3 gi\u00e1 tr\u1ecb l\u00e0 `nan` khi \u0111\u01b0\u1ee3c chuy\u1ec3n \u0111\u1ed5i qua float, ` NaN != NaN` n\u00ean `x != y`, nh\u01b0ng khi \u0111\u1eb7t trong m\u1ed9t list th\u00ec \u0111\u1ecbnh danh s\u1ebd \u0111c so s\u00e1nh tr\u01b0\u1edbc n\u00ean `[x] == [y]`\n",
        "\n",
        "- \u0110\u1ecdc th\u00eam: [Reflexivity, and other pillars of civilization](https://bertrandmeyer.com/2010/02/06/reflexivity-and-other-pillars-of-civilization/)\n",
        "\n"
      ]
    },
    {
      "cell_type": "markdown",
      "metadata": {},
      "source": [
        "### \u25b6 Mutating the immutable!\n",
        "V\u00ed d\u1ee5 d\u01b0\u1edbi \u0111\u00e2y c\u00f3 v\u1ebb t\u1ea7m th\u01b0\u1eddng n\u1ebfu b\u1ea1n hi\u1ec3u c\u00e1ch c\u00e1c tham chi\u1ebfu (references) ho\u1ea1t \u0111\u00f4ng trong Python.\n"
      ]
    },
    {
      "cell_type": "code",
      "execution_count": null,
      "metadata": {
        "collapsed": true
      },
      "outputs": [
        {
          "data": {
            "text/plain": []
          },
          "output_type": "execute_result",
          "metadata": {},
          "execution_count": null
        }
      ],
      "source": [
        "some_tuple = (\"A\", \"tuple\", \"with\", \"values\")\n",
        "another_tuple = ([1, 2], [3, 4], [5, 6])\n"
      ]
    },
    {
      "cell_type": "markdown",
      "metadata": {},
      "source": [
        "\n",
        "**K\u1ebft qu\u1ea3:**\n"
      ]
    },
    {
      "cell_type": "code",
      "execution_count": null,
      "metadata": {
        "collapsed": true
      },
      "outputs": [
        {
          "data": {
            "text/plain": [
              "TypeError: 'tuple' object does not support item assignment (L\u1ed7i v\u1ec1 ki\u1ec3u: \u0111\u1ed1i t\u01b0\u1ee3ng 'tuple' kh\u00f4ng h\u1ed7 tr\u1ee3 ph\u00e9p g\u00e1n ph\u1ea7n t\u1eed)\n"
            ]
          },
          "output_type": "execute_result",
          "metadata": {},
          "execution_count": null
        }
      ],
      "source": [
        "some_tuple[2] = \"change this\"\n"
      ]
    },
    {
      "cell_type": "code",
      "execution_count": null,
      "metadata": {
        "collapsed": true
      },
      "outputs": [
        {
          "data": {
            "text/plain": [
              "([1, 2], [3, 4], [5, 6, 1000])\n"
            ]
          },
          "output_type": "execute_result",
          "metadata": {},
          "execution_count": null
        }
      ],
      "source": [
        "another_tuple[2].append(1000) # D\u00f2ng n\u00e0y kh\u00f4ng b\u1ecb l\u1ed7i\n",
        "another_tuple\n"
      ]
    },
    {
      "cell_type": "code",
      "execution_count": null,
      "metadata": {
        "collapsed": true
      },
      "outputs": [
        {
          "data": {
            "text/plain": [
              "TypeError: 'tuple' object does not support item assignment (L\u1ed7i v\u1ec1 ki\u1ec3u: \u0111\u1ed1i t\u01b0\u1ee3ng 'tuple' kh\u00f4ng h\u1ed7 tr\u1ee3 ph\u00e9p g\u00e1n ph\u1ea7n t\u1eed)\n"
            ]
          },
          "output_type": "execute_result",
          "metadata": {},
          "execution_count": null
        }
      ],
      "source": [
        "another_tuple[2] += [99, 999]\n"
      ]
    },
    {
      "cell_type": "code",
      "execution_count": null,
      "metadata": {
        "collapsed": true
      },
      "outputs": [
        {
          "data": {
            "text/plain": [
              "([1, 2], [3, 4], [5, 6, 1000, 99, 999])\n"
            ]
          },
          "output_type": "execute_result",
          "metadata": {},
          "execution_count": null
        }
      ],
      "source": [
        "another_tuple\n"
      ]
    },
    {
      "cell_type": "markdown",
      "metadata": {},
      "source": [
        "\n",
        "T\u00f4i \u0111\u00e3 ngh\u0129 r\u1eb1ng c\u00e1c tuples th\u00ec b\u1ea5t bi\u1ebfn (immutable) ...\n"
      ]
    },
    {
      "cell_type": "markdown",
      "metadata": {},
      "source": [
        "#### \ud83d\udca1 Gi\u1ea3i th\u00edch:\n",
        "\n",
        "* Tr\u00edch t\u1eeb https://docs.python.org/2/reference/datamodel.html\n",
        "\n",
        "    > C\u00e1c chu\u1ed7i b\u1ea5t bi\u1ebfn\n",
        "        M\u1ed9t \u0111\u1ed1i t\u01b0\u1ee3ng ki\u1ec3u chu\u1ed7i b\u1ea5t bi\u1ebfn kh\u00f4ng th\u1ec3 thay \u0111\u1ed5i gi\u00e1 tr\u1ecb c\u1ee7a n\u00f3 sau khi \u0111\u01b0\u1ee3c t\u1ea1o. (N\u1ebfu \u0111\u1ed1i t\u01b0\u1ee3ng n\u00e0y ch\u1ee9a c\u00e1c tham chi\u1ebfu t\u1edbi c\u00e1c \u0111\u1ed1i t\u01b0\u1ee3ng kh\u00e1c, nh\u1eefng \u0111\u1ed1i t\u01b0\u1ee3ng c\u00f3 th\u1ec3 thay \u0111\u1ed5i \u0111\u01b0\u1ee3c; tuy th\u1ebf, t\u1eadp h\u1ee3p c\u00e1c \u0111\u1ed1i t\u01b0\u1ee3ng \u0111\u01b0\u1ee3c tr\u1ecf tr\u1ef1c ti\u1ebfp b\u1edfi m\u1ed9t \u0111\u1ed1i t\u01b0\u1ee3ng b\u1ea5t bi\u1ebfn kh\u00f4ng th\u1ec3 thay \u0111\u1ed5i .)\n",
        "\n",
        "* To\u00e1n t\u1eed `+=` thay \u0111\u1ed5i list t\u1ea1i ch\u1ed7. Ph\u00e9p g\u00e1n ph\u1ea7n t\u1eed kh\u00f4ng th\u1ef1c hi\u1ec7n \u0111\u01b0\u1ee3c, nh\u01b0ng khi ngo\u1ea1i l\u1ec7 x\u1ea3y ra, ph\u1ea7n t\u1eed \u0111\u00e3 \u0111\u01b0\u1ee3c thay \u0111\u1ed5i ngay t\u1ea1i ch\u1ed7.\n",
        "\n"
      ]
    },
    {
      "cell_type": "markdown",
      "metadata": {},
      "source": [
        "### \u25b6 The disappearing variable from outer scope\n"
      ]
    },
    {
      "cell_type": "code",
      "execution_count": null,
      "metadata": {
        "collapsed": true
      },
      "outputs": [
        {
          "data": {
            "text/plain": []
          },
          "output_type": "execute_result",
          "metadata": {},
          "execution_count": null
        }
      ],
      "source": [
        "e = 7\n",
        "try:\n",
        "    raise Exception()\n",
        "except Exception as e:\n",
        "    pass\n"
      ]
    },
    {
      "cell_type": "markdown",
      "metadata": {},
      "source": [
        "\n",
        "**K\u1ebft qu\u1ea3 (Python 2.x):**\n"
      ]
    },
    {
      "cell_type": "code",
      "metadata": {
        "collapsed": true
      },
      "execution_count": null,
      "outputs": [
        {
          "name": "stdout",
          "output_type": "stream",
          "text": [
            "# Kh\u00f4ng in ra k\u1ebft qu\u1ea3 n\u00e0o c\u1ea3\n"
          ]
        }
      ],
      "source": [
        "print(e)\n"
      ]
    },
    {
      "cell_type": "markdown",
      "metadata": {},
      "source": [
        "\n",
        "**K\u1ebft qu\u1ea3 (Python 3.x):**\n"
      ]
    },
    {
      "cell_type": "code",
      "metadata": {
        "collapsed": true
      },
      "execution_count": null,
      "outputs": [
        {
          "name": "stdout",
          "output_type": "stream",
          "text": [
            "NameError: name 'e' is not defined (L\u1ed7i t\u00ean bi\u1ebfn kh\u00f4ng \u0111\u01b0\u1ee3c \u0111\u1ecbnh ngh\u0129a)\n"
          ]
        }
      ],
      "source": [
        "print(e)\n"
      ]
    },
    {
      "cell_type": "markdown",
      "metadata": {},
      "source": [
        "\n"
      ]
    },
    {
      "cell_type": "markdown",
      "metadata": {},
      "source": [
        "#### \ud83d\udca1 Gi\u1ea3i th\u00edch:\n",
        "\n",
        "* Source: https://docs.python.org/3/reference/compound_stmts.html#except\n",
        "\n",
        "  Khi m\u1ed9t ngo\u1ea1i l\u1ec7 \u0111\u01b0\u1ee3c g\u00e1n s\u1eed d\u1ee5ng \u0111\u00edch \u0111\u01b0\u1ee3c \u0111\u1ecbnh nghia b\u1edfi `as`, ngo\u1ea1i l\u1ec7 n\u00e0y \u0111\u01b0\u1ee3c d\u1ecdn d\u1eb9p \u1edf cu\u1ed1i c\u00e2u `except`. Nh\u01b0 v\u1eady th\u00ec\n",
        "\n"
      ]
    },
    {
      "cell_type": "code",
      "execution_count": null,
      "metadata": {
        "collapsed": true
      },
      "outputs": [
        {
          "data": {
            "text/plain": []
          },
          "output_type": "execute_result",
          "metadata": {},
          "execution_count": null
        }
      ],
      "source": [
        "  except E as N:\n",
        "      foo\n"
      ]
    },
    {
      "cell_type": "markdown",
      "metadata": {},
      "source": [
        "\n",
        "  s\u1ebd \u0111\u01b0\u1ee3c hi\u1ec3u nh\u01b0 sau\n",
        "\n"
      ]
    },
    {
      "cell_type": "code",
      "execution_count": null,
      "metadata": {
        "collapsed": true
      },
      "outputs": [
        {
          "data": {
            "text/plain": []
          },
          "output_type": "execute_result",
          "metadata": {},
          "execution_count": null
        }
      ],
      "source": [
        "  except E as N:\n",
        "      try:\n",
        "          foo\n",
        "      finally:\n",
        "          del N\n"
      ]
    },
    {
      "cell_type": "markdown",
      "metadata": {},
      "source": [
        "\n",
        "  \n",
        "    \u0110i\u1ec1u n\u00e0y c\u00f3 ngh\u0129a la ngo\u1ea1i l\u1ec7 ph\u1ea3i \u0111\u01b0\u1ee3c g\u00e1n cho m\u1ed9t c\u00e1i t\u00ean kh\u00e1c \u0111\u1ec3 ta c\u00f3 th\u1ec3 t\u00ecm th\u1ea5y n\u00f3 sau c\u00e2u except. C\u00e1c ngo\u1ea1i l\u1ec7 \u0111\u01b0\u1ee3c d\u1ecdn d\u1eb9p b\u1edfi v\u00ec v\u1edbi truy l\u1ed7i (traceback) \u0111\u01b0\u1ee3c g\u00e1n cho ch\u00fang, ch\u00fang h\u00ecnh th\u00e0nh n\u00ean m\u1ed9t v\u00f2ng tham chi\u1ebfu b\u00ean trong khung ng\u0103n x\u1ebfp (stack frame), gi\u1eef t\u1ea5t c\u1ea3 c\u00e1c bi\u1ebfn c\u1ee5c b\u1ed9 kh\u00f4ng b\u1ecb xo\u00e1 \u0111i cho \u0111\u1ebfn khi vi\u1ec7c thu th\u1eadp r\u00e1c ti\u1ebfp theo ti\u1ebfp di\u1ec5n.\n",
        "\n",
        "* C\u00e1c c\u00e2u n\u00e0y kh\u00f4ng \u0111\u01b0\u1ee3c t\u00ednh ph\u1ea1m vi trong Python. M\u1ecdi th\u01b0 trong v\u00ed d\u1ee5 nay \u0111\u1ec1u n\u00e0m trong c\u00f9ng m\u1ed9t ph\u1ea1m vi, v\u00e0 bi\u1ebfn `e` b\u1ecb xo\u00e1 \u0111i b\u1edfi v\u00ec ngo\u1ea1i l\u1ec7 `except`. \u0110i\u1ec1u t\u01b0\u01a1ng t\u1ef1 nh\u01b0 v\u1eady kh\u00f4ng \u0111\u00fang v\u1edbi c\u00e1c h\u00e0m c\u00f3 c\u00e1c n\u1ed9i ph\u1ea1m vi (inner-scopes) ri\u00eang bi\u1ec7t. V\u00ed d\u1ee5 sau s\u1ebd cho ta th\u1ea5y:\n",
        "\n"
      ]
    },
    {
      "cell_type": "code",
      "execution_count": null,
      "metadata": {
        "collapsed": true
      },
      "outputs": [
        {
          "data": {
            "text/plain": []
          },
          "output_type": "execute_result",
          "metadata": {},
          "execution_count": null
        }
      ],
      "source": [
        "     def f(x):\n",
        "         del(x)\n",
        "         print(x)\n",
        "\n",
        "     x = 5\n",
        "     y = [5, 4, 3]\n"
      ]
    },
    {
      "cell_type": "markdown",
      "metadata": {},
      "source": [
        "\n",
        "     **K\u1ebft qu\u1ea3:**\n"
      ]
    },
    {
      "cell_type": "code",
      "execution_count": null,
      "metadata": {
        "collapsed": true
      },
      "outputs": [
        {
          "data": {
            "text/plain": [
              "     5\n"
            ]
          },
          "output_type": "execute_result",
          "metadata": {},
          "execution_count": null
        }
      ],
      "source": [
        "     >>>f(x)\n",
        "     UnboundLocalError: local variable 'x' referenced before assignment\n",
        "     >>>f(y)\n",
        "     UnboundLocalError: local variable 'x' referenced before assignment\n",
        "     x\n"
      ]
    },
    {
      "cell_type": "code",
      "execution_count": null,
      "metadata": {
        "collapsed": true
      },
      "outputs": [
        {
          "data": {
            "text/plain": [
              "     [5, 4, 3]\n"
            ]
          },
          "output_type": "execute_result",
          "metadata": {},
          "execution_count": null
        }
      ],
      "source": [
        "     y\n"
      ]
    },
    {
      "cell_type": "markdown",
      "metadata": {},
      "source": [
        "\n",
        "* Trong Python 2.x, bi\u1ebfn `e` \u0111\u01b0\u1ee3c g\u00e1n cho m\u1ed9t hi\u1ec7n th\u1ef1c `Exception()`, khi b\u1ea1n in ra bi\u1ebfn n\u00e0y, n\u00f3 kh\u00f4ng hi\u1ec3n th\u1ecb g\u00ec c\u1ea3\n",
        "\n",
        "    **K\u1ebft qu\u1ea3 (Python 2.x):**\n"
      ]
    },
    {
      "cell_type": "code",
      "execution_count": null,
      "metadata": {
        "collapsed": true
      },
      "outputs": [
        {
          "data": {
            "text/plain": [
              "    Exception()\n"
            ]
          },
          "output_type": "execute_result",
          "metadata": {},
          "execution_count": null
        }
      ],
      "source": [
        "    e\n"
      ]
    },
    {
      "cell_type": "code",
      "execution_count": null,
      "metadata": {
        "collapsed": true
      },
      "outputs": [
        {
          "data": {
            "text/plain": [
              "    # Kh\u00f4ng in ra g\u00ec c\u1ea3!\n"
            ]
          },
          "output_type": "execute_result",
          "metadata": {},
          "execution_count": null
        }
      ],
      "source": [
        "    print e\n"
      ]
    },
    {
      "cell_type": "markdown",
      "metadata": {},
      "source": [
        "\n"
      ]
    },
    {
      "cell_type": "markdown",
      "metadata": {},
      "source": [
        "### \u25b6 The mysterious key type conversion\n"
      ]
    },
    {
      "cell_type": "code",
      "execution_count": null,
      "metadata": {
        "collapsed": true
      },
      "outputs": [
        {
          "data": {
            "text/plain": []
          },
          "output_type": "execute_result",
          "metadata": {},
          "execution_count": null
        }
      ],
      "source": [
        "class SomeClass(str):\n",
        "    pass\n",
        "\n",
        "some_dict = {'s': 42}\n"
      ]
    },
    {
      "cell_type": "markdown",
      "metadata": {},
      "source": [
        "\n",
        "**K\u1ebft qu\u1ea3:**\n"
      ]
    },
    {
      "cell_type": "code",
      "execution_count": null,
      "metadata": {
        "collapsed": true
      },
      "outputs": [
        {
          "data": {
            "text/plain": [
              "str\n"
            ]
          },
          "output_type": "execute_result",
          "metadata": {},
          "execution_count": null
        }
      ],
      "source": [
        "type(list(some_dict.keys())[0])\n"
      ]
    },
    {
      "cell_type": "code",
      "execution_count": null,
      "metadata": {
        "collapsed": true
      },
      "outputs": [
        {
          "data": {
            "text/plain": [
              "{'s': 40}\n"
            ]
          },
          "output_type": "execute_result",
          "metadata": {},
          "execution_count": null
        }
      ],
      "source": [
        "s = SomeClass('s')\n",
        "some_dict[s] = 40\n",
        "some_dict # Gi\u00e1 tr\u1ecb mong \u0111\u1ee3i: Hai c\u1eb7p kho\u00e1 v\u00e0 gi\u00e1 tr\u1ecb kh\u00e1c nhau\n"
      ]
    },
    {
      "cell_type": "code",
      "execution_count": null,
      "metadata": {
        "collapsed": true
      },
      "outputs": [
        {
          "data": {
            "text/plain": [
              "str\n"
            ]
          },
          "output_type": "execute_result",
          "metadata": {},
          "execution_count": null
        }
      ],
      "source": [
        "type(list(some_dict.keys())[0])\n"
      ]
    },
    {
      "cell_type": "markdown",
      "metadata": {},
      "source": [
        "\n"
      ]
    },
    {
      "cell_type": "markdown",
      "metadata": {},
      "source": [
        "#### \ud83d\udca1 Gi\u1ea3i th\u00edch:\n",
        "\n",
        "* C\u1ea3 \u0111\u1ed1i t\u01b0\u1ee3ng `s` v\u00e0 string `\"s\"` khi \u0111\u01b0\u1ee3c b\u0103m (hash) s\u1ebd cho ra c\u00f9ng m\u1ed9t gi\u00e1 tr\u1ecb \u1edfi `SomeClass` th\u1eeba k\u1ebf ph\u01b0\u01a1ng th\u1ee9c `__hash__` c\u1ee7a l\u1edbp `str`.\n",
        "* `SomeClass(\"s\") == \"s\"`  b\u1eb1ng `True` b\u1edfi v\u00ec `SomeClass` c\u0169ng th\u1eeba k\u1ebf ph\u01b0\u01a1ng th\u1ee9c `__eq__` t\u1eeb l\u1edbp `str` .\n",
        "* B\u1edfi v\u00ec c\u1ea3 hai \u0111\u1ed1i t\u01b0\u1ee3ng n\u00e0y khi b\u0103m cho ra c\u00f9ng gi\u00e1 tr\u1ecb v\u00e0 b\u1eb1ng nhau n\u00ean ch\u00fang \u0111\u01b0\u1ee3c bi\u1ec3u di\u1ec5n b\u1edfi c\u00f9ng m\u1ed9t kho\u00e1 trong t\u1eeb \u0111i\u1ec3n.\n",
        "* \u0110\u1ec3 c\u00f3 \u0111\u01b0\u1ee3c k\u1ebft qu\u1ea3 nh\u01b0 mong mu\u1ed1n v\u1edbi hai c\u1eb7p gi\u00e1 kho\u00e1 v\u00e0 gi\u00e1 tr\u1ecb kh\u00e1c nhau, ch\u00fang ta c\u00f3 th\u1ec3 \u0111\u1ecbnh ngh\u0129a ph\u01b0\u01a1ng th\u1ee9c `__eq__` trong `SomeClass`\n",
        "\n"
      ]
    },
    {
      "cell_type": "code",
      "execution_count": null,
      "metadata": {
        "collapsed": true
      },
      "outputs": [
        {
          "data": {
            "text/plain": []
          },
          "output_type": "execute_result",
          "metadata": {},
          "execution_count": null
        }
      ],
      "source": [
        "  class SomeClass(str):\n",
        "    def __eq__(self, other):\n",
        "        return (\n",
        "            type(self) is SomeClass\n",
        "            and type(other) is SomeClass\n",
        "            and super().__eq__(other)\n",
        "        )\n",
        "\n",
        "    # Khi ch\u00fang ta ta \u0111\u1ecbnh ngh\u0129a m\u1ed9t ph\u01b0\u01a1ng th\u1ee9c __eq__ tu\u1ef3 ch\u1ec9nh, Python t\u1ef1 \u0111\u1ed9ng d\u1eebng vi\u1ec7c th\u1eeba k\u1ebf\n",
        "    # v\u00e0 ch\u00fang ta c\u0169ng c\u1ea7n \u0111\u1ecbnh ngh\u0129a ph\u01b0\u01a1n th\u1ee9c __hash__ ,\n",
        "    __hash__ = str.__hash__\n",
        "\n",
        "  some_dict = {'s':42}\n"
      ]
    },
    {
      "cell_type": "markdown",
      "metadata": {},
      "source": [
        "\n",
        "  **K\u1ebft qu\u1ea3:**\n"
      ]
    },
    {
      "cell_type": "code",
      "execution_count": null,
      "metadata": {
        "collapsed": true
      },
      "outputs": [
        {
          "data": {
            "text/plain": [
              "  {'s': 40, 's': 42}\n"
            ]
          },
          "output_type": "execute_result",
          "metadata": {},
          "execution_count": null
        }
      ],
      "source": [
        "  s = SomeClass('s')\n",
        "  some_dict[s] = 40\n",
        "  some_dict\n"
      ]
    },
    {
      "cell_type": "code",
      "execution_count": null,
      "metadata": {
        "collapsed": true
      },
      "outputs": [
        {
          "data": {
            "text/plain": [
              "  (__main__.SomeClass, str)\n"
            ]
          },
          "output_type": "execute_result",
          "metadata": {},
          "execution_count": null
        }
      ],
      "source": [
        "  keys = list(some_dict.keys())\n",
        "  type(keys[0]), type(keys[1])\n"
      ]
    },
    {
      "cell_type": "markdown",
      "metadata": {},
      "source": [
        "\n"
      ]
    },
    {
      "cell_type": "markdown",
      "metadata": {},
      "source": [
        "### \u25b6 Let's see if you can guess this?\n"
      ]
    },
    {
      "cell_type": "code",
      "execution_count": null,
      "metadata": {
        "collapsed": true
      },
      "outputs": [
        {
          "data": {
            "text/plain": []
          },
          "output_type": "execute_result",
          "metadata": {},
          "execution_count": null
        }
      ],
      "source": [
        "a, b = a[b] = {}, 5\n"
      ]
    },
    {
      "cell_type": "markdown",
      "metadata": {},
      "source": [
        "\n",
        "**K\u1ebft qu\u1ea3:**\n"
      ]
    },
    {
      "cell_type": "code",
      "execution_count": null,
      "metadata": {
        "collapsed": true
      },
      "outputs": [
        {
          "data": {
            "text/plain": [
              "{5: ({...}, 5)}\n"
            ]
          },
          "output_type": "execute_result",
          "metadata": {},
          "execution_count": null
        }
      ],
      "source": [
        "a\n"
      ]
    },
    {
      "cell_type": "markdown",
      "metadata": {},
      "source": [
        "\n"
      ]
    },
    {
      "cell_type": "markdown",
      "metadata": {},
      "source": [
        "#### \ud83d\udca1 Gi\u1ea3i th\u00edch:\n",
        "\n",
        "* D\u1ef1a tr\u00ean [ngu\u1ed3n tham kh\u1ea3o ng\u00f4n ng\u1eef Python](https://docs.python.org/2/reference/simple_stmts.html#assignment-statements), c\u00e1c c\u00e2u l\u1ec7nh g\u00e1n s\u1ebd c\u00f3 c\u00e1ch khai b\u00e1o nh\u01b0 sau\n",
        "  ```\n",
        "  (target_list \"=\")+ (expression_list | yield_expression)\n",
        "  ```\n",
        "  v\u00e0\n",
        "M\u1ed9t c\u00e2u l\u1ec7nh g\u00e1n \u0111\u00e1nh gi\u00e1 m\u1ed9t danh s\u00e1ch bi\u1ec3u di\u1ec5n(nh\u1edb r\u1eb1ng \u0111\u00e2y c\u00f3 th\u1ec3 l\u00e0 m\u1ed9t bi\u1ec3u di\u1ec5n \u0111\u01a1n l\u1ebb ho\u1eb7c m\u1ed9t danh s\u00e1ch c\u00e1c bi\u1ec3u di\u1ec5n \u0111\u01b0\u1ee3c ph\u00e2n c\u00e1ch b\u1edfi d\u1ea5u ph\u1ea9y, \u0111\u1ed1i v\u1edbi tr\u01b0\u1eddng h\u1ee3p ph\u00eda sau th\u00ec sainh ra m\u1ed9t tuple) v\u00e0 g\u00e1n \u0111\u1ed1i t\u01b0\u1ee3ng k\u1ebft qu\u1ea3 \u0111\u01a1n cho m\u1ed7i m\u1ed9t danh s\u00e1ch m\u1ee5c ti\u00eau, t\u1eeb tr\u00e1i sang ph\u1ea3i. \n",
        "\n",
        "\n",
        "* To\u00e1n t\u1eed `+` trong `(target_list \"=\")+` c\u00f3 ngh\u0129a l\u00e0 c\u00f3 th\u1ec3 c\u00f3 **m\u1ed9t hay nhi\u1ec1u** danh s\u00e1ch m\u1ee5c ti\u00eau (target lists). Trong tr\u01b0\u1eddng h\u1ee3p n\u00e0y, c\u00e1c danh s\u00e1ch m\u1ee5c ti\u00eau l\u00e0 `a, b` v\u00e0 `a[b]` (ch\u00fa \u00fd l\u00e0 danh s\u00e1ch bi\u1ec3u di\u1ec5n ch\u1ec9 c\u00f3 ch\u00ednh x\u00e1c m\u1ed9t, trong tr\u01b0\u1eddng h\u1ee3p c\u1ee7a ch\u00fang ta l\u00e0 `{}, 5`)\n",
        "\n",
        "\n",
        "* Sau khi bi\u1ec3u di\u1ec5n danh s\u00e1ch \u0111\u01b0\u1ee3c \u0111\u00e1nh gi\u00e1, gi\u00e1 tr\u1ecb c\u1ee7a n\u00f3 \u0111\u01b0\u1ee3c gi\u1ea3i n\u00e9n th\u00e0nh c\u00e1c danh s\u00e1ch \u0111\u01b0\u1ee3c gi\u1ea3i n\u00e9n th\u00e0nh c\u00e1c danh s\u00e1ch m\u1ee5c ti\u00eau t\u1eeb **tr\u00e1i sang ph\u1ea3i**. Do \u0111\u00f3, trong tr\u01b0\u1eddng h\u1ee3p c\u1ee7a ch\u00fang ta, \u0111\u1ea7u ti\u00ean tuple `{}, 5` \u0111\u01b0\u1ee3c gi\u1ea3i n\u00e9n ra `a, b` v\u00e0 ch\u00fang ta c\u00f3 `a = {}` v\u00e0 `b = 5`.\n",
        "\n",
        "* `a` \u0111\u01b0\u1ee3c g\u00e1n cho `{}`, \u0111\u00e2y l\u00e0 m\u1ed9t \u0111\u1ed1i t\u01b0\u1ee3ng c\u00f3 th\u1ec3 thay \u0111\u1ed5i \u0111\u01b0\u1ee3c gi\u00e1 tr\u1ecb (mutable object).\n",
        "\n",
        "* Danh s\u00e1ch m\u1ee5c ti\u00eau th\u1ee9 hai l\u00e0 `a[b]` (b\u1ea1n c\u00f3 th\u1ec3 c\u00f3 th\u1ec3 ngh\u0129 ta s\u1ebd g\u1eb7p m\u1ed9t l\u1ed7i b\u1edfi v\u00ec c\u1ea3 `a` v\u00e0 `b` \u0111\u1ec1u ch\u01b0a \u0111\u01b0\u1ee3c \u0111\u1ecbnh ngh\u0129a trong c\u00e1c c\u00e2u l\u1ec7nh tr\u01b0\u1edbc \u0111\u00f3. Nh\u01b0ng nh\u1edb r\u1eb1ng, ch\u00fang ta \u0111\u00e3 g\u00e1n `a` b\u1eb1ng `{}` v\u00e0 `b` b\u1eb1ng `5`).\n",
        "\n",
        "* B\u00e2y gi\u1edd, ch\u00fang ta thi\u1ebft l\u1eadp kho\u00e1 `5` trong t\u1eeb \u0111i\u1ec3n v\u1edbi gi\u00e1 tr\u1ecb l\u00e0 tuple `({}, 5)` t\u1ea1o ra m\u1ed9t tham chi\u1ebfu v\u00f2ng tr\u00f2n (`{...}` trong k\u1ebft qu\u1ea3 tr\u1ecf t\u1edbi c\u00f9ng m\u1ed9t \u0111\u1ed1i t\u01b0\u1ee3ng m\u00e0 `a` \u0111\u00e3 \u0111ang tham chi\u1ebfu). M\u1ed9t v\u00ed d\u1ee5 \u0111\u01a1n gi\u1ea3n h\u01a1n v\u1ec1 tham chi\u1ebfu v\u00f2ng tr\u00f2n l\u00e0\n"
      ]
    },
    {
      "cell_type": "code",
      "execution_count": null,
      "metadata": {
        "collapsed": true
      },
      "outputs": [
        {
          "data": {
            "text/plain": [
              "  [[...]]\n"
            ]
          },
          "output_type": "execute_result",
          "metadata": {},
          "execution_count": null
        }
      ],
      "source": [
        "  some_list = some_list[0] = [0]\n",
        "  some_list\n"
      ]
    },
    {
      "cell_type": "code",
      "execution_count": null,
      "metadata": {
        "collapsed": true
      },
      "outputs": [
        {
          "data": {
            "text/plain": [
              "  [[...]]\n"
            ]
          },
          "output_type": "execute_result",
          "metadata": {},
          "execution_count": null
        }
      ],
      "source": [
        "  some_list[0]\n"
      ]
    },
    {
      "cell_type": "code",
      "execution_count": null,
      "metadata": {
        "collapsed": true
      },
      "outputs": [
        {
          "data": {
            "text/plain": [
              "  True\n"
            ]
          },
          "output_type": "execute_result",
          "metadata": {},
          "execution_count": null
        }
      ],
      "source": [
        "  some_list is some_list[0]\n"
      ]
    },
    {
      "cell_type": "code",
      "execution_count": null,
      "metadata": {
        "collapsed": true
      },
      "outputs": [
        {
          "data": {
            "text/plain": [
              "  True\n"
            ]
          },
          "output_type": "execute_result",
          "metadata": {},
          "execution_count": null
        }
      ],
      "source": [
        "  some_list[0][0][0][0][0][0] == some_list\n"
      ]
    },
    {
      "cell_type": "markdown",
      "metadata": {},
      "source": [
        " T\u01b0\u01a1ng t\u1ef1 l\u00e0 trong v\u00ed d\u1ee5 c\u1ee7a ch\u00fang ta (`a[b][0]` l\u00e0 c\u00f9ng \u0111\u1ed1i t\u01b0\u1ee3ng v\u1edbi `a`)\n",
        "\n",
        "* T\u1ed5ng k\u1ebft l\u1ea1i, b\u1ea1n c\u00f3 th\u1ec3 chia v\u00ed d\u1ee5 n\u00e0y ra\n"
      ]
    },
    {
      "cell_type": "code",
      "execution_count": null,
      "metadata": {
        "collapsed": true
      },
      "outputs": [
        {
          "data": {
            "text/plain": []
          },
          "output_type": "execute_result",
          "metadata": {},
          "execution_count": null
        }
      ],
      "source": [
        "  a, b = {}, 5\n",
        "  a[b] = a, b\n"
      ]
    },
    {
      "cell_type": "markdown",
      "metadata": {},
      "source": [
        "  V\u00e0 tham chi\u1ebfu v\u00f2ng c\u00f3 th\u1ec3 \u0111\u01b0\u1ee3c bi\u1ec7n h\u1ed9 b\u1edfi m\u1ed9t \u0111i\u1ec1u l\u00e0 `a[b][0]` l\u00e0 \u0111\u1ed1i t\u01b0\u1ee3ng gi\u1ed1ng  `a`\n"
      ]
    },
    {
      "cell_type": "code",
      "execution_count": null,
      "metadata": {
        "collapsed": true
      },
      "outputs": [
        {
          "data": {
            "text/plain": [
              "  True\n"
            ]
          },
          "output_type": "execute_result",
          "metadata": {},
          "execution_count": null
        }
      ],
      "source": [
        "  a[b][0] is a\n"
      ]
    },
    {
      "cell_type": "markdown",
      "metadata": {},
      "source": [
        "\n"
      ]
    },
    {
      "cell_type": "markdown",
      "metadata": {},
      "source": [
        "### \u25b6 Modifying a dictionary while iterating over it\n"
      ]
    },
    {
      "cell_type": "code",
      "execution_count": null,
      "metadata": {
        "collapsed": true
      },
      "outputs": [
        {
          "data": {
            "text/plain": []
          },
          "output_type": "execute_result",
          "metadata": {},
          "execution_count": null
        }
      ],
      "source": [
        "x = {0: None}\n",
        "\n",
        "for i in x:\n",
        "    del x[i]\n",
        "    x[i+1] = None\n",
        "    print(i)\n"
      ]
    },
    {
      "cell_type": "markdown",
      "metadata": {},
      "source": [
        "\n",
        "**K\u1ebft qu\u1ea3 (\u00c1p d\u1ee5ng cho c\u00e1c phi\u00ean b\u1ea3n Python 2.7- Python 3.5):**\n",
        "\n",
        "```\n",
        "0\n",
        "1\n",
        "2\n",
        "3\n",
        "4\n",
        "5\n",
        "6\n",
        "7\n",
        "```\n",
        "\n",
        "V\u00f2ng l\u1eb7p ch\u1ea1y \u0111\u00fang *t\u00e1m* l\u1ea7n r\u1ed3i d\u1eebng l\u1ea1i\n",
        "\n"
      ]
    },
    {
      "cell_type": "markdown",
      "metadata": {},
      "source": [
        "#### \ud83d\udca1 Gi\u1ea3i th\u00edch:\n",
        "\n",
        "* Vi\u1ec7c l\u1eb7p v\u00e0 ch\u1ec9nh s\u1eeda m\u1ed9t t\u1eeb \u0111i\u1ec3n c\u00f9ng m\u1ed9t l\u00fac kh\u00f4ng \u0111\u01b0\u1ee3c h\u1ed7 tr\u1ee3.\n",
        "* C\u00f3 t\u00e1m l\u1ea7n ch\u1ea1y b\u1edfi v\u00ec t\u1ea1i th\u1eddi \u0111i\u1ec3m d\u1eebng \u0111\u00f3 l\u00e0 l\u00fac t\u1eeb \u0111i\u1ec3n \u0111i\u1ec1u ch\u1ec9nh k\u00edch th\u01b0\u1edbc \u0111\u1ec3 gi\u1eef th\u00eam nhi\u1ec1u kho\u00e1 h\u01a1n (ch\u00fang ta c\u00f3 t\u00e1m ph\u1ea7n t\u1eeb xo\u00e1, do \u0111\u00f3 \u0111i\u1ec1u ch\u1ec9nh k\u00edch th\u01b0\u1edbc l\u00e0 c\u1ea7n thi\u1ebft). \u0110\u00e2y th\u1ef1c s\u1ef1 l\u00e0 m\u1ed9t chi ti\u1ebft trong tri\u1ec3n khai.\n",
        "* C\u00e1ch c\u00e1c kho\u00e1 b\u1ecb xo\u00e1 \u0111\u01b0\u1ee3c x\u1eed l\u00fd v\u00e0 khi nao th\u00ec vi\u1ec7c \u0111i\u1ec1u ch\u1ec9nh k\u00edch th\u01b0\u1edbc di\u1ec5n ra s\u1ebd kh\u00e1c bi\u1ec7t \u0111\u1ed1i v\u1edbi c\u00e1c phi\u00ean b\u1ea3n Python kh\u00e1c nhau\n",
        "* Do \u0111\u00f3 c\u00e1c phi\u00ean b\u1ea3n Python l\u1edbn h\u01a1n 2.7 v\u00e0 nh\u1ecf h\u01a1n 3.5, s\u1ed1 l\u01b0\u1ee3ng c\u00e1 kho\u00e1 c\u00f3 th\u1ec3 gi\u1eef dao \u0111\u1ed9ng t\u1eeb 8 (nh\u01b0ng khi b\u1ea1n ch\u1ea1y th\u00ec con s\u1ed1 n\u00e0y s\u1ebd kh\u00f4ng thay \u0111\u1ed5i gi\u1eefa c\u00e1c l\u1ea7n ch\u1ea1y). B\u1ea1n c\u00f3 th\u1ec3 xem th\u00eam c\u00e1c th\u1ea3o lu\u1eadn kh\u00e1c \u1edf [\u0111\u00e2y](https://github.com/satwikkansal/wtfpython/issues/53) ho\u1eb7c tr\u00ean Stackoverflow t\u1ea1i [\u0111\u00e2y](https://stackoverflow.com/questions/44763802/bug-in-python-dict)\n",
        "* T\u1eeb phi\u00ean b\u1ea3n 3.7.6 tr\u1edf \u0111i, b\u1ea1n s\u1ebd g\u1eb7p ngo\u1ea1i l\u1ec7 `RuntimeError: dictionary keys changed during iteration` khi b\u1ea1n c\u1ed1 g\u1eafng th\u1eed v\u00ed d\u1ee5 tr\u00ean.\n"
      ]
    },
    {
      "cell_type": "markdown",
      "metadata": {},
      "source": [
        "### \u25b6 The out of scope variable\n"
      ]
    },
    {
      "cell_type": "code",
      "execution_count": null,
      "metadata": {
        "collapsed": true
      },
      "outputs": [
        {
          "data": {
            "text/plain": []
          },
          "output_type": "execute_result",
          "metadata": {},
          "execution_count": null
        }
      ],
      "source": [
        "a = 1\n",
        "def some_func():\n",
        "    return a\n",
        "\n",
        "def another_func():\n",
        "    a += 1\n",
        "    return a\n"
      ]
    },
    {
      "cell_type": "markdown",
      "metadata": {},
      "source": [
        "\n",
        "**K\u1ebft qu\u1ea3:**\n"
      ]
    },
    {
      "cell_type": "code",
      "execution_count": null,
      "metadata": {
        "collapsed": true
      },
      "outputs": [
        {
          "data": {
            "text/plain": [
              "1\n"
            ]
          },
          "output_type": "execute_result",
          "metadata": {},
          "execution_count": null
        }
      ],
      "source": [
        "some_func()\n"
      ]
    },
    {
      "cell_type": "code",
      "execution_count": null,
      "metadata": {
        "collapsed": true
      },
      "outputs": [
        {
          "data": {
            "text/plain": [
              "UnboundLocalError: local variable 'a' referenced before assignment (tham chi\u1ebfu t\u1edbi 'a' tr\u01b0\u1edbc khi g\u00e1n gi\u00e1 tr\u1ecb)\n"
            ]
          },
          "output_type": "execute_result",
          "metadata": {},
          "execution_count": null
        }
      ],
      "source": [
        "another_func()\n"
      ]
    },
    {
      "cell_type": "markdown",
      "metadata": {},
      "source": [
        "\n"
      ]
    },
    {
      "cell_type": "markdown",
      "metadata": {},
      "source": [
        "#### \ud83d\udca1 Gi\u1ea3i th\u00edch:\n",
        "* Khi b\u1ea1n g\u00e1n gi\u00e1 tr\u1ecb cho m\u1ed9t bi\u1ebfn trong m\u1ed9t ph\u1ea1m vi, th\u00ec bi\u1ebfn n\u00e0y tr\u1edf th\u00e0nh c\u1ee5c b\u1ed9 cho ph\u1ea1m vi \u0111\u00f3. Do \u0111\u00f3 `a` tr\u1edf th\u00e0nh c\u1ee5c b\u1ed9 \u0111\u1ed1i v\u1edbi `another_func`, nh\u01b0ng n\u00f3 ch\u01b0a \u0111\u01b0\u1ee3c kh\u1edfi t\u1ea1o trong c\u00f9ng ph\u1ea1m vi, n\u00ean ta g\u1eb7p l\u1ed7i v\u1ec1 tham chi\u1ebfu ph\u00eda tr\u00ean.\n",
        "* \u0110\u1ecdc [b\u00e0i n\u00e0y](http://sebastianraschka.com/Articles/2014_python_scope_and_namespaces.html) \u0111\u1ec3 h\u1ecdc v\u1ec1 c\u00e1ch ho\u1ea1t \u0111\u1ed9ng c\u1ee7a c\u00e1c kh\u00f4ng gian t\u00ean (namespaces) v\u00e0 vi\u1ec7c ph\u00e2n gi\u1ea3i ph\u1ea1m vi trong Python.\n",
        "* \u0110\u1ec3 thay \u0111\u1ed5i bi\u00ean b\u00ean ngo\u00e0i ph\u1ea1m vi `a` b\u00ean trong h\u00e0m `another_func`, s\u1eed d\u1ee5ng t\u1eeb kho\u00e1 `global`\n"
      ]
    },
    {
      "cell_type": "code",
      "execution_count": null,
      "metadata": {
        "collapsed": true
      },
      "outputs": [
        {
          "data": {
            "text/plain": []
          },
          "output_type": "execute_result",
          "metadata": {},
          "execution_count": null
        }
      ],
      "source": [
        "  def another_func()\n",
        "      global a\n",
        "      a += 1\n",
        "      return a\n"
      ]
    },
    {
      "cell_type": "markdown",
      "metadata": {},
      "source": [
        "\n",
        "  **K\u1ebft qu\u1ea3:**\n"
      ]
    },
    {
      "cell_type": "code",
      "execution_count": null,
      "metadata": {
        "collapsed": true
      },
      "outputs": [
        {
          "data": {
            "text/plain": [
              "  2\n"
            ]
          },
          "output_type": "execute_result",
          "metadata": {},
          "execution_count": null
        }
      ],
      "source": [
        "  another_func()\n"
      ]
    },
    {
      "cell_type": "markdown",
      "metadata": {},
      "source": [
        "\n"
      ]
    },
    {
      "cell_type": "markdown",
      "metadata": {},
      "source": [
        "### \u25b6 Deleting a list item while iterating\n"
      ]
    },
    {
      "cell_type": "code",
      "execution_count": null,
      "metadata": {
        "collapsed": true
      },
      "outputs": [
        {
          "data": {
            "text/plain": []
          },
          "output_type": "execute_result",
          "metadata": {},
          "execution_count": null
        }
      ],
      "source": [
        "list_1 = [1, 2, 3, 4]\n",
        "list_2 = [1, 2, 3, 4]\n",
        "list_3 = [1, 2, 3, 4]\n",
        "list_4 = [1, 2, 3, 4]\n",
        "\n",
        "for idx, item in enumerate(list_1):\n",
        "    del item\n",
        "\n",
        "for idx, item in enumerate(list_2):\n",
        "    list_2.remove(item)\n",
        "\n",
        "for idx, item in enumerate(list_3[:]):\n",
        "    list_3.remove(item)\n",
        "\n",
        "for idx, item in enumerate(list_4):\n",
        "    list_4.pop(idx)\n"
      ]
    },
    {
      "cell_type": "markdown",
      "metadata": {},
      "source": [
        "\n",
        "**K\u1ebft qu\u1ea3:**\n"
      ]
    },
    {
      "cell_type": "code",
      "execution_count": null,
      "metadata": {
        "collapsed": true
      },
      "outputs": [
        {
          "data": {
            "text/plain": [
              "[1, 2, 3, 4]\n"
            ]
          },
          "output_type": "execute_result",
          "metadata": {},
          "execution_count": null
        }
      ],
      "source": [
        "list_1\n"
      ]
    },
    {
      "cell_type": "code",
      "execution_count": null,
      "metadata": {
        "collapsed": true
      },
      "outputs": [
        {
          "data": {
            "text/plain": [
              "[2, 4]\n"
            ]
          },
          "output_type": "execute_result",
          "metadata": {},
          "execution_count": null
        }
      ],
      "source": [
        "list_2\n"
      ]
    },
    {
      "cell_type": "code",
      "execution_count": null,
      "metadata": {
        "collapsed": true
      },
      "outputs": [
        {
          "data": {
            "text/plain": [
              "[]\n"
            ]
          },
          "output_type": "execute_result",
          "metadata": {},
          "execution_count": null
        }
      ],
      "source": [
        "list_3\n"
      ]
    },
    {
      "cell_type": "code",
      "execution_count": null,
      "metadata": {
        "collapsed": true
      },
      "outputs": [
        {
          "data": {
            "text/plain": [
              "[2, 4]\n"
            ]
          },
          "output_type": "execute_result",
          "metadata": {},
          "execution_count": null
        }
      ],
      "source": [
        "list_4\n"
      ]
    },
    {
      "cell_type": "markdown",
      "metadata": {},
      "source": [
        "\n",
        "V\u00ec sao l\u1ea1i c\u00f3 k\u1ebft qu\u1ea3 l\u00e0 `[2, 4]`?\n"
      ]
    },
    {
      "cell_type": "markdown",
      "metadata": {},
      "source": [
        "#### \ud83d\udca1 Gi\u1ea3i th\u00edch:\n",
        "\n",
        "* Thay \u0111\u1ed5i \u0111\u1ed1i t\u01b0\u1ee3ng trong khi l\u1eb7p kh\u00f4ng ph\u1ea3i l\u00e0 m\u1ed9t c\u00e1ch l\u00e0m hay. C\u00e1ch th\u1ef1c hi\u1ec7n \u0111\u00fang l\u00e0 l\u1eb7p qua m\u1ed9t b\u1ea3n sao c\u1ee7a ch\u00ednh \u0111\u1ed1i t\u01b0\u1ee3ng \u0111\u00f3 nh\u01b0 tr\u01b0\u1eddng h\u1ee3p s\u1eed d\u1ee5ng `list_3[:]`\n",
        "\n"
      ]
    },
    {
      "cell_type": "code",
      "execution_count": null,
      "metadata": {
        "collapsed": true
      },
      "outputs": [
        {
          "data": {
            "text/plain": [
              "     139798789457608\n"
            ]
          },
          "output_type": "execute_result",
          "metadata": {},
          "execution_count": null
        }
      ],
      "source": [
        "     some_list = [1, 2, 3, 4]\n",
        "     id(some_list)\n"
      ]
    },
    {
      "cell_type": "code",
      "execution_count": null,
      "metadata": {
        "collapsed": true
      },
      "outputs": [
        {
          "data": {
            "text/plain": [
              "     139798779601192\n"
            ]
          },
          "output_type": "execute_result",
          "metadata": {},
          "execution_count": null
        }
      ],
      "source": [
        "     id(some_list[:]) # Ch\u00fa \u00fd r\u1eb1ng Python t\u1ea1o m\u1ed9t \u0111\u1ed1i t\u01b0\u1ee3ng m\u1edbi sinh ra t\u1eeb vi\u1ec7c c\u1eaft (slice) list.\n"
      ]
    },
    {
      "cell_type": "markdown",
      "metadata": {},
      "source": [
        "\n",
        "**S\u1ef1 kh\u00e1c bi\u1ec7t gi\u1eefa `del`, `remove`, v\u00e0 `pop`:**\n",
        "* `del var_name` ch\u1ec9 lo\u1ea1i b\u1ecf s\u1ef1 c\u00f3 m\u0103t c\u1ee7a `var_name` kh\u1ecfi kh\u00f4 gian t\u00ean c\u1ee5c b\u1ed9 v\u00e0 to\u00e0n c\u1ee5c (\u0111\u00f3 la l\u00fd do t\u1ea1i sao `list_1` kh\u00f4ng b\u1ecb \u1ea3nh h\u01b0\u1edfng ) \n",
        "* `remove` lo\u1ea1i b\u1ecf gi\u00e1 tr\u1ecb \u0111\u01b0\u1ee3c kh\u1edbp \u0111\u1ea7u ti\u00ean, kh\u00f4ng ph\u1ea3i t\u1ea1i m\u1ed9t ch\u1ec9 s\u1ed1 c\u1ee5 th\u1ec3, ngo\u1ea1i l\u1ec7 `ValueError` s\u1ebd x\u1ea3y ra n\u1ebfu gi\u00e1 tr\u1ecb mu\u1ed1n lo\u1ea1i b\u1ecf kh\u00f4ng t\u1ed3n t\u1ea1i.\n",
        "* `pop` lo\u1ea1i b\u1ecf ph\u1ea7n t\u1eed c\u1ee7a danh s\u00e1ch \u1edf m\u1ed7i ch\u1ec9 s\u1ed1 c\u1ee5 th\u1ec3 v\u00e0 tr\u1ea3 v\u1ec1 ph\u1ea7n t\u1eeb \u0111\u00f3, `pop` s\u1ebd kh\u1edfi l\u00ean `IndexError` n\u1ebfu n\u00f3 nh\u1eadn m\u1ed9t ch\u1ec9 s\u1ed1 kh\u00f4ng h\u1ee3p l\u1ec7\n",
        "\n",
        "**T\u1ea1i sao k\u1ebft qu\u1ea3 l\u1ea1i ra `[2, 4]`?**\n",
        "- Vi\u1ec7c l\u1eb7p qua danh s\u00e1ch \u0111\u01b0\u1ee3c th\u1ef1c hi\u1ec7n theo t\u1eebng ch\u1ec9 s\u1ed1 m\u1ed9t, v\u00e0 khi ch\u00fang ta lo\u1ea1i b\u1ecf `1` kh\u1ecfi `list_2` hay `list_4`, c\u00e1c danh s\u00e1ch n\u00e0y s\u1ebd c\u00f2n l\u1ea1i `[2, 3, 4]`. C\u00e1c ph\u1ea7n t\u1eed c\u00f2n l\u1ea1i trong list \u0111\u01b0\u1ee3c d\u1ecbch chuy\u1ec3n sang tr\u00e1i, v\u00ed d\u1ee5 nh\u01b0 `2` s\u1ebd c\u00f3 ch\u1ec9 s\u1ed1 l\u00e0 0, v\u00e0 `3` c\u00f3 ch\u1ec9 s\u1ed1 l\u00e0 1. Do l\u1ea7n l\u1eb7p ti\u1ebfp theo s\u1ebd x\u1eed l\u00fd ph\u1ea7n t\u1eed c\u00f3 ch\u1ec9 s\u1ed1 l\u00e0 1 (`3`), n\u00ean ph\u1ea7n t\u1eed t\u1ea1i ch\u1ec9 s\u1ed1 0 (`2`) s\u1ebd b\u1ecb b\u1ecf qua. \n",
        "\n",
        "* Xem th\u00eam t\u1ea1i StackOverflow [thread](https://stackoverflow.com/questions/45946228/what-happens-when-you-try-to-delete-a-list-element-while-iterating-over-it) explaining the example\n",
        "* V\u00e0 xem th\u00eam \u1edf \u0111\u00e2y \u0111\u1ec3 c\u00f3 c\u00e1c v\u00ed d\u1ee5 li\u00ean quan t\u1edbi c\u00e1c t\u1eeb \u0111i\u1ec3n [thread](https://stackoverflow.com/questions/45877614/how-to-change-all-the-dictionary-keys-in-a-for-loop-with-d-items).\n",
        "\n"
      ]
    },
    {
      "cell_type": "markdown",
      "metadata": {},
      "source": [
        "### \u25b6 Lossy zip of iterators *\n"
      ]
    },
    {
      "cell_type": "code",
      "execution_count": null,
      "metadata": {
        "collapsed": true
      },
      "outputs": [
        {
          "data": {
            "text/plain": [
              "[0, 1, 2, 3, 4, 5, 6]\n"
            ]
          },
          "output_type": "execute_result",
          "metadata": {},
          "execution_count": null
        }
      ],
      "source": [
        "numbers = list(range(7))\n",
        "numbers\n"
      ]
    },
    {
      "cell_type": "code",
      "execution_count": null,
      "metadata": {
        "collapsed": true
      },
      "outputs": [
        {
          "data": {
            "text/plain": [
              "([0, 1, 2], [3, 4, 5, 6])\n"
            ]
          },
          "output_type": "execute_result",
          "metadata": {},
          "execution_count": null
        }
      ],
      "source": [
        "first_three, remaining = numbers[:3], numbers[3:]\n",
        "first_three, remaining\n"
      ]
    },
    {
      "cell_type": "code",
      "execution_count": null,
      "metadata": {
        "collapsed": true
      },
      "outputs": [
        {
          "data": {
            "text/plain": [
              "[(0, 0), (1, 1), (2, 2)]\n",
              "# so far so good, let's zip the remaining\n"
            ]
          },
          "output_type": "execute_result",
          "metadata": {},
          "execution_count": null
        }
      ],
      "source": [
        "numbers_iter = iter(numbers)\n",
        "list(zip(numbers_iter, first_three)) \n"
      ]
    },
    {
      "cell_type": "code",
      "execution_count": null,
      "metadata": {
        "collapsed": true
      },
      "outputs": [
        {
          "data": {
            "text/plain": [
              "[(4, 3), (5, 4), (6, 5)]\n"
            ]
          },
          "output_type": "execute_result",
          "metadata": {},
          "execution_count": null
        }
      ],
      "source": [
        "list(zip(numbers_iter, remaining))\n"
      ]
    },
    {
      "cell_type": "markdown",
      "metadata": {},
      "source": [
        "Ph\u1ea7n t\u1eed  `3` trong `numbers` \u0111\u00e2u?\n"
      ]
    },
    {
      "cell_type": "markdown",
      "metadata": {},
      "source": [
        "#### \ud83d\udca1 Gi\u1ea3i th\u00edch:\n",
        "\n",
        "- Theo t\u00e0i li\u1ec7u c\u1ee7a Python [docs](https://docs.python.org/3.3/library/functions.html#zip), tri\u1ec3n khai g\u1ea7n nh\u1ea5t c\u1ee7a h\u00e0m zip nh\u01b0 sau,\n"
      ]
    },
    {
      "cell_type": "code",
      "execution_count": null,
      "metadata": {
        "collapsed": true
      },
      "outputs": [
        {
          "data": {
            "text/plain": []
          },
          "output_type": "execute_result",
          "metadata": {},
          "execution_count": null
        }
      ],
      "source": [
        "    def zip(*iterables):\n",
        "        sentinel = object()\n",
        "        iterators = [iter(it) for it in iterables]\n",
        "        while iterators:\n",
        "            result = []\n",
        "            for it in iterators:\n",
        "                elem = next(it, sentinel)\n",
        "                if elem is sentinel: return\n",
        "                result.append(elem)\n",
        "            yield tuple(result)\n"
      ]
    },
    {
      "cell_type": "markdown",
      "metadata": {},
      "source": [
        "- H\u00e0m n\u00e0y nh\u1eadn v\u00e0o m\u1ed9t s\u1ed1 tu\u1ef3 \u00fd c\u00e1c \u0111\u1ed1i t\u01b0\u1ee3ng c\u00f3 th\u1ec3 l\u1eb7p (iterable objects), th\u00eam m\u1ed7i ph\u1ea7n t\u1eed c\u1ee7a c\u00e1c \u0111\u1ed1i t\u01b0\u1ee3ng n\u00e0y v\u00e0o danh s\u00e1ch `result` th\u00f4ng qua vi\u1ec7c g\u1ecdi h\u00e0m `next` tr\u00ean \u0111\u1ed1i t\u01b0\u1ee3ng n\u00e0y, v\u00e0 d\u01b0ng l\u1ea1i khi \u0111\u00f4i t\u01b0\u1ee3ng n\u00e0y h\u1ebft c\u00e1c ph\u1ea7n t\u1eed \u0111\u1ec3 l\u1eb7p   \n",
        "- Ch\u00fa \u00fd l\u00e0 khi b\u1ea5t c\u1ee9 \u0111\u1ed1i t\u01b0\u1ee3ng l\u1eb7p n\u00e0o c\u1ea1n ki\u1ec7t \u0111\u1ed1i t\u01b0\u1ee3ng l\u1eb7p, c\u00e1c ph\u1ea7n t\u1eed t\u1ed3n t\u1ea1i trong danh s\u00e1ch `result` \u0111\u01b0\u1ee3c b\u1ecf qua. \u0110\u00f3 l\u00e0 nh\u1eefng g\u00ec x\u1ea3y v\u1edbi `3` trong `numbers_iter`\n",
        "- \u0110\u1ec3 th\u1ef1c hi\u1ec7n \u0111\u00fang, ta c\u1ea7n l\u00e0m nh\u01b0 sau\n"
      ]
    },
    {
      "cell_type": "code",
      "execution_count": null,
      "metadata": {
        "collapsed": true
      },
      "outputs": [
        {
          "data": {
            "text/plain": [
              "    [(0, 0), (1, 1), (2, 2)]\n"
            ]
          },
          "output_type": "execute_result",
          "metadata": {},
          "execution_count": null
        }
      ],
      "source": [
        "    numbers = list(range(7))\n",
        "    numbers_iter = iter(numbers)\n",
        "    list(zip(first_three, numbers_iter))\n"
      ]
    },
    {
      "cell_type": "code",
      "execution_count": null,
      "metadata": {
        "collapsed": true
      },
      "outputs": [
        {
          "data": {
            "text/plain": [
              "    [(3, 3), (4, 4), (5, 5), (6, 6)]\n"
            ]
          },
          "output_type": "execute_result",
          "metadata": {},
          "execution_count": null
        }
      ],
      "source": [
        "    list(zip(remaining, numbers_iter))\n"
      ]
    },
    {
      "cell_type": "markdown",
      "metadata": {},
      "source": [
        "    Tham s\u1ed1 \u0111\u1ea7u ti\u00ean c\u1ee7a zip n\u00ean l\u00e0 \u0111\u1ed1i t\u01b0\u1ee3ng c\u00f3 s\u1ed1 l\u01b0\u1ee3ng c\u00e1c ph\u1ea7n t\u1eed \u00edt nh\u1ea5t.\n",
        "\n"
      ]
    },
    {
      "cell_type": "markdown",
      "metadata": {},
      "source": [
        "### \u25b6 Loop variables leaking out!\n",
        "1\\.\n"
      ]
    },
    {
      "cell_type": "code",
      "metadata": {
        "collapsed": true
      },
      "execution_count": null,
      "outputs": [
        {
          "name": "stdout",
          "output_type": "stream",
          "text": []
        }
      ],
      "source": [
        "for x in range(7):\n",
        "    if x == 6:\n",
        "        print(x, ': for x inside loop')\n",
        "print(x, ': x in global')\n"
      ]
    },
    {
      "cell_type": "markdown",
      "metadata": {},
      "source": [
        "\n",
        "**K\u1ebft qu\u1ea3:**\n"
      ]
    },
    {
      "cell_type": "code",
      "execution_count": null,
      "metadata": {
        "collapsed": true
      },
      "outputs": [
        {
          "data": {
            "text/plain": []
          },
          "output_type": "execute_result",
          "metadata": {},
          "execution_count": null
        }
      ],
      "source": [
        "6 : for x inside loop\n",
        "6 : x in global\n"
      ]
    },
    {
      "cell_type": "markdown",
      "metadata": {},
      "source": [
        "\n",
        "Nh\u01b0ng m\u00e0 `x` ch\u01b0a bao gi\u1edd \u0111\u01b0\u1ee3c \u0111\u1ecbnh ngh\u0129a b\u00ean ngo\u00e0i v\u00f2ng l\u1eb7p...\n",
        "2\\.\n"
      ]
    },
    {
      "cell_type": "code",
      "metadata": {
        "collapsed": true
      },
      "execution_count": null,
      "outputs": [
        {
          "name": "stdout",
          "output_type": "stream",
          "text": []
        }
      ],
      "source": [
        "# L\u1ea7n n\u00e0y kh\u1edfi t\u1ea1o x tr\u01b0\u1edbc\n",
        "x = -1\n",
        "for x in range(7):\n",
        "    if x == 6:\n",
        "        print(x, ': for x inside loop')\n",
        "print(x, ': x in global')\n"
      ]
    },
    {
      "cell_type": "markdown",
      "metadata": {},
      "source": [
        "\n",
        "**K\u1ebft qu\u1ea3:**\n"
      ]
    },
    {
      "cell_type": "code",
      "execution_count": null,
      "metadata": {
        "collapsed": true
      },
      "outputs": [
        {
          "data": {
            "text/plain": []
          },
          "output_type": "execute_result",
          "metadata": {},
          "execution_count": null
        }
      ],
      "source": [
        "6 : for x inside loop\n",
        "6 : x in global\n"
      ]
    },
    {
      "cell_type": "markdown",
      "metadata": {},
      "source": [
        "\n",
        "3\\.\n",
        "\n",
        "**K\u1ebft qu\u1ea3 (Python 2.x):**\n"
      ]
    },
    {
      "cell_type": "code",
      "metadata": {
        "collapsed": true
      },
      "execution_count": null,
      "outputs": [
        {
          "name": "stdout",
          "output_type": "stream",
          "text": [
            "[0, 1, 2, 3, 4]\n"
          ]
        }
      ],
      "source": [
        "x = 1\n",
        "print([x for x in range(5)])\n"
      ]
    },
    {
      "cell_type": "code",
      "metadata": {
        "collapsed": true
      },
      "execution_count": null,
      "outputs": [
        {
          "name": "stdout",
          "output_type": "stream",
          "text": [
            "4\n"
          ]
        }
      ],
      "source": [
        "print(x)\n"
      ]
    },
    {
      "cell_type": "markdown",
      "metadata": {},
      "source": [
        "\n",
        "**K\u1ebft qu\u1ea3 (Python 3.x):**\n"
      ]
    },
    {
      "cell_type": "code",
      "metadata": {
        "collapsed": true
      },
      "execution_count": null,
      "outputs": [
        {
          "name": "stdout",
          "output_type": "stream",
          "text": [
            "[0, 1, 2, 3, 4]\n"
          ]
        }
      ],
      "source": [
        "x = 1\n",
        "print([x for x in range(5)])\n"
      ]
    },
    {
      "cell_type": "code",
      "metadata": {
        "collapsed": true
      },
      "execution_count": null,
      "outputs": [
        {
          "name": "stdout",
          "output_type": "stream",
          "text": [
            "1\n"
          ]
        }
      ],
      "source": [
        "print(x)\n"
      ]
    },
    {
      "cell_type": "markdown",
      "metadata": {},
      "source": [
        "\n"
      ]
    },
    {
      "cell_type": "markdown",
      "metadata": {},
      "source": [
        "#### \ud83d\udca1 Gi\u1ea3i th\u00edch:\n",
        "\n",
        "- Trong Python, v\u00f2ng l\u1eb7p for s\u1eed d\u1ee5ng ph\u1ea1m vi m\u00e0 ch\u00fang t\u1ed3n t\u1ea1i b\u00ean trong v\u00e0 \u0111\u1ec3 bi\u1ebfn l\u1eb7p (loop-variable) \u0111\u00e3 \u0111\u01b0\u1ee3c \u0111\u1ecbnh ngh\u0129a c\u1ee7a ch\u00fang \u0111\u1eb1ng sau. \u0110i\u1ec1u n\u00e0y c\u0169ng \u00e1p d\u1ee5ng khi ch\u00fang ta \u0111\u1ecbnh ngh\u0129a r\u00f5 bi\u1ebfn l\u1eb7p trong kh\u00f4ng gian t\u00ean to\u00e0n c\u1ee5c tr\u01b0\u1edbc \u0111\u00f3. Trong tr\u01b0\u1eddng h\u1ee3p n\u00e0y v\u00f2ng l\u1eb7p s\u1ebd g\u1eafn l\u1ea1i bi\u1ebfn \u0111\u00e3 t\u1ed3n t\u1ea1i. \n",
        "\n",
        "- S\u1ef1 kh\u00e1c nhau gi\u1eefa k\u1ebft qu\u1ea3 c\u1ee7a tr\u00ecnh th\u00f4ng d\u1ecbch Python 2.x v\u00e0 Python 3.x li\u00ean quan t\u1edbi v\u00ed d\u1ee5 list comprehension c\u00f3 th\u1ec3 \u0111\u01b0\u1ee3c gi\u1ea3i th\u00edch b\u1eb1ng t\u00e0i li\u1ec7u [Nh\u1eefng \u0111i\u1ec1u m\u1edbi trong Python 3.0](https://docs.python.org/3/whatsnew/3.0.html):\n",
        "\n",
        "    > \"List comprehensions kh\u00f4ng c\u00f2n h\u1ed7 tr\u1ee3 d\u1ea1ng c\u00fa ph\u00e1p `[... for var in item1, item2, ...]`. H\u00e3y S\u1eed d\u1ee5ng `[... for var in (item1, item2, ...)]`. C\u00f2n n\u1eefa, ch\u00fa \u00fd r\u1eb1ng list comprehensions c\u00f3 c\u00e1c ng\u1eef ngh\u0129a kh\u00e1c nhau: ch\u00fang kh\u00e1 g\u1ea7n v\u1edbi c\u00fa ph\u00e1p \u0111\u1eb7c bi\u1ec7t c\u1ee7a m\u1ed9t bi\u1ec3u di\u1ec5n generator b\u00ean trong h\u00e0m x\u00e2y d\u1ef1ng `list()` , v\u00e0 c\u1ee5 th\u1ec3 l\u00e0,  c\u00e1c bi\u1ebfn \u0111i\u1ec1u khi\u1ec3n v\u00f2ng l\u1eb7p kh\u00f4ng c\u00f2n b\u1ecb r\u00f2 r\u1ec9 (leaked) trong ph\u1ea1m vi xung quanh\"\n",
        "\n"
      ]
    },
    {
      "cell_type": "markdown",
      "metadata": {},
      "source": [
        "### \u25b6 Beware of default mutable arguments!\n"
      ]
    },
    {
      "cell_type": "code",
      "execution_count": null,
      "metadata": {
        "collapsed": true
      },
      "outputs": [
        {
          "data": {
            "text/plain": []
          },
          "output_type": "execute_result",
          "metadata": {},
          "execution_count": null
        }
      ],
      "source": [
        "def some_func(default_arg=[]):\n",
        "    default_arg.append(\"some_string\")\n",
        "    return default_arg\n"
      ]
    },
    {
      "cell_type": "markdown",
      "metadata": {},
      "source": [
        "\n",
        "**K\u1ebft qu\u1ea3:**\n"
      ]
    },
    {
      "cell_type": "code",
      "execution_count": null,
      "metadata": {
        "collapsed": true
      },
      "outputs": [
        {
          "data": {
            "text/plain": [
              "['some_string']\n"
            ]
          },
          "output_type": "execute_result",
          "metadata": {},
          "execution_count": null
        }
      ],
      "source": [
        "some_func()\n"
      ]
    },
    {
      "cell_type": "code",
      "execution_count": null,
      "metadata": {
        "collapsed": true
      },
      "outputs": [
        {
          "data": {
            "text/plain": [
              "['some_string', 'some_string']\n"
            ]
          },
          "output_type": "execute_result",
          "metadata": {},
          "execution_count": null
        }
      ],
      "source": [
        "some_func()\n"
      ]
    },
    {
      "cell_type": "code",
      "execution_count": null,
      "metadata": {
        "collapsed": true
      },
      "outputs": [
        {
          "data": {
            "text/plain": [
              "['some_string']\n"
            ]
          },
          "output_type": "execute_result",
          "metadata": {},
          "execution_count": null
        }
      ],
      "source": [
        "some_func([])\n"
      ]
    },
    {
      "cell_type": "code",
      "execution_count": null,
      "metadata": {
        "collapsed": true
      },
      "outputs": [
        {
          "data": {
            "text/plain": [
              "['some_string', 'some_string', 'some_string']\n"
            ]
          },
          "output_type": "execute_result",
          "metadata": {},
          "execution_count": null
        }
      ],
      "source": [
        "some_func()\n"
      ]
    },
    {
      "cell_type": "markdown",
      "metadata": {},
      "source": [
        "\n"
      ]
    },
    {
      "cell_type": "markdown",
      "metadata": {},
      "source": [
        "#### \ud83d\udca1 Gi\u1ea3i th\u00edch:\n",
        "\n",
        "- C\u00e1c tham s\u1ed1 m\u1eb7c \u0111\u1ecbnh c\u00f3 ki\u1ec3u gi\u00e1 tr\u1ecb thay \u0111\u1ed5i \u0111\u01b0\u1ee3c (mutable) c\u1ee7a c\u00e1c h\u00e0m trong Python kh\u00f4ng th\u1ef1c s\u1ef1 \u0111\u01b0\u1ee3c kh\u1edfi t\u1ea1o m\u1ed7i l\u1ea7n ta g\u1ecdi h\u00e0m. Thay v\u00e0o \u0111\u00f3 gi\u00e1 tr\u1ecb tr\u1ecb m\u1edbi \u0111\u01b0\u1ee3c g\u00e1n cho ch\u00fang \u0111\u01b0\u1ee3c s\u1eed d\u1ee5ng v\u1edbi vai tr\u00f2  gi\u00e1 tr\u1ecb m\u1eb7c \u0111\u1ecbnh. Khi ta truy\u1ec1n v\u00e0o h\u00e0m `some_func` gi\u00e1 tr\u1ecb `[]`, gi\u00e1 tr\u1ecb m\u1eb7c \u0111\u1ecbnh c\u1ee7a bi\u1ebfn `default_arg` kh\u00f4ng \u0111\u01b0\u1ee3c s\u1eed d\u1ee5ng, do \u0111\u00f3 h\u00e0m tr\u1ea3 v\u1ec1 k\u1ebft qu\u1ea3 nh\u01b0  mong \u0111\u1ee3i\n",
        "\n"
      ]
    },
    {
      "cell_type": "code",
      "execution_count": null,
      "metadata": {
        "collapsed": true
      },
      "outputs": [
        {
          "data": {
            "text/plain": []
          },
          "output_type": "execute_result",
          "metadata": {},
          "execution_count": null
        }
      ],
      "source": [
        "    def some_func(default_arg=[]):\n",
        "        default_arg.append(\"some_string\")\n",
        "        return default_arg\n"
      ]
    },
    {
      "cell_type": "markdown",
      "metadata": {},
      "source": [
        "\n",
        "    **K\u1ebft qu\u1ea3:**\n"
      ]
    },
    {
      "cell_type": "code",
      "execution_count": null,
      "metadata": {
        "collapsed": true
      },
      "outputs": [
        {
          "data": {
            "text/plain": [
              "    ([],)\n"
            ]
          },
          "output_type": "execute_result",
          "metadata": {},
          "execution_count": null
        }
      ],
      "source": [
        "    some_func.__defaults__ # Thu\u1ed9c t\u00ednh n\u00e0y s\u1ebd cho ta th\u1ea5y c\u00e1c gi\u00e1 tr\u1ecb m\u1eb7c \u0111\u1ecbnh c\u1ee7a tham s\u1ed1 truy\u1ec1n v\u00e0o h\u00e0m \n"
      ]
    },
    {
      "cell_type": "code",
      "execution_count": null,
      "metadata": {
        "collapsed": true
      },
      "outputs": [
        {
          "data": {
            "text/plain": [
              "    (['some_string'],)\n"
            ]
          },
          "output_type": "execute_result",
          "metadata": {},
          "execution_count": null
        }
      ],
      "source": [
        "    some_func()\n",
        "    some_func.__defaults__\n"
      ]
    },
    {
      "cell_type": "code",
      "execution_count": null,
      "metadata": {
        "collapsed": true
      },
      "outputs": [
        {
          "data": {
            "text/plain": [
              "    (['some_string', 'some_string'],)\n"
            ]
          },
          "output_type": "execute_result",
          "metadata": {},
          "execution_count": null
        }
      ],
      "source": [
        "    some_func()\n",
        "    some_func.__defaults__\n"
      ]
    },
    {
      "cell_type": "code",
      "execution_count": null,
      "metadata": {
        "collapsed": true
      },
      "outputs": [
        {
          "data": {
            "text/plain": [
              "    (['some_string', 'some_string'],)\n"
            ]
          },
          "output_type": "execute_result",
          "metadata": {},
          "execution_count": null
        }
      ],
      "source": [
        "    some_func([])\n",
        "    some_func.__defaults__\n"
      ]
    },
    {
      "cell_type": "markdown",
      "metadata": {},
      "source": [
        "\n",
        "- \u0110\u1ec3 tr\u00e1nh c\u00e1c bugs li\u00ean quan t\u1edbi c\u00e1c tham s\u1ed1 c\u00f3 th\u1ec3 thay \u0111\u1ed5i gi\u00e1 tr\u1ecb, ta c\u00f3 th\u1ec3 g\u00e1n cho ch\u00fang gi\u00e1 tr\u1ecb m\u1eb7c \u0111\u1ecbnh l\u00e0 `None` v\u00e0 sau \u0111\u00f3 vi\u1ebft m\u00e3 ki\u1ec3m tra xem gi\u00e1 tr\u1ecb truy\u1ec1n v\u00e0o h\u00e0m c\u00f3 t\u01b0\u01a1ng \u1ee9ng v\u1edbi tham s\u1ed1 \u0111\u00f3 hay kh\u00f4ng. V\u00ed d\u1ee5:\n",
        "\n"
      ]
    },
    {
      "cell_type": "code",
      "execution_count": null,
      "metadata": {
        "collapsed": true
      },
      "outputs": [
        {
          "data": {
            "text/plain": []
          },
          "output_type": "execute_result",
          "metadata": {},
          "execution_count": null
        }
      ],
      "source": [
        "    def some_func(default_arg=None):\n",
        "        if default_arg is None:\n",
        "            default_arg = []\n",
        "        default_arg.append(\"some_string\")\n",
        "        return default_arg\n"
      ]
    },
    {
      "cell_type": "markdown",
      "metadata": {},
      "source": [
        "\n"
      ]
    },
    {
      "cell_type": "markdown",
      "metadata": {},
      "source": [
        "### \u25b6 Catching the Exceptions\n"
      ]
    },
    {
      "cell_type": "code",
      "execution_count": null,
      "metadata": {
        "collapsed": true
      },
      "outputs": [
        {
          "data": {
            "text/plain": []
          },
          "output_type": "execute_result",
          "metadata": {},
          "execution_count": null
        }
      ],
      "source": [
        "some_list = [1, 2, 3]\n",
        "try:\n",
        "    # C\u00e2u l\u1ec7nh sau s\u1ebd g\u00e2y ra ngo\u1ea1i l\u1ec7 ``IndexError``\n",
        "    print(some_list[4])\n",
        "except IndexError, ValueError:\n",
        "    print(\"Caught!\")\n",
        "\n",
        "try:\n",
        "    # C\u00e2u l\u1ec7nh sau s\u1ebd g\u00e2y ra ngo\u1ea1i l\u1ec7 ``ValueError``\n",
        "    some_list.remove(4)\n",
        "except IndexError, ValueError:\n",
        "    print(\"Caught again!\")\n"
      ]
    },
    {
      "cell_type": "markdown",
      "metadata": {},
      "source": [
        "\n",
        "**K\u1ebft qu\u1ea3 (Python 2.x):**\n"
      ]
    },
    {
      "cell_type": "code",
      "execution_count": null,
      "metadata": {
        "collapsed": true
      },
      "outputs": [
        {
          "data": {
            "text/plain": []
          },
          "output_type": "execute_result",
          "metadata": {},
          "execution_count": null
        }
      ],
      "source": [
        "Caught!\n",
        "\n",
        "ValueError: list.remove(x): x not in list\n"
      ]
    },
    {
      "cell_type": "markdown",
      "metadata": {},
      "source": [
        "\n",
        "**K\u1ebft qu\u1ea3 (Python 3.x):**\n"
      ]
    },
    {
      "cell_type": "code",
      "execution_count": null,
      "metadata": {
        "collapsed": true
      },
      "outputs": [
        {
          "data": {
            "text/plain": []
          },
          "output_type": "execute_result",
          "metadata": {},
          "execution_count": null
        }
      ],
      "source": [
        "  File \"<input>\", line 3\n",
        "    except IndexError, ValueError:\n",
        "                     ^\n",
        "SyntaxError: invalid syntax\n"
      ]
    },
    {
      "cell_type": "markdown",
      "metadata": {},
      "source": [
        "\n"
      ]
    },
    {
      "cell_type": "markdown",
      "metadata": {},
      "source": [
        "#### \ud83d\udca1 Gi\u1ea3i th\u00edch\n",
        "\n",
        "* \u0110\u1ec3 th\u00eam nhi\u1ec1u ngo\u1ea1i l\u1ec7 tr\u00ean c\u00f9ng m\u1ed9t d\u00f2ng except, b\u1ea1n c\u1ea7n truy\u1ec1n v\u00e0o m\u1ed9t tuple v\u1edbi c\u00e1c ngo\u1ea1i l\u1ec7 \u0111\u01b0\u1ee3c li\u1ec7t k\u00ea b\u00ean trong hai d\u1ea5u ngo\u1eb7c \u0111\u01a1n. V\u00ed d\u1ee5,\n"
      ]
    },
    {
      "cell_type": "code",
      "execution_count": null,
      "metadata": {
        "collapsed": true
      },
      "outputs": [
        {
          "data": {
            "text/plain": []
          },
          "output_type": "execute_result",
          "metadata": {},
          "execution_count": null
        }
      ],
      "source": [
        "  some_list = [1, 2, 3]\n",
        "  try:\n",
        "     # This should raise a ``ValueError``\n",
        "     some_list.remove(4)\n",
        "  except (IndexError, ValueError), e:\n",
        "     print(\"Caught again!\")\n",
        "     print(e)\n"
      ]
    },
    {
      "cell_type": "markdown",
      "metadata": {},
      "source": [
        "  **K\u1ebft qu\u1ea3 (Python 2.x):**\n",
        "  ```\n",
        "  Caught again!\n",
        "  list.remove(x): x not in list\n",
        "  ```\n",
        "  **K\u1ebft qu\u1ea3 (Python 3.x):**\n"
      ]
    },
    {
      "cell_type": "code",
      "execution_count": null,
      "metadata": {
        "collapsed": true
      },
      "outputs": [
        {
          "data": {
            "text/plain": []
          },
          "output_type": "execute_result",
          "metadata": {},
          "execution_count": null
        }
      ],
      "source": [
        "    File \"<input>\", line 4\n",
        "      except (IndexError, ValueError), e:\n",
        "                                       ^\n",
        "  IndentationError: unindent does not match any outer indentation level\n"
      ]
    },
    {
      "cell_type": "markdown",
      "metadata": {},
      "source": [
        "\n",
        "* T\u00e1ch bi\u1ec7t ngo\u1ea1i l\u1ec7 v\u1edbi bi\u1ebfn d\u00f9ng d\u1ea5u ph\u1ea9y \u0111\u00e3 kh\u00f4n c\u00f2n \u0111\u01b0\u1ee3c \u00e1p d\u1ee5ng n\u1eefa v\u00e0 khi vi\u1ebft nh\u01b0 v\u1eady thi code s\u1ebd kh\u00f4ng ch\u1ea1y trong Python 3; C\u00e1ch l\u00e0m \u0111\u00fang l\u00e0 s\u1eed d\u1ee5ng `as`. V\u00ed d\u1ee5, \n"
      ]
    },
    {
      "cell_type": "code",
      "execution_count": null,
      "metadata": {
        "collapsed": true
      },
      "outputs": [
        {
          "data": {
            "text/plain": []
          },
          "output_type": "execute_result",
          "metadata": {},
          "execution_count": null
        }
      ],
      "source": [
        "  some_list = [1, 2, 3]\n",
        "  try:\n",
        "      some_list.remove(4)\n",
        "\n",
        "  except (IndexError, ValueError) as e:\n",
        "      print(\"Caught again!\")\n",
        "      print(e)\n"
      ]
    },
    {
      "cell_type": "markdown",
      "metadata": {},
      "source": [
        "  **K\u1ebft qu\u1ea3:**\n",
        "  ```\n",
        "  Caught again!\n",
        "  list.remove(x): x not in list\n",
        "  ```\n",
        "\n"
      ]
    },
    {
      "cell_type": "markdown",
      "metadata": {},
      "source": [
        "### \u25b6 Same operands, different story!\n",
        "1\\.\n"
      ]
    },
    {
      "cell_type": "code",
      "execution_count": null,
      "metadata": {
        "collapsed": true
      },
      "outputs": [
        {
          "data": {
            "text/plain": []
          },
          "output_type": "execute_result",
          "metadata": {},
          "execution_count": null
        }
      ],
      "source": [
        "a = [1, 2, 3, 4]\n",
        "b = a\n",
        "a = a + [5, 6, 7, 8]\n"
      ]
    },
    {
      "cell_type": "markdown",
      "metadata": {},
      "source": [
        "\n",
        "**K\u1ebft qu\u1ea3:**\n"
      ]
    },
    {
      "cell_type": "code",
      "execution_count": null,
      "metadata": {
        "collapsed": true
      },
      "outputs": [
        {
          "data": {
            "text/plain": [
              "[1, 2, 3, 4, 5, 6, 7, 8]\n"
            ]
          },
          "output_type": "execute_result",
          "metadata": {},
          "execution_count": null
        }
      ],
      "source": [
        "a\n"
      ]
    },
    {
      "cell_type": "code",
      "execution_count": null,
      "metadata": {
        "collapsed": true
      },
      "outputs": [
        {
          "data": {
            "text/plain": [
              "[1, 2, 3, 4]\n"
            ]
          },
          "output_type": "execute_result",
          "metadata": {},
          "execution_count": null
        }
      ],
      "source": [
        "b\n"
      ]
    },
    {
      "cell_type": "markdown",
      "metadata": {},
      "source": [
        "\n",
        "2\\.\n"
      ]
    },
    {
      "cell_type": "code",
      "execution_count": null,
      "metadata": {
        "collapsed": true
      },
      "outputs": [
        {
          "data": {
            "text/plain": []
          },
          "output_type": "execute_result",
          "metadata": {},
          "execution_count": null
        }
      ],
      "source": [
        "a = [1, 2, 3, 4]\n",
        "b = a\n",
        "a += [5, 6, 7, 8]\n"
      ]
    },
    {
      "cell_type": "markdown",
      "metadata": {},
      "source": [
        "\n",
        "**K\u1ebft qu\u1ea3:**\n"
      ]
    },
    {
      "cell_type": "code",
      "execution_count": null,
      "metadata": {
        "collapsed": true
      },
      "outputs": [
        {
          "data": {
            "text/plain": [
              "[1, 2, 3, 4, 5, 6, 7, 8]\n"
            ]
          },
          "output_type": "execute_result",
          "metadata": {},
          "execution_count": null
        }
      ],
      "source": [
        "a\n"
      ]
    },
    {
      "cell_type": "code",
      "execution_count": null,
      "metadata": {
        "collapsed": true
      },
      "outputs": [
        {
          "data": {
            "text/plain": [
              "[1, 2, 3, 4, 5, 6, 7, 8]\n"
            ]
          },
          "output_type": "execute_result",
          "metadata": {},
          "execution_count": null
        }
      ],
      "source": [
        "b\n"
      ]
    },
    {
      "cell_type": "markdown",
      "metadata": {},
      "source": [
        "\n"
      ]
    },
    {
      "cell_type": "markdown",
      "metadata": {},
      "source": [
        "#### \ud83d\udca1 Gi\u1ea3i th\u00edch:\n",
        "\n",
        "* `a += b` kh\u00f4ng ph\u1ea3i lu\u00f4n lu\u00f4n cho ra k\u1ebft qu\u1ea3 gi\u1ed1ng nh\u01b0 `a = a + b`. C\u00e1c l\u01a1p *c\u00f3 th\u1ec3* tri\u1ec3n khai ph\u00e9p *`op=`* kh\u00e1c nhau.\n",
        "\n",
        "* Bi\u1ec3u di\u1ec5n `a = a + [5,6,7,8]` sinh ra m\u1ed9t danh s\u00e1ch m\u1edbi v\u00e0 tham chi\u1ebfu c\u1ee7a `a` tr\u1ecf t\u1edbi danh s\u00e1ch m\u1edbi, v\u00e0 \u0111\u1ec3 cho `b` kh\u00f4ng \u0111\u1ed5i.\n",
        "* Bi\u1ec3n di\u1ec5n `a += [5,6,7,8]` th\u1ef1c s\u1ef1 t\u01b0\u01a1ng \u0111\u01b0\u01a1ng v\u01a1i h\u00e0m \"m\u1edf r\u1ed9ng\" \u00e1p d\u1ee5ng cho danh s\u00e1ch \u01a1 \u0111\u00f3 `a` v\u00e0 `b` v\u1eabn tr\u1ecf v\u1ec1 c\u00f9ng m\u1ed9t danh s\u00e1ch \u0111\u00e3 \u0111\u01b0\u1ee3c thay \u0111\u1ed5i ngay t\u1ea1i ch\u1ed7.\n",
        "\n"
      ]
    },
    {
      "cell_type": "markdown",
      "metadata": {},
      "source": [
        "### \u25b6 Name resolution ignoring class scope\n",
        "1\\.\n"
      ]
    },
    {
      "cell_type": "code",
      "execution_count": null,
      "metadata": {
        "collapsed": true
      },
      "outputs": [
        {
          "data": {
            "text/plain": []
          },
          "output_type": "execute_result",
          "metadata": {},
          "execution_count": null
        }
      ],
      "source": [
        "x = 5\n",
        "class SomeClass:\n",
        "    x = 17\n",
        "    y = (x for i in range(10))\n"
      ]
    },
    {
      "cell_type": "markdown",
      "metadata": {},
      "source": [
        "\n",
        "**K\u1ebft qu\u1ea3:**\n"
      ]
    },
    {
      "cell_type": "code",
      "execution_count": null,
      "metadata": {
        "collapsed": true
      },
      "outputs": [
        {
          "data": {
            "text/plain": [
              "5\n"
            ]
          },
          "output_type": "execute_result",
          "metadata": {},
          "execution_count": null
        }
      ],
      "source": [
        "list(SomeClass.y)[0]\n"
      ]
    },
    {
      "cell_type": "markdown",
      "metadata": {},
      "source": [
        "\n",
        "2\\.\n"
      ]
    },
    {
      "cell_type": "code",
      "execution_count": null,
      "metadata": {
        "collapsed": true
      },
      "outputs": [
        {
          "data": {
            "text/plain": []
          },
          "output_type": "execute_result",
          "metadata": {},
          "execution_count": null
        }
      ],
      "source": [
        "x = 5\n",
        "class SomeClass:\n",
        "    x = 17\n",
        "    y = [x for i in range(10)]\n"
      ]
    },
    {
      "cell_type": "markdown",
      "metadata": {},
      "source": [
        "\n",
        "**K\u1ebft qu\u1ea3 (Python 2.x):**\n"
      ]
    },
    {
      "cell_type": "code",
      "execution_count": null,
      "metadata": {
        "collapsed": true
      },
      "outputs": [
        {
          "data": {
            "text/plain": [
              "17\n"
            ]
          },
          "output_type": "execute_result",
          "metadata": {},
          "execution_count": null
        }
      ],
      "source": [
        "SomeClass.y[0]\n"
      ]
    },
    {
      "cell_type": "markdown",
      "metadata": {},
      "source": [
        "\n",
        "**K\u1ebft qu\u1ea3 (Python 3.x):**\n"
      ]
    },
    {
      "cell_type": "code",
      "execution_count": null,
      "metadata": {
        "collapsed": true
      },
      "outputs": [
        {
          "data": {
            "text/plain": [
              "5\n"
            ]
          },
          "output_type": "execute_result",
          "metadata": {},
          "execution_count": null
        }
      ],
      "source": [
        "SomeClass.y[0]\n"
      ]
    },
    {
      "cell_type": "markdown",
      "metadata": {},
      "source": [
        "\n"
      ]
    },
    {
      "cell_type": "markdown",
      "metadata": {},
      "source": [
        "#### \ud83d\udca1 Gi\u1ea3i th\u00edch\n",
        "- C\u00e1c ph\u1ea1m vi \u0111\u01b0\u1ee3c l\u1ed3ng b\u00ean trong \u0111\u1ecbnh ngh\u0129a c\u1ee7a l\u1edbp l\u1edd \u0111i c\u00e1c t\u00ean (bi\u1ebfn) \u0111\u01b0\u1ee3c khai b\u00e1o \u1edf m\u1ee9c l\u1edbp (bi\u1ebfn g\u00e1n v\u1edbi l\u1edbp)\n",
        "- Bi\u1ec5n di\u1ec5n b\u1ed9 sinh (generator) c\u00f3 ph\u1ea1m vi ri\u00eang c\u1ee7a ch\u00fang\n",
        "- B\u1eaft \u0111\u1ea7u t\u1eeb Python 3.X, c\u00e1c list comprehensions c\u0169ng c\u00f3 ph\u1ea1m ri\u00eang c\u1ee7a ch\u00fang\n",
        "\n"
      ]
    },
    {
      "cell_type": "markdown",
      "metadata": {},
      "source": [
        "### \u25b6 Needles in a Haystack *\n",
        "T\u00f4i ch\u01b0a bao gi\u1edd g\u1eb7p m\u1ed9t l\u1eadp tr\u00ecnh vi\u00ean Python kinh nghi\u1ec7m n\u00e0o m\u00e0 ch\u01b0a g\u1eb7p ph\u1ea3i m\u1ed9t trong nh\u1eefng t\u00ecnh hu\u1ed1ng \u00e9o le d\u01b0\u1edbi \u0111\u00e2y\n",
        "1\\.\n",
        "\n"
      ]
    },
    {
      "cell_type": "code",
      "execution_count": null,
      "metadata": {
        "collapsed": true
      },
      "outputs": [
        {
          "data": {
            "text/plain": []
          },
          "output_type": "execute_result",
          "metadata": {},
          "execution_count": null
        }
      ],
      "source": [
        "x, y = (0, 1) if True else None, None\n"
      ]
    },
    {
      "cell_type": "markdown",
      "metadata": {},
      "source": [
        "\n",
        "**K\u1ebft q\u1ee7a:**\n",
        "\n"
      ]
    },
    {
      "cell_type": "code",
      "execution_count": null,
      "metadata": {
        "collapsed": true
      },
      "outputs": [
        {
          "data": {
            "text/plain": [
              "((0, 1), None)\n"
            ]
          },
          "output_type": "execute_result",
          "metadata": {},
          "execution_count": null
        }
      ],
      "source": [
        "x, y  # K\u1ebft qu\u1ea3 mong \u0111\u1ee3i (0, 1)\n"
      ]
    },
    {
      "cell_type": "markdown",
      "metadata": {},
      "source": [
        "\n",
        "2\\.\n",
        "\n"
      ]
    },
    {
      "cell_type": "code",
      "metadata": {
        "collapsed": true
      },
      "execution_count": null,
      "outputs": [
        {
          "name": "stdout",
          "output_type": "stream",
          "text": []
        }
      ],
      "source": [
        "t = ('one', 'two')\n",
        "for i in t:\n",
        "    print(i)\n",
        "\n",
        "t = ('one')\n",
        "for i in t:\n",
        "    print(i)\n",
        "\n",
        "t = ()\n",
        "print(t)\n"
      ]
    },
    {
      "cell_type": "markdown",
      "metadata": {},
      "source": [
        "\n",
        "**K\u1ebft qu\u1ea3:**\n",
        "\n"
      ]
    },
    {
      "cell_type": "code",
      "execution_count": null,
      "metadata": {
        "collapsed": true
      },
      "outputs": [
        {
          "data": {
            "text/plain": []
          },
          "output_type": "execute_result",
          "metadata": {},
          "execution_count": null
        }
      ],
      "source": [
        "one\n",
        "two\n",
        "o\n",
        "n\n",
        "e\n",
        "tuple()\n"
      ]
    },
    {
      "cell_type": "markdown",
      "metadata": {},
      "source": [
        "\n",
        "3\\.\n",
        "\n",
        "```\n",
        "ten_words_list = [\n",
        "    \"some\",\n",
        "    \"very\",\n",
        "    \"big\",\n",
        "    \"list\",\n",
        "    \"that\"\n",
        "    \"consists\",\n",
        "    \"of\",\n",
        "    \"exactly\",\n",
        "    \"ten\",\n",
        "    \"words\"\n",
        "]\n",
        "```\n",
        "\n",
        "**K\u1ebft qu\u1ea3**\n",
        "\n"
      ]
    },
    {
      "cell_type": "code",
      "execution_count": null,
      "metadata": {
        "collapsed": true
      },
      "outputs": [
        {
          "data": {
            "text/plain": [
              "9\n"
            ]
          },
          "output_type": "execute_result",
          "metadata": {},
          "execution_count": null
        }
      ],
      "source": [
        "len(ten_words_list)\n"
      ]
    },
    {
      "cell_type": "markdown",
      "metadata": {},
      "source": [
        "\n",
        "4\\. Not asserting strongly enough\n",
        "\n"
      ]
    },
    {
      "cell_type": "code",
      "execution_count": null,
      "metadata": {
        "collapsed": true
      },
      "outputs": [
        {
          "data": {
            "text/plain": []
          },
          "output_type": "execute_result",
          "metadata": {},
          "execution_count": null
        }
      ],
      "source": [
        "a = \"python\"\n",
        "b = \"javascript\"\n"
      ]
    },
    {
      "cell_type": "markdown",
      "metadata": {},
      "source": [
        "\n",
        "**K\u1ebft qu\u1ea3:**\n",
        "\n"
      ]
    },
    {
      "cell_type": "code",
      "execution_count": null,
      "metadata": {
        "collapsed": true
      },
      "outputs": [
        {
          "data": {
            "text/plain": [
              "# Kh\u00f4ng th\u1ea5y m\u1ed9t ngo\u1ea1i l\u1ec7 l\u1ed7i AssertionError \n"
            ]
          },
          "output_type": "execute_result",
          "metadata": {},
          "execution_count": null
        }
      ],
      "source": [
        "# G\u1ecdi m\u1ed9t c\u00e2u l\u1ec7nh assert v\u1edbi m\u1ed9t th\u00f4ng \u0111i\u1ec7p ch\u1ec9 r\u00f5 l\u00fd do b\u1ecb l\u1ed7i\n",
        "assert(a == b, \"Both languages are different\")\n"
      ]
    },
    {
      "cell_type": "markdown",
      "metadata": {},
      "source": [
        "\n",
        "5\\.\n",
        "\n"
      ]
    },
    {
      "cell_type": "code",
      "execution_count": null,
      "metadata": {
        "collapsed": true
      },
      "outputs": [
        {
          "data": {
            "text/plain": []
          },
          "output_type": "execute_result",
          "metadata": {},
          "execution_count": null
        }
      ],
      "source": [
        "some_list = [1, 2, 3]\n",
        "some_dict = {\n",
        "  \"key_1\": 1,\n",
        "  \"key_2\": 2,\n",
        "  \"key_3\": 3\n",
        "}\n",
        "\n",
        "some_list = some_list.append(4) \n",
        "some_dict = some_dict.update({\"key_4\": 4})\n"
      ]
    },
    {
      "cell_type": "markdown",
      "metadata": {},
      "source": [
        "\n",
        "**K\u1ebft qu\u1ea3:**\n",
        "\n"
      ]
    },
    {
      "cell_type": "code",
      "metadata": {
        "collapsed": true
      },
      "execution_count": null,
      "outputs": [
        {
          "name": "stdout",
          "output_type": "stream",
          "text": [
            "None\n"
          ]
        }
      ],
      "source": [
        "print(some_list)\n"
      ]
    },
    {
      "cell_type": "code",
      "metadata": {
        "collapsed": true
      },
      "execution_count": null,
      "outputs": [
        {
          "name": "stdout",
          "output_type": "stream",
          "text": [
            "None\n"
          ]
        }
      ],
      "source": [
        "print(some_dict)\n"
      ]
    },
    {
      "cell_type": "markdown",
      "metadata": {},
      "source": [
        "\n",
        "6\\.\n",
        "\n"
      ]
    },
    {
      "cell_type": "code",
      "execution_count": null,
      "metadata": {
        "collapsed": true
      },
      "outputs": [
        {
          "data": {
            "text/plain": []
          },
          "output_type": "execute_result",
          "metadata": {},
          "execution_count": null
        }
      ],
      "source": [
        "def some_recursive_func(a):\n",
        "    if a[0] == 0:\n",
        "        return \n",
        "    a[0] -= 1\n",
        "    some_recursive_func(a)\n",
        "    return a\n",
        "\n",
        "def similar_recursive_func(a):\n",
        "        if a == 0:\n",
        "                return a\n",
        "        a -= 1\n",
        "        similar_recursive_func(a)\n",
        "        return a\n"
      ]
    },
    {
      "cell_type": "markdown",
      "metadata": {},
      "source": [
        "\n",
        "**K\u1ebft qu\u1ea3:**\n",
        "\n"
      ]
    },
    {
      "cell_type": "code",
      "execution_count": null,
      "metadata": {
        "collapsed": true
      },
      "outputs": [
        {
          "data": {
            "text/plain": [
              "[0, 0]\n"
            ]
          },
          "output_type": "execute_result",
          "metadata": {},
          "execution_count": null
        }
      ],
      "source": [
        "some_recursive_func([5, 0])\n"
      ]
    },
    {
      "cell_type": "code",
      "execution_count": null,
      "metadata": {
        "collapsed": true
      },
      "outputs": [
        {
          "data": {
            "text/plain": [
              "4\n"
            ]
          },
          "output_type": "execute_result",
          "metadata": {},
          "execution_count": null
        }
      ],
      "source": [
        "similar_recursive_func(5)\n"
      ]
    },
    {
      "cell_type": "markdown",
      "metadata": {},
      "source": [
        "\n"
      ]
    },
    {
      "cell_type": "markdown",
      "metadata": {},
      "source": [
        "#### \ud83d\udca1 Gi\u1ea3i th\u00edch:\n",
        "\n",
        "* Tr\u01b0\u1eddng h\u1ee3p th\u1ee9 nh\u1ea5t c\u00e1ch vi\u1ebft \u0111\u1ec3 c\u00f3 k\u1ebft qu\u1ea3 nh\u01b0 mong \u0111\u1ee3i l\u00e0 `x, y = (0, 1) if True else (None, None)`.\n",
        "\n",
        "* Trong tr\u01b0\u1eddng h\u1ee3p th\u1ee9 hai c\u00e1ch vi\u1ebft \u0111\u00fang ph\u1ea3i l\u00e0 `t = ('one',)` ho\u1eb7c `t = 'one',` (c\u00f3 th\u00eam d\u1ea5u ph\u1ea9y ph\u00eda sau) n\u1ebfu kh\u00f4ng tr\u00ecnh th\u00f4ng d\u1ecbch s\u1ebd xem `t` nh\u01b0 l\u00e0 m\u1ed9t `str` v\u00e0 l\u1eb7p qua t\u1eebng k\u00ed t\u1ef1 c\u1ee7a string n\u00e0y.\n",
        "\n",
        "* `()` l\u00e0 m\u1ed9t c\u1eb7p k\u00ed hi\u1ec7u \u0111\u1eb7c bi\u1ec7t \u0111\u1ecbnh ngh\u0129a m\u1ed9t `tuple` r\u1ed7ng. \n",
        "\n",
        "* Trong v\u00ed d\u1ee5 th\u1ee9 ba, b\u1ea1n c\u00f3 th\u1ec3 \u0111\u1ec3 \u00fd th\u1ea5y thi\u1ebfu m\u1ed9t d\u1ea5u ph\u1ea9y \u0111\u1eb1ng sau ph\u1ea7n t\u1eed th\u1ee9 5 (`\"that\"`) c\u1ee7a danh s\u00e1ch. Do \u0111\u00f3, Python ng\u1ea7m n\u1ed1i hai string li\u1ec1n k\u1ec1,\n"
      ]
    },
    {
      "cell_type": "code",
      "execution_count": null,
      "metadata": {
        "collapsed": true
      },
      "outputs": [
        {
          "data": {
            "text/plain": [
              "  ['some', 'very', 'big', 'list', 'thatconsists', 'of', 'exactly', 'ten', 'words']\n"
            ]
          },
          "output_type": "execute_result",
          "metadata": {},
          "execution_count": null
        }
      ],
      "source": [
        "  ten_words_list\n"
      ]
    },
    {
      "cell_type": "markdown",
      "metadata": {},
      "source": [
        "\n",
        "* Kh\u00f4ng c\u00f3 ngo\u1ea1i l\u1ec7 `AssertionError` trong v\u00ed d\u1ee5 th\u1ee9 t\u01b0 b\u1edfi v\u00ec thay v\u00ec ki\u1ec3m tra t\u00ednh \u0111\u00fang sai c\u1ee7a bi\u1ec3u di\u1ec5n `a == b`, ch\u00fang ta ki\u1ec3m tra m\u1ed9t tuple. V\u00ed d\u1ee5 d\u01b0\u1edbi \u0111\u00e2y l\u00e0m r\u00f5 h\u01a1n \u0111i\u1ec1u n\u00e0y,\n"
      ]
    },
    {
      "cell_type": "code",
      "execution_count": null,
      "metadata": {
        "collapsed": true
      },
      "outputs": [
        {
          "data": {
            "text/plain": [
              "  Traceback (most recent call last):\n",
              "      File \"<stdin>\", line 1, in <module>\n",
              "  AssertionError\n",
              "  \n"
            ]
          },
          "output_type": "execute_result",
          "metadata": {},
          "execution_count": null
        }
      ],
      "source": [
        "  a = \"python\"\n",
        "  b = \"javascript\"\n",
        "  assert a == b\n"
      ]
    },
    {
      "cell_type": "code",
      "execution_count": null,
      "metadata": {
        "collapsed": true
      },
      "outputs": [
        {
          "data": {
            "text/plain": [
              "  <stdin>:1: SyntaxWarning: assertion is always true, perhaps remove parentheses?\n",
              "  \n"
            ]
          },
          "output_type": "execute_result",
          "metadata": {},
          "execution_count": null
        }
      ],
      "source": [
        "  assert (a == b, \"Values are not equal\")\n"
      ]
    },
    {
      "cell_type": "code",
      "execution_count": null,
      "metadata": {
        "collapsed": true
      },
      "outputs": [
        {
          "data": {
            "text/plain": [
              "  Traceback (most recent call last):\n",
              "      File \"<stdin>\", line 1, in <module>\n",
              "  AssertionError: Values are not equal\n"
            ]
          },
          "output_type": "execute_result",
          "metadata": {},
          "execution_count": null
        }
      ],
      "source": [
        "  assert a == b, \"Values are not equal\"\n"
      ]
    },
    {
      "cell_type": "markdown",
      "metadata": {},
      "source": [
        "\n",
        "* Trong v\u00ed d\u1ee5 th\u1ee9 n\u0103m, h\u1ea7u h\u1ebft c\u00e1c ph\u01b0\u01a1ng th\u1ee9c thay \u0111\u1ed5i c\u00e1c ph\u1ea7n t\u1eed c\u1ee7a c\u00e1c \u0111\u1ed1i t\u01b0\u1ee3ng chu\u1ed7i (sequence) hay \u00e1nh x\u1ea1 nh\u01b0 `list.append`, `dict.update`,`list.sort`, v\u00e0 v\u00e2n v\u00e2n. thay \u0111\u1ed5i ngay t\u1ea1i ch\u1ed7 (in-place) c\u00e1c \u0111\u1ed1i t\u01b0\u1ee3ng n\u00e0y v\u00e0 tr\u1ea3 v\u1ec1  `None`. Nguy\u00ean nh\u00e2n s\u00e2u xa l\u00e0 nh\u1eb1m t\u0103ng hi\u1ec7u n\u0103ng th\u00f4ng qua vi\u1ec7c tr\u00e1nh t\u1ea1o b\u1ea3n sao c\u1ee7a \u0111\u1ed1i t\u01b0\u1ee3ng n\u1ebfu h\u00e0nh \u0111\u1ed9ng \u0111\u01b0\u1ee3c th\u1ef1c hi\u1ec7n tr\u00ean \u0111\u1ed1i t\u01b0\u1ee3ng mang t\u00ednh \"ngay t\u1ea1i ch\u1ed7\" (Tham kh\u1ea3o th\u00eam t\u1ea1i [\u0111\u00e2y](http://docs.python.org/2/faq/design.html#why-doesn-t-list-sort-return-the-sorted-list)).\n",
        "* Tr\u01b0\u1eddng h\u1ee3p cu\u1ed1i c\u00f9ng d\u01b0\u1eddng nh\u01b0 kh\u00e1 r\u00f5 r\u1eb1ng, \u0111\u1ed1i t\u01b0\u1ee3ng c\u00f3 th\u1ec3 thay \u0111\u1ed5i gi\u00e1 tr\u1ecb (nh\u01b0 `list` ) c\u00f3 th\u1ec3 \u0111\u01b0\u1ee3c thay \u0111\u1ed5i trong h\u00e0m, v\u00e0 vi\u1ec7c g\u00e1n bi\u1ebfn n\u00e0y l\u1ea1i cho m\u1ed9t \u0111\u1ed1i t\u01b0\u1ee3ng kh\u00f4ng th\u1ec3 thay \u0111\u1ed5i gi\u00e1 tr\u1ecb ()`a -= 1` kh\u00f4ng l\u00e0m thay \u0111\u1ed5i gi\u00e1 tr\u1ecb.\n",
        "* L\u01b0u \u00fd \u0111\u1ebfn nh\u1eefng \u0111i\u1ec1u k\u1ec3 tr\u00ean c\u00f3 th\u1ec3 gi\u00fap b\u1ea1n ti\u1ebft ki\u1ec7m \u0111\u01b0\u1ee3c nhi\u1ec1u th\u1eddi gian cho vi\u1ec7c t\u00ecm s\u1eeda l\u1ed7i trong c\u00e1c ch\u01b0\u01a1ng tr\u00ecnh l\u1edbn.\n"
      ]
    },
    {
      "cell_type": "markdown",
      "metadata": {},
      "source": [
        "### \u25b6 Splitsies *\n"
      ]
    },
    {
      "cell_type": "code",
      "execution_count": null,
      "metadata": {
        "collapsed": true
      },
      "outputs": [
        {
          "data": {
            "text/plain": [
              "['a']\n",
              "\n",
              "# c\u0169ng gi\u1ed1ng nh\u01b0\n"
            ]
          },
          "output_type": "execute_result",
          "metadata": {},
          "execution_count": null
        }
      ],
      "source": [
        "# th\u1ef1c hi\u1ec7n c\u00e2u l\u1ec7nh n\u00e0y\n",
        "'a'.split()\n"
      ]
    },
    {
      "cell_type": "code",
      "execution_count": null,
      "metadata": {
        "collapsed": true
      },
      "outputs": [
        {
          "data": {
            "text/plain": [
              "['a']\n",
              "\n",
              "# nh\u01b0ng khi ch\u1ea1y\n"
            ]
          },
          "output_type": "execute_result",
          "metadata": {},
          "execution_count": null
        }
      ],
      "source": [
        "'a'.split(' ')\n"
      ]
    },
    {
      "cell_type": "code",
      "execution_count": null,
      "metadata": {
        "collapsed": true
      },
      "outputs": [
        {
          "data": {
            "text/plain": [
              "0\n",
              "\n",
              "# l\u1ea1i cho k\u1ebft qu\u1ea3 kh\u00f4ng gi\u1ed1ng nhau\n"
            ]
          },
          "output_type": "execute_result",
          "metadata": {},
          "execution_count": null
        }
      ],
      "source": [
        "len(''.split())\n"
      ]
    },
    {
      "cell_type": "code",
      "execution_count": null,
      "metadata": {
        "collapsed": true
      },
      "outputs": [
        {
          "data": {
            "text/plain": [
              "1\n"
            ]
          },
          "output_type": "execute_result",
          "metadata": {},
          "execution_count": null
        }
      ],
      "source": [
        "len(''.split(' '))\n"
      ]
    },
    {
      "cell_type": "markdown",
      "metadata": {},
      "source": [
        "\n"
      ]
    },
    {
      "cell_type": "markdown",
      "metadata": {},
      "source": [
        "#### \ud83d\udca1 Gi\u1ea3i th\u00edch:\n",
        "\n",
        "- Ta d\u01b0\u1eddng nh\u01b0 th\u1ea5y ngay l\u00e0 k\u00ed t\u1ef1 ph\u00e2n c\u00e1ch m\u1eb7c \u0111\u1ecbnh d\u00f9ng cho split l\u00e0 m\u1ed9t kho\u1ea3ng c\u00e1ch \u0111\u01a1n (single space) `' '`, nh\u01b0ng trong t\u00e0i li\u1ec7u [docs] (https://docs.python.org/2.7/library/stdtypes.html#str.split)\n",
        "    >  N\u1ebfu k\u00ed t\u1ef1 ph\u00e2n c\u00e1ch kh\u00f4ng \u0111\u01b0\u1ee3c ch\u1ec9 \u0111\u1ecbnh ho\u1eb7c l\u00e0  `None`, m\u1ed9t gi\u1ea3i thu\u1eadt chia t\u00e1ch kh\u00e1c \u0111\u01b0\u1ee3c \u00e1p d\u1ee5ng: c\u00e1c kho\u1ea3ng tr\u1eafng li\u00ean t\u1ee5c \u0111\u01b0\u1ee3c xem nh\u01b0 l\u00e0 m\u1ed9t ph\u00e2n c\u00e1ch \u0111\u01a1n, v\u00e0 k\u1ebft qu\u1ea3 s\u1ebd ch\u1ee9a c\u00e1c strings kh\u00e1c r\u1ed7ng t\u1ea1i ph\u1ea7n \u0111\u1ea7u ho\u1eb7c cu\u1ed1i n\u1ebfu string c\u00f3 c\u00e1c kho\u1ea3ng tr\u1eafng \u1edf ph\u1ea7n \u0111\u1ea7u v\u00e0 \u0111u\u00f4i. Do v\u1eady, ph\u00e2n t\u00e1ch m\u1ed9t string r\u1ed7ng ho\u1eb7c m\u1ed9t string ch\u1ee9a ch\u1ec9 kho\u1ea3ng tr\u1eafng v\u1edbi m\u1ed9t ph\u00e2n t\u00e1ch None s\u1ebd tr\u1ea3 v\u1ec1 `[]`.\n",
        "    > N\u1ebfu c\u00f3 k\u00ed t\u1ef1 ph\u00e2n c\u00e1ch, c\u00e1c d\u1ea5u ph\u00e2n c\u00e1ch li\u00ean t\u1ee5c kh\u00f4ng \u0111\u01b0\u1ee3c nh\u00f3m l\u1ea1i c\u00f9ng nhau v\u00e0 \u0111\u01b0\u1ee3c coi l\u00e0 \u0111\u1ec3 ph\u00e2n \u0111\u1ecbnh c\u00e1c strings r\u1ed7ng (v\u00ed d\u1ee5, `'1,,2'.split(',')` tr\u1ea3 v\u1ec1 `['1', '', '2']`). Ph\u00e2n t\u00e1ch m\u1ed9t string r\u1ed7ng v\u1edbi m\u1ed9t k\u00ed t\u1ef1 ph\u00e2n t\u00e1ch ch\u1ec9 \u0111\u1ecbnh tr\u1ea3 v\u1ec1  `['']`.\n",
        "- V\u00ed d\u1ee5 d\u01b0\u1edbi \u0111\u00e2y ch\u1ec9 ra c\u00e1ch c\u00e1c kho\u1ea3ng tr\u1eafng \u0111\u01b0\u1ee3c x\u1eed l\u00fd,\n"
      ]
    },
    {
      "cell_type": "code",
      "execution_count": null,
      "metadata": {
        "collapsed": true
      },
      "outputs": [
        {
          "data": {
            "text/plain": [
              "    ['', 'a', '']\n"
            ]
          },
          "output_type": "execute_result",
          "metadata": {},
          "execution_count": null
        }
      ],
      "source": [
        "    ' a '.split(' ')\n"
      ]
    },
    {
      "cell_type": "code",
      "execution_count": null,
      "metadata": {
        "collapsed": true
      },
      "outputs": [
        {
          "data": {
            "text/plain": [
              "    ['a']\n"
            ]
          },
          "output_type": "execute_result",
          "metadata": {},
          "execution_count": null
        }
      ],
      "source": [
        "    ' a '.split()\n"
      ]
    },
    {
      "cell_type": "code",
      "execution_count": null,
      "metadata": {
        "collapsed": true
      },
      "outputs": [
        {
          "data": {
            "text/plain": [
              "    ['']\n"
            ]
          },
          "output_type": "execute_result",
          "metadata": {},
          "execution_count": null
        }
      ],
      "source": [
        "    ''.split(' ')\n"
      ]
    },
    {
      "cell_type": "markdown",
      "metadata": {},
      "source": [
        "\n"
      ]
    },
    {
      "cell_type": "markdown",
      "metadata": {},
      "source": [
        "### \u25b6 All sorted? *\n"
      ]
    },
    {
      "cell_type": "code",
      "execution_count": null,
      "metadata": {
        "collapsed": true
      },
      "outputs": [
        {
          "data": {
            "text/plain": [
              "False\n"
            ]
          },
          "output_type": "execute_result",
          "metadata": {},
          "execution_count": null
        }
      ],
      "source": [
        "x = 7, 8, 9\n",
        "sorted(x) == x\n"
      ]
    },
    {
      "cell_type": "code",
      "execution_count": null,
      "metadata": {
        "collapsed": true
      },
      "outputs": [
        {
          "data": {
            "text/plain": [
              "True\n",
              "\n"
            ]
          },
          "output_type": "execute_result",
          "metadata": {},
          "execution_count": null
        }
      ],
      "source": [
        "sorted(x) == sorted(x)\n"
      ]
    },
    {
      "cell_type": "code",
      "execution_count": null,
      "metadata": {
        "collapsed": true
      },
      "outputs": [
        {
          "data": {
            "text/plain": [
              "False\n"
            ]
          },
          "output_type": "execute_result",
          "metadata": {},
          "execution_count": null
        }
      ],
      "source": [
        "y = reversed(x)\n",
        "sorted(y) == sorted(y)\n"
      ]
    },
    {
      "cell_type": "markdown",
      "metadata": {},
      "source": [
        "\n"
      ]
    },
    {
      "cell_type": "markdown",
      "metadata": {},
      "source": [
        "#### \ud83d\udca1 Gi\u1ea3i th\u00edch:\n",
        "\n",
        "- Ph\u01b0\u01a1ng th\u1ee9c `sorted` lu\u00f4n lu\u00f4n tr\u1ea3 v\u1ec1 m\u1ed9t list, v\u00e0 trong Python so s\u00e1nh gi\u1eefa lists v\u00e0 tuples lu\u00f4n lu\u00f4n cho ra k\u1ebft qu\u1ea3 `False`.\n",
        "- ```py\n",
        "  >>> [] == tuple()\n",
        "  False\n",
        "  >>> x = 7, 8, 9\n",
        "  >>> type(x), type(sorted(x))\n",
        "  (tuple, list)\n",
        "  ```\n",
        "\n",
        "- Kh\u00e1c v\u1edbi `sorted`, ph\u01b0\u01a1ng th\u1ee9c `reversed` tr\u1ea3 v\u1ec1 m\u1ed9t iterator. T\u1ea1i sao? B\u1edfi v\u00ec vi\u1ec7c s\u1eafp x\u1ebfp y\u00eau c\u1ea7u iterator c\u00f3 th\u1ec3 \u0111\u01b0\u1ee3c thay \u0111\u1ed5i ngay t\u1ea1i ch\u1ed7 (in-place) ho\u1eb7c s\u1eed d\u1ee5ng m\u1ed9t b\u1ed9 ch\u1ee9a b\u1ed5 sung (m\u1ed9t list), tr\u00e1i l\u1ea1i vi\u1ec7c \u0111\u1ea3o chi\u1ec1u (reversing) c\u00f3 th\u1ec3 ho\u1ea1t \u0111\u1ed9ng \u0111\u01a1n gi\u1ea3n l\u00e0 l\u1eb7p t\u1eeb ch\u1ec9 s\u1ed1 cu\u1ed1i v\u1ec1 ph\u1ea7n t\u1eed \u0111\u1ea7u\n",
        "- Do \u0111\u00f3 khi so s\u00e1nh `sorted(y) == sorted(y)`, l\u1eddi g\u1ecdi \u0111\u1ea7u ti\u00ean `sorted()` s\u1ebd ti\u00eau th\u1ee5 iterator `y`, v\u00e0 l\u1eddi g\u1ecdi ti\u1ebfp theo s\u1ebd tr\u1ea3 v\u1ec1 m\u1ed9t list r\u1ed7ng. \n",
        "\n"
      ]
    },
    {
      "cell_type": "code",
      "execution_count": null,
      "metadata": {
        "collapsed": true
      },
      "outputs": [
        {
          "data": {
            "text/plain": [
              "  ([7, 8, 9], [])\n"
            ]
          },
          "output_type": "execute_result",
          "metadata": {},
          "execution_count": null
        }
      ],
      "source": [
        "  x = 7, 8, 9\n",
        "  y = reversed(x)\n",
        "  sorted(y), sorted(y)\n"
      ]
    },
    {
      "cell_type": "markdown",
      "metadata": {},
      "source": [
        "\n"
      ]
    },
    {
      "cell_type": "markdown",
      "metadata": {},
      "source": [
        "### \u25b6 Midnight time doesn't exist?\n"
      ]
    },
    {
      "cell_type": "code",
      "execution_count": null,
      "metadata": {
        "collapsed": true
      },
      "outputs": [
        {
          "data": {
            "text/plain": []
          },
          "output_type": "execute_result",
          "metadata": {},
          "execution_count": null
        }
      ],
      "source": [
        "from datetime import datetime\n",
        "\n",
        "midnight = datetime(2018, 1, 1, 0, 0)\n",
        "midnight_time = midnight.time()\n",
        "\n",
        "noon = datetime(2018, 1, 1, 12, 0)\n",
        "noon_time = noon.time()\n",
        "\n",
        "if midnight_time:\n",
        "    print(\"Time at midnight is\", midnight_time)\n",
        "\n",
        "if noon_time:\n",
        "    print(\"Time at noon is\", noon_time)\n"
      ]
    },
    {
      "cell_type": "markdown",
      "metadata": {},
      "source": [
        "\n",
        "**K\u1ebft qu\u1ea3 (< 3.5):**\n",
        "\n"
      ]
    },
    {
      "cell_type": "code",
      "execution_count": null,
      "metadata": {
        "collapsed": true
      },
      "outputs": [
        {
          "data": {
            "text/plain": []
          },
          "output_type": "execute_result",
          "metadata": {},
          "execution_count": null
        }
      ],
      "source": [
        "('Time at noon is', datetime.time(12, 0))\n"
      ]
    },
    {
      "cell_type": "markdown",
      "metadata": {},
      "source": [
        "Th\u1eddi gian n\u1eeda \u0111\u00eam kh\u00f4ng \u0111\u01b0\u1ee3c hi\u1ec3n th\u1ecb\n"
      ]
    },
    {
      "cell_type": "markdown",
      "metadata": {},
      "source": [
        "#### \ud83d\udca1 Gi\u1ea3i th\u00eam:\n",
        "\n",
        "Tr\u01b0\u1edbc Python 3.5, gi\u00e1 tr\u1ecb lu\u1eadn l\u00fd cho \u0111\u1ed1i t\u01b0\u1ee3ng `datetime.time` \u0111\u01b0\u1ee3c xem nh\u01b0 l\u00e0 `False` n\u1ebfu \u0111\u1ed1i t\u01b0\u1ee3ng n\u00e0y bi\u1ec3u di\u1ec5n n\u1eeda \u0111\u00eam trong UTC. Code d\u1ec5 sai khi s\u1eed d\u1ee5ng c\u00fa ph\u00e1p `if obj:` \u0111\u1ec3 ki\u1ec3m tra `obj` l\u00e0 null hay nh\u1eefng gi\u00e1 tr\u1ecb t\u01b0\u01a1ng t\u01b0\u01a1ng v\u1edbi \"r\u1ed7ng\".\n",
        "\n"
      ]
    },
    {
      "cell_type": "markdown",
      "metadata": {},
      "source": [
        "### \u25b6 Okay Python, Can you make me fly?\n",
        "H\u00e3y b\u1eaft \u0111\u1ea7u n\u00e0o\n",
        "\n"
      ]
    },
    {
      "cell_type": "code",
      "execution_count": null,
      "metadata": {
        "collapsed": true
      },
      "outputs": [
        {
          "data": {
            "text/plain": []
          },
          "output_type": "execute_result",
          "metadata": {},
          "execution_count": null
        }
      ],
      "source": [
        "import antigravity\n"
      ]
    },
    {
      "cell_type": "markdown",
      "metadata": {},
      "source": [
        "\n",
        "**K\u1ebft qu\u1ea3:**\n",
        "Sshh... M\u1ed9t b\u00ed m\u1eadt l\u1edbn.\n",
        "\n"
      ]
    },
    {
      "cell_type": "markdown",
      "metadata": {},
      "source": [
        "#### \ud83d\udca1 Gi\u1ea3i th\u00edch:\n",
        "+ `antigravity` l\u00e0 m\u1ed9t trong v\u00e0i qu\u1ea3 tr\u1ee9ng ph\u1ee5c sinh \u0111\u01b0\u1ee3c t\u1ea1o ra b\u1edfi c\u00e1c l\u1eadp tr\u00ecnh vi\u00ean Python \n",
        "+ `import antigravity` m\u1edf trang web [truy\u1ec7n h\u00e0i XKCD ](http://xkcd.com/353/) trong m\u1ed9t tr\u00ecnh duy\u1ec7t.\n",
        "+ C\u00f2n nhi\u1ec1u h\u01a1n th\u1ebf n\u1eefa. C\u00f3 c\u00e1c **qu\u1ea3 tr\u1ee9ng ph\u1ee5c sinh kh\u00e1c b\u00ean trong qu\u1ea3 tr\u1ee9ng ph\u1ee5c sinh**. N\u1ebfu b\u1ea1n xem \u0111o\u1ea1n [m\u00e3] (https://github.com/python/cpython/blob/master/Lib/antigravity.py#L7-L17), c\u00f3 m\u1ed9t h\u00e0m \u0111\u01b0\u1ee3c \u0111\u1ecbnh ngh\u0129a \u0111\u1ec3 tri\u1ec3n khai [Gi\u1ea3i thu\u1eadt geohashing c\u1ee7a XKCD] \n",
        "\n"
      ]
    },
    {
      "cell_type": "markdown",
      "metadata": {},
      "source": [
        "### \u25b6 `goto`, but why?\n"
      ]
    },
    {
      "cell_type": "code",
      "metadata": {
        "collapsed": true
      },
      "execution_count": null,
      "outputs": [
        {
          "name": "stdout",
          "output_type": "stream",
          "text": []
        }
      ],
      "source": [
        "from goto import goto, label\n",
        "for i in range(9):\n",
        "    for j in range(9):\n",
        "        for k in range(9):\n",
        "            print(\"I am trapped, please rescue!\")\n",
        "            if k == 2:\n",
        "                goto .breakout # breaking out from a deeply nested loop\n",
        "label .breakout\n",
        "print(\"Freedom!\")\n"
      ]
    },
    {
      "cell_type": "markdown",
      "metadata": {},
      "source": [
        "\n",
        "**K\u1ebft qu\u1ea3 (Python 2.3):**\n"
      ]
    },
    {
      "cell_type": "code",
      "execution_count": null,
      "metadata": {
        "collapsed": true
      },
      "outputs": [
        {
          "data": {
            "text/plain": []
          },
          "output_type": "execute_result",
          "metadata": {},
          "execution_count": null
        }
      ],
      "source": [
        "I am trapped, please rescue!\n",
        "I am trapped, please rescue!\n",
        "Freedom!\n"
      ]
    },
    {
      "cell_type": "markdown",
      "metadata": {},
      "source": [
        "\n"
      ]
    },
    {
      "cell_type": "markdown",
      "metadata": {},
      "source": [
        "#### \ud83d\udca1 Gi\u1ea3i th\u00edch:\n",
        "- M\u1ed9t phi\u00ean b\u1ea3n Python c\u1ee7a `goto` \u0111\u01b0\u1ee3c  [c\u00f4ng b\u1ed1](https://mail.python.org/pipermail/python-announce-list/2004-April/002982.html) trong ng\u00e0y c\u00e1 th\u00e1ng t\u01b0 n\u0103m 2004 nh\u01b0 l\u00e0 m\u1ed9t l\u1eddi \u0111\u00f9a.\n",
        "- C\u00e1c phi\u00ean b\u1ea3n Python hi\u1ec7n h\u00e0nh kh\u00f4ng c\u00f3 module n\u00e0y.\n",
        "- M\u1eb7c d\u00f9 tri\u1ec3n khai `goto` ch\u1ea1y \u0111\u01b0\u1ee3c, nh\u01b0ng \u0111\u1eebng s\u1eed d\u1ee5ng n\u00f3. [L\u00fd do](https://docs.python.org/3/faq/design.html#why-is-there-no-goto) t\u1ea1i sao Python kh\u00f4ng c\u00f3 `goto`.\n",
        "\n"
      ]
    },
    {
      "cell_type": "markdown",
      "metadata": {},
      "source": [
        "### \u25b6 Brace yourself!\n",
        "N\u1ebfu b\u1ea1n kh\u00f4ng th\u00edch s\u1eed d\u1ee5ng kho\u1ea3ng tr\u1eafng \u0111\u1ec3 bi\u1ec3u th\u1ecb c\u00e1c ph\u1ea1m vi, b\u1ea1n c\u00f3 th\u1ec3 s\u1eed d\u1ee5ng phonng c\u00e1ch nh\u01b0 trong ng\u00f4n ng\u1eef C {} b\u1eb1ng c\u00e1ch import\n"
      ]
    },
    {
      "cell_type": "code",
      "execution_count": null,
      "metadata": {
        "collapsed": true
      },
      "outputs": [
        {
          "data": {
            "text/plain": []
          },
          "output_type": "execute_result",
          "metadata": {},
          "execution_count": null
        }
      ],
      "source": [
        "from __future__ import braces\n"
      ]
    },
    {
      "cell_type": "markdown",
      "metadata": {},
      "source": [
        "\n",
        "**K\u1ebft qu\u1ea3:**\n"
      ]
    },
    {
      "cell_type": "code",
      "execution_count": null,
      "metadata": {
        "collapsed": true
      },
      "outputs": [
        {
          "data": {
            "text/plain": []
          },
          "output_type": "execute_result",
          "metadata": {},
          "execution_count": null
        }
      ],
      "source": [
        "  File \"some_file.py\", line 1\n",
        "    from __future__ import braces\n",
        "SyntaxError: not a chance\n"
      ]
    },
    {
      "cell_type": "markdown",
      "metadata": {},
      "source": [
        "\n",
        "C\u00e1c d\u1ea5u ngo\u1eb7c nh\u1ecdn? Kh\u00f4ng \u0111\u01b0\u1ee3c \u0111\u00e2u! N\u1ebfu b\u1ea1n ngh\u0129 r\u1eb1ng \u0111i\u1ec1u g\u00e2y th\u1ea5t v\u1ecdng, s\u1eed d\u1ee5ng Java. C\u00f2n m\u1ed9t \u0111i\u1ec1u ng\u1ea1c nhi\u00ean n\u1eefa \u0111\u00e2y, b\u1ea1n c\u00f3 th\u1ec3 t\u00ecm th\u1ea5y ngo\u1ea1i l\u1ec7 `SyntaxError` \u0111\u01b0\u1ee3c kh\u1edfi l\u00ean \u1edf \u0111\u00e2u trong module `__future__` hay kh\u00f4ng (https://github.com/python/cpython/blob/master/Lib/__future__.py)?\n",
        "\n"
      ]
    },
    {
      "cell_type": "markdown",
      "metadata": {},
      "source": [
        "#### \ud83d\udca1 Gi\u1ea3i th\u00edch:\n",
        "+ Module `__future__` th\u01b0\u1eddng \u0111\u01b0\u1ee3c d\u00f9ng \u0111\u1ec3 cung c\u1ea5p c\u00e1c t\u00ednh n\u0103ng \u0111\u1ebfn t\u1eeb c\u00e1c phi\u00ean b\u1ea3n m\u1edbi c\u1ee7a Python. Tuy nhi\u00ean \"t\u01b0\u01a1ng lai\" (\"feature\") trong ho\u00e0n c\u1ea3nh n\u00e0y c\u00f3 v\u1ebb h\u01a1i m\u1ec9a mai.\n",
        "+ C\u00f3 m\u1ed9t qu\u1ea3 tr\u1ee9ng ph\u1ee5c sinh li\u00ean quan \u0111\u1ebfn t\u00e2m tr\u1ea1ng c\u1ee7a c\u1ed9ng \u0111\u1ed3ng Python v\u1ec1 v\u1ea5n \u0111\u1ec1 n\u00e0y. \n",
        "+ \u0110o\u1ea1n m\u00e3 \u0111\u01b0\u1ee3c t\u00ecm th\u1ea5y [\u1edf \u0111\u00e2y](https://github.com/python/cpython/blob/025eb98dc0c1dc27404df6c544fc2944e0fa9f3a/Python/future.c#L49) trong file `future.c`.\n",
        "+ Khi tr\u00ecnh bi\u00ean d\u1ecbch Cpython g\u1eb7p m\u1ed9t [c\u00e2u l\u1ec7nh future](https://docs.python.org/3.3/reference/simple_stmts.html#future-statements),  N\u00f3 ch\u1ea1y \u0111o\u1ea1n m\u00e3 t\u01b0\u01a1ng \u1ee9ng trong  `future.c` tr\u01b0\u1edbc khi th\u1ef1c hi\u1ec7n c\u00e2u l\u1ec7nh import th\u00f4ng th\u01b0\u1eddng.\n",
        "\n"
      ]
    },
    {
      "cell_type": "markdown",
      "metadata": {},
      "source": [
        "### \u25b6 Let's meet Friendly Language Uncle For Life\n",
        "**Output (Python 3.x)**\n"
      ]
    },
    {
      "cell_type": "code",
      "execution_count": null,
      "metadata": {
        "collapsed": true
      },
      "outputs": [
        {
          "data": {
            "text/plain": [
              "  File \"some_file.py\", line 1\n",
              "    \"Ruby\" != \"Python\"\n",
              "              ^\n",
              "SyntaxError: invalid syntax\n",
              "\n"
            ]
          },
          "output_type": "execute_result",
          "metadata": {},
          "execution_count": null
        }
      ],
      "source": [
        "from __future__ import barry_as_FLUFL\n",
        "\"Ruby\" != \"Python\" # ch\u1ea3 c\u00f3 g\u00ec ph\u1ea3i nghi ng\u1edd v\u1ec1 c\u00e2u l\u1ec7nh so s\u00e1nh n\u00e0y c\u1ea3\n"
      ]
    },
    {
      "cell_type": "code",
      "execution_count": null,
      "metadata": {
        "collapsed": true
      },
      "outputs": [
        {
          "data": {
            "text/plain": [
              "True\n"
            ]
          },
          "output_type": "execute_result",
          "metadata": {},
          "execution_count": null
        }
      ],
      "source": [
        "\"Ruby\" <> \"Python\"\n"
      ]
    },
    {
      "cell_type": "markdown",
      "metadata": {},
      "source": [
        "\n",
        "R\u1ed3i! c\u00f3 th\u1ee9 \u0111\u1ec3 xem.\n",
        "\n",
        "\n"
      ]
    },
    {
      "cell_type": "markdown",
      "metadata": {},
      "source": [
        "#### \ud83d\udca1 Gi\u1ea3i th\u00edch:\n",
        "- \u0110i\u1ec1u ta mu\u1ed1n t\u00ecm hi\u1ec3u li\u00ean quan t\u1edbi [PEP-401](https://www.python.org/dev/peps/pep-0401/), PEP n\u00e0y \u0111\u01b0\u1ee3c xu\u1ea5t b\u1ea3n v\u00e0o ng\u00e0y m\u1ed9t th\u00e1ng t\u01b0 n\u0103m 2009 (l\u00e0 g\u00ec th\u00ec b\u1ea1n bi\u1ebft r\u1ed3i \u0111\u00f3).\n",
        "- \u0110o\u1ea1n d\u01b0\u1edbi \u0111\u00e2y \u0111\u01b0\u1ee3c tr\u00edch ra t\u1eeb PEP-401\n",
        "  \n",
        "  > Nh\u1eadn ra r\u1eb1ng k\u00ed hi\u1ec7u to\u00e1n t\u1eed so s\u00e1nh kh\u00f4ng b\u1eb1ng != trong Python 3.0 th\u1ea5y g\u1edbm, g\u00f5 th\u1eadt kh\u00f3, FLUFL kh\u00f4i ph\u1ee5c l\u1ea1i k\u00ed hi\u1ec7u h\u00ecnh kim c\u01b0\u01a1ng <>.\n",
        "- B\u1ea1n nhi\u1ec1u th\u1ee9 \u0111\u00e1ng xem trong PEP n\u00e0y; b\u1ea1n c\u00f3 th\u1ec3 \u0111\u1ecdc ch\u00fang [\u1edf \u0111\u00e2y]\n",
        "(https://www.python.org/dev/peps/pep-0401/).\n",
        "- To\u00e1n t\u1eed h\u00ecnh kim c\u01b0\u01a1ng n\u00e0y ho\u1ea1t \u0111\u1ed9ng t\u1ed1t trong m\u00f4i tr\u01b0\u1eddng t\u01b0\u01a1ng t\u00e1c, nh\u01b0ng l\u1ea1i g\u00e2y ra ngo\u1ea1i l\u1ec7 `SyntaxError` khi ch\u1ea1y qua file python (h\u00e3y xem [v\u1ea5n \u0111\u1ec1](https://github.com/satwikkansal/wtfpython/issues/94)). Tuy nhi\u00ean b\u1ea1n c\u00f3 th\u1ec3 g\u00f3i c\u00e2u l\u1ec7nh n\u00e0y v\u00e0o trong h\u00e0m `eval` ho\u1eb7c `compile` \u0111\u1ec3 ch\u1ea1y \u0111\u01b0\u1ee3c.\n"
      ]
    },
    {
      "cell_type": "code",
      "execution_count": null,
      "metadata": {
        "collapsed": true
      },
      "outputs": [
        {
          "data": {
            "text/plain": []
          },
          "output_type": "execute_result",
          "metadata": {},
          "execution_count": null
        }
      ],
      "source": [
        "    from __future__ import barry_as_FLUFL\n",
        "    print(eval('\"Ruby\" <> \"Python\"'))\n"
      ]
    },
    {
      "cell_type": "markdown",
      "metadata": {},
      "source": [
        "\n"
      ]
    },
    {
      "cell_type": "markdown",
      "metadata": {},
      "source": [
        "### \u25b6 Even Python understands that love is complicated\n"
      ]
    },
    {
      "cell_type": "code",
      "execution_count": null,
      "metadata": {
        "collapsed": true
      },
      "outputs": [
        {
          "data": {
            "text/plain": []
          },
          "output_type": "execute_result",
          "metadata": {},
          "execution_count": null
        }
      ],
      "source": [
        "import this\n"
      ]
    },
    {
      "cell_type": "markdown",
      "metadata": {},
      "source": [
        "\n",
        "N\u00e0o, **this** l\u00e0 g\u00ec th\u1ebf? `this` l\u00e0 t\u00ecnh y\u00eau :heart:\n",
        "\n",
        "**K\u1ebft qu\u1ea3:**\n",
        "```\n",
        "The Zen of Python, by Tim Peters\n",
        "\n",
        "Beautiful is better than ugly.\n",
        "Explicit is better than implicit.\n",
        "Simple is better than complex.\n",
        "Complex is better than complicated.\n",
        "Flat is better than nested.\n",
        "Sparse is better than dense.\n",
        "Readability counts.\n",
        "Special cases aren't special enough to break the rules.\n",
        "Although practicality beats purity.\n",
        "Errors should never pass silently.\n",
        "Unless explicitly silenced.\n",
        "In the face of ambiguity, refuse the temptation to guess.\n",
        "There should be one-- and preferably only one --obvious way to do it.\n",
        "Although that way may not be obvious at first unless you're Dutch.\n",
        "Now is better than never.\n",
        "Although never is often better than *right* now.\n",
        "If the implementation is hard to explain, it's a bad idea.\n",
        "If the implementation is easy to explain, it may be a good idea.\n",
        "Namespaces are one honking great idea -- let's do more of those!\n",
        "```\n",
        "\n",
        "`this` l\u00e0 Thi\u1ec1n c\u1ee7a Python!\n",
        "\n"
      ]
    },
    {
      "cell_type": "code",
      "execution_count": null,
      "metadata": {
        "collapsed": true
      },
      "outputs": [
        {
          "data": {
            "text/plain": [
              "True\n"
            ]
          },
          "output_type": "execute_result",
          "metadata": {},
          "execution_count": null
        }
      ],
      "source": [
        "love = this\n",
        "this is love\n"
      ]
    },
    {
      "cell_type": "code",
      "execution_count": null,
      "metadata": {
        "collapsed": true
      },
      "outputs": [
        {
          "data": {
            "text/plain": [
              "False\n"
            ]
          },
          "output_type": "execute_result",
          "metadata": {},
          "execution_count": null
        }
      ],
      "source": [
        "love is True\n"
      ]
    },
    {
      "cell_type": "code",
      "execution_count": null,
      "metadata": {
        "collapsed": true
      },
      "outputs": [
        {
          "data": {
            "text/plain": [
              "False\n"
            ]
          },
          "output_type": "execute_result",
          "metadata": {},
          "execution_count": null
        }
      ],
      "source": [
        "love is False\n"
      ]
    },
    {
      "cell_type": "code",
      "execution_count": null,
      "metadata": {
        "collapsed": true
      },
      "outputs": [
        {
          "data": {
            "text/plain": [
              "True\n"
            ]
          },
          "output_type": "execute_result",
          "metadata": {},
          "execution_count": null
        }
      ],
      "source": [
        "love is not True or False\n"
      ]
    },
    {
      "cell_type": "code",
      "execution_count": null,
      "metadata": {
        "collapsed": true
      },
      "outputs": [
        {
          "data": {
            "text/plain": [
              "True\n"
            ]
          },
          "output_type": "execute_result",
          "metadata": {},
          "execution_count": null
        }
      ],
      "source": [
        "love is not True or False; love is love  # T\u00ecnh y\u00eau th\u1eadt ph\u1ee9c t\u1ea1p\n"
      ]
    },
    {
      "cell_type": "markdown",
      "metadata": {},
      "source": [
        "\n"
      ]
    },
    {
      "cell_type": "markdown",
      "metadata": {},
      "source": [
        "#### \ud83d\udca1 Gi\u1ea3i th\u00edch:\n",
        "* Module `this` trong Python l\u00e0 m\u1ed9t qu\u1ea3 tr\u1ee9ng ph\u1ee5c sinh cho Thi\u1ec1n c\u1ee7a Python ([PEP 20](https://www.python.org/dev/peps/pep-0020)).\n",
        "* V\u00e0 n\u1ebfu b\u1ea1n th\u1ea5y n\u00f3 h\u1ee9ng th\u00fa, h\u00e3y xem m\u00e3 tri\u1ec3n khai c\u1ee7a [this.py](https://hg.python.org/cpython/file/c3896275c0f6/Lib/this.py). H\u1ea5p d\u1eabn thay, **m\u00e3 c\u1ee7a Thi\u1ec1n l\u1ea1i vi ph\u1ea1m ch\u00ednh quy t\u1eafc thi\u1ec1n**\n",
        "* N\u00f3i v\u1ec1 c\u00e2u `love is not True or False; love is love`, m\u1ec9a mai thay c\u00e2u nay t\u1ef1 th\u1ea5y n\u00f3 co ngh\u0129a (n\u1ebfu kh\u00f4ng, hay xnhinf c\u00e1 v\u00ed d\u1ee5 li\u00ean quan t\u1edbi `is` v\u00e0 `is not`)\n"
      ]
    },
    {
      "cell_type": "markdown",
      "metadata": {},
      "source": [
        "### \u25b6 Yes, it exists!\n",
        "** Kh\u1ed1i `else` c\u1ee7a c\u00e1c v\u00f2ng l\u1eb7p .** D\u01b0\u1edbi \u0111\u00e2y l\u00e0 m\u1ed9t v\u00ed d\u1ee5 \u0111i\u1ec3n h\u00ecnh:\n",
        "\n"
      ]
    },
    {
      "cell_type": "code",
      "execution_count": null,
      "metadata": {
        "collapsed": true
      },
      "outputs": [
        {
          "data": {
            "text/plain": []
          },
          "output_type": "execute_result",
          "metadata": {},
          "execution_count": null
        }
      ],
      "source": [
        "  def does_exists_num(l, to_find):\n",
        "      for num in l:\n",
        "          if num == to_find:\n",
        "              print(\"Exists!\")\n",
        "              break\n",
        "      else:\n",
        "          print(\"Does not exist\")\n"
      ]
    },
    {
      "cell_type": "markdown",
      "metadata": {},
      "source": [
        "\n",
        "**K\u1ebft qu\u1ea3:**\n"
      ]
    },
    {
      "cell_type": "code",
      "execution_count": null,
      "metadata": {
        "collapsed": true
      },
      "outputs": [
        {
          "data": {
            "text/plain": [
              "Exists! (T\u1ed3n t\u1ea1i)\n"
            ]
          },
          "output_type": "execute_result",
          "metadata": {},
          "execution_count": null
        }
      ],
      "source": [
        "some_list = [1, 2, 3, 4, 5]\n",
        "does_exists_num(some_list, 4)\n"
      ]
    },
    {
      "cell_type": "code",
      "execution_count": null,
      "metadata": {
        "collapsed": true
      },
      "outputs": [
        {
          "data": {
            "text/plain": [
              "Does not exist (Kh\u00f4ng t\u1ed3n t\u1ea1i)\n"
            ]
          },
          "output_type": "execute_result",
          "metadata": {},
          "execution_count": null
        }
      ],
      "source": [
        "does_exists_num(some_list, -1)\n"
      ]
    },
    {
      "cell_type": "markdown",
      "metadata": {},
      "source": [
        "\n",
        "**Kh\u1ed1i `else` trong x\u1eed l\u00fd ngo\u1ea1i l\u1ec7.** M\u1ed9t v\u00ed d\u1ee5,\n",
        "\n"
      ]
    },
    {
      "cell_type": "code",
      "execution_count": null,
      "metadata": {
        "collapsed": true
      },
      "outputs": [
        {
          "data": {
            "text/plain": []
          },
          "output_type": "execute_result",
          "metadata": {},
          "execution_count": null
        }
      ],
      "source": [
        "try:\n",
        "    pass\n",
        "except:\n",
        "    print(\"Exception occurred!!!\")\n",
        "else:\n",
        "    print(\"Try block executed successfully...\")\n"
      ]
    },
    {
      "cell_type": "markdown",
      "metadata": {},
      "source": [
        "\n",
        "**K\u1ebft qu\u1ea3:**\n"
      ]
    },
    {
      "cell_type": "code",
      "execution_count": null,
      "metadata": {
        "collapsed": true
      },
      "outputs": [
        {
          "data": {
            "text/plain": []
          },
          "output_type": "execute_result",
          "metadata": {},
          "execution_count": null
        }
      ],
      "source": [
        "Try block executed successfully...\n"
      ]
    },
    {
      "cell_type": "markdown",
      "metadata": {},
      "source": [
        "\n"
      ]
    },
    {
      "cell_type": "markdown",
      "metadata": {},
      "source": [
        "#### \ud83d\udca1 Gi\u1ea3i th\u00edch:\n",
        "- Kh\u1ed1i `else` sau m\u1ed9t v\u00f2ng l\u1eb7p \u0111\u01b0\u1ee3c th\u1ef1c hi\u1ec7n ch\u1ec9 khi trong qu\u00e1 tr\u00ecnh l\u1eb7p kh\u00f4ng c\u00f3 m\u1ed9t `break` n\u00e0o. B\u1ea1n c\u00f3 th\u1ec3 ngh\u0129 n\u00f3 nh\u01b0 l\u00e0 m\u1ed9t kh\u1ed1i \"kh\u00f4ng ng\u1eaft\" (\"nobreak\")\n",
        "- Kh\u1ed1i `else` sau m\u1ed9t kh\u1ed1i try c\u00f2n \u0111\u01b0\u1ee3c g\u1ecdi la \"kh\u1ed1i ho\u00e0n t\u1ea5t\" \u0111\u00f3 khi c\u00e1c c\u00e2u l\u1ec7nh trong kh\u1ed1i n\u00e0y s\u1ebd \u0111\u01b0\u1ee3c th\u1ef1c thi khi kh\u1ed1i try ho\u00e0n th\u00e0nh tr\u1ecdn v\u1eb9n c\u00f4ng vi\u1ec7c c\u1ee7a m\u00ecnh.\n",
        "\n"
      ]
    },
    {
      "cell_type": "markdown",
      "metadata": {},
      "source": [
        "### \u25b6 Ellipsis *\n"
      ]
    },
    {
      "cell_type": "code",
      "execution_count": null,
      "metadata": {
        "collapsed": true
      },
      "outputs": [
        {
          "data": {
            "text/plain": []
          },
          "output_type": "execute_result",
          "metadata": {},
          "execution_count": null
        }
      ],
      "source": [
        "def some_func():\n",
        "    Ellipsis\n"
      ]
    },
    {
      "cell_type": "markdown",
      "metadata": {},
      "source": [
        "\n",
        "**K\u1ebft qu\u1ea3**\n"
      ]
    },
    {
      "cell_type": "code",
      "execution_count": null,
      "metadata": {
        "collapsed": true
      },
      "outputs": [
        {
          "data": {
            "text/plain": [
              "# No output, No Error\n",
              "\n"
            ]
          },
          "output_type": "execute_result",
          "metadata": {},
          "execution_count": null
        }
      ],
      "source": [
        "some_func()\n"
      ]
    },
    {
      "cell_type": "code",
      "execution_count": null,
      "metadata": {
        "collapsed": true
      },
      "outputs": [
        {
          "data": {
            "text/plain": [
              "Traceback (most recent call last):\n",
              "  File \"<stdin>\", line 1, in <module>\n",
              "NameError: name 'SomeRandomString' is not defined\n",
              "\n"
            ]
          },
          "output_type": "execute_result",
          "metadata": {},
          "execution_count": null
        }
      ],
      "source": [
        "SomeRandomString\n"
      ]
    },
    {
      "cell_type": "code",
      "execution_count": null,
      "metadata": {
        "collapsed": true
      },
      "outputs": [
        {
          "data": {
            "text/plain": [
              "Ellipsis\n"
            ]
          },
          "output_type": "execute_result",
          "metadata": {},
          "execution_count": null
        }
      ],
      "source": [
        "Ellipsis\n"
      ]
    },
    {
      "cell_type": "markdown",
      "metadata": {},
      "source": [
        "\n"
      ]
    },
    {
      "cell_type": "markdown",
      "metadata": {},
      "source": [
        "#### \ud83d\udca1 Gi\u1ea3i th\u00edch\n",
        "- Trong Python, `Ellipsis` l\u00e0 m\u1ed9t \u0111\u1ed1i t\u01b0\u1ee3ng c\u00f3 s\u1eb5n, to\u00e0n c\u1ee5c t\u01b0\u01a1ng \u0111\u01b0\u01a1ng v\u1edbi  `...`.\n"
      ]
    },
    {
      "cell_type": "code",
      "execution_count": null,
      "metadata": {
        "collapsed": true
      },
      "outputs": [
        {
          "data": {
            "text/plain": [
              "    Ellipsis\n"
            ]
          },
          "output_type": "execute_result",
          "metadata": {},
          "execution_count": null
        }
      ],
      "source": [
        "    ...\n"
      ]
    },
    {
      "cell_type": "markdown",
      "metadata": {},
      "source": [
        "- Eliipsis c\u00f3 th\u1ec3 \u0111\u01b0\u1ee3c s\u1eed d\u1ee5ng cho c\u00e1c m\u1ee5c \u0111\u00edch sau\n",
        "    + L\u00e0 m\u1ed9t \u0111\u1ed1i t\u01b0\u1ee3ng \"x\u00ed ch\u1ed7\" cho m\u00e3 ch\u01b0a \u0111\u01b0\u1ee3c vi\u1ebft (nh\u01b0 c\u00e2u l\u1ec7nh `pass`)\n",
        "    + Trong c\u00fa ph\u00e1p l\u00e1t c\u1eaft (slicing syntax), n\u00f3 \u0111\u01b0\u1ee3c d\u00f9ng \u0111\u1ec3 bi\u1ec3u di\u1ec5n c\u00e1c l\u00e1t c\u1eaft \u0111\u1ea7y \u0111\u1ee7 theo h\u01b0\u1edbng c\u00f2n l\u1ea1i\n",
        "    + In slicing syntax to represent the full slices in remaining direction\n"
      ]
    },
    {
      "cell_type": "code",
      "execution_count": null,
      "metadata": {
        "collapsed": true
      },
      "outputs": [
        {
          "data": {
            "text/plain": [
              "    array([\n",
              "        [\n",
              "            [0, 1],\n",
              "            [2, 3]\n",
              "        ],\n",
              "\n",
              "        [\n",
              "            [4, 5],\n",
              "            [6, 7]\n",
              "        ]\n",
              "    ])\n"
            ]
          },
          "output_type": "execute_result",
          "metadata": {},
          "execution_count": null
        }
      ],
      "source": [
        "    import numpy as np\n",
        "    three_dimensional_array = np.arange(8).reshape(2, 2, 2)\n"
      ]
    },
    {
      "cell_type": "markdown",
      "metadata": {},
      "source": [
        "    `three_dimensional_array` l\u00e0 m\u1ed9t m\u1ea3ng c\u1ee7a m\u1ea3ng c\u1ee7a c\u00e1c m\u1ea3ng. N\u00e0o, ch\u00fang ta mu\u1ed1n in ra ph\u1ea7n t\u1eed th\u1ee9 hai (ch\u1ec9 s\u1ed1 `1`) c\u1ee7a t\u1ea5t c\u1ea3 c\u00e1c m\u1ea3ng ph\u00eda trong c\u00f9ng, chugns ta c\u00f3 th\u1ec3 s\u1eed d\u1ee5ng Ellipsis \u0111\u1ec3 \"ch\u01a1i chi\u00eau qua m\u1eb7t\" (bypass) t\u1ea5t c\u1ea3 c\u00e1c chi\u1ec1u (dimensions) ph\u00eda tr\u01b0\u1edbc \u0111\u00f3.\n"
      ]
    },
    {
      "cell_type": "code",
      "execution_count": null,
      "metadata": {
        "collapsed": true
      },
      "outputs": [
        {
          "data": {
            "text/plain": [
              "    array([[1, 3],\n",
              "       [5, 7]])\n"
            ]
          },
          "output_type": "execute_result",
          "metadata": {},
          "execution_count": null
        }
      ],
      "source": [
        "    three_dimensional_array[:,:,1]\n"
      ]
    },
    {
      "cell_type": "code",
      "execution_count": null,
      "metadata": {
        "collapsed": true
      },
      "outputs": [
        {
          "data": {
            "text/plain": [
              "    array([[1, 3],\n",
              "       [5, 7]])\n"
            ]
          },
          "output_type": "execute_result",
          "metadata": {},
          "execution_count": null
        }
      ],
      "source": [
        "    three_dimensional_array[..., 1] # using Ellipsis.\n"
      ]
    },
    {
      "cell_type": "markdown",
      "metadata": {},
      "source": [
        "    Ch\u00fa \u00fd r\u1eb1ng: c\u00e1ch tr\u00ean c\u00f3 th\u1ec3 th\u1ef1c tr\u00ean b\u1ea5t c\u1ee9 m\u1ea3ng v\u1edbi s\u1ed1 l\u01b0\u1ee3ng chi\u1ec1u n\u00e0o. B\u1ea1n c\u00f3 th\u1ec3 l\u1ef1a tr\u00ean l\u00e1t c\u1eaft (slice) tr\u01b0\u1edbc v\u00e0 chi\u1ec1u cu\u1ed1i c\u00f9ng v\u00e0 l\u1edd \u0111i c\u00e1c chi\u1ec1u n\u1eb1m \u1edf gi\u1eefa (`n_dimensional_array[firs_dim_slice, ..., last_dim_slice]`)\n",
        "    + Trong [G\u1ee3i \u00fd ki\u1ec3u](https://docs.python.org/3/library/typing.html), Ellipsis \u0111\u01b0\u1ee3c d\u00f9ng \u0111\u1ec3 ch\u1ec9 ra m\u1ed9t ph\u1ea7n c\u1ee7a ki\u1ec3u (nh\u01b0 l\u00e0 `(Callable[..., int]` hay `Tuple[str, ...]`))\n",
        "    + B\u1ea1n c\u00f3 th\u1ec3 s\u1eed d\u1ee5ng Ellipsis nh\u01b0 l\u00e0 m\u1ed9t tham s\u1ed1 h\u00e0m m\u1eb7c \u0111\u1ecbnh (trong nh\u1eefng tr\u01b0\u1eddng h\u1ee3p b\u1ea1n mu\u1ed1n ph\u00e2n bi\u1ec7t gi\u1eefa hai t\u00ednh hu\u1ed1ng \"kh\u00f4ng c\u00f3 tham s\u1ed1 \u0111\u01b0\u1ee3c truy\u1ec1n v\u00e0o\") v\u00e0 \"gi\u00e1 tr\u1ecb None \u0111\u01b0\u1ee3c truy\u1ec1n v\u00e0o\"\n",
        "\n"
      ]
    },
    {
      "cell_type": "markdown",
      "metadata": {},
      "source": [
        "### \u25b6 Inpinity\n",
        "Vi\u1ec7c vi\u1ebft sai ch\u00ednh t\u1ea3 l\u00e0 ch\u1ee7 \u00fd.\n",
        "**K\u1ebft qu\u1ea3 (Python 3.x):**\n"
      ]
    },
    {
      "cell_type": "code",
      "execution_count": null,
      "metadata": {
        "collapsed": true
      },
      "outputs": [
        {
          "data": {
            "text/plain": [
              "314159\n"
            ]
          },
          "output_type": "execute_result",
          "metadata": {},
          "execution_count": null
        }
      ],
      "source": [
        "infinity = float('infinity')\n",
        "hash(infinity)\n"
      ]
    },
    {
      "cell_type": "code",
      "execution_count": null,
      "metadata": {
        "collapsed": true
      },
      "outputs": [
        {
          "data": {
            "text/plain": [
              "-314159\n"
            ]
          },
          "output_type": "execute_result",
          "metadata": {},
          "execution_count": null
        }
      ],
      "source": [
        "hash(float('-inf'))\n"
      ]
    },
    {
      "cell_type": "markdown",
      "metadata": {},
      "source": [
        "\n"
      ]
    },
    {
      "cell_type": "markdown",
      "metadata": {},
      "source": [
        "#### \ud83d\udca1 Gi\u1ea3i th\u00edch:\n",
        "- M\u00e3 b\u0103m c\u1ee7a v\u00f4 c\u1ef1c l\u00e0 10\u2075 x \u03c0.\n",
        "- Th\u00fa v\u1ecb l\u00e0 \u1edf ch\u1ed7 trong Python 3 m\u00e3 b\u0103m c\u1ee7a `float('-inf')` l\u00e0 \"-10\u2075 x \u03c0\", tr\u00e1i l\u1ea1i trong Python l\u00e0 \"-10\u2075 x e\"\n"
      ]
    },
    {
      "cell_type": "markdown",
      "metadata": {},
      "source": [
        "### \u25b6 Let's mangle\n",
        "1\\.\n"
      ]
    },
    {
      "cell_type": "code",
      "execution_count": null,
      "metadata": {
        "collapsed": true
      },
      "outputs": [
        {
          "data": {
            "text/plain": []
          },
          "output_type": "execute_result",
          "metadata": {},
          "execution_count": null
        }
      ],
      "source": [
        "class Yo(object):\n",
        "    def __init__(self):\n",
        "        self.__honey = True\n",
        "        self.bro = True\n"
      ]
    },
    {
      "cell_type": "markdown",
      "metadata": {},
      "source": [
        "\n",
        "**K\u1ebft qu\u1ea3:**\n"
      ]
    },
    {
      "cell_type": "code",
      "execution_count": null,
      "metadata": {
        "collapsed": true
      },
      "outputs": [
        {
          "data": {
            "text/plain": [
              "True\n"
            ]
          },
          "output_type": "execute_result",
          "metadata": {},
          "execution_count": null
        }
      ],
      "source": [
        "Yo().bro\n"
      ]
    },
    {
      "cell_type": "code",
      "execution_count": null,
      "metadata": {
        "collapsed": true
      },
      "outputs": [
        {
          "data": {
            "text/plain": [
              "AttributeError: 'Yo' object has no attribute '__honey' (\u0110\u1ed1i t\u01b0\u1ee3ng 'Yo' kh\u00f4ng c\u00f3 thu\u1ed9c t\u00ednh '__honey')\n"
            ]
          },
          "output_type": "execute_result",
          "metadata": {},
          "execution_count": null
        }
      ],
      "source": [
        "Yo().__honey\n"
      ]
    },
    {
      "cell_type": "code",
      "execution_count": null,
      "metadata": {
        "collapsed": true
      },
      "outputs": [
        {
          "data": {
            "text/plain": [
              "True\n"
            ]
          },
          "output_type": "execute_result",
          "metadata": {},
          "execution_count": null
        }
      ],
      "source": [
        "Yo()._Yo__honey\n"
      ]
    },
    {
      "cell_type": "markdown",
      "metadata": {},
      "source": [
        "\n",
        "2\\.\n"
      ]
    },
    {
      "cell_type": "code",
      "execution_count": null,
      "metadata": {
        "collapsed": true
      },
      "outputs": [
        {
          "data": {
            "text/plain": []
          },
          "output_type": "execute_result",
          "metadata": {},
          "execution_count": null
        }
      ],
      "source": [
        "class Yo(object):\n",
        "    def __init__(self):\n",
        "        # Let's try something symmetrical this time\n",
        "        self.__honey__ = True\n",
        "        self.bro = True\n"
      ]
    },
    {
      "cell_type": "markdown",
      "metadata": {},
      "source": [
        "\n",
        "**K\u1ebft qu\u1ea3:**\n"
      ]
    },
    {
      "cell_type": "code",
      "execution_count": null,
      "metadata": {
        "collapsed": true
      },
      "outputs": [
        {
          "data": {
            "text/plain": [
              "True\n",
              "\n"
            ]
          },
          "output_type": "execute_result",
          "metadata": {},
          "execution_count": null
        }
      ],
      "source": [
        "Yo().bro\n"
      ]
    },
    {
      "cell_type": "code",
      "execution_count": null,
      "metadata": {
        "collapsed": true
      },
      "outputs": [
        {
          "data": {
            "text/plain": [
              "Traceback (most recent call last):\n",
              "  File \"<stdin>\", line 1, in <module>\n",
              "AttributeError: 'Yo' object has no attribute '_Yo__honey__' (\u0110\u1ed1i t\u01b0\u1ee3ng 'Yo' kh\u00f4ng c\u00f3 thu\u1ed9c t\u00ednh '_Yo__honey__')\n"
            ]
          },
          "output_type": "execute_result",
          "metadata": {},
          "execution_count": null
        }
      ],
      "source": [
        "Yo()._Yo__honey__\n"
      ]
    },
    {
      "cell_type": "markdown",
      "metadata": {},
      "source": [
        "\n",
        "T\u1ea1i sao `Yo()._Yo__honey` l\u1ea1i g\u00e2y ra l\u1ed7i?\n",
        "\n",
        "3\\.\n",
        "\n"
      ]
    },
    {
      "cell_type": "code",
      "execution_count": null,
      "metadata": {
        "collapsed": true
      },
      "outputs": [
        {
          "data": {
            "text/plain": []
          },
          "output_type": "execute_result",
          "metadata": {},
          "execution_count": null
        }
      ],
      "source": [
        "_A__variable = \"Some value\"\n",
        "\n",
        "class A(object):\n",
        "    def some_func(self):\n",
        "        return __variable # (bi\u1ebfn n\u00e0y ch\u01b0a \u0111\u01b0\u1ee3c kh\u1edfi t\u1ea1o)\n"
      ]
    },
    {
      "cell_type": "markdown",
      "metadata": {},
      "source": [
        "\n",
        "**K\u1ebft qu\u1ea3:**\n"
      ]
    },
    {
      "cell_type": "code",
      "execution_count": null,
      "metadata": {
        "collapsed": true
      },
      "outputs": [
        {
          "data": {
            "text/plain": [
              "Traceback (most recent call last):\n",
              "  File \"<stdin>\", line 1, in <module>\n",
              "AttributeError: 'A' object has no attribute '__variable' (\u0110\u1ed1i t\u01b0\u1ee3ng 'A' kh\u00f4ng c\u00f3 thu\u1ed9c t\u00ednh '__variable')\n",
              "\n"
            ]
          },
          "output_type": "execute_result",
          "metadata": {},
          "execution_count": null
        }
      ],
      "source": [
        "A().__variable\n"
      ]
    },
    {
      "cell_type": "code",
      "execution_count": null,
      "metadata": {
        "collapsed": true
      },
      "outputs": [
        {
          "data": {
            "text/plain": [
              "'Some value'\n"
            ]
          },
          "output_type": "execute_result",
          "metadata": {},
          "execution_count": null
        }
      ],
      "source": [
        "A().some_func()\n"
      ]
    },
    {
      "cell_type": "markdown",
      "metadata": {},
      "source": [
        "\n",
        "\n"
      ]
    },
    {
      "cell_type": "markdown",
      "metadata": {},
      "source": [
        "#### \ud83d\udca1 Gi\u1ea3i th\u00edch:\n",
        "\n",
        "* [Name Mangling](https://en.wikipedia.org/wiki/Name_mangling) \u0111\u01b0\u1ee3c s\u1eed d\u1ee5ng \u0111\u1ec3 tr\u00e1nh vi\u1ec7c \u0111\u1ee5ng \u0111\u1ed9 v\u1ec1 t\u00ean (names) gi\u1eefa c\u00e1c kh\u00f4ng gian t\u00ean (namespaces).\n",
        "* Trong Python, tr\u00ecnh th\u00f4ng d\u1ecbch thay \u0111\u1ed5i (mangles) t\u00ean c\u1ee7a c\u00e1c th\u00e0nh vi\u00ean c\u1ee7a m\u1ed9t l\u1edbp m\u00e0 b\u1eaft \u0111\u1ea7u v\u1edbi `__` (hai d\u1ea5u g\u1ea1ch ch\u00e2n li\u1ec1n nhau hay c\u00f2n g\u1ecdi l\u00e0 \"dunder\") v\u00e0 c\u00e1c t\u00ean kh\u00f4ng th\u00fac v\u1edbi nhi\u1ec1u h\u01a1n m\u1ed9t d\u1ea5u g\u1ea1ch ch\u00e2n b\u1eb1ng vi\u1ec7c th\u00eam v\u00e0o `_T\u00eanC\u1ee7aL\u1edbp` v\u00e0o tr\u01b0\u1edbc \u0111\u00f3\n",
        "* V\u00ec v\u1eady, \u0111\u1ec3 truy c\u1eadp v\u00e0o thu\u1ed9c t\u00ednh `__honey` trong \u0111o\u1ea1n m\u00e3 \u0111\u1ea7u ti\u00ean, b\u1ea1n ph\u1ea3i n\u1ed1i `_Yo` v\u00e0o ph\u00eda tr\u01b0\u1edbc, \u0111\u1ec3 ng\u0103n vi\u1ec7c xung \u0111\u1ed9t v\u1edbi thu\u1ed9c t\u00ednh c\u00f3 c\u00f9ng t\u00ean trong l\u1edbp kh\u00e1c.\n",
        "* Nh\u01b0ng t\u1ea1i sao trong \u0111o\u1ea1n m\u00e3 th\u1ee9 hai m\u1eb7c d\u00f9 \u0111\u00e3 dung t\u00ean \u0111\u00fang nh\u01b0ng ta v\u1eabn kh\u00f4ng truy c\u1eadp \u0111\u01b0\u1ee3c v\u00e0o thu\u1ed9c t\u00ednh? B\u1edfi v\u00ec c\u00e1ch th\u1ee9c mangling n\u00e0y kh\u00f4ng \u00e1p d\u1ee5ng \u0111\u1ed1i v\u1edbi c\u00e1c t\u00ean bi\u1ebfn k\u1ebft th\u00fac v\u1edbi hai d\u1ea5u g\u1ea1ch ch\u00e2n.\n",
        "* \u0110o\u1ea1n m\u00e3 th\u1ee9 ba c\u0169ng l\u00e0 k\u1ebft qu\u1ea3 c\u1ee7a vi\u1ec7c mangling. T\u00ean `__variable` trong c\u00e2u l\u1ec7nh `return __variable` \u0111\u01b0\u1ee3c chuy\u1ec3n th\u00e0nh `_A__variable`, v\u00e0 l\u1ea1i v\u00f4 t\u00ecnh tr\u00f9ng v\u1edbi t\u00ean bi\u1ebfn \u0111\u01b0\u1ee3c khai b\u00e1o ph\u00eda b\u00ean ngo\u00e0i\n",
        "* C\u00f2n n\u1eefa, n\u1ebfu t\u00ean b\u1ecb mangle nhi\u1ec1u h\u01a1n 255 k\u00ed t\u1ef1, vi\u1ec7c c\u1eaft g\u1ecdn t\u00ean s\u1ebd di\u00ean ra.\n",
        "\n"
      ]
    },
    {
      "cell_type": "markdown",
      "metadata": {},
      "source": [
        "### \u25b6 Skipping lines?\n",
        "**K\u1ebft qu\u1ea3:**\n"
      ]
    },
    {
      "cell_type": "code",
      "execution_count": null,
      "metadata": {
        "collapsed": true
      },
      "outputs": [
        {
          "data": {
            "text/plain": [
              "11\n"
            ]
          },
          "output_type": "execute_result",
          "metadata": {},
          "execution_count": null
        }
      ],
      "source": [
        "value = 11\n",
        "valu\u0435 = 32\n",
        "value\n"
      ]
    },
    {
      "cell_type": "markdown",
      "metadata": {},
      "source": [
        "\n",
        "C\u00e1i qu\u00e1i g\u00ec th\u1ebf?\n",
        "\n",
        "**Ch\u00fa \u00fd:** \u0110\u1ec3 l\u00e0m ra k\u1ebft qu\u1ea3 nh\u01b0 tr\u00ean b\u1ea1n ch\u1ec9 c\u1ea7n sao ch\u1ebfp c\u00e1c c\u00e2u l\u1ec7nh v\u00e0 d\u00e1n n\u00f3 v\u00e0o file hay shell.\n",
        "\n"
      ]
    },
    {
      "cell_type": "markdown",
      "metadata": {},
      "source": [
        "#### \ud83d\udca1 Gi\u1ea3i th\u00edch\n",
        "\n",
        "M\u1ed9t v\u00e0i k\u00ed t\u1ef1 kh\u00f4ng ph\u1ea3i l\u00e0 k\u00ed t\u1ef1 ph\u01b0\u01a1ng t\u00e2y tr\u00f4ng gi\u1ed1ng nh\u01b0 c\u00e1c k\u00ed t\u1ef1 trong b\u1ea3ng ch\u1eef c\u00e1i ti\u1ebfng Anh nh\u01b0ng l\u1ea1i \u0111\u01b0\u1ee3c di\u1ec5n gi\u1ea3i kh\u00e1c b\u1edfi tr\u00ecnh th\u00f4ng idhcj\n"
      ]
    },
    {
      "cell_type": "code",
      "execution_count": null,
      "metadata": {
        "collapsed": true
      },
      "outputs": [
        {
          "data": {
            "text/plain": [
              "1077\n"
            ]
          },
          "output_type": "execute_result",
          "metadata": {},
          "execution_count": null
        }
      ],
      "source": [
        "ord('\u0435') # K\u00ed t\u1ef1 cyrillic 'e' (Ye)\n"
      ]
    },
    {
      "cell_type": "code",
      "execution_count": null,
      "metadata": {
        "collapsed": true
      },
      "outputs": [
        {
          "data": {
            "text/plain": [
              "101\n"
            ]
          },
          "output_type": "execute_result",
          "metadata": {},
          "execution_count": null
        }
      ],
      "source": [
        "ord('e') # K\u00ed t\u1ef1 latin 'e', \u0111\u01b0\u1ee3c s\u1eed d\u1ee5ng trong ti\u1ebfng Anh v\u00e0 tr\u00ean c\u00e1c b\u00e0n ph\u00edm chu\u1ea9n\n"
      ]
    },
    {
      "cell_type": "code",
      "execution_count": null,
      "metadata": {
        "collapsed": true
      },
      "outputs": [
        {
          "data": {
            "text/plain": [
              "False\n",
              "\n"
            ]
          },
          "output_type": "execute_result",
          "metadata": {},
          "execution_count": null
        }
      ],
      "source": [
        "'\u0435' == 'e'\n"
      ]
    },
    {
      "cell_type": "code",
      "execution_count": null,
      "metadata": {
        "collapsed": true
      },
      "outputs": [
        {
          "data": {
            "text/plain": [
              "42\n"
            ]
          },
          "output_type": "execute_result",
          "metadata": {},
          "execution_count": null
        }
      ],
      "source": [
        "value = 42 # latin e\n",
        "valu\u0435 = 23 # cyrillic 'e', Python 2.x interpreter would raise a `SyntaxError` here\n",
        "value\n"
      ]
    },
    {
      "cell_type": "markdown",
      "metadata": {},
      "source": [
        "\n",
        "\n",
        "H\u00e0m t\u00edch h\u1ee3p s\u1eb5n `ord()` tr\u1ea3 v\u1ec1 m\u00e3 Unicode c\u1ee7a m\u1ed9t k\u00ed t\u1ef1 [code point](https://en.wikipedia.org/wiki/Code_point), v\u00e0 b\u1ea1n c\u00f3 th\u1ec3 th\u1ea5y c\u00e1c m\u00e3 kh\u00e1c nhau cho k\u00ed t\u1ef1  Cyrillic 'e' v\u00e0 k\u00ed t\u1ef1 Latin 'e' .\n",
        "\n"
      ]
    },
    {
      "cell_type": "markdown",
      "metadata": {},
      "source": [
        "### \u25b6 Teleportation\n"
      ]
    },
    {
      "cell_type": "code",
      "execution_count": null,
      "metadata": {
        "collapsed": true
      },
      "outputs": [
        {
          "data": {
            "text/plain": []
          },
          "output_type": "execute_result",
          "metadata": {},
          "execution_count": null
        }
      ],
      "source": [
        "# C\u00e0i \u0111\u1eb7t th\u01b0 vi\u00ean numpy s\u1eed d\u1ee5ng `pip install numpy` tr\u01b0\u1edbc\n",
        "import numpy as np\n",
        "\n",
        "def energy_send(x):\n",
        "    # Kh\u1edfi t\u1ea1o m\u1ed9t m\u1ea3ng numpy\n",
        "    np.array([float(x)])\n",
        "\n",
        "def energy_receive():\n",
        "    # Tr\u1ea3 v\u1ec1 m\u1ed9t mang numpy r\u1ed7ng\n",
        "    return np.empty((), dtype=np.float).tolist()\n"
      ]
    },
    {
      "cell_type": "markdown",
      "metadata": {},
      "source": [
        "\n",
        "**K\u1ebft qu\u1ea3:**\n"
      ]
    },
    {
      "cell_type": "code",
      "execution_count": null,
      "metadata": {
        "collapsed": true
      },
      "outputs": [
        {
          "data": {
            "text/plain": [
              "123.456\n"
            ]
          },
          "output_type": "execute_result",
          "metadata": {},
          "execution_count": null
        }
      ],
      "source": [
        "energy_send(123.456)\n",
        "energy_receive()\n"
      ]
    },
    {
      "cell_type": "markdown",
      "metadata": {},
      "source": [
        "\n",
        "C\u00f3 g\u00ec m\u1edbi \u1edf \u0111\u00e2y n\u00e0o ?\n",
        "\n"
      ]
    },
    {
      "cell_type": "markdown",
      "metadata": {},
      "source": [
        "#### \ud83d\udca1 Gi\u1ea3i th\u00edch:\n",
        "\n",
        "* Ch\u00fa \u00fd r\u1eb1ng m\u1ea3ng numpy \u0111\u01b0\u1ee3c t\u1ea1o trong h\u00e0m `energy_send` kh\u00f4ng c\u00f3 \u0111\u01b0\u1ee3c tr\u1ea3 v\u00ec, v\u00ec v\u1eady kh\u00f4ng gian b\u1ed9 nh\u1edb \u0111\u01b0\u1ee3c gi\u1ea3i ph\u00f3ng.\n",
        "* `numpy.empty()` tr\u1ea3 v\u1ec1 ph\u1ea7n b\u1ed9 nh\u01a1 t\u1ef1 do ti\u1ebfp theo m\u00e0 kh\u00f4ng kh\u1edfi t\u1ea1o l\u1ea1i n\u00f3. Ph\u00e2n b\u1ed9 nh\u1edb nay l\u1ea1i v\u00f4 t\u00ecnh trung v\u1edbi ph\u1ea7n b\u1ed9 nh\u1edb tr\u01b0\u1edbc \u0111\u00f3 \u0111\u01b0\u1ee3c gi\u1ea3i ph\u00f3ng (th\u01b0\u1eddng x\u1ea3y ra, nh\u01b0ng kh\u00f4ng ph\u1ea3i l\u00e0 lu\u00f4n lu\u00f4n)\n",
        "\n"
      ]
    },
    {
      "cell_type": "markdown",
      "metadata": {},
      "source": [
        "### \u25b6 Well, something is fishy...\n"
      ]
    },
    {
      "cell_type": "code",
      "execution_count": null,
      "metadata": {
        "collapsed": true
      },
      "outputs": [
        {
          "data": {
            "text/plain": []
          },
          "output_type": "execute_result",
          "metadata": {},
          "execution_count": null
        }
      ],
      "source": [
        "def square(x):\n",
        "    \"\"\"\n",
        "    A simple function to calculate the square of a number by addition.\n",
        "    \"\"\"\n",
        "    sum_so_far = 0\n",
        "    for counter in range(x):\n",
        "        sum_so_far = sum_so_far + x\n",
        "  return sum_so_far\n"
      ]
    },
    {
      "cell_type": "markdown",
      "metadata": {},
      "source": [
        "\n",
        "**K\u1ebft qu\u1ea3 (Python 2.x):**\n",
        "\n"
      ]
    },
    {
      "cell_type": "code",
      "execution_count": null,
      "metadata": {
        "collapsed": true
      },
      "outputs": [
        {
          "data": {
            "text/plain": [
              "10\n"
            ]
          },
          "output_type": "execute_result",
          "metadata": {},
          "execution_count": null
        }
      ],
      "source": [
        "square(10)\n"
      ]
    },
    {
      "cell_type": "markdown",
      "metadata": {},
      "source": [
        "\n",
        "Sao k\u1ebft qu\u1ea3 l\u1ea1i ra 100?\n",
        "\n",
        "**Ch\u00fa \u00fd:** N\u1ebfu b\u1ea1n kh\u00f4ng th\u1ef1c hi\u1ec7n l\u1ea1i \u0111\u01b0\u1ee3c v\u00ed d\u1ee5 tr\u00ean, ch\u1ea1y th\u1eed file [mixed_tabs_and_spaces.py](/mixed_tabs_and_spaces.py) th\u00f4ng qua shell.\n"
      ]
    },
    {
      "cell_type": "markdown",
      "metadata": {},
      "source": [
        "#### \ud83d\udca1 Explanation\n",
        "\n",
        "* **\u0110\u1eebng tr\u1ed9n l\u1eabn tabs v\u00e0 c\u00e1c kho\u1ea3ng tr\u1eafng (spaces)!** K\u00ed t\u1ef1 n\u1eb1m ph\u00eda tr\u01b0\u1edbc l\u1ec7nh return l\u00e0 m\u1ed9t \"tab\", v\u00e0 \u0111o\u1ea1n m\u00e3 \u1edf \u0111\u00e2u \u0111\u00f3 trong code \u0111\u01b0\u1ee3c th\u1ee5t l\u00f9i theo b\u1ed9i s\u1ed1 c\u1ee7a \"4 kho\u1ea3ng tr\u1eafng\"\n",
        "* This is how Python handles tabs:\n",
        "* \u0110\u00e2y l\u00e0 c\u00e1ch Python x\u1eed l\u00fd tabs:  \n",
        "  > \u0110\u1ea7u ti\u00ean, tabs \u0111\u01b0\u1ee3c thay th\u1ebf (t\u1eeb tr\u00e1i sang ph\u1ea3i) b\u1eb1ng t\u1eeb m\u1ed9t t\u1edbi t\u00e1m kho\u1ea3ng tr\u1eafng \u0111\u1ec3 cho t\u1ed5ng s\u1ed1 l\u01b0\u1ee3ng c\u00e1c k\u00ed t\u1ef1 (bao g\u1ed3m c\u1ea3 k\u00ed t\u1ef1 thay th\u1ebf) c\u00f3 gi\u00e1 tr\u1ecb l\u00e0 b\u1ed9i s\u1ed1 c\u1ee7a t\u00e1m <...>\n",
        "* Do \u0111\u00f3 \"tab\" n\u1eb1m \u1edf d\u00f2ng cu\u1ed1i c\u1ee7a h\u00e0m `square` \u0111\u01b0\u1ee3c thay th\u1ebf b\u1eb1ng t\u00e1m kho\u1ea3ng tr\u1eafng, v\u00e0 n\u00f3 \u0111i v\u00e0o n\u1eb1m trong v\u00f2ng l\u1eb7p.\n",
        "* Python 3 s\u1ebd v\u0103ng ra m\u1ed9t l\u1ed7i khi n\u00f3 g\u1eb7p ph\u1ea3i c\u00e1c l\u1ed7i li\u00ean quan t\u1edbi tabs v\u00e0 kho\u1ea3ng tr\u1eafng.\n",
        "    **K\u1ebft qu\u1ea3 (Python 3.x):**\n"
      ]
    },
    {
      "cell_type": "code",
      "execution_count": null,
      "metadata": {
        "collapsed": true
      },
      "outputs": [
        {
          "data": {
            "text/plain": []
          },
          "output_type": "execute_result",
          "metadata": {},
          "execution_count": null
        }
      ],
      "source": [
        "    TabError: inconsistent use of tabs and spaces in indentation\n"
      ]
    },
    {
      "cell_type": "markdown",
      "metadata": {},
      "source": [
        "\n"
      ]
    },
    {
      "cell_type": "markdown",
      "metadata": {},
      "source": [
        "### \u25b6 `+=` ch\u1ea1y nhanh h\u01a1n\n"
      ]
    },
    {
      "cell_type": "code",
      "execution_count": null,
      "metadata": {
        "collapsed": true
      },
      "outputs": [
        {
          "data": {
            "text/plain": [
              "0.25748300552368164\n",
              "# S\u1eed d\u1ee5ng \"+=\" \u0111\u1ec3 c\u1ed9ng 3 strings:\n"
            ]
          },
          "output_type": "execute_result",
          "metadata": {},
          "execution_count": null
        }
      ],
      "source": [
        "# S\u1eed d\u1ee5ng \"+\" \u0111\u1ec3 c\u1ed9ng 3 strings:\n",
        "timeit.timeit(\"s1 = s1 + s2 + s3\", setup=\"s1 = ' ' * 100000; s2 = ' ' * 100000; s3 = ' ' * 100000\", number=100)\n"
      ]
    },
    {
      "cell_type": "code",
      "execution_count": null,
      "metadata": {
        "collapsed": true
      },
      "outputs": [
        {
          "data": {
            "text/plain": [
              "0.012188911437988281\n"
            ]
          },
          "output_type": "execute_result",
          "metadata": {},
          "execution_count": null
        }
      ],
      "source": [
        "timeit.timeit(\"s1 += s2 + s3\", setup=\"s1 = ' ' * 100000; s2 = ' ' * 100000; s3 = ' ' * 100000\", number=100)\n"
      ]
    },
    {
      "cell_type": "markdown",
      "metadata": {},
      "source": [
        "\n"
      ]
    },
    {
      "cell_type": "markdown",
      "metadata": {},
      "source": [
        "#### \ud83d\udca1 Gi\u1ea3i th\u00edch:\n",
        "+ `+=` nhanh h\u01a1n `+` khi n\u1ed1i nhi\u1ec1u h\u01a1n 2 strings b\u1edfi v\u00ec string \u0111\u1ea7u ti\u00ean (v\u00ed d\u1ee5, `s1` trong `s1 += s2 + s3`) kh\u00f4ng b\u1ecb hu\u1ef7 \u0111i khi t\u1ea1o ra chu\u1ed7i k\u1ebft qu\u1ea3 cu\u1ed1i c\u00f9ng\n"
      ]
    },
    {
      "cell_type": "markdown",
      "metadata": {},
      "source": [
        "### \u25b6 Let's make a giant string!\n"
      ]
    },
    {
      "cell_type": "code",
      "execution_count": null,
      "metadata": {
        "collapsed": true
      },
      "outputs": [
        {
          "data": {
            "text/plain": []
          },
          "output_type": "execute_result",
          "metadata": {},
          "execution_count": null
        }
      ],
      "source": [
        "def add_string_with_plus(iters):\n",
        "    s = \"\"\n",
        "    for i in range(iters):\n",
        "        s += \"xyz\"\n",
        "    assert len(s) == 3*iters\n",
        "\n",
        "def add_bytes_with_plus(iters):\n",
        "    s = b\"\"\n",
        "    for i in range(iters):\n",
        "        s += b\"xyz\"\n",
        "    assert len(s) == 3*iters\n",
        "\n",
        "def add_string_with_format(iters):\n",
        "    fs = \"{}\"*iters\n",
        "    s = fs.format(*([\"xyz\"]*iters))\n",
        "    assert len(s) == 3*iters\n",
        "\n",
        "def add_string_with_join(iters):\n",
        "    l = []\n",
        "    for i in range(iters):\n",
        "        l.append(\"xyz\")\n",
        "    s = \"\".join(l)\n",
        "    assert len(s) == 3*iters\n",
        "\n",
        "def convert_list_to_string(l, iters):\n",
        "    s = \"\".join(l)\n",
        "    assert len(s) == 3*iters\n"
      ]
    },
    {
      "cell_type": "markdown",
      "metadata": {},
      "source": [
        "\n",
        "**K\u1ebft qu\u1ea3:**\n",
        "\n"
      ]
    },
    {
      "cell_type": "code",
      "execution_count": null,
      "metadata": {
        "collapsed": true
      },
      "outputs": [
        {
          "data": {
            "text/plain": [
              "124 \u00b5s \u00b1 4.73 \u00b5s per loop (mean \u00b1 std. dev. of 7 runs, 100 loops each)\n"
            ]
          },
          "output_type": "execute_result",
          "metadata": {},
          "execution_count": null
        }
      ],
      "source": [
        "# Ch\u1ea1y c\u00e1c \u0111o\u1ea1n l\u1ec7nh trong ipython shell s\u1eed dung %timeit \u0111\u1ec3 c\u00f3 k\u1ebft qu\u1ea3 d\u1ec5 \u0111\u1ecdc h\u01a1n\n",
        "# B\u1ea1n c\u0169ng c\u00f3 th\u1ec3 s\u1eed d\u1ee5ng module timeit trong python shell b\u00ecnh th\u01b0\u1eddng, nh\u01b0 v\u00ed d\u1ee5 d\u01b0\u1edbi \u0111\u00e2y\n",
        "# timeit.timeit('add_string_with_plus(10000)', number=1000, globals=globals())\n",
        "\n",
        "NUM_ITERS = 1000\n",
        "%timeit -n1000 add_string_with_plus(NUM_ITERS)\n"
      ]
    },
    {
      "cell_type": "code",
      "execution_count": null,
      "metadata": {
        "collapsed": true
      },
      "outputs": [
        {
          "data": {
            "text/plain": [
              "211 \u00b5s \u00b1 10.5 \u00b5s per loop (mean \u00b1 std. dev. of 7 runs, 1000 loops each)\n"
            ]
          },
          "output_type": "execute_result",
          "metadata": {},
          "execution_count": null
        }
      ],
      "source": [
        "%timeit -n1000 add_bytes_with_plus(NUM_ITERS)\n"
      ]
    },
    {
      "cell_type": "code",
      "execution_count": null,
      "metadata": {
        "collapsed": true
      },
      "outputs": [
        {
          "data": {
            "text/plain": [
              "61 \u00b5s \u00b1 2.18 \u00b5s per loop (mean \u00b1 std. dev. of 7 runs, 1000 loops each)\n"
            ]
          },
          "output_type": "execute_result",
          "metadata": {},
          "execution_count": null
        }
      ],
      "source": [
        "%timeit -n1000 add_string_with_format(NUM_ITERS)\n"
      ]
    },
    {
      "cell_type": "code",
      "execution_count": null,
      "metadata": {
        "collapsed": true
      },
      "outputs": [
        {
          "data": {
            "text/plain": [
              "117 \u00b5s \u00b1 3.21 \u00b5s per loop (mean \u00b1 std. dev. of 7 runs, 1000 loops each)\n"
            ]
          },
          "output_type": "execute_result",
          "metadata": {},
          "execution_count": null
        }
      ],
      "source": [
        "%timeit -n1000 add_string_with_join(NUM_ITERS)\n"
      ]
    },
    {
      "cell_type": "code",
      "execution_count": null,
      "metadata": {
        "collapsed": true
      },
      "outputs": [
        {
          "data": {
            "text/plain": [
              "10.1 \u00b5s \u00b1 1.06 \u00b5s per loop (mean \u00b1 std. dev. of 7 runs, 1000 loops each)\n"
            ]
          },
          "output_type": "execute_result",
          "metadata": {},
          "execution_count": null
        }
      ],
      "source": [
        "l = [\"xyz\"]*NUM_ITERS\n",
        "%timeit -n1000 convert_list_to_string(l, NUM_ITERS)\n"
      ]
    },
    {
      "cell_type": "markdown",
      "metadata": {},
      "source": [
        "\n",
        "B\u00e2y gi\u1edd t\u0103ng s\u1ed1 v\u00f2ng l\u1eb7p l\u00ean 10 l\u1ea7n\n"
      ]
    },
    {
      "cell_type": "code",
      "execution_count": null,
      "metadata": {
        "collapsed": true
      },
      "outputs": [
        {
          "data": {
            "text/plain": [
              "1.26 ms \u00b1 76.8 \u00b5s per loop (mean \u00b1 std. dev. of 7 runs, 1000 loops each)\n"
            ]
          },
          "output_type": "execute_result",
          "metadata": {},
          "execution_count": null
        }
      ],
      "source": [
        "NUM_ITERS = 10000\n",
        "%timeit -n1000 add_string_with_plus(NUM_ITERS) # Linear increase in execution time\n"
      ]
    },
    {
      "cell_type": "code",
      "execution_count": null,
      "metadata": {
        "collapsed": true
      },
      "outputs": [
        {
          "data": {
            "text/plain": [
              "6.82 ms \u00b1 134 \u00b5s per loop (mean \u00b1 std. dev. of 7 runs, 1000 loops each)\n"
            ]
          },
          "output_type": "execute_result",
          "metadata": {},
          "execution_count": null
        }
      ],
      "source": [
        "%timeit -n1000 add_bytes_with_plus(NUM_ITERS) # Quadratic increase\n"
      ]
    },
    {
      "cell_type": "code",
      "execution_count": null,
      "metadata": {
        "collapsed": true
      },
      "outputs": [
        {
          "data": {
            "text/plain": [
              "645 \u00b5s \u00b1 24.5 \u00b5s per loop (mean \u00b1 std. dev. of 7 runs, 1000 loops each)\n"
            ]
          },
          "output_type": "execute_result",
          "metadata": {},
          "execution_count": null
        }
      ],
      "source": [
        "%timeit -n1000 add_string_with_format(NUM_ITERS) # Linear increase\n"
      ]
    },
    {
      "cell_type": "code",
      "execution_count": null,
      "metadata": {
        "collapsed": true
      },
      "outputs": [
        {
          "data": {
            "text/plain": [
              "1.17 ms \u00b1 7.25 \u00b5s per loop (mean \u00b1 std. dev. of 7 runs, 1000 loops each)\n"
            ]
          },
          "output_type": "execute_result",
          "metadata": {},
          "execution_count": null
        }
      ],
      "source": [
        "%timeit -n1000 add_string_with_join(NUM_ITERS) # Linear increase\n"
      ]
    },
    {
      "cell_type": "code",
      "execution_count": null,
      "metadata": {
        "collapsed": true
      },
      "outputs": [
        {
          "data": {
            "text/plain": [
              "86.3 \u00b5s \u00b1 2 \u00b5s per loop (mean \u00b1 std. dev. of 7 runs, 1000 loops each)\n"
            ]
          },
          "output_type": "execute_result",
          "metadata": {},
          "execution_count": null
        }
      ],
      "source": [
        "l = [\"xyz\"]*NUM_ITERS\n",
        "%timeit -n1000 convert_list_to_string(l, NUM_ITERS) # Linear increase\n"
      ]
    },
    {
      "cell_type": "markdown",
      "metadata": {},
      "source": [
        "\n"
      ]
    },
    {
      "cell_type": "markdown",
      "metadata": {},
      "source": [
        "#### \ud83d\udca1 Gi\u1ea3i th\u00edch\n",
        "- B\u1ea1n c\u00f3 th\u1ec3 \u0111\u1ecdc th\u00eam v\u1ec1 [timeit] (https://docs.python.org/3/library/timeit.html) or [%timeit](https://ipython.org/ipython-doc/dev/interactive/magics.html#magic-timeit). Module n\u00e0y \u0111\u01b0\u1ee3c s\u1eed d\u1ee5ng \u0111\u1ec3 \u0111o th\u1eddi gian ch\u1ea1y c\u1ee7a c\u00e1c \u0111o\u1ea1n code.\n",
        "- \u0110\u1eebng d\u00f9ng `+` \u0111\u1ec3 sinh ra c\u00e1c strings d\u00e0i. Trong Python, `str` kh\u00f4ng th\u1ec3 thay \u0111\u1ed5i \u0111\u01b0\u1ee3c gi\u00e1 tr\u1ecb, do \u0111\u00f3 c\u00e1c strings ph\u00eda b\u00ean tr\u00e1i v\u00e0 ph\u1ea3i ph\u1ea3i \u0111\u01b0\u1ee3c ch\u00e9p v\u00e0o string m\u1edbi cho m\u1ed7i c\u1eb7p gh\u00e9p string. N\u1ebfu b\u1ea1n n\u1ed1i strings c\u00f3 \u0111\u1ed9 d\u00e0i l\u00e0 10, b\u1ea1n s\u1ebd ch\u00e9p + ((10+10)+10) + (((10+10)+10)+10) = 90 k\u00ed t\u1ef1 thay v\u00ec ch\u1ec9 40 k\u00ed t\u1ef1. S\u1ebd t\u1ec7 h\u01a1n n\u1eefa khi s\u1ed1 l\u01b0\u1ee3ng v\u00e0 k\u00edch th\u01b0\u1edbc c\u1ee7a string t\u0103ng (nh\u01b0 b\u1ea1n c\u00f3 th\u1ec3 th\u1ea5y \u1edf h\u00e0m `add_bytes_with_plus` )\n",
        "- Do \u0111\u00f3, b\u00ean n\u00ean d\u00f9ng `.format.` hay `%` (m\u1eb7c d\u00f9 c\u00e1c c\u00e1ch s\u1eed d\u1ee5ng n\u00e0y s\u1ebd ch\u1eadm h\u01a1n `+` \u0111\u1ed1i v\u1edbi c\u00e1c strings nh\u1ecf )\n",
        "- Hay t\u1ed1t h\u01a1n n\u1eefa, n\u1ebfu b\u1ea1n \u0111\u00e3 c\u00f3 s\u1eb5n nh\u1eefng n\u1ed9i dung \u1edf d\u1ea1ng m\u1ed9t \u0111\u1ed1i t\u01b0\u1ee3ng c\u00f3 th\u1ec3 l\u1eb7p, khi \u0111\u00f3 s\u1eed d\u1ee5ng `''.join(iterable_object)` s\u1ebd nhanh h\u01a1n. \n",
        "- Kh\u00f4ng gi\u1ed1ng nh\u01b0 `add_bytes_with_plus` v\u1edbi c\u00e1c t\u1ed1i \u01b0u \u0111\u1ebfn t\u1eeb `+=` nh\u01b0 \u0111\u00e3 th\u1ea3o lu\u1eadn \u1edf v\u00ed d\u1ee5 tr\u01b0\u1edbc \u0111\u00f3, `add_string_with_plus` kh\u00f4ng cho th\u1ea5y s\u1ef1 t\u0103ng c\u1ea5p b\u1eadc hai v\u1ec1 th\u1eddi gian th\u01b0ucj thi. S\u1eed d\u1ee5ng `s = s + \"x\" + \"y\" + \"z\"` thay v\u00ec `s += \"xyz\"` s\u1ebd l\u00e0m t\u0103ng th\u1eddi gian ch\u1ea1y l\u00ean hai l\u1ea7n..\n"
      ]
    },
    {
      "cell_type": "code",
      "execution_count": null,
      "metadata": {
        "collapsed": true
      },
      "outputs": [
        {
          "data": {
            "text/plain": [
              "  388 \u00b5s \u00b1 22.4 \u00b5s per loop (mean \u00b1 std. dev. of 7 runs, 1000 loops each)\n"
            ]
          },
          "output_type": "execute_result",
          "metadata": {},
          "execution_count": null
        }
      ],
      "source": [
        "  def add_string_with_plus(iters):\n",
        "      s = \"\"\n",
        "      for i in range(iters):\n",
        "          s = s + \"x\" + \"y\" + \"z\"\n",
        "      assert len(s) == 3*iters\n",
        "\n",
        "  %timeit -n100 add_string_with_plus(1000)\n"
      ]
    },
    {
      "cell_type": "code",
      "execution_count": null,
      "metadata": {
        "collapsed": true
      },
      "outputs": [
        {
          "data": {
            "text/plain": [
              "  9 ms \u00b1 298 \u00b5s per loop (mean \u00b1 std. dev. of 7 runs, 100 loops each)\n"
            ]
          },
          "output_type": "execute_result",
          "metadata": {},
          "execution_count": null
        }
      ],
      "source": [
        "  %timeit -n100 add_string_with_plus(10000) # Quadratic increase in execution time\n"
      ]
    },
    {
      "cell_type": "markdown",
      "metadata": {},
      "source": [
        "  \n",
        "- C\u00f3 nhi\u1ec1u c\u00e1ch \u0111\u1ec3 \u0111\u1ecbnh d\u1ea1ng v\u00e0 t\u1ea1o m\u1ed9t string kh\u1ed5ng l\u1ed3, tr\u00e1i ng\u01b0\u1ee3c v\u1edbi \u0111i\u1ec1u trong [Zen of Python](https://www.python.org/dev/peps/pep-0020/), nh\u01b0 sau  \n",
        "    > Ch\u1ec9 n\u00ean c\u00f3 m\u1ed9t -- v\u00e0 t\u1ed1t h\u01a1n l\u00e0 ch\u1ec9 m\u1ed9t -- c\u00e1ch r\u00f5 r\u00e0ng \u0111\u1ec3 l\u00e0m \u0111i\u1ec1u n\u00e0y.\n"
      ]
    },
    {
      "cell_type": "markdown",
      "metadata": {},
      "source": [
        "### \u25b6 Minor Ones *\n",
        "* `join()` l\u00e0 m\u1ed9t h\u00e0m d\u00e0nh cho string thay v\u00ec d\u00e0nh cho list. (n\u1ebfu nh\u00ecn v\u00e0o th\u00ec ta c\u00f3 th\u1ec3 th\u1ea5y n\u00f3 h\u01a1i ng\u01b0\u1ee3c ng\u01b0\u1ee3c)\n",
        "  **\ud83d\udca1 Gi\u1ea3i th\u00edch:** N\u1ebfu `join()` l\u00e0 m\u1ed9t ph\u01b0\u01a1ng th\u1ee9c ho\u1ea1t \u0111\u1ed9ng v\u1edbi m\u1ed9t string, khi \u0111\u00f3 n\u00f3 c\u0169ng c\u00f3 th\u1ec3 l\u00e0m vi\u1ec7c \u0111\u01b0\u1ee3c v\u1edbi b\u1ea5t c\u1ee9 \u0111\u1ed1i t\u01b0\u1ee3ng c\u00f3 th\u1ec3 l\u1eb7p kh\u00e1c (nh\u01b0 list, tuple, iterators). N\u1ebfu n\u00f3 l\u00e0 m\u1ed9t ph\u01b0\u01a1ng th\u1ee9c ho\u1ea1t \u0111\u1ed9ng \u0111\u01b0\u1ee3c tr\u00ean list, th\u00ec n\u00f3 ph\u1ea3i \u0111\u01b0\u1ee3c tri\u1ec3n khai m\u1ed9t c\u00e1ch t\u00e1ch bi\u1ec7t v\u1edbi m\u1ecdi ki\u1ec3u. C\u00f2n n\u1eefa, s\u1ebd l\u00e0 kh\u00f4ng h\u1ee3p l\u00fd \u0111\u1ec3 \u0111\u1eb7t m\u1ed9t ph\u01b0\u01a1ng th\u1ee9c ch\u1ec9 d\u00e0nh ri\u00eang cho string l\u00ean m\u1ed9t \u0111\u1ed1i t\u01b0\u1ee3ng t\u1ed5ng qu\u00e1t `list`.\n",
        "  \n",
        "* C\u00e1c c\u00e2u l\u1ec7nh d\u01b0\u1edbi \u0111\u00e2y nh\u00ecn c\u00f3 v\u1ebb l\u1ea1, nh\u01b0ng \u0111\u00fang v\u1ec1 ng\u1eef ngh\u0129a:\n",
        "  + `[] = ()` v\u1eabn \u0111\u00fang v\u1ec1 m\u1eb7t ng\u1eef ngh\u0129a (Gi\u1ea3i n\u00e9n m\u1ed9t `tuple` r\u1ed7ng s\u1ebd t\u1ea1o ra m\u1ed9t `list` r\u1ed7ng)\n",
        "  + `'a'[0][0][0][0][0]` c\u0169ng \u0111\u00fang v\u1ec1 ng\u1eef ngh\u0129a b\u1edfi c\u00e1c strings l\u00e0 c\u00e1c [chu\u1ed7i](https://docs.python.org/3/glossary.html#term-sequence) (c\u00e1c \u0111\u1ed1i t\u01b0\u1ee3ng c\u00f3 th\u1ec3 l\u1eb7p h\u1ed7 tr\u1ee3 truy c\u1eadp v\u00e0 c\u00e1c ph\u1ea7n t\u1eed n\u00f3 ch\u1ee9a s\u1eed d\u1ee5ng c\u00e1c ch\u1ec9 s\u1ed1 s\u1ed1 nguy\u00ean) trong Python.\n",
        "  + C\u1ea3 `3 --0-- 5 == 8` v\u00e0 `--5 == 5` \u0111\u1ec1u \u0111\u00fang v\u1ec1 ng\u1eef ngh\u0129a v\u00e0 cho ra k\u1ebft qu\u1ea3 l\u00e0 `True`.\n",
        "\n",
        "* V\u1edbi `a` l\u00e0 m\u1ed9t s\u1ed1, `++a` v\u00e0 `--a` \u0111\u1ec1u l\u00e0 c\u00e1c c\u00e2u l\u1ec7nh Python h\u1ee3p l\u1ec7 nh\u01b0ng ch\u00fang kh\u00f4ng ch\u1ea1y gi\u1ed1ng nh\u01b0 c\u00e1c c\u00e2u l\u1ec7nh t\u01b0\u01a1ng t\u1ef1 trong c\u00e1c ng\u00f4n ng\u1eef kh\u00e1c nh\u01b0 C, C++, hay Java.\n",
        "  ```py\n",
        "  >>> a = 5\n",
        "  >>> a\n",
        "  5\n",
        "  >>> ++a\n",
        "  5\n",
        "  >>> --a\n",
        "  5\n",
        "  ```\n",
        "\n",
        "  **\ud83d\udca1 Gi\u1ea3i th\u00edch:**\n",
        "  + Trong Python, kh\u00f4ng c\u00f3 ph\u00e9p `++`. Th\u1ef1c ra n\u00f3 ch\u1ec9 l\u00e0 hai ph\u00e9p t\u00ednh  `+`.\n",
        "  + `++a` \u0111\u01b0\u1ee3c ph\u00e2n t\u00edch nh\u01b0  `+(+a)` v\u00e0 \u0111\u01b0\u1ee3c d\u1ecbch ra l\u00e0 `a`. T\u01b0\u01a1ng t\u1ef1 l\u00e0 `--a`.\n",
        "  + [B\u00e0i \u0111\u0103ng](https://stackoverflow.com/questions/3654830/why-are-there-no-and-operators-in-python) tr\u00ean StackOverflow th\u1ea3o lu\u1eadn l\u00fd do t\u1ea1i sao kh\u00f4ng c\u00f3 c\u00e1c ph\u00e9p t\u00ednh t\u0103ng v\u00e0 gi\u1ea3m trong Python.\n",
        "\n",
        "* B\u1ea1n ph\u1ea3i bi\u1ebft v\u1ec1 k\u00ed hi\u1ec7u con h\u00e0 m\u00e3 trong Python. Nh\u01b0ng b\u1ea1n c\u00f3 bao gi\u1edd nghe t\u1edbi *k\u00ed hi\u1ec7u x\u00e2m l\u01b0\u1ee3c kh\u00f4ng gian*?\n",
        "  ```py\n",
        "  >>> a = 42\n",
        "  >>> a -=- 1\n",
        "  >>> a\n",
        "  43\n",
        "  ```\n",
        "  N\u00f3 \u0111\u01b0\u1ee3c s\u1eed d\u1ee5ng nh\u01b0 ph\u00e9p t\u00ednh t\u0103ng, nh\u01b0 v\u1edbi m\u1ed9t v\u00ed d\u1ee5 kh\u00e1c sau \u0111\u00e2y\n",
        "  ```py\n",
        "  >>> a +=+ 1\n",
        "  >>> a\n",
        "  >>> 44\n",
        "  ```\n",
        "  **\ud83d\udca1 Gi\u1ea3i th\u00edch:** Tr\u00f2 ch\u01a1i kh\u0103m n\u00e0y xu\u1ea5t ph\u00e1t t\u1eeb [Raymond Hettinger's tweet](https://twitter.com/raymondh/status/1131103570856632321?lang=en). K\u00ed hi\u1ec7u x\u00e2m l\u01b0\u1ee3c kh\u00f4ng gian ch\u1ec9 \u0111\u01b0\u1ee3c \u0111\u1ecbnh d\u1ea1ng kh\u00e1c \u0111i l\u00e0 `a -= (-1)`. T\u01b0\u01a1ng t\u1ef1 v\u1edbi `a = a - (- 1)`. T\u01b0\u01a1ng t\u1ef1 v\u1edbi tr\u01b0\u1eddng h\u1ee3p `a += (+ 1)`.\n",
        "  \n",
        "* Python c\u00f3 m\u1ed9t t\u00e0i li\u1ec7u v\u1ec1 ph\u00e9p [h\u00e0m \u00fd \u0111\u1ea3o ng\u01b0\u1ee3c](https://en.wikipedia.org/wiki/Converse_implication). \n",
        "     \n",
        "     ```py\n",
        "     >>> False ** False == True\n",
        "     True\n",
        "     >>> False ** True == False\n",
        "     True\n",
        "     >>> True ** False == True\n",
        "     True\n",
        "     >>> True ** True == True\n",
        "     True\n",
        "     ```\n",
        "\n",
        "     **\ud83d\udca1 Gi\u1ea3i th\u00edch:** N\u1ebfu b\u1ea1n thay th\u1ebf `False` v\u00e0 `True` b\u1eb1ng 0 v\u00e0 1 v\u00e0 sau \u0111\u00f3 l\u00e0m c\u00e1c ph\u00e9p to\u00e1n, b\u1ea3ng ch\u00e2n tr\u1ecb t\u01b0\u01a1ng \u0111\u01b0\u01a1ng v\u1edbi ph\u00e9p \u00e1m ch\u1ec9 ng\u01b0\u1ee3c. ([Ngu\u1ed3n](https://github.com/cosmologicon/pywat/blob/master/explanation.md#the-undocumented-converse-implication-operator))\n",
        "     \n",
        "* Do ch\u00fang ta \u0111ang b\u00e0n v\u1ec1 c\u00e1c ph\u00e9p t\u00ednh, c\u0169ng c\u00f3 ph\u00e9p `@` d\u00e0nh cho vi\u1ec7c nh\u00e2n ma tr\u1eadn (\u0111\u1eebng lo, \u0111\u00e2y l\u00e0 ph\u00e9p t\u00ednh th\u1ef1c s\u1ef1)\n",
        "     ```py\n",
        "     >>> import numpy as np\n",
        "     >>> np.array([2, 2, 2]) @ np.array([7, 8, 8])\n",
        "     46\n",
        "     ```\n",
        "\n",
        "     **\ud83d\udca1 Gi\u1ea3i th\u00edch:** Ph\u00e9p t\u00ednh `@` \u0111\u01b0\u1ee3c th\u00eam v\u00e0o Python 3.5 v\u1edbi s\u1ef1 ch\u00fa \u00fd d\u00e0nh cho c\u1ed9ng \u0111\u1ed3ng khoa h\u1ecdc. B\u1ea5t c\u1ee9 \u0111\u1ed1i t\u01b0\u1ee3ng n\u00e0o c\u0169ng c\u00f3 th\u1ec3 ghi \u0111\u00e8 l\u00ean ph\u01b0\u01a1ng th\u1ee9c ma thu\u1eadt (magic method)  `__matmul__` \u0111\u1ec3 \u0111\u1ecbnh ngh\u0129a h\u00e0nh vi cho ph\u00e9p t\u00ednh..\n",
        "\n",
        "* T\u1eeb Python 3.8 tr\u1edf \u0111i b\u1ea1n c\u00f3 th\u1ec3 s\u1eed d\u1ee5ng c\u00fa ph\u00e1p f-string nh\u01b0 `f'{some_var=}` \u0111\u1ec3 debugging cho d\u1ec5. V\u00ed d\u1ee5\n",
        "    ```py\n",
        "    >>> some_string = \"wtfpython\"\n",
        "    >>> f'{some_string=}'\n",
        "    \"some_string='wtfpython'\"\n",
        "    ``` \n",
        "\n",
        "* Python s\u1eed d\u1ee5ng 2 bytes cho l\u01b0u tr\u1eef bi\u1ebfn c\u1ee5 b\u1ed9 trong c\u00e1c h\u00e0m. V\u1ec1 m\u1eb7t l\u00fd thuy\u1ebft, \u0111i\u1ec1u n\u00e0y c\u00f3 ngh\u0129a l\u00e0 ch\u1ec9 c\u00f3 65536 bi\u1ebfn c\u00f3 th\u1ec3 \u0111\u01b0\u1ee3c \u0111\u1ecbnh ngh\u0129a trong m\u1ed9t h\u00e0m. Tuy nhi\u00ean, Python c\u00f3 m\u1ed9t gi\u1ea3i ph\u00e1p kh\u00e9o l\u00e9o, t\u00edch h\u1ee3p s\u1eb5n \u0111\u1ec3 l\u01b0u nhi\u1ec1u h\u01a1n 2^16 t\u00ean bi\u1ebfn. \u0110o\u1ea1n code ph\u00eda d\u01b0\u1edbi cho ta th\u1ea5y \u0111i\u1ec1u g\u00ec x\u1ea3y ra trong stack khi c\u00f3 nhi\u1ec1u h\u01a1n 65536 bi\u1ebfn c\u1ee5c b\u1ed9 \u0111\u01b0\u1ee3c \u0111\u1ecbnh ngh\u0129a (C\u1ea3nh b\u00e1o: \u0111o\u1ea1n m\u00e3 n\u00e0y in ra 2^18 d\u00f2ng v\u0103n b\u1ea3n, h\u1ea3y chu\u1ea9n b\u1ecb!):\n",
        "     \n",
        "     ```py\n",
        "     import dis\n",
        "    exec(\"\"\"\n",
        "    def f():\n",
        "        \"\"\" + \"\"\"\n",
        "        \"\"\".join([\"X\" + str(x) + \"=\" + str(x) for x in range(65539)]))\n",
        "\n",
        "    f()\n",
        "\n",
        "    print(dis.dis(f))\n",
        "    ```\n",
        "     \n",
        "* Nhi\u1ec1u Python threads s\u1ebd kh\u00f4ng ch\u1ea1y *Python code* \u0111\u1ed3ng th\u1eddi. \u00f3 v\u1ebb t\u1ef1 nhi\u00ean khi sinh ra m\u1ed9t s\u1ed1 lu\u1ed3ng v\u00e0 \u0111\u1ec3 n\u00f3 ch\u1ea1y code Python c\u1ee7a b\u1ea1n \u0111\u1ed3ng th\u1eddi, nh\u01b0ng b\u1edfi v\u00ec [Kho\u00e1 tr\u00ecnh th\u00f4ng d\u1ecbch to\u00e0n c\u1ee5c](https://wiki.python.org/moin/GlobalInterpreterLock) trong Python, t\u1ea5t c\u1ea3 nh\u1eefng g\u00ec b\u1ea1n l\u00e0m l\u00e0 l\u00e0m cho c\u00e1c lu\u1ed3ng c\u1ee7a b\u1ea1n th\u1ef1c thi tr\u00ean c\u00f9ng m\u1ed9t core theo th\u1ee9 t\u1ef1. C\u00e1c lu\u1ed3ng Python r\u1ea5t t\u1ed1t cho c\u00e1c t\u00e1c v\u1ecb li\u00ean quan t\u1edbi IO, nh\u01b0ng \u0111\u1ec3 \u0111\u1ea1t \u0111\u01b0\u1ee3c vi\u1ec7c x\u1eed l\u00fd song song trong Python cho c\u00e1c t\u00e1c v\u1ee5 g\u1eafn v\u1edbi CPY, b\u1ea1n c\u00f3 th\u1ec3 s\u1eed d\u1ee5ng module [multiprocessing](https://docs.python.org/2/library/multiprocessing.html) \n",
        "\n",
        "     ```py\n",
        "     # File some_file.py\n",
        "     import time\n",
        "     \n",
        "     print(\"wtfpython\", end=\"_\")\n",
        "     time.sleep(3)\n",
        "     ```\n",
        "\n",
        "    \u0110o\u1ea1n m\u00e3 tr\u00ean in ra `wtfpython` sau 3 seconds b\u1edfi v\u00ec tham s\u1ed1 `end` b\u1ed9 \u0111\u1ec7m k\u1ebft qu\u1ea3 \u0111\u01b0\u1ee3c d\u1ecdn s\u1ea1ch sau khi g\u0103p `\\n` ho\u1eb7c khi ch\u01b0\u01a1ng tr\u00ecnh k\u1ebft th\u00fac th\u1ef1c thi. B\u1ea1n c\u00f3 th\u1ec3 b\u1eaft d\u1ecdn s\u1ea1ch b\u1ed9 \u0111\u1ec7m th\u00f4ng qua vi\u1ec7c g\u1eedi v\u00e0o tham s\u1ed1 `flush=True`..\n",
        " \n",
        "* C\u1eaft danh s\u00e1ch v\u1edbi c\u00e1c ch\u1ec9 s\u1ed1 n\u1eb1m ngo\u00e0i ph\u1ea1m v\u1ecb s\u1ebd kh\u00f4ng tr\u1ea3 v\u1ec1 l\u1ed7i\n",
        "* \n",
        "  ```py\n",
        "  >>> some_list = [1, 2, 3, 4, 5]\n",
        "  >>> some_list[111:]\n",
        "  []\n",
        "  ```\n",
        "* C\u1eaft m\u1ed9t \u0111\u1ed1i t\u01b0\u1ee3ng c\u00f3 th\u1ec3 l\u1eb7p kh\u00f4ng ph\u1ea3i l\u00fac n\u00e0o c\u0169ng t\u1ea1o ra m\u1ed9t \u0111\u1ed1i t\u01b0\u1ee3ng m\u1edbi. V\u00ed d\u1ee5,\n",
        "    ```py\n",
        "    >>> some_str = \"wtfpython\"\n",
        "    >>> some_list = ['w', 't', 'f', 'p', 'y', 't', 'h', 'o', 'n']\n",
        "    >>> some_list is some_list[:] # False l\u00e0 b\u1edfi v\u00ec m\u1ed9t \u0111\u1ed1i t\u01b0\u1ee3ng m\u1edbi \u0111\u01b0\u1ee3c t\u1ea1o\n",
        "    False\n",
        "    >>> some_str is some_str[:] # True l\u00e0 b\u1edfi v\u00ec c\u00e1c strings kh\u00f4ng th\u1ec3 thay \u0111\u1ed5i gi\u00e1 tr\u1ecb, do v\u1eady kh\u00f4ng t\u1ea1o ra m\u1ed9t \u0111\u1ed1i t\u01b0\u1ee3ng m\u1edbi khi c\u1eaft.\n",
        "    True\n",
        "    ```\n",
        "\n",
        "* `int('\u0661\u0662\u0663\u0664\u0665\u0666\u0667\u0668\u0669')` tr\u1ea3 v\u1ec1 `123456789` trong Python 3. Trong Python, c\u00e1c k\u00ed t\u1ef1 s\u1ed1 th\u1eadp ph\u00e2n bao g\u1ed3m c\u00e1c k\u00ed t\u1ef1 s\u1ed1, v\u00e0 t\u1ea5t c\u1ea3 c\u00e1c k\u00ed t\u1ef1 c\u00f3 th\u1ec3 \u0111\u01b0\u1ee3c d\u00f9ng \u0111\u1ec3 t\u1ea1o n\u00ean c\u00f3 s\u1ed1 c\u01a1 s\u1ed1 th\u1eadp ph\u00e2n, v\u00ed d\u1ee5. U+0660, ARABIC-INDIC DIGIT ZERO. \u0110\u1eady l\u00e0  [m\u1ed9t c\u00e2u chuy\u1ec7n h\u1ea5p d\u00e2n](http://chris.improbable.org/2014/8/25/adventures-in-unicode-digits/) li\u00ean quan \n",
        "\n",
        "* B\u1ea1n c\u00f3 th\u1ec3 ng\u0103n c\u00e1ch c\u00e1c s\u1ed1 \u0111\u01a1n v\u1edbi d\u1ea5u g\u1ea1ch ch\u00e2n (\u0111\u1ec3 \u0111\u1ecdc d\u1ec5 h\u01a1n), t\u1eeb Python 3 tr\u1edf \u0111i.\n",
        "\n",
        "     ```py\n",
        "     >>> six_million = 6_000_000\n",
        "     >>> six_million\n",
        "     6000000\n",
        "     >>> hex_address = 0xF00D_CAFE\n",
        "     >>> hex_address\n",
        "     4027435774\n",
        "     ```\n",
        "\n",
        "* `'abc'.count('') == 4`. D\u01b0\u1edbi \u0111\u00e2y l\u00e0 m\u1ed9t c\u00e1ch tri\u1ec3n khai g\u1ea7n t\u01b0\u01a1ng t\u1ef1 v\u1edbi ph\u01b0\u01a1ng th\u1ee9c `count`, v\u00ed d\u1ee5 n\u00e0y s\u1ebd l\u00e0m m\u1ecdi th\u1ee9 r\u00f5 r\u00e0ng h\u01a1n\n",
        "  ```py\n",
        "  def count(s, sub):\n",
        "      result = 0\n",
        "      for i in range(len(s) + 1 - len(sub)):\n",
        "          result += (s[i:i + len(sub)] == sub)\n",
        "      return result\n",
        "  ```\n",
        "  C\u01b0 x\u1eed c\u1ee7a h\u00e0m tr\u00ean l\u00e0 do vi\u1ec7c so kh\u1edbp c\u00e1c chu\u1ed7i con (substring) r\u1ed7ng v\u1edbi c\u00e1c l\u00e1t c\u1eaft c\u00f3 \u0111\u1ed9 d\u00e0i b\u1eb1ng 0 trong string g\u1ed1c. \n"
      ]
    },
    {
      "cell_type": "markdown",
      "metadata": {},
      "source": [
        "### \u25b6 M\u00f3n khai v\u1ecb! *\n",
        "K\u00ed hi\u1ec7u \"con h\u00e0 m\u00e3\" (\"Walrus\" operator), \u0111\u01b0\u1ee3c gi\u1edbi thi\u1ec7u trong phi\u00ean b\u1ea3n Python 3.8 \u0111\u00e3 tr\u1edf n\u00ean kh\u00e1 ph\u1ed5 bi\u1ebfn v\u00ec m\u1ed9t v\u00e0i l\u00fd do. H\u00e3y th\u1eed qua n\u00f3 xem\n",
        "1\\.\n",
        "\n"
      ]
    },
    {
      "cell_type": "markdown",
      "metadata": {},
      "source": [
        "```py\n",
        "# Phi\u00ean b\u1ea3n Python 3.8+\n",
        "\n",
        ">>> a = \"wtf_walrus\"\n",
        ">>> a\n",
        "```\n",
        "```py\n",
        "'wtf_walrus'\n",
        "\n",
        "```\n"
      ]
    },
    {
      "cell_type": "markdown",
      "metadata": {},
      "source": [
        "```py\n",
        ">>> a := \"wtf_walrus\"\n",
        "```\n",
        "```py\n",
        "File \"<stdin>\", line 1\n",
        "    a := \"wtf_walrus\"\n",
        "      ^\n",
        "SyntaxError: invalid syntax (L\u1ed7i v\u1ec1 c\u00fa ph\u00e1p: C\u00fa ph\u00e1p kh\u00f4ng h\u1ee3p l\u1ec7)\n",
        "\n",
        "```\n"
      ]
    },
    {
      "cell_type": "markdown",
      "metadata": {},
      "source": [
        "```py\n",
        ">>> (a := \"wtf_walrus\") # This works though\n",
        ">>> a\n",
        "```\n",
        "```py\n",
        "'wtf_walrus'\n",
        "```\n"
      ]
    },
    {
      "cell_type": "markdown",
      "metadata": {},
      "source": [
        "\n",
        "2 \\.\n",
        "\n"
      ]
    },
    {
      "cell_type": "markdown",
      "metadata": {},
      "source": [
        "```py\n",
        "# Phi\u00ean b\u1ea3n Python 3.8+\n",
        "\n",
        ">>> a = 6, 9\n",
        ">>> a\n",
        "```\n",
        "```py\n",
        "(6, 9)\n",
        "\n",
        "```\n"
      ]
    },
    {
      "cell_type": "markdown",
      "metadata": {},
      "source": [
        "```py\n",
        ">>> (a := 6, 9)\n",
        ">>> a\n",
        "```\n",
        "```py\n",
        "6\n",
        "\n",
        "```\n"
      ]
    },
    {
      "cell_type": "markdown",
      "metadata": {},
      "source": [
        "```py\n",
        ">>> a, b = 6, 9 # Ph\u00e2n r\u00e3 (unpacking) c\u00e1c gi\u00e1 tr\u1ecb, hay c\u00f2n g\u1ecdi l\u00e0 c\u00e2u l\u1ec7nh g\u00e1n \u0111a gi\u00e1 tr\u1ecb (multiple assignments)\n",
        ">>> a, b\n",
        "```\n",
        "```py\n",
        "(6, 9)\n",
        "```\n"
      ]
    },
    {
      "cell_type": "markdown",
      "metadata": {},
      "source": [
        "```py\n",
        ">>> (a, b = 16, 19) # C\u00f3 \n",
        "```\n",
        "```py\n",
        "  File \"<stdin>\", line 1\n",
        "    (a, b = 6, 9)\n",
        "          ^\n",
        "SyntaxError: invalid syntax (L\u1ed7i c\u00fa ph\u00e1p: c\u00fa ph\u00e1p kh\u00f4ng h\u1ee3p l\u1ec7)\n",
        "\n",
        "```\n"
      ]
    },
    {
      "cell_type": "markdown",
      "metadata": {},
      "source": [
        "```py\n",
        ">>> (a, b := 16, 19) # C\u00e2u l\u1ec7nh n\u00e0y in ra m\u1ed9t tuple c\u00f3 3 ph\u1ea7n t\u1eed kh\u00f4ng nh\u01b0 mong \u0111\u1ee3i (\u0111\u00e1ng l\u1ebd l\u00e0 2 ph\u1ea7n t\u1eed 16 v\u00e0 19)\n",
        "```\n",
        "```py\n",
        "(6, 16, 19)\n",
        "\n",
        "```\n"
      ]
    },
    {
      "cell_type": "markdown",
      "metadata": {},
      "source": [
        "```py\n",
        ">>> a # a \u0111\u01b0\u1ee3c \u0111\u01b0\u1ee3c g\u00e1n l\u1ea1i gi\u00e1 tr\u1ecb tr\u01b0\u1edbc \u0111\u00f3, nh\u01b0ng gi\u00e1 tr\u1ecb ph\u00eda d\u01b0\u1edbi v\u1eabn gi\u1eef nguy\u00ean, l\u00e0 sao?\n",
        "```\n",
        "```py\n",
        "6\n",
        "\n",
        "```\n"
      ]
    },
    {
      "cell_type": "markdown",
      "metadata": {},
      "source": [
        "```py\n",
        ">>> b \n",
        "```\n",
        "```py\n",
        "16\n",
        "```\n"
      ]
    },
    {
      "cell_type": "markdown",
      "metadata": {},
      "source": [
        "\n",
        "\n",
        "\n"
      ]
    },
    {
      "cell_type": "markdown",
      "metadata": {},
      "source": [
        "#### \ud83d\udca1 Gi\u1ea3i th\u00edch\n",
        "\n",
        "**\u00d4n l\u1ea1i m\u1ed9t ch\u00fat v\u1ec1 k\u00ed hi\u1ec7u \"con h\u00e0 m\u00e3\"**\n",
        "\n",
        "K\u00ed hi\u1ec7u con h\u00e0 m\u00e3 (`:=`) l\u1ea7n \u0111\u1ea7u ti\u00ean \u0111\u01b0\u1ee3c gi\u1edbi thi\u1ec7u trong phi\u00ean b\u1ea3n Python 3.8, n\u00f3 h\u1eefu d\u1ee5ng khi b\u1ea1n mu\u1ed1n g\u00e1n gi\u00e1 tr\u1ecb cho c\u00e1c bi\u1ebfn b\u00ean trong m\u1ed9t bi\u1ec3u di\u1ec5n (expression).\n",
        "\n"
      ]
    },
    {
      "cell_type": "markdown",
      "metadata": {},
      "source": [
        "```py\n",
        "def some_func():\n",
        "        # Gi\u1ea3 \u0111\u1ecbnh r\u1eb1ng ta th\u1ef1c hi\u1ec7n m\u1ed9t v\u00e0i ph\u00e9p t\u00ednh t\u1ed1n nhi\u1ec1u t\u00e0i nguy\u00ean (th\u1eddi gian, I/O) \u1edf \u0111\u00e2y\n",
        "        # time.sleep(1000)\n",
        "        return 5\n",
        "\n",
        "# Thay v\u00ec th\u1ef1c hi\u1ec7n vi\u1ec7c ki\u1ec3m tra k\u1ebft qu\u1ea3 tr\u1ea3 v\u1ec1 c\u1ee7a h\u00e0m tr\u00ean,\n",
        "if some_func():\n",
        "        print(some_func()) # V\u00e0 g\u1ecdi l\u1ea1i h\u00e0m \u0111\u00f3 trong th\u00e2n \u0111i\u1ec1u ki\u1ec7n, ngh\u0129a l\u00e0 th\u1ef1c hi\u1ec7n c\u00e1c t\u00ednh to\u00e1n trong h\u00e0m 2 l\u1ea7n.\n",
        "# Hay t\u1ed1t h\u01a1n, ta c\u00f3 th\u1ec3 ti\u1ebft ki\u1ec7m m\u1ed9t l\u1eddi g\u1ecdi h\u00e0m th\u00f4ng qua vi\u1ec7c l\u1ea5y v\u1ec1 gi\u00e1 tr\u1ecb tr\u1ea3 v\u1ec1 \u1edf m\u1ed9t l\u1ea7n g\u1ecdi v\u00e0 th\u1ef1c hi\u1ec7n so s\u00e1nh tr\u00ean gi\u00e1 tr\u1ecb \u0111\u00f3:\n",
        "a = some_func()\n",
        "if a:\n",
        "    print(a)\n",
        "\n",
        "# D\u00f9ng k\u0129 hi\u1ec7u con h\u00e0 m\u00e3 b\u1ea1n c\u00f3 th\u1ec3 vi\u1ebft ng\u1eafn g\u1ecdn h\u01a1n nh\u01b0 d\u01b0\u1edbi \u0111\u00e2y, ph\u00e9p g\u00e1n \u0111\u01b0\u1ee3c s\u1eed d\u1ee5ng nh\u01b0 m\u1ec7nh \u0111\u1ec1 \u0111i\u1ec1u ki\u1ec7n v\u00e0 ta c\u00f3 th\u1ec3 s\u1eed d\u1ee5ng bi\u1ebfn \u0111\u01b0\u1ee3c g\u00e1n gi\u00e1 tr\u1ecb trong th\u00e2n c\u00e2u \u0111i\u1ec1u ki\u1ec7n if:\n",
        "if a := some_func():\n",
        "        print(a)\n",
        "```\n",
        "```py\n",
        "```\n"
      ]
    },
    {
      "cell_type": "markdown",
      "metadata": {},
      "source": [
        "\n",
        "**K\u1ebft qu\u1ea3 (> 3.8):**\n",
        "\n"
      ]
    },
    {
      "cell_type": "markdown",
      "metadata": {},
      "source": [
        "```py\n",
        "5\n",
        "5\n",
        "5\n",
        "```\n",
        "```py\n",
        "```\n"
      ]
    },
    {
      "cell_type": "markdown",
      "metadata": {},
      "source": [
        "\n",
        "S\u1eed d\u1ee5ng k\u00ed hi\u1ec7u con h\u00e0 m\u00e3 gi\u00fap ta r\u00fat ng\u1eafn \u0111\u01b0\u1ee3c \u0111o\u1ea1n m\u00e3 \u0111i m\u1ed9t d\u00f2ng v\u00e0 tr\u00e1nh \u0111\u01b0\u1ee3c vi\u1ec7c g\u1ecdi `some_func` hai l\u1ea7n.\n",
        "  \n",
        "- Ta ch\u1ec9 \u0111\u01b0\u1ee3c s\u1eed d\u1ee5ng ph\u00e9p g\u00e1n c\u00f3 k\u00ed hi\u1ec7u h\u00e0 m\u00e3 \u1edf c\u1ea5p \u0111\u1ed9 cao nh\u1ea5t do \u0111\u00f3 l\u1ed7i c\u00fa ph\u00e1p (`SyntaxError`) trong c\u00e2u l\u1ec7nh `a := \"wtf_walrus\"` x\u1ea3y ra. Khi ta cho ph\u00e9p g\u00e1n n\u00e0y v\u00e0o hai d\u1ea5u ngo\u1eb7c \u0111\u01a1n `()` th\u00ec s\u1ebd kh\u00f4ng b\u1ecb l\u1ed7i n\u1eefa.  \n",
        "\n",
        "- Th\u00f4ng th\u01b0\u1eddng, c\u00e2u l\u1ec7nh c\u00f3 d\u1ea5u b\u1eb1ng `=` s\u1ebd kh\u00f4ng \u0111\u01b0\u1ee3c ph\u00e9p \u0111\u1eb7t trong d\u1ea5u ngo\u1eb7c \u0111\u01a1n. Do v\u1eady c\u00e2u l\u1ec7nh `(a, b = 6, 9)` b\u1ecb l\u1ed7i c\u00fa ph\u00e1p. \n",
        "\n",
        "- C\u00fa ph\u00e1p c\u1ee7a k\u00ed hi\u1ec7u g\u00e1n con h\u00e0 m\u00e3 nh\u01b0 sau: `NAME:= expr`, \u1edf \u0111\u00f3 `NAME` l\u00e0 m\u1ed9t t\u00ean bi\u1ebfn h\u1ee3p l\u1ec7, v\u00e0 `expr` l\u00e0 m\u1ed9t bi\u1ec3u di\u1ec5n h\u1ee3p l\u1ec7. Do v\u1eady, vi\u1ec7c s\u1eed d\u1ee5ng c\u00e1c ph\u00e9p g\u1ed9p (packing) hay ph\u00e2n r\u00e3 trong tr\u01b0\u1eddng h\u1ee3p n\u00e0y s\u1ebd kh\u00f4ng \u0111\u01b0\u1ee3c h\u1ed7 tr\u1ee3, ngh\u00e3i l\u00e0 \n",
        "  - `(a := 6, 9)` t\u01b0\u01a1ng \u0111\u01b0\u01a1ng v\u1edbi `((a := 6), 9)` v\u00e0 bu\u1ed5i di\u1ec5n cu\u1ed1i c\u00f9ng l\u00e0  `(a, 9) ` (\u1edf \u0111\u00f3 gi\u00e1 tr\u1ecb c\u1ee7a  `a` l\u00e0 6). B\u1ea1n c\u00f3 th\u1ec3 ki\u1ec3m tra l\u1ea1i v\u1edbi c\u00e1c d\u00f2ng l\u1ec7nh d\u01b0\u1edbi \u0111\u00e2y\n",
        "\n"
      ]
    },
    {
      "cell_type": "markdown",
      "metadata": {},
      "source": [
        "```py\n",
        "    >>> (a := 6, 9) == ((a := 6), 9)\n",
        "```\n",
        "```py\n",
        "    True # Bi\u1ec3u di\u1ec5n b\u00ean tr\u00e1i b\u1eb1ng b\u00ean ph\u1ea3i do ph\u00e9p ph\u00e2n r\u00e3 kh\u00f4ng \u0111\u01b0\u1ee3c ph\u00e9p (nh\u01b0 \u0111\u00e3 gi\u1ea3i th\u00edch ph\u00eda tr\u00ean)\n",
        "```\n"
      ]
    },
    {
      "cell_type": "markdown",
      "metadata": {},
      "source": [
        "```py\n",
        "    >>> x = (a := 696, 9)\n",
        "    >>> x\n",
        "```\n",
        "```py\n",
        "    (696, 9)\n",
        "```\n"
      ]
    },
    {
      "cell_type": "markdown",
      "metadata": {},
      "source": [
        "```py\n",
        "    >>> x[0] is a # C\u1ea3 x[0] v\u00e0 a c\u00f9ng tr\u1ecf v\u1ec1 chung m\u1ed9t \u0111\u1ecba ch\u1ec9 trong b\u1ed9 nh\u1edb \n",
        "```\n",
        "```py\n",
        "    True\n",
        "```\n"
      ]
    },
    {
      "cell_type": "markdown",
      "metadata": {},
      "source": [
        "\n",
        "  - T\u01b0\u01a1ng t\u1ef1, `(a, b := 16, 19)` t\u01b0\u01a1ng \u0111\u01b0\u01a1ng v\u1edbi `(a, (b := 16), 19)` khi ta c\u00f3 3 gi\u00e1 tr\u1ecb trong m\u1ed9t tuple. \n",
        "\n"
      ]
    },
    {
      "cell_type": "markdown",
      "metadata": {},
      "source": [
        "### \u25b6 Stubborn `del` operation\n"
      ]
    },
    {
      "cell_type": "markdown",
      "metadata": {},
      "source": [
        "```py\n",
        "class SomeClass:\n",
        "    def __del__(self):\n",
        "        print(\"Deleted!\")\n",
        "```\n",
        "```py\n",
        "```\n"
      ]
    },
    {
      "cell_type": "markdown",
      "metadata": {},
      "source": [
        "\n",
        "**K\u1ebft qu\u1ea3:**\n",
        "1\\.\n"
      ]
    },
    {
      "cell_type": "markdown",
      "metadata": {},
      "source": [
        "```py\n",
        ">>> x = SomeClass()\n",
        ">>> y = x\n",
        ">>> del x # this should print \"Deleted!\"\n",
        ">>> del y\n",
        "```\n",
        "```py\n",
        "Deleted!\n",
        "```\n"
      ]
    },
    {
      "cell_type": "markdown",
      "metadata": {},
      "source": [
        "\n",
        "\n",
        "C\u00f3 th\u1ec3 b\u1ea1n \u0111o\u00e1n \u0111\u01b0\u1ee3c l\u00e0m sao m\u00e0 `__del__` kh\u00f4ng \u0111\u01b0\u1ee3c g\u1ecdi khi ta c\u1ed1 g\u1eafng xo\u00e1 `x` trong l\u1ea7n \u0111\u1ea7u ti\u00ean. H\u00e3y th\u1eed th\u00eam \n",
        "2\\.\n"
      ]
    },
    {
      "cell_type": "markdown",
      "metadata": {},
      "source": [
        "```py\n",
        ">>> x = SomeClass()\n",
        ">>> y = x\n",
        ">>> del x\n",
        ">>> y # check if y exists Ki\u1ec3m tra y c\u00f3 t\u1ed3n t\u1ea1i\n",
        "```\n",
        "```py\n",
        "<__main__.SomeClass instance at 0x7f98a1a67fc8>\n",
        "```\n"
      ]
    },
    {
      "cell_type": "markdown",
      "metadata": {},
      "source": [
        "```py\n",
        ">>> del y # Nh\u01b0 l\u1ea7n tr\u01b0\u1edbc, \u0111\u00e1ng l\u1ebd k\u1ebft qu\u1ea3 n\u00ean l\u00e0 in ra \"Deleted!\"\n",
        ">>> globals() # nh\u01b0ng kh\u00f4ng, ta kh\u00f4ng c\u00f3 \u0111\u01b0\u1ee3c k\u1ebft qu\u1ea3 nh\u01b0 mong mu\u1ed1n. C\u00f9ng ki\u1ec3m tra t\u1ea5t c\u1ea3 c\u00e1c bi\u1ebfn to\u00e0n c\u1ee5c v\u00e0 x\u00e1c nh\u1eadn \n",
        "```\n",
        "```py\n",
        "Deleted!\n",
        "{'__builtins__': <module '__builtin__' (built-in)>, 'SomeClass': <class __main__.SomeClass at 0x7f98a1a5f668>, '__package__': None, '__name__': '__main__', '__doc__': None}\n",
        "```\n"
      ]
    },
    {
      "cell_type": "markdown",
      "metadata": {},
      "source": [
        "\n",
        "Ok gi\u1edd th\u00ec n\u00f3 \u0111\u00e3 \u0111\u01b0\u1ee3c xo\u00e1 :confused:\n",
        "\n"
      ]
    },
    {
      "cell_type": "markdown",
      "metadata": {},
      "source": [
        "#### \ud83d\udca1 Gi\u1ea3i th\u00edch:\n",
        "+ `del x` kh\u00f4ng g\u1ecdi tr\u1ef1c ti\u1ebfp `x.__del__()`.\n",
        "+ Khi `del x` \u0111\u01b0\u1ee3c ch\u1ea1y, Python xo\u00e1  t\u00ean  `x` kh\u1ecfi ph\u1ea1m vi hi\u1ec7n h\u00e0nh v\u00e0 gi\u1ea3m bi\u1ebfn \u0111\u1ebfm tham chi\u1ebfu c\u1ee7a \u0111\u1ed1i t\u01b0\u1ee3ng \u0111i 1. `__del__()` \u0111\u01b0\u1ee3c g\u1ecdi ch\u1ec9 khi bi\u1ebfn \u0111\u1ebfm n\u00e0y gi\u1ea3m xu\u1ed1ng 0.\n",
        "+ Tron \u0111o\u1ea1n m\u00e3 th\u1ee9 hai, `__del__()` kh\u00f4ng \u0111\u01b0\u1ee3c g\u1ecdi b\u1edfi v\u00ec c\u00e2u l\u1ec7nh tr\u01b0\u1edbc \u0111\u00f3 (`>>> y`) t\u1ea1o m\u1ed9t tham chi\u1ebfu kh\u00e1c t\u1edbi c\u00f9ng m\u1ed9t \u0111\u1ed1i t\u01b0\u1ee3ng (c\u1ee5 th\u1ec3 l\u00e0, bi\u1ebfn `_` tr\u1ecf t\u1edbi gi\u00e1 tr\u1ecb k\u1ebft qu\u1ea3 c\u1ee7a m\u1ed9t bi\u1ec3u di\u1ec5n kh\u00f4ng ph\u1ea3i `None` tron REPL), do \u0111\u00f3 ng\u0103n bi\u1ebfn \u0111\u1ebfm tham chi\u1ebfu gi\u1ea3m v\u1ec1 0 khi th\u1ef1c hi\u1ec7n `del y`\n",
        "+ G\u1ecdi `globals` (th\u1ef1c ra th\u00ec th\u1ef1c hi\u1ec7n b\u1ea5t c\u1ee9 th\u1ee9 g\u00ec t\u1ea1o ra k\u1ebft qu\u1ea3 kh\u00f4ng ph\u1ea3i l\u00e0 `None`) l\u00e0m cho `_` tham chi\u1ebfu t\u1edbi k\u1ebft qu\u1ea3 m\u1edbi, b\u1ecf \u0111i tham chi\u1ebfu hi\u1ec7n t\u1ed3n t\u1ea1i. B\u00e2y gi\u1edd th\u00ec bi\u1ebfn \u0111\u1ebfm tham chi\u1ebfu gi\u1ea3m ve 0 v\u00e0 b\u1ea1n c\u00f3 th\u1ec3 t\u1eeb \"Deleted!\" \u0111\u01b0\u1ee3c hi\u1ec3n th\u1ecb.\n"
      ]
    },
    {
      "cell_type": "markdown",
      "metadata": {},
      "source": [
        "### \u25b6 Wild imports *\n"
      ]
    },
    {
      "cell_type": "markdown",
      "metadata": {},
      "source": [
        "```py\n",
        "# File: module.py\n",
        "\n",
        "def some_weird_name_func_():\n",
        "    print(\"works!\")\n",
        "\n",
        "def _another_weird_name_func():\n",
        "    print(\"works!\")\n",
        "\n",
        "```\n",
        "```py\n",
        "```\n"
      ]
    },
    {
      "cell_type": "markdown",
      "metadata": {},
      "source": [
        "\n",
        "**K\u1ebft qu\u1ea3**\n",
        "\n"
      ]
    },
    {
      "cell_type": "markdown",
      "metadata": {},
      "source": [
        "```py\n",
        ">>> from module import *\n",
        ">>> some_weird_name_func_()\n",
        "```\n",
        "```py\n",
        "\"works!\"\n",
        "```\n"
      ]
    },
    {
      "cell_type": "markdown",
      "metadata": {},
      "source": [
        "```py\n",
        ">>> _another_weird_name_func()\n",
        "```\n",
        "```py\n",
        "Traceback (most recent call last):\n",
        "  File \"<stdin>\", line 1, in <module>\n",
        "NameError: name '_another_weird_name_func' is not defined\n",
        "```\n"
      ]
    },
    {
      "cell_type": "markdown",
      "metadata": {},
      "source": [
        "\n"
      ]
    },
    {
      "cell_type": "markdown",
      "metadata": {},
      "source": [
        "#### \ud83d\udca1 Gi\u1ea3i th\u00edch:\n",
        "\n",
        "- Ch\u00fang ta \u0111\u01b0\u1ee3c khuy\u00ean l\u00e0 tr\u00e1nh s\u1eed d\u1ee5ng c\u00e1c wildcard imports. V\u00ec v\u1edbi ch\u00fang, c\u00e1c t\u00ean (v\u00ed d\u1ee5 h\u00e0m) v\u1edbi d\u1ea5u g\u1ea1ch ch\u00e2n ph\u00eda tr\u01b0\u1edbc s\u1ebd kh\u00f4ng \u0111\u01b0\u1ee3c import. \u0110i\u1ec1u n\u00e0y g\u00e2y ra l\u1ed7i trong l\u00fac code ch\u1ea1y\n",
        "- Khi ch\u00fang ta d\u00f9ng `from ... import a, b, c`, l\u1ed7i `NameError` s\u1ebd kh\u00f4n x\u1ea3y ra n\u1eefa.\n"
      ]
    },
    {
      "cell_type": "markdown",
      "metadata": {},
      "source": [
        "```py\n",
        "    >>> from module import some_weird_name_func_, _another_weird_name_func\n",
        "    >>> _another_weird_name_func()\n",
        "```\n",
        "```py\n",
        "    works!\n",
        "```\n"
      ]
    },
    {
      "cell_type": "markdown",
      "metadata": {},
      "source": [
        "- N\u1ebfu b\u1ea1n th\u1ef1c s\u1ef1 mu\u1ed1n s\u1eed d\u1ee5ng wildcard imports, b\u1ea1n se ph\u1ea3i \u0111\u1ecbnh ngh\u0129a bi\u1ebfn `__all__` trong module c\u1ee7a b\u1ea1n, bi\u1ebfn n\u00e0y s\u1ebd ch\u01b0a m\u1ed9t danh s\u00e1ch c\u00e1c \u0111\u1ed1i t\u01b0\u1ee3ng c\u00f4ng c\u1ed9ng \u0111\u01b0\u1ee3c import khi s\u1eed d\u1ee5ng wildcard imports.\n"
      ]
    },
    {
      "cell_type": "markdown",
      "metadata": {},
      "source": [
        "```py\n",
        "    __all__ = ['_another_weird_name_func']\n",
        "\n",
        "    def some_weird_name_func_():\n",
        "        print(\"works!\")\n",
        "\n",
        "    def _another_weird_name_func():\n",
        "        print(\"works!\")\n",
        "```\n",
        "```py\n",
        "```\n"
      ]
    },
    {
      "cell_type": "markdown",
      "metadata": {},
      "source": [
        "    **K\u1ebft qu\u1ea3**\n",
        "\n"
      ]
    },
    {
      "cell_type": "markdown",
      "metadata": {},
      "source": [
        "```py\n",
        "    >>> _another_weird_name_func()\n",
        "```\n",
        "```py\n",
        "    \"works!\"\n",
        "```\n"
      ]
    },
    {
      "cell_type": "markdown",
      "metadata": {},
      "source": [
        "```py\n",
        "    >>> some_weird_name_func_()\n",
        "```\n",
        "```py\n",
        "    Traceback (most recent call last):\n",
        "      File \"<stdin>\", line 1, in <module>\n",
        "    NameError: name 'some_weird_name_func_' is not defined (h\u00e0m \"some_weird_name_func_\" kh\u00f4ng \u0111\u01b0\u1ee3c \u0111\u1ecbnh ngh\u0129a)\n",
        "```\n"
      ]
    },
    {
      "cell_type": "markdown",
      "metadata": {},
      "source": [
        "\n"
      ]
    },
    {
      "cell_type": "markdown",
      "metadata": {},
      "source": [
        "# \u0110\u00f3ng g\u00f3p\n",
        "\n",
        "B\u1ea1n c\u00f3 th\u1ec3 \u0111\u00f3ng g\u00f3p cho wtfpython theo nh\u1eefng c\u00e1ch d\u01b0\u1edbi \u0111\u00e2y\n",
        "\n",
        "- Cho ch\u00fang t\u00f4i bi\u1ebft nh\u1eefng v\u00ed d\u1ee5 m\u1edbi\n",
        "- D\u1ecbch wtfpython sang c\u00e1c ng\u00f4n gnuwx kh\u00e1c (Xem t\u1ea1i [issues labeled translation](https://github.com/satwikkansal/wtfpython/issues?q=is%3Aissue+is%3Aopen+label%3Atranslation))\n",
        "- Minor corrections like pointing out outdated snippets, typos, formatting errors, etc.\n",
        "- S\u1eeda c\u00e1c l\u1ed7i ph\u1ee5 kh\u00e1c nh\u01b0 c\u00e1c \u0111o\u1ea1n m\u00e3 b\u1ecb l\u1ed7i th\u1eddi, c\u00e1c l\u1ed7i c\u00fa ph\u00e1p, l\u1ed7i \u0111\u1ecbnh d\u1ea1ng, v\u00e2n v\u00e2n.\n",
        "- Identifying gaps (things like inadequate explanation, redundant examples, etc.)\n",
        "- T\u00ecm nh\u1eefng thi\u1ebfu s\u00f3t (v\u00ed d\u1ee5 nh\u01b0 gi\u1ea3i th\u00edch ch\u01b0a c\u1eb7n k\u1ebd, c\u00e1c v\u00ed d\u1ee5 kh\u00f4ng c\u1ea7n thi\u1ebft, v\u00e2n v\u00e2n.)\n",
        "- B\u1ea5t c\u1ee9 \u0111\u1ec1 xu\u1ea5t s\u00e1ng t\u1ea1o n\u00e0o c\u0169ng l\u00e0m cho wtfpython th\u00fa v\u1ecb v\u00e0 h\u1eefu d\u1ee5ng h\u01a1n\n",
        "\n",
        "Please see [CONTRIBUTING.md](/CONTRIBUTING.md) for more details. Feel free to create a new [issue](https://github.com/satwikkansal/wtfpython/issues/new) to discuss things.\n",
        "\n",
        "PS: Please don't reach out with backlinking requests, no links will be added unless they're highly relevant to the project.\n",
        "\n",
        "# L\u1eddi c\u00e1m \u01a1n\n",
        "\n",
        "\u00dd t\u01b0\u1edfng v\u00e0 thi\u1ebft k\u1ebf c\u1ee7a wtfpython l\u1ea5y c\u1ea3m h\u1ee9ng t\u1eeb d\u1ef1 \u00e1n tuy\u1ec7t v\u1eddi c\u1ee7a Denys Dovhan's [wtfjs](https://github.com/denysdovhan/wtfjs). C\u00f9ng v\u1edbi \u0111\u00f3 l\u00e0 s\u1ef1 h\u1ed7 tr\u1ee3 tuy\u1ec7t v\u1eddi c\u1ee7a nh\u1eefng ng\u01b0\u1eddi y\u00eau Python, gi\u00fap cho wtfpython c\u00f3 \u0111\u01b0\u1ee3c nh\u01b0 ng\u00e0y h\u00f4m nay.\n",
        "\n",
        "#### M\u1ed9t v\u00e0i li\u00ean k\u1ebft hay kh\u00e1c!\n",
        "* https://www.youtube.com/watch?v=sH4XF6pKKmk\n",
        "* https://www.reddit.com/r/Python/comments/3cu6ej/what_are_some_wtf_things_about_python\n",
        "* https://sopython.com/wiki/Common_Gotchas_In_Python\n",
        "* https://stackoverflow.com/questions/530530/python-2-x-gotchas-and-landmines\n",
        "* https://stackoverflow.com/questions/1011431/common-pitfalls-in-python\n",
        "* https://www.python.org/doc/humor/\n",
        "* https://github.com/cosmologicon/pywat#the-undocumented-converse-implication-operator\n",
        "* https://www.codementor.io/satwikkansal/python-practices-for-efficient-code-performance-memory-and-usability-aze6oiq65\n",
        "* https://github.com/wemake-services/wemake-python-styleguide/search?q=wtfpython&type=Issues\n",
        "* WFTPython discussion threads on [Hacker News](https://news.ycombinator.com/item?id=21862073) and [Reddit](https://www.reddit.com/r/programming/comments/edsh3q/what_the_fck_python_30_exploring_and/).\n",
        "\n",
        "# \ud83c\udf93 License\n",
        "\n",
        "[![WTFPL 2.0][license-image]][license-url]\n",
        "\n",
        "&copy; [Satwik Kansal](https://satwikkansal.xyz)\n",
        "\n",
        "[license-url]: http://www.wtfpl.net\n",
        "[license-image]: https://img.shields.io/badge/License-WTFPL%202.0-lightgrey.svg?style=flat-square\n",
        "\n"
      ]
    }
  ],
  "metadata": {},
  "nbformat": 4,
  "nbformat_minor": 2
}